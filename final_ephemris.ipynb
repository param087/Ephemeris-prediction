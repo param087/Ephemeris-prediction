{
  "nbformat": 4,
  "nbformat_minor": 0,
  "metadata": {
    "colab": {
      "name": "final_ephemris",
      "provenance": [],
      "collapsed_sections": []
    },
    "kernelspec": {
      "name": "python3",
      "display_name": "Python 3"
    }
  },
  "cells": [
    {
      "cell_type": "code",
      "metadata": {
        "id": "_JskKPF0khby",
        "colab_type": "code",
        "outputId": "1aa1feb8-0826-400f-81ed-09d79e2fbf3f",
        "colab": {
          "base_uri": "https://localhost:8080/",
          "height": 122
        }
      },
      "source": [
        "# Load the Drive helper and mount\n",
        "from google.colab import drive\n",
        "\n",
        "# This will prompt for authorization.\n",
        "drive.mount('/content/drive')"
      ],
      "execution_count": 1,
      "outputs": [
        {
          "output_type": "stream",
          "text": [
            "Go to this URL in a browser: https://accounts.google.com/o/oauth2/auth?client_id=947318989803-6bn6qk8qdgf4n4g3pfee6491hc0brc4i.apps.googleusercontent.com&redirect_uri=urn%3aietf%3awg%3aoauth%3a2.0%3aoob&response_type=code&scope=email%20https%3a%2f%2fwww.googleapis.com%2fauth%2fdocs.test%20https%3a%2f%2fwww.googleapis.com%2fauth%2fdrive%20https%3a%2f%2fwww.googleapis.com%2fauth%2fdrive.photos.readonly%20https%3a%2f%2fwww.googleapis.com%2fauth%2fpeopleapi.readonly\n",
            "\n",
            "Enter your authorization code:\n",
            "··········\n",
            "Mounted at /content/drive\n"
          ],
          "name": "stdout"
        }
      ]
    },
    {
      "cell_type": "code",
      "metadata": {
        "id": "AJpcQfQ-lXdQ",
        "colab_type": "code",
        "outputId": "a7ff23b5-dda5-45a1-be78-01669cbb8269",
        "colab": {
          "base_uri": "https://localhost:8080/",
          "height": 34
        }
      },
      "source": [
        "import os\n",
        "   \n",
        "os.chdir('/content/drive/My Drive/drive1/SIH2019/ephemeris')\n",
        "os.getcwd()"
      ],
      "execution_count": 2,
      "outputs": [
        {
          "output_type": "execute_result",
          "data": {
            "text/plain": [
              "'/content/drive/My Drive/drive1/SIH2019/ephemeris'"
            ]
          },
          "metadata": {
            "tags": []
          },
          "execution_count": 2
        }
      ]
    },
    {
      "cell_type": "code",
      "metadata": {
        "id": "PzfMqKBin_CM",
        "colab_type": "code",
        "colab": {}
      },
      "source": [
        "import pandas as pd\n",
        "import numpy as np\n",
        "from fbprophet import Prophet\n",
        "import glob\n",
        "import matplotlib.pyplot as plt\n",
        "import plotly.offline as py\n",
        "import plotly.graph_objs as go\n",
        "import cmath"
      ],
      "execution_count": 0,
      "outputs": []
    },
    {
      "cell_type": "code",
      "metadata": {
        "id": "BL1CYFH2LojX",
        "colab_type": "code",
        "colab": {}
      },
      "source": [
        "days_to_predict = 1\n",
        "periods =  24 * days_to_predict\n"
      ],
      "execution_count": 0,
      "outputs": []
    },
    {
      "cell_type": "code",
      "metadata": {
        "id": "G6VDnnmRtUVo",
        "colab_type": "code",
        "colab": {}
      },
      "source": [
        "df_final = pd.DataFrame()\n",
        "df_final = df_final.append(pd.read_csv(\"csv_files/211011117.17N.csv\"))\n",
        "df_final = df_final.append(pd.read_csv(\"csv_files/211021117.17N.csv\"))\n",
        "df_final = df_final.append(pd.read_csv(\"csv_files/211031117.17N.csv\"))\n",
        "df_final = df_final.append(pd.read_csv(\"csv_files/211041117.17N.csv\"))\n",
        "df_final = df_final.append(pd.read_csv(\"csv_files/211051117.17N.csv\"))\n",
        "df_final = df_final.append(pd.read_csv(\"csv_files/211061117.17N.csv\"))\n",
        "df_final = df_final.append(pd.read_csv(\"csv_files/211071117.17N.csv\"))\n",
        "df_final = df_final.append(pd.read_csv(\"csv_files/211081117.17N.csv\"))\n",
        "df_final = df_final.append(pd.read_csv(\"csv_files/211091117.17N.csv\"))\n",
        "df_final = df_final.append(pd.read_csv(\"csv_files/211101117.17N.csv\"))\n",
        "df_final = df_final.append(pd.read_csv(\"csv_files/211111117.17N.csv\"))\n",
        "df_final = df_final.append(pd.read_csv(\"csv_files/211121117.17N.csv\"))\n",
        "df_final = df_final.append(pd.read_csv(\"csv_files/211131117.17N.csv\"))\n",
        "df_final = df_final.append(pd.read_csv(\"csv_files/211141117.17N.csv\"))\n",
        "df_final = df_final.append(pd.read_csv(\"csv_files/211151117.17N.csv\"))\n",
        "df_final = df_final.append(pd.read_csv(\"csv_files/211161117.17N.csv\"))\n",
        "df_final = df_final.append(pd.read_csv(\"csv_files/211171117.17N.csv\"))\n",
        "df_final = df_final.append(pd.read_csv(\"csv_files/211181117.17N.csv\"))\n",
        "df_final = df_final.append(pd.read_csv(\"csv_files/211191117.17N.csv\"))\n",
        "df_final = df_final.append(pd.read_csv(\"csv_files/211201117.17N.csv\"))\n",
        "df_final = df_final.append(pd.read_csv(\"csv_files/211211117.17N.csv\"))\n",
        "df_final = df_final.append(pd.read_csv(\"csv_files/211221117.17N.csv\"))\n",
        "df_final = df_final.append(pd.read_csv(\"csv_files/211231117.17N.csv\"))\n",
        "df_final = df_final.append(pd.read_csv(\"csv_files/211241117.17N.csv\"))\n",
        "df_final = df_final.append(pd.read_csv(\"csv_files/211251117.17N.csv\"))\n",
        "\n",
        "\n",
        "df_expect = pd.DataFrame()\n",
        "df_expect = df_expect.append(pd.read_csv(\"csv_files/211261117.17N.csv\"))\n",
        "df_expect = df_expect.append(pd.read_csv(\"csv_files/211271117.17N.csv\"))\n",
        "df_expect = df_expect.append(pd.read_csv(\"csv_files/211281117.17N.csv\"))\n",
        "df_expect = df_expect.append(pd.read_csv(\"csv_files/211291117.17N.csv\"))\n",
        "df_expect = df_expect.append(pd.read_csv(\"csv_files/211301117.17N.csv\"))"
      ],
      "execution_count": 0,
      "outputs": []
    },
    {
      "cell_type": "code",
      "metadata": {
        "id": "ep4RTSf0VDAe",
        "colab_type": "code",
        "colab": {}
      },
      "source": [
        "df_final['epoch_time']=pd.to_datetime(df_final['epoch_time'], format='%Y-%m-%d %H:%M:%S')\n",
        "df_final = df_final.sort_values(by=['epoch_time'])\n",
        "\n",
        "df_expect['epoch_time']=pd.to_datetime(df_expect['epoch_time'], format='%Y-%m-%d %H:%M:%S')\n",
        "df_expect = df_expect.sort_values(by=['epoch_time'])"
      ],
      "execution_count": 0,
      "outputs": []
    },
    {
      "cell_type": "code",
      "metadata": {
        "id": "Go-xpiKsWGLj",
        "colab_type": "code",
        "outputId": "3e5d1e02-ddc0-47af-e755-1004ee834aab",
        "colab": {
          "base_uri": "https://localhost:8080/",
          "height": 309
        }
      },
      "source": [
        "df_prn = df_final.loc[df_final['prn'] == 2]\n",
        "df_prn.head()"
      ],
      "execution_count": 35,
      "outputs": [
        {
          "output_type": "execute_result",
          "data": {
            "text/html": [
              "<div>\n",
              "<style scoped>\n",
              "    .dataframe tbody tr th:only-of-type {\n",
              "        vertical-align: middle;\n",
              "    }\n",
              "\n",
              "    .dataframe tbody tr th {\n",
              "        vertical-align: top;\n",
              "    }\n",
              "\n",
              "    .dataframe thead th {\n",
              "        text-align: right;\n",
              "    }\n",
              "</style>\n",
              "<table border=\"1\" class=\"dataframe\">\n",
              "  <thead>\n",
              "    <tr style=\"text-align: right;\">\n",
              "      <th></th>\n",
              "      <th>prn</th>\n",
              "      <th>epoch_time</th>\n",
              "      <th>sv_clock_bias</th>\n",
              "      <th>sv_clock_drift</th>\n",
              "      <th>sv_clock_drift_rate</th>\n",
              "      <th>iode</th>\n",
              "      <th>correction_radius_sine</th>\n",
              "      <th>mean_motion</th>\n",
              "      <th>mean_anomaly</th>\n",
              "      <th>correction_latitude_cosine</th>\n",
              "      <th>essentricity</th>\n",
              "      <th>correction_latitude_sine</th>\n",
              "      <th>sqrt_semi_major_axis</th>\n",
              "      <th>time_of_ephemeris</th>\n",
              "      <th>correction_inclination_cosine</th>\n",
              "      <th>OMEGA</th>\n",
              "      <th>correction_inclination_sine</th>\n",
              "      <th>inclination</th>\n",
              "      <th>correction_radius_cosine</th>\n",
              "      <th>omega</th>\n",
              "      <th>OMEGA_dot</th>\n",
              "      <th>inclination_rate</th>\n",
              "      <th>codes</th>\n",
              "      <th>gps_week</th>\n",
              "      <th>l2_p_data_flag</th>\n",
              "      <th>sv_accuracy</th>\n",
              "      <th>sv_health</th>\n",
              "      <th>tgd</th>\n",
              "      <th>iodc</th>\n",
              "      <th>t_tx</th>\n",
              "      <th>fit_interval</th>\n",
              "    </tr>\n",
              "  </thead>\n",
              "  <tbody>\n",
              "    <tr>\n",
              "      <th>0</th>\n",
              "      <td>2</td>\n",
              "      <td>2017-11-01 02:00:00</td>\n",
              "      <td>0.000292</td>\n",
              "      <td>-9.549694e-12</td>\n",
              "      <td>0.0</td>\n",
              "      <td>61.0</td>\n",
              "      <td>3.71875</td>\n",
              "      <td>5.001637e-09</td>\n",
              "      <td>-3.121238</td>\n",
              "      <td>2.551824e-07</td>\n",
              "      <td>0.017214</td>\n",
              "      <td>0.000003</td>\n",
              "      <td>5153.609978</td>\n",
              "      <td>266400.0</td>\n",
              "      <td>1.955777e-07</td>\n",
              "      <td>0.952991</td>\n",
              "      <td>-2.011657e-07</td>\n",
              "      <td>0.947740</td>\n",
              "      <td>305.96875</td>\n",
              "      <td>-1.943624</td>\n",
              "      <td>-8.246772e-09</td>\n",
              "      <td>1.560779e-10</td>\n",
              "      <td>1.0</td>\n",
              "      <td>1973.0</td>\n",
              "      <td>0.0</td>\n",
              "      <td>0.0</td>\n",
              "      <td>0.0</td>\n",
              "      <td>-2.048910e-08</td>\n",
              "      <td>61.0</td>\n",
              "      <td>259206.0</td>\n",
              "      <td>0.0</td>\n",
              "    </tr>\n",
              "    <tr>\n",
              "      <th>13</th>\n",
              "      <td>2</td>\n",
              "      <td>2017-11-01 04:00:00</td>\n",
              "      <td>0.000292</td>\n",
              "      <td>-9.549694e-12</td>\n",
              "      <td>0.0</td>\n",
              "      <td>62.0</td>\n",
              "      <td>9.37500</td>\n",
              "      <td>5.088783e-09</td>\n",
              "      <td>-2.071064</td>\n",
              "      <td>5.755574e-07</td>\n",
              "      <td>0.017215</td>\n",
              "      <td>0.000003</td>\n",
              "      <td>5153.607372</td>\n",
              "      <td>273600.0</td>\n",
              "      <td>2.942979e-07</td>\n",
              "      <td>0.952931</td>\n",
              "      <td>-6.891787e-08</td>\n",
              "      <td>0.947742</td>\n",
              "      <td>314.96875</td>\n",
              "      <td>-1.943573</td>\n",
              "      <td>-8.276416e-09</td>\n",
              "      <td>2.171519e-10</td>\n",
              "      <td>1.0</td>\n",
              "      <td>1973.0</td>\n",
              "      <td>0.0</td>\n",
              "      <td>0.0</td>\n",
              "      <td>0.0</td>\n",
              "      <td>-2.048910e-08</td>\n",
              "      <td>62.0</td>\n",
              "      <td>266406.0</td>\n",
              "      <td>0.0</td>\n",
              "    </tr>\n",
              "    <tr>\n",
              "      <th>25</th>\n",
              "      <td>2</td>\n",
              "      <td>2017-11-01 06:00:00</td>\n",
              "      <td>0.000292</td>\n",
              "      <td>-9.549694e-12</td>\n",
              "      <td>0.0</td>\n",
              "      <td>63.0</td>\n",
              "      <td>19.28125</td>\n",
              "      <td>5.414511e-09</td>\n",
              "      <td>-1.020942</td>\n",
              "      <td>1.247972e-06</td>\n",
              "      <td>0.017215</td>\n",
              "      <td>0.000004</td>\n",
              "      <td>5153.603928</td>\n",
              "      <td>280800.0</td>\n",
              "      <td>-7.450581e-09</td>\n",
              "      <td>0.952871</td>\n",
              "      <td>4.526228e-07</td>\n",
              "      <td>0.947740</td>\n",
              "      <td>306.71875</td>\n",
              "      <td>-1.943468</td>\n",
              "      <td>-8.846797e-09</td>\n",
              "      <td>5.393082e-11</td>\n",
              "      <td>1.0</td>\n",
              "      <td>1973.0</td>\n",
              "      <td>0.0</td>\n",
              "      <td>0.0</td>\n",
              "      <td>0.0</td>\n",
              "      <td>-2.048910e-08</td>\n",
              "      <td>63.0</td>\n",
              "      <td>273606.0</td>\n",
              "      <td>0.0</td>\n",
              "    </tr>\n",
              "    <tr>\n",
              "      <th>36</th>\n",
              "      <td>2</td>\n",
              "      <td>2017-11-01 08:00:00</td>\n",
              "      <td>0.000292</td>\n",
              "      <td>-9.549694e-12</td>\n",
              "      <td>0.0</td>\n",
              "      <td>64.0</td>\n",
              "      <td>17.37500</td>\n",
              "      <td>5.482371e-09</td>\n",
              "      <td>0.029270</td>\n",
              "      <td>9.853393e-07</td>\n",
              "      <td>0.017215</td>\n",
              "      <td>0.000004</td>\n",
              "      <td>5153.603216</td>\n",
              "      <td>288000.0</td>\n",
              "      <td>-2.011657e-07</td>\n",
              "      <td>0.952806</td>\n",
              "      <td>1.993030e-07</td>\n",
              "      <td>0.947740</td>\n",
              "      <td>303.78125</td>\n",
              "      <td>-1.943449</td>\n",
              "      <td>-9.020733e-09</td>\n",
              "      <td>8.178912e-11</td>\n",
              "      <td>1.0</td>\n",
              "      <td>1973.0</td>\n",
              "      <td>0.0</td>\n",
              "      <td>0.0</td>\n",
              "      <td>0.0</td>\n",
              "      <td>-2.048910e-08</td>\n",
              "      <td>64.0</td>\n",
              "      <td>280806.0</td>\n",
              "      <td>0.0</td>\n",
              "    </tr>\n",
              "    <tr>\n",
              "      <th>131</th>\n",
              "      <td>2</td>\n",
              "      <td>2017-11-01 21:59:44</td>\n",
              "      <td>0.000292</td>\n",
              "      <td>-9.549694e-12</td>\n",
              "      <td>0.0</td>\n",
              "      <td>18.0</td>\n",
              "      <td>29.12500</td>\n",
              "      <td>5.350223e-09</td>\n",
              "      <td>1.095037</td>\n",
              "      <td>1.424924e-06</td>\n",
              "      <td>0.017215</td>\n",
              "      <td>0.000004</td>\n",
              "      <td>5153.605202</td>\n",
              "      <td>338384.0</td>\n",
              "      <td>-3.278255e-07</td>\n",
              "      <td>0.952367</td>\n",
              "      <td>-2.048910e-08</td>\n",
              "      <td>0.947752</td>\n",
              "      <td>290.25000</td>\n",
              "      <td>-1.943136</td>\n",
              "      <td>-8.913228e-09</td>\n",
              "      <td>2.264380e-10</td>\n",
              "      <td>1.0</td>\n",
              "      <td>1973.0</td>\n",
              "      <td>0.0</td>\n",
              "      <td>0.0</td>\n",
              "      <td>0.0</td>\n",
              "      <td>-2.048910e-08</td>\n",
              "      <td>18.0</td>\n",
              "      <td>336606.0</td>\n",
              "      <td>0.0</td>\n",
              "    </tr>\n",
              "  </tbody>\n",
              "</table>\n",
              "</div>"
            ],
            "text/plain": [
              "     prn          epoch_time  sv_clock_bias  ...  iodc      t_tx  fit_interval\n",
              "0      2 2017-11-01 02:00:00       0.000292  ...  61.0  259206.0           0.0\n",
              "13     2 2017-11-01 04:00:00       0.000292  ...  62.0  266406.0           0.0\n",
              "25     2 2017-11-01 06:00:00       0.000292  ...  63.0  273606.0           0.0\n",
              "36     2 2017-11-01 08:00:00       0.000292  ...  64.0  280806.0           0.0\n",
              "131    2 2017-11-01 21:59:44       0.000292  ...  18.0  336606.0           0.0\n",
              "\n",
              "[5 rows x 31 columns]"
            ]
          },
          "metadata": {
            "tags": []
          },
          "execution_count": 35
        }
      ]
    },
    {
      "cell_type": "code",
      "metadata": {
        "id": "HW0KCszYvv1_",
        "colab_type": "code",
        "outputId": "76c6159c-7b14-4b0a-d16e-0874848b80ef",
        "colab": {
          "base_uri": "https://localhost:8080/",
          "height": 34
        }
      },
      "source": [
        "df_prn.shape"
      ],
      "execution_count": 36,
      "outputs": [
        {
          "output_type": "execute_result",
          "data": {
            "text/plain": [
              "(127, 31)"
            ]
          },
          "metadata": {
            "tags": []
          },
          "execution_count": 36
        }
      ]
    },
    {
      "cell_type": "code",
      "metadata": {
        "id": "XNg7dUvramQj",
        "colab_type": "code",
        "colab": {}
      },
      "source": [
        "from sklearn.metrics import r2_score, mean_absolute_error, mean_squared_error, mean_squared_log_error, median_absolute_error, max_error"
      ],
      "execution_count": 0,
      "outputs": []
    },
    {
      "cell_type": "code",
      "metadata": {
        "id": "Wc00syeuhvQz",
        "colab_type": "code",
        "colab": {}
      },
      "source": [
        "\n",
        "def mean_absolute_percentage_error(y_true, y_pred): \n",
        "\n",
        "    ## Note: does not handle mix 1d representation\n",
        "    #if _is_1d(y_true): \n",
        "    #    y_true, y_pred = _check_1d_array(y_true, y_pred)\n",
        "\n",
        "    return np.mean(np.abs((y_true - y_pred) / y_true)) * 100\n",
        "import statistics\n",
        "def percentError( predicted,expected):\n",
        "    print(\"predicted\", predicted.shape)\n",
        "    print(\"expected\", expected.shape)\n",
        "    error_per = []\n",
        "    for (e,p) in zip(predicted, expected):\n",
        "        if e != 0:\n",
        "            error_per.append((abs(e- p)/e)*100)\n",
        "    if len(error_per) == 0:\n",
        "        return 0\n",
        "    return statistics.mean(error_per)"
      ],
      "execution_count": 0,
      "outputs": []
    },
    {
      "cell_type": "code",
      "metadata": {
        "id": "Md8MYAHpnQDf",
        "colab_type": "code",
        "colab": {}
      },
      "source": [
        "def percentError( predicted,expected):\n",
        "    error_per = []\n",
        "    for (e,p) in zip(predicted, expected):\n",
        "        if e != 0:\n",
        "            error_per.append((abs(e- p)/e)*100)\n",
        "    if len(error_per) == 0:\n",
        "        return 0\n",
        "    return statistics.mean(error_per)"
      ],
      "execution_count": 0,
      "outputs": []
    },
    {
      "cell_type": "code",
      "metadata": {
        "id": "M18BNx6oQ2NZ",
        "colab_type": "code",
        "colab": {}
      },
      "source": [
        "error = {}"
      ],
      "execution_count": 0,
      "outputs": []
    },
    {
      "cell_type": "code",
      "metadata": {
        "id": "XrUnBHsoRxQG",
        "colab_type": "code",
        "colab": {
          "base_uri": "https://localhost:8080/",
          "height": 187
        },
        "outputId": "6baa6700-64bb-4138-bc9e-ef0facef846d"
      },
      "source": [
        "prns = df_final['prn'].unique()\n",
        "columns = df_final.columns.values\n",
        "columns"
      ],
      "execution_count": 74,
      "outputs": [
        {
          "output_type": "execute_result",
          "data": {
            "text/plain": [
              "array(['prn', 'epoch_time', 'sv_clock_bias', 'sv_clock_drift',\n",
              "       'sv_clock_drift_rate', 'iode', 'correction_radius_sine',\n",
              "       'mean_motion', 'mean_anomaly', 'correction_latitude_cosine',\n",
              "       'essentricity', 'correction_latitude_sine', 'sqrt_semi_major_axis',\n",
              "       'time_of_ephemeris', 'correction_inclination_cosine', 'OMEGA',\n",
              "       'correction_inclination_sine', 'inclination',\n",
              "       'correction_radius_cosine', 'omega', 'OMEGA_dot',\n",
              "       'inclination_rate', 'codes', 'gps_week', 'l2_p_data_flag',\n",
              "       'sv_accuracy', 'sv_health', 'tgd', 'iodc', 't_tx', 'fit_interval'],\n",
              "      dtype=object)"
            ]
          },
          "metadata": {
            "tags": []
          },
          "execution_count": 74
        }
      ]
    },
    {
      "cell_type": "code",
      "metadata": {
        "id": "jasp_rWBTRbF",
        "colab_type": "code",
        "colab": {}
      },
      "source": [
        "from sklearn.preprocessing import MinMaxScaler\n",
        "min_max_scaler_dict = {}\n",
        "\n",
        "for column in columns:\n",
        "    if column != 'epoch_time':\n",
        "        x = df_final[column].values.reshape(-1, 1)\n",
        "        scaler = MinMaxScaler()\n",
        "        min_max_scaler_dict[column] = scaler.fit(x)"
      ],
      "execution_count": 0,
      "outputs": []
    },
    {
      "cell_type": "code",
      "metadata": {
        "id": "bTHXGDYapEjC",
        "colab_type": "code",
        "colab": {}
      },
      "source": [
        "import datetime"
      ],
      "execution_count": 0,
      "outputs": []
    },
    {
      "cell_type": "code",
      "metadata": {
        "id": "7IYW-I7yTKXV",
        "colab_type": "code",
        "colab": {
          "base_uri": "https://localhost:8080/",
          "height": 1000
        },
        "outputId": "15afb6ce-8b2d-4f63-b43b-a401b96fbd3b"
      },
      "source": [
        "for prn in prns:\n",
        "    #print(prn)\n",
        "    a = datetime.datetime.now()\n",
        "    error[prn] = {}\n",
        "    ec = {}\n",
        "    df_final_prn = df_final.loc[df_final['prn'] == prn]\n",
        "    df_expect_prn = df_expect.loc[df_expect['prn'] == prn]\n",
        "\n",
        "    for column in list(df_prn.columns.values):\n",
        "        #print(column)\n",
        "        if column == 'prn' or column == 'epoch_time' or column=='index':\n",
        "            continue\n",
        "            \n",
        "        if column == 'sv_clock_bias' or column == 'sv_clock_drift' or column == 'sv_clock_drift_rate' or column == 'mean_motion'  or  column == 'essentricity'  or column == 'sqrt_semi_major_axis'  or column == 'OMEGA' or column == 'inclination'  or column == 'omega' or column == 'OMEGA_dot' or column == 'inclination_rate' or column == 'codes' or column == 'gps_week' or column == 'l2_p_data_flag' or column == 'sv_accuracy' or column == 'sv_health' or column == 'tgd'  or column == 'fit_interval':\n",
        "            df_t = pd.DataFrame()\n",
        "            df_t['ds'] = df_final_prn['epoch_time']\n",
        "            df_t['y'] = min_max_scaler_dict[column].transform(df_final_prn[column].values.reshape(-1, 1))\n",
        "            model = Prophet()\n",
        "            model.fit(df_t)\n",
        "            df_p = pd.DataFrame()\n",
        "            df_p['ds'] = df_expect_prn['epoch_time']\n",
        "            df_predict_prn = model.predict(df_p)\n",
        "            e  = {}\n",
        "            e['r2_score'] = r2_score(min_max_scaler_dict[column].transform(df_expect_prn[column].values.reshape(-1, 1)).reshape(-1), df_predict_prn['yhat'].values)\n",
        "            e['mean_absolute_error'] = mean_absolute_error(min_max_scaler_dict[column].transform(df_expect_prn[column].values.reshape(-1, 1)).reshape(-1), df_predict_prn['yhat'].values)\n",
        "            e['mean_squared_error'] = mean_squared_error(min_max_scaler_dict[column].transform(df_expect_prn[column].values.reshape(-1, 1)).reshape(-1), df_predict_prn['yhat'].values)\n",
        "            #e['mean_absolute_percentage_error'] = mean_absolute_percentage_error(min_max_scaler_dict[column].transform(df_expect_prn[column].values.reshape(-1, 1)).reshape(-1), df_predict_prn['yhat'].values)\n",
        "            e['percentError'] = percentError(min_max_scaler_dict[column].transform(df_expect_prn[column].values.reshape(-1, 1)).reshape(-1), df_predict_prn['yhat'].values)\n",
        "            ec[column]= e\n",
        "\n",
        "\n",
        "        if column == 'iode' or column == 'correction_radius_sine' or  column == 'correction_latitude_cosine' or column == 't_tx' or column == 'correction_latitude_sine' or  column == 'correction_inclination_cosine' or   column == 'correction_radius_cosine' or column == 'mean_anomaly' or  column == 'correction_inclination_sine':\n",
        "            df_t = pd.DataFrame()\n",
        "            df_t['ds'] = df_final_prn['epoch_time']\n",
        "            df_t['y'] = min_max_scaler_dict[column].transform(df_final_prn[column].values.reshape(-1, 1))\n",
        "            model = Prophet(changepoint_prior_scale=0.5)\n",
        "            model.fit(df_t)\n",
        "            df_p = pd.DataFrame()\n",
        "            df_p['ds'] = df_expect_prn['epoch_time']\n",
        "            df_predict_prn = model.predict(df_p)\n",
        "            e  = {}\n",
        "            e['r2_score'] = r2_score(min_max_scaler_dict[column].transform(df_expect_prn[column].values.reshape(-1, 1)).reshape(-1), df_predict_prn['yhat'].values)\n",
        "            e['mean_absolute_error'] = mean_absolute_error(min_max_scaler_dict[column].transform(df_expect_prn[column].values.reshape(-1, 1)).reshape(-1), df_predict_prn['yhat'].values)\n",
        "            e['mean_squared_error'] = mean_squared_error(min_max_scaler_dict[column].transform(df_expect_prn[column].values.reshape(-1, 1)).reshape(-1), df_predict_prn['yhat'].values)\n",
        "            #e['mean_absolute_percentage_error'] = mean_absolute_percentage_error(min_max_scaler_dict[column].transform(df_expect_prn[column].values.reshape(-1, 1)).reshape(-1), df_predict_prn['yhat'].values)\n",
        "            e['percentError'] = percentError(min_max_scaler_dict[column].transform(df_expect_prn[column].values.reshape(-1, 1)).reshape(-1), df_predict_prn['yhat'].values)\n",
        "            ec[column]= e\n",
        "\n",
        "        if column == 'time_of_ephemeris' or column == 'iodc' :\n",
        "            df_t = pd.DataFrame()\n",
        "            df_t['ds'] = df_final_prn['epoch_time']\n",
        "            df_t['y'] = min_max_scaler_dict[column].transform(df_final_prn[column].values.reshape(-1, 1))\n",
        "            model = Prophet(changepoint_prior_scale=1.0)\n",
        "            model.fit(df_t)\n",
        "            df_p = pd.DataFrame()\n",
        "            df_p['ds'] = df_expect_prn['epoch_time']\n",
        "            df_predict_prn = model.predict(df_p)\n",
        "            e  = {}\n",
        "            e['r2_score'] = r2_score(min_max_scaler_dict[column].transform(df_expect_prn[column].values.reshape(-1, 1)).reshape(-1), df_predict_prn['yhat'].values)\n",
        "            e['mean_absolute_error'] = mean_absolute_error(min_max_scaler_dict[column].transform(df_expect_prn[column].values.reshape(-1, 1)).reshape(-1), df_predict_prn['yhat'].values)\n",
        "            e['mean_squared_error'] = mean_squared_error(min_max_scaler_dict[column].transform(df_expect_prn[column].values.reshape(-1, 1)).reshape(-1), df_predict_prn['yhat'].values)\n",
        "            #e['mean_absolute_percentage_error'] = mean_absolute_percentage_error(min_max_scaler_dict[column].transform(df_expect_prn[column].values.reshape(-1, 1)).reshape(-1), df_predict_prn['yhat'].values)\n",
        "            e['percentError'] = percentError(min_max_scaler_dict[column].transform(df_expect_prn[column].values.reshape(-1, 1)).reshape(-1), df_predict_prn['yhat'].values)\n",
        "            ec[column]= e\n",
        "    error[prn]=ec\n",
        "    b = datetime.datetime.now()\n",
        "    print(b-a)\n",
        "\n",
        "\"\"\"    df_t = pd.DataFrame()\n",
        "    df_t['ds'] = df_final_prn['epoch_time']\n",
        "    df_t['y'] = min_max_scaler_dict['sv_clock_bias'].transform(df_final_prn['sv_clock_bias'].values.reshape(-1, 1))\n",
        "    model = Prophet()\n",
        "    model.fit(df_t)\n",
        "    df_p = pd.DataFrame()\n",
        "    df_p['ds'] = df_expect_prn['epoch_time']\n",
        "    df_predict_prn = model.predict(df_p)\n",
        "    e  = {}\n",
        "    e['r2_score'] = r2_score(min_max_scaler_dict['sv_clock_bias'].transform(df_expect_prn['sv_clock_bias'].values.reshape(-1, 1)).reshape(-1), df_predict_prn['yhat'].values)\n",
        "    e['mean_absolute_error'] = mean_absolute_error(min_max_scaler_dict['sv_clock_bias'].transform(df_expect_prn['sv_clock_bias'].values.reshape(-1, 1)).reshape(-1), df_predict_prn['yhat'].values)\n",
        "    e['mean_squared_error'] = mean_squared_error(min_max_scaler_dict['sv_clock_bias'].transform(df_expect_prn['sv_clock_bias'].values.reshape(-1, 1)).reshape(-1), df_predict_prn['yhat'].values)\n",
        "    e['mean_squared_log_error'] = mean_squared_log_error(min_max_scaler_dict['sv_clock_bias'].transform(df_expect_prn['sv_clock_bias'].values.reshape(-1, 1)).reshape(-1), df_predict_prn['yhat'].values)\n",
        "    e['mean_absolute_percentage_error'] = mean_absolute_percentage_error(min_max_scaler_dict['sv_clock_bias'].transform(df_expect_prn['sv_clock_bias'].values.reshape(-1, 1)).reshape(-1), df_predict_prn['yhat'].values)\n",
        "    error[prn] = { 'sv_clock_bias': e}\n",
        "\"\"\"\n",
        "    \n"
      ],
      "execution_count": 77,
      "outputs": [
        {
          "output_type": "stream",
          "text": [
            "INFO:fbprophet:Disabling yearly seasonality. Run prophet with yearly_seasonality=True to override this.\n"
          ],
          "name": "stderr"
        },
        {
          "output_type": "stream",
          "text": [
            "2\n",
            "prn\n",
            "epoch_time\n",
            "sv_clock_bias\n"
          ],
          "name": "stdout"
        },
        {
          "output_type": "stream",
          "text": [
            "INFO:fbprophet:Disabling yearly seasonality. Run prophet with yearly_seasonality=True to override this.\n"
          ],
          "name": "stderr"
        },
        {
          "output_type": "stream",
          "text": [
            "sv_clock_drift\n"
          ],
          "name": "stdout"
        },
        {
          "output_type": "stream",
          "text": [
            "INFO:fbprophet:Disabling yearly seasonality. Run prophet with yearly_seasonality=True to override this.\n"
          ],
          "name": "stderr"
        },
        {
          "output_type": "stream",
          "text": [
            "sv_clock_drift_rate\n"
          ],
          "name": "stdout"
        },
        {
          "output_type": "stream",
          "text": [
            "INFO:fbprophet:Disabling yearly seasonality. Run prophet with yearly_seasonality=True to override this.\n"
          ],
          "name": "stderr"
        },
        {
          "output_type": "stream",
          "text": [
            "iode\n"
          ],
          "name": "stdout"
        },
        {
          "output_type": "stream",
          "text": [
            "INFO:fbprophet:Disabling yearly seasonality. Run prophet with yearly_seasonality=True to override this.\n"
          ],
          "name": "stderr"
        },
        {
          "output_type": "stream",
          "text": [
            "correction_radius_sine\n"
          ],
          "name": "stdout"
        },
        {
          "output_type": "stream",
          "text": [
            "INFO:fbprophet:Disabling yearly seasonality. Run prophet with yearly_seasonality=True to override this.\n"
          ],
          "name": "stderr"
        },
        {
          "output_type": "stream",
          "text": [
            "mean_motion\n"
          ],
          "name": "stdout"
        },
        {
          "output_type": "stream",
          "text": [
            "INFO:fbprophet:Disabling yearly seasonality. Run prophet with yearly_seasonality=True to override this.\n"
          ],
          "name": "stderr"
        },
        {
          "output_type": "stream",
          "text": [
            "mean_anomaly\n"
          ],
          "name": "stdout"
        },
        {
          "output_type": "stream",
          "text": [
            "INFO:fbprophet:Disabling yearly seasonality. Run prophet with yearly_seasonality=True to override this.\n"
          ],
          "name": "stderr"
        },
        {
          "output_type": "stream",
          "text": [
            "correction_latitude_cosine\n"
          ],
          "name": "stdout"
        },
        {
          "output_type": "stream",
          "text": [
            "INFO:fbprophet:Disabling yearly seasonality. Run prophet with yearly_seasonality=True to override this.\n"
          ],
          "name": "stderr"
        },
        {
          "output_type": "stream",
          "text": [
            "essentricity\n"
          ],
          "name": "stdout"
        },
        {
          "output_type": "stream",
          "text": [
            "INFO:fbprophet:Disabling yearly seasonality. Run prophet with yearly_seasonality=True to override this.\n"
          ],
          "name": "stderr"
        },
        {
          "output_type": "stream",
          "text": [
            "correction_latitude_sine\n"
          ],
          "name": "stdout"
        },
        {
          "output_type": "stream",
          "text": [
            "INFO:fbprophet:Disabling yearly seasonality. Run prophet with yearly_seasonality=True to override this.\n"
          ],
          "name": "stderr"
        },
        {
          "output_type": "stream",
          "text": [
            "sqrt_semi_major_axis\n"
          ],
          "name": "stdout"
        },
        {
          "output_type": "stream",
          "text": [
            "INFO:fbprophet:Disabling yearly seasonality. Run prophet with yearly_seasonality=True to override this.\n"
          ],
          "name": "stderr"
        },
        {
          "output_type": "stream",
          "text": [
            "time_of_ephemeris\n"
          ],
          "name": "stdout"
        },
        {
          "output_type": "stream",
          "text": [
            "INFO:fbprophet:Disabling yearly seasonality. Run prophet with yearly_seasonality=True to override this.\n"
          ],
          "name": "stderr"
        },
        {
          "output_type": "stream",
          "text": [
            "correction_inclination_cosine\n"
          ],
          "name": "stdout"
        },
        {
          "output_type": "stream",
          "text": [
            "INFO:fbprophet:Disabling yearly seasonality. Run prophet with yearly_seasonality=True to override this.\n"
          ],
          "name": "stderr"
        },
        {
          "output_type": "stream",
          "text": [
            "OMEGA\n"
          ],
          "name": "stdout"
        },
        {
          "output_type": "stream",
          "text": [
            "INFO:fbprophet:Disabling yearly seasonality. Run prophet with yearly_seasonality=True to override this.\n"
          ],
          "name": "stderr"
        },
        {
          "output_type": "stream",
          "text": [
            "correction_inclination_sine\n"
          ],
          "name": "stdout"
        },
        {
          "output_type": "stream",
          "text": [
            "INFO:fbprophet:Disabling yearly seasonality. Run prophet with yearly_seasonality=True to override this.\n"
          ],
          "name": "stderr"
        },
        {
          "output_type": "stream",
          "text": [
            "inclination\n"
          ],
          "name": "stdout"
        },
        {
          "output_type": "stream",
          "text": [
            "INFO:fbprophet:Disabling yearly seasonality. Run prophet with yearly_seasonality=True to override this.\n"
          ],
          "name": "stderr"
        },
        {
          "output_type": "stream",
          "text": [
            "correction_radius_cosine\n"
          ],
          "name": "stdout"
        },
        {
          "output_type": "stream",
          "text": [
            "INFO:fbprophet:Disabling yearly seasonality. Run prophet with yearly_seasonality=True to override this.\n"
          ],
          "name": "stderr"
        },
        {
          "output_type": "stream",
          "text": [
            "omega\n"
          ],
          "name": "stdout"
        },
        {
          "output_type": "stream",
          "text": [
            "INFO:fbprophet:Disabling yearly seasonality. Run prophet with yearly_seasonality=True to override this.\n"
          ],
          "name": "stderr"
        },
        {
          "output_type": "stream",
          "text": [
            "OMEGA_dot\n"
          ],
          "name": "stdout"
        },
        {
          "output_type": "stream",
          "text": [
            "INFO:fbprophet:Disabling yearly seasonality. Run prophet with yearly_seasonality=True to override this.\n"
          ],
          "name": "stderr"
        },
        {
          "output_type": "stream",
          "text": [
            "inclination_rate\n"
          ],
          "name": "stdout"
        },
        {
          "output_type": "stream",
          "text": [
            "INFO:fbprophet:Disabling yearly seasonality. Run prophet with yearly_seasonality=True to override this.\n"
          ],
          "name": "stderr"
        },
        {
          "output_type": "stream",
          "text": [
            "codes\n"
          ],
          "name": "stdout"
        },
        {
          "output_type": "stream",
          "text": [
            "INFO:fbprophet:Disabling yearly seasonality. Run prophet with yearly_seasonality=True to override this.\n"
          ],
          "name": "stderr"
        },
        {
          "output_type": "stream",
          "text": [
            "gps_week\n"
          ],
          "name": "stdout"
        },
        {
          "output_type": "stream",
          "text": [
            "INFO:fbprophet:Disabling yearly seasonality. Run prophet with yearly_seasonality=True to override this.\n"
          ],
          "name": "stderr"
        },
        {
          "output_type": "stream",
          "text": [
            "l2_p_data_flag\n"
          ],
          "name": "stdout"
        },
        {
          "output_type": "stream",
          "text": [
            "INFO:fbprophet:Disabling yearly seasonality. Run prophet with yearly_seasonality=True to override this.\n"
          ],
          "name": "stderr"
        },
        {
          "output_type": "stream",
          "text": [
            "sv_accuracy\n"
          ],
          "name": "stdout"
        },
        {
          "output_type": "stream",
          "text": [
            "INFO:fbprophet:Disabling yearly seasonality. Run prophet with yearly_seasonality=True to override this.\n"
          ],
          "name": "stderr"
        },
        {
          "output_type": "stream",
          "text": [
            "sv_health\n"
          ],
          "name": "stdout"
        },
        {
          "output_type": "stream",
          "text": [
            "INFO:fbprophet:Disabling yearly seasonality. Run prophet with yearly_seasonality=True to override this.\n"
          ],
          "name": "stderr"
        },
        {
          "output_type": "stream",
          "text": [
            "tgd\n"
          ],
          "name": "stdout"
        },
        {
          "output_type": "stream",
          "text": [
            "INFO:fbprophet:Disabling yearly seasonality. Run prophet with yearly_seasonality=True to override this.\n"
          ],
          "name": "stderr"
        },
        {
          "output_type": "stream",
          "text": [
            "iodc\n"
          ],
          "name": "stdout"
        },
        {
          "output_type": "stream",
          "text": [
            "INFO:fbprophet:Disabling yearly seasonality. Run prophet with yearly_seasonality=True to override this.\n"
          ],
          "name": "stderr"
        },
        {
          "output_type": "stream",
          "text": [
            "t_tx\n"
          ],
          "name": "stdout"
        },
        {
          "output_type": "stream",
          "text": [
            "INFO:fbprophet:Disabling yearly seasonality. Run prophet with yearly_seasonality=True to override this.\n"
          ],
          "name": "stderr"
        },
        {
          "output_type": "stream",
          "text": [
            "fit_interval\n"
          ],
          "name": "stdout"
        },
        {
          "output_type": "stream",
          "text": [
            "INFO:fbprophet:Disabling yearly seasonality. Run prophet with yearly_seasonality=True to override this.\n"
          ],
          "name": "stderr"
        },
        {
          "output_type": "stream",
          "text": [
            "0:01:02.802614\n",
            "25\n",
            "prn\n",
            "epoch_time\n",
            "sv_clock_bias\n"
          ],
          "name": "stdout"
        },
        {
          "output_type": "stream",
          "text": [
            "INFO:fbprophet:Disabling yearly seasonality. Run prophet with yearly_seasonality=True to override this.\n"
          ],
          "name": "stderr"
        },
        {
          "output_type": "stream",
          "text": [
            "sv_clock_drift\n"
          ],
          "name": "stdout"
        },
        {
          "output_type": "stream",
          "text": [
            "INFO:fbprophet:Disabling yearly seasonality. Run prophet with yearly_seasonality=True to override this.\n"
          ],
          "name": "stderr"
        },
        {
          "output_type": "stream",
          "text": [
            "sv_clock_drift_rate\n"
          ],
          "name": "stdout"
        },
        {
          "output_type": "stream",
          "text": [
            "INFO:fbprophet:Disabling yearly seasonality. Run prophet with yearly_seasonality=True to override this.\n"
          ],
          "name": "stderr"
        },
        {
          "output_type": "stream",
          "text": [
            "iode\n"
          ],
          "name": "stdout"
        },
        {
          "output_type": "stream",
          "text": [
            "INFO:fbprophet:Disabling yearly seasonality. Run prophet with yearly_seasonality=True to override this.\n"
          ],
          "name": "stderr"
        },
        {
          "output_type": "stream",
          "text": [
            "correction_radius_sine\n"
          ],
          "name": "stdout"
        },
        {
          "output_type": "stream",
          "text": [
            "INFO:fbprophet:Disabling yearly seasonality. Run prophet with yearly_seasonality=True to override this.\n"
          ],
          "name": "stderr"
        },
        {
          "output_type": "stream",
          "text": [
            "mean_motion\n"
          ],
          "name": "stdout"
        },
        {
          "output_type": "stream",
          "text": [
            "INFO:fbprophet:Disabling yearly seasonality. Run prophet with yearly_seasonality=True to override this.\n"
          ],
          "name": "stderr"
        },
        {
          "output_type": "stream",
          "text": [
            "mean_anomaly\n"
          ],
          "name": "stdout"
        },
        {
          "output_type": "stream",
          "text": [
            "INFO:fbprophet:Disabling yearly seasonality. Run prophet with yearly_seasonality=True to override this.\n"
          ],
          "name": "stderr"
        },
        {
          "output_type": "stream",
          "text": [
            "correction_latitude_cosine\n"
          ],
          "name": "stdout"
        },
        {
          "output_type": "stream",
          "text": [
            "INFO:fbprophet:Disabling yearly seasonality. Run prophet with yearly_seasonality=True to override this.\n"
          ],
          "name": "stderr"
        },
        {
          "output_type": "stream",
          "text": [
            "essentricity\n"
          ],
          "name": "stdout"
        },
        {
          "output_type": "stream",
          "text": [
            "INFO:fbprophet:Disabling yearly seasonality. Run prophet with yearly_seasonality=True to override this.\n"
          ],
          "name": "stderr"
        },
        {
          "output_type": "stream",
          "text": [
            "correction_latitude_sine\n"
          ],
          "name": "stdout"
        },
        {
          "output_type": "stream",
          "text": [
            "INFO:fbprophet:Disabling yearly seasonality. Run prophet with yearly_seasonality=True to override this.\n"
          ],
          "name": "stderr"
        },
        {
          "output_type": "stream",
          "text": [
            "sqrt_semi_major_axis\n"
          ],
          "name": "stdout"
        },
        {
          "output_type": "stream",
          "text": [
            "INFO:fbprophet:Disabling yearly seasonality. Run prophet with yearly_seasonality=True to override this.\n"
          ],
          "name": "stderr"
        },
        {
          "output_type": "stream",
          "text": [
            "time_of_ephemeris\n"
          ],
          "name": "stdout"
        },
        {
          "output_type": "stream",
          "text": [
            "INFO:fbprophet:Disabling yearly seasonality. Run prophet with yearly_seasonality=True to override this.\n"
          ],
          "name": "stderr"
        },
        {
          "output_type": "stream",
          "text": [
            "correction_inclination_cosine\n"
          ],
          "name": "stdout"
        },
        {
          "output_type": "stream",
          "text": [
            "INFO:fbprophet:Disabling yearly seasonality. Run prophet with yearly_seasonality=True to override this.\n"
          ],
          "name": "stderr"
        },
        {
          "output_type": "stream",
          "text": [
            "OMEGA\n"
          ],
          "name": "stdout"
        },
        {
          "output_type": "stream",
          "text": [
            "INFO:fbprophet:Disabling yearly seasonality. Run prophet with yearly_seasonality=True to override this.\n"
          ],
          "name": "stderr"
        },
        {
          "output_type": "stream",
          "text": [
            "correction_inclination_sine\n"
          ],
          "name": "stdout"
        },
        {
          "output_type": "stream",
          "text": [
            "INFO:fbprophet:Disabling yearly seasonality. Run prophet with yearly_seasonality=True to override this.\n"
          ],
          "name": "stderr"
        },
        {
          "output_type": "stream",
          "text": [
            "inclination\n"
          ],
          "name": "stdout"
        },
        {
          "output_type": "stream",
          "text": [
            "INFO:fbprophet:Disabling yearly seasonality. Run prophet with yearly_seasonality=True to override this.\n"
          ],
          "name": "stderr"
        },
        {
          "output_type": "stream",
          "text": [
            "correction_radius_cosine\n"
          ],
          "name": "stdout"
        },
        {
          "output_type": "stream",
          "text": [
            "INFO:fbprophet:Disabling yearly seasonality. Run prophet with yearly_seasonality=True to override this.\n"
          ],
          "name": "stderr"
        },
        {
          "output_type": "stream",
          "text": [
            "omega\n"
          ],
          "name": "stdout"
        },
        {
          "output_type": "stream",
          "text": [
            "INFO:fbprophet:Disabling yearly seasonality. Run prophet with yearly_seasonality=True to override this.\n"
          ],
          "name": "stderr"
        },
        {
          "output_type": "stream",
          "text": [
            "OMEGA_dot\n"
          ],
          "name": "stdout"
        },
        {
          "output_type": "stream",
          "text": [
            "INFO:fbprophet:Disabling yearly seasonality. Run prophet with yearly_seasonality=True to override this.\n"
          ],
          "name": "stderr"
        },
        {
          "output_type": "stream",
          "text": [
            "inclination_rate\n"
          ],
          "name": "stdout"
        },
        {
          "output_type": "stream",
          "text": [
            "INFO:fbprophet:Disabling yearly seasonality. Run prophet with yearly_seasonality=True to override this.\n"
          ],
          "name": "stderr"
        },
        {
          "output_type": "stream",
          "text": [
            "codes\n"
          ],
          "name": "stdout"
        },
        {
          "output_type": "stream",
          "text": [
            "INFO:fbprophet:Disabling yearly seasonality. Run prophet with yearly_seasonality=True to override this.\n"
          ],
          "name": "stderr"
        },
        {
          "output_type": "stream",
          "text": [
            "gps_week\n"
          ],
          "name": "stdout"
        },
        {
          "output_type": "stream",
          "text": [
            "INFO:fbprophet:Disabling yearly seasonality. Run prophet with yearly_seasonality=True to override this.\n"
          ],
          "name": "stderr"
        },
        {
          "output_type": "stream",
          "text": [
            "l2_p_data_flag\n"
          ],
          "name": "stdout"
        },
        {
          "output_type": "stream",
          "text": [
            "INFO:fbprophet:Disabling yearly seasonality. Run prophet with yearly_seasonality=True to override this.\n"
          ],
          "name": "stderr"
        },
        {
          "output_type": "stream",
          "text": [
            "sv_accuracy\n"
          ],
          "name": "stdout"
        },
        {
          "output_type": "stream",
          "text": [
            "INFO:fbprophet:Disabling yearly seasonality. Run prophet with yearly_seasonality=True to override this.\n"
          ],
          "name": "stderr"
        },
        {
          "output_type": "stream",
          "text": [
            "sv_health\n"
          ],
          "name": "stdout"
        },
        {
          "output_type": "stream",
          "text": [
            "INFO:fbprophet:Disabling yearly seasonality. Run prophet with yearly_seasonality=True to override this.\n"
          ],
          "name": "stderr"
        },
        {
          "output_type": "stream",
          "text": [
            "tgd\n"
          ],
          "name": "stdout"
        },
        {
          "output_type": "stream",
          "text": [
            "INFO:fbprophet:Disabling yearly seasonality. Run prophet with yearly_seasonality=True to override this.\n"
          ],
          "name": "stderr"
        },
        {
          "output_type": "stream",
          "text": [
            "iodc\n"
          ],
          "name": "stdout"
        },
        {
          "output_type": "stream",
          "text": [
            "INFO:fbprophet:Disabling yearly seasonality. Run prophet with yearly_seasonality=True to override this.\n"
          ],
          "name": "stderr"
        },
        {
          "output_type": "stream",
          "text": [
            "t_tx\n"
          ],
          "name": "stdout"
        },
        {
          "output_type": "stream",
          "text": [
            "INFO:fbprophet:Disabling yearly seasonality. Run prophet with yearly_seasonality=True to override this.\n"
          ],
          "name": "stderr"
        },
        {
          "output_type": "stream",
          "text": [
            "fit_interval\n"
          ],
          "name": "stdout"
        },
        {
          "output_type": "stream",
          "text": [
            "INFO:fbprophet:Disabling yearly seasonality. Run prophet with yearly_seasonality=True to override this.\n"
          ],
          "name": "stderr"
        },
        {
          "output_type": "stream",
          "text": [
            "0:01:02.965971\n",
            "20\n",
            "prn\n",
            "epoch_time\n",
            "sv_clock_bias\n"
          ],
          "name": "stdout"
        },
        {
          "output_type": "stream",
          "text": [
            "INFO:fbprophet:Disabling yearly seasonality. Run prophet with yearly_seasonality=True to override this.\n"
          ],
          "name": "stderr"
        },
        {
          "output_type": "stream",
          "text": [
            "sv_clock_drift\n"
          ],
          "name": "stdout"
        },
        {
          "output_type": "stream",
          "text": [
            "INFO:fbprophet:Disabling yearly seasonality. Run prophet with yearly_seasonality=True to override this.\n"
          ],
          "name": "stderr"
        },
        {
          "output_type": "stream",
          "text": [
            "sv_clock_drift_rate\n"
          ],
          "name": "stdout"
        },
        {
          "output_type": "stream",
          "text": [
            "INFO:fbprophet:Disabling yearly seasonality. Run prophet with yearly_seasonality=True to override this.\n"
          ],
          "name": "stderr"
        },
        {
          "output_type": "stream",
          "text": [
            "iode\n"
          ],
          "name": "stdout"
        },
        {
          "output_type": "stream",
          "text": [
            "INFO:fbprophet:Disabling yearly seasonality. Run prophet with yearly_seasonality=True to override this.\n"
          ],
          "name": "stderr"
        },
        {
          "output_type": "stream",
          "text": [
            "correction_radius_sine\n"
          ],
          "name": "stdout"
        },
        {
          "output_type": "stream",
          "text": [
            "INFO:fbprophet:Disabling yearly seasonality. Run prophet with yearly_seasonality=True to override this.\n"
          ],
          "name": "stderr"
        },
        {
          "output_type": "stream",
          "text": [
            "mean_motion\n"
          ],
          "name": "stdout"
        },
        {
          "output_type": "stream",
          "text": [
            "INFO:fbprophet:Disabling yearly seasonality. Run prophet with yearly_seasonality=True to override this.\n"
          ],
          "name": "stderr"
        },
        {
          "output_type": "stream",
          "text": [
            "mean_anomaly\n"
          ],
          "name": "stdout"
        },
        {
          "output_type": "stream",
          "text": [
            "INFO:fbprophet:Disabling yearly seasonality. Run prophet with yearly_seasonality=True to override this.\n"
          ],
          "name": "stderr"
        },
        {
          "output_type": "stream",
          "text": [
            "correction_latitude_cosine\n"
          ],
          "name": "stdout"
        },
        {
          "output_type": "stream",
          "text": [
            "INFO:fbprophet:Disabling yearly seasonality. Run prophet with yearly_seasonality=True to override this.\n"
          ],
          "name": "stderr"
        },
        {
          "output_type": "stream",
          "text": [
            "essentricity\n"
          ],
          "name": "stdout"
        },
        {
          "output_type": "stream",
          "text": [
            "INFO:fbprophet:Disabling yearly seasonality. Run prophet with yearly_seasonality=True to override this.\n"
          ],
          "name": "stderr"
        },
        {
          "output_type": "stream",
          "text": [
            "correction_latitude_sine\n"
          ],
          "name": "stdout"
        },
        {
          "output_type": "stream",
          "text": [
            "INFO:fbprophet:Disabling yearly seasonality. Run prophet with yearly_seasonality=True to override this.\n"
          ],
          "name": "stderr"
        },
        {
          "output_type": "stream",
          "text": [
            "sqrt_semi_major_axis\n"
          ],
          "name": "stdout"
        },
        {
          "output_type": "stream",
          "text": [
            "INFO:fbprophet:Disabling yearly seasonality. Run prophet with yearly_seasonality=True to override this.\n"
          ],
          "name": "stderr"
        },
        {
          "output_type": "stream",
          "text": [
            "time_of_ephemeris\n"
          ],
          "name": "stdout"
        },
        {
          "output_type": "stream",
          "text": [
            "INFO:fbprophet:Disabling yearly seasonality. Run prophet with yearly_seasonality=True to override this.\n"
          ],
          "name": "stderr"
        },
        {
          "output_type": "stream",
          "text": [
            "correction_inclination_cosine\n"
          ],
          "name": "stdout"
        },
        {
          "output_type": "stream",
          "text": [
            "INFO:fbprophet:Disabling yearly seasonality. Run prophet with yearly_seasonality=True to override this.\n"
          ],
          "name": "stderr"
        },
        {
          "output_type": "stream",
          "text": [
            "OMEGA\n"
          ],
          "name": "stdout"
        },
        {
          "output_type": "stream",
          "text": [
            "INFO:fbprophet:Disabling yearly seasonality. Run prophet with yearly_seasonality=True to override this.\n"
          ],
          "name": "stderr"
        },
        {
          "output_type": "stream",
          "text": [
            "correction_inclination_sine\n"
          ],
          "name": "stdout"
        },
        {
          "output_type": "stream",
          "text": [
            "INFO:fbprophet:Disabling yearly seasonality. Run prophet with yearly_seasonality=True to override this.\n"
          ],
          "name": "stderr"
        },
        {
          "output_type": "stream",
          "text": [
            "inclination\n"
          ],
          "name": "stdout"
        },
        {
          "output_type": "stream",
          "text": [
            "INFO:fbprophet:Disabling yearly seasonality. Run prophet with yearly_seasonality=True to override this.\n"
          ],
          "name": "stderr"
        },
        {
          "output_type": "stream",
          "text": [
            "correction_radius_cosine\n"
          ],
          "name": "stdout"
        },
        {
          "output_type": "stream",
          "text": [
            "INFO:fbprophet:Disabling yearly seasonality. Run prophet with yearly_seasonality=True to override this.\n"
          ],
          "name": "stderr"
        },
        {
          "output_type": "stream",
          "text": [
            "omega\n"
          ],
          "name": "stdout"
        },
        {
          "output_type": "stream",
          "text": [
            "INFO:fbprophet:Disabling yearly seasonality. Run prophet with yearly_seasonality=True to override this.\n"
          ],
          "name": "stderr"
        },
        {
          "output_type": "stream",
          "text": [
            "OMEGA_dot\n"
          ],
          "name": "stdout"
        },
        {
          "output_type": "stream",
          "text": [
            "INFO:fbprophet:Disabling yearly seasonality. Run prophet with yearly_seasonality=True to override this.\n"
          ],
          "name": "stderr"
        },
        {
          "output_type": "stream",
          "text": [
            "inclination_rate\n"
          ],
          "name": "stdout"
        },
        {
          "output_type": "stream",
          "text": [
            "INFO:fbprophet:Disabling yearly seasonality. Run prophet with yearly_seasonality=True to override this.\n"
          ],
          "name": "stderr"
        },
        {
          "output_type": "stream",
          "text": [
            "codes\n"
          ],
          "name": "stdout"
        },
        {
          "output_type": "stream",
          "text": [
            "INFO:fbprophet:Disabling yearly seasonality. Run prophet with yearly_seasonality=True to override this.\n"
          ],
          "name": "stderr"
        },
        {
          "output_type": "stream",
          "text": [
            "gps_week\n"
          ],
          "name": "stdout"
        },
        {
          "output_type": "stream",
          "text": [
            "INFO:fbprophet:Disabling yearly seasonality. Run prophet with yearly_seasonality=True to override this.\n"
          ],
          "name": "stderr"
        },
        {
          "output_type": "stream",
          "text": [
            "l2_p_data_flag\n"
          ],
          "name": "stdout"
        },
        {
          "output_type": "stream",
          "text": [
            "INFO:fbprophet:Disabling yearly seasonality. Run prophet with yearly_seasonality=True to override this.\n"
          ],
          "name": "stderr"
        },
        {
          "output_type": "stream",
          "text": [
            "sv_accuracy\n"
          ],
          "name": "stdout"
        },
        {
          "output_type": "stream",
          "text": [
            "INFO:fbprophet:Disabling yearly seasonality. Run prophet with yearly_seasonality=True to override this.\n"
          ],
          "name": "stderr"
        },
        {
          "output_type": "stream",
          "text": [
            "sv_health\n"
          ],
          "name": "stdout"
        },
        {
          "output_type": "stream",
          "text": [
            "INFO:fbprophet:Disabling yearly seasonality. Run prophet with yearly_seasonality=True to override this.\n"
          ],
          "name": "stderr"
        },
        {
          "output_type": "stream",
          "text": [
            "tgd\n"
          ],
          "name": "stdout"
        },
        {
          "output_type": "stream",
          "text": [
            "INFO:fbprophet:Disabling yearly seasonality. Run prophet with yearly_seasonality=True to override this.\n"
          ],
          "name": "stderr"
        },
        {
          "output_type": "stream",
          "text": [
            "iodc\n"
          ],
          "name": "stdout"
        },
        {
          "output_type": "stream",
          "text": [
            "INFO:fbprophet:Disabling yearly seasonality. Run prophet with yearly_seasonality=True to override this.\n"
          ],
          "name": "stderr"
        },
        {
          "output_type": "stream",
          "text": [
            "t_tx\n"
          ],
          "name": "stdout"
        },
        {
          "output_type": "stream",
          "text": [
            "INFO:fbprophet:Disabling yearly seasonality. Run prophet with yearly_seasonality=True to override this.\n"
          ],
          "name": "stderr"
        },
        {
          "output_type": "stream",
          "text": [
            "fit_interval\n"
          ],
          "name": "stdout"
        },
        {
          "output_type": "stream",
          "text": [
            "INFO:fbprophet:Disabling yearly seasonality. Run prophet with yearly_seasonality=True to override this.\n"
          ],
          "name": "stderr"
        },
        {
          "output_type": "stream",
          "text": [
            "0:01:03.243600\n",
            "28\n",
            "prn\n",
            "epoch_time\n",
            "sv_clock_bias\n"
          ],
          "name": "stdout"
        },
        {
          "output_type": "stream",
          "text": [
            "INFO:fbprophet:Disabling yearly seasonality. Run prophet with yearly_seasonality=True to override this.\n"
          ],
          "name": "stderr"
        },
        {
          "output_type": "stream",
          "text": [
            "sv_clock_drift\n"
          ],
          "name": "stdout"
        },
        {
          "output_type": "stream",
          "text": [
            "INFO:fbprophet:Disabling yearly seasonality. Run prophet with yearly_seasonality=True to override this.\n"
          ],
          "name": "stderr"
        },
        {
          "output_type": "stream",
          "text": [
            "sv_clock_drift_rate\n"
          ],
          "name": "stdout"
        },
        {
          "output_type": "stream",
          "text": [
            "INFO:fbprophet:Disabling yearly seasonality. Run prophet with yearly_seasonality=True to override this.\n"
          ],
          "name": "stderr"
        },
        {
          "output_type": "stream",
          "text": [
            "iode\n"
          ],
          "name": "stdout"
        },
        {
          "output_type": "stream",
          "text": [
            "INFO:fbprophet:Disabling yearly seasonality. Run prophet with yearly_seasonality=True to override this.\n"
          ],
          "name": "stderr"
        },
        {
          "output_type": "stream",
          "text": [
            "correction_radius_sine\n"
          ],
          "name": "stdout"
        },
        {
          "output_type": "stream",
          "text": [
            "INFO:fbprophet:Disabling yearly seasonality. Run prophet with yearly_seasonality=True to override this.\n"
          ],
          "name": "stderr"
        },
        {
          "output_type": "stream",
          "text": [
            "mean_motion\n"
          ],
          "name": "stdout"
        },
        {
          "output_type": "stream",
          "text": [
            "INFO:fbprophet:Disabling yearly seasonality. Run prophet with yearly_seasonality=True to override this.\n"
          ],
          "name": "stderr"
        },
        {
          "output_type": "stream",
          "text": [
            "mean_anomaly\n"
          ],
          "name": "stdout"
        },
        {
          "output_type": "stream",
          "text": [
            "INFO:fbprophet:Disabling yearly seasonality. Run prophet with yearly_seasonality=True to override this.\n"
          ],
          "name": "stderr"
        },
        {
          "output_type": "stream",
          "text": [
            "correction_latitude_cosine\n"
          ],
          "name": "stdout"
        },
        {
          "output_type": "stream",
          "text": [
            "INFO:fbprophet:Disabling yearly seasonality. Run prophet with yearly_seasonality=True to override this.\n"
          ],
          "name": "stderr"
        },
        {
          "output_type": "stream",
          "text": [
            "essentricity\n"
          ],
          "name": "stdout"
        },
        {
          "output_type": "stream",
          "text": [
            "INFO:fbprophet:Disabling yearly seasonality. Run prophet with yearly_seasonality=True to override this.\n"
          ],
          "name": "stderr"
        },
        {
          "output_type": "stream",
          "text": [
            "correction_latitude_sine\n"
          ],
          "name": "stdout"
        },
        {
          "output_type": "stream",
          "text": [
            "INFO:fbprophet:Disabling yearly seasonality. Run prophet with yearly_seasonality=True to override this.\n"
          ],
          "name": "stderr"
        },
        {
          "output_type": "stream",
          "text": [
            "sqrt_semi_major_axis\n"
          ],
          "name": "stdout"
        },
        {
          "output_type": "stream",
          "text": [
            "INFO:fbprophet:Disabling yearly seasonality. Run prophet with yearly_seasonality=True to override this.\n"
          ],
          "name": "stderr"
        },
        {
          "output_type": "stream",
          "text": [
            "time_of_ephemeris\n"
          ],
          "name": "stdout"
        },
        {
          "output_type": "stream",
          "text": [
            "INFO:fbprophet:Disabling yearly seasonality. Run prophet with yearly_seasonality=True to override this.\n"
          ],
          "name": "stderr"
        },
        {
          "output_type": "stream",
          "text": [
            "correction_inclination_cosine\n"
          ],
          "name": "stdout"
        },
        {
          "output_type": "stream",
          "text": [
            "INFO:fbprophet:Disabling yearly seasonality. Run prophet with yearly_seasonality=True to override this.\n"
          ],
          "name": "stderr"
        },
        {
          "output_type": "stream",
          "text": [
            "OMEGA\n"
          ],
          "name": "stdout"
        },
        {
          "output_type": "stream",
          "text": [
            "INFO:fbprophet:Disabling yearly seasonality. Run prophet with yearly_seasonality=True to override this.\n"
          ],
          "name": "stderr"
        },
        {
          "output_type": "stream",
          "text": [
            "correction_inclination_sine\n"
          ],
          "name": "stdout"
        },
        {
          "output_type": "stream",
          "text": [
            "INFO:fbprophet:Disabling yearly seasonality. Run prophet with yearly_seasonality=True to override this.\n"
          ],
          "name": "stderr"
        },
        {
          "output_type": "stream",
          "text": [
            "inclination\n"
          ],
          "name": "stdout"
        },
        {
          "output_type": "stream",
          "text": [
            "INFO:fbprophet:Disabling yearly seasonality. Run prophet with yearly_seasonality=True to override this.\n"
          ],
          "name": "stderr"
        },
        {
          "output_type": "stream",
          "text": [
            "correction_radius_cosine\n"
          ],
          "name": "stdout"
        },
        {
          "output_type": "stream",
          "text": [
            "INFO:fbprophet:Disabling yearly seasonality. Run prophet with yearly_seasonality=True to override this.\n"
          ],
          "name": "stderr"
        },
        {
          "output_type": "stream",
          "text": [
            "omega\n"
          ],
          "name": "stdout"
        },
        {
          "output_type": "stream",
          "text": [
            "INFO:fbprophet:Disabling yearly seasonality. Run prophet with yearly_seasonality=True to override this.\n"
          ],
          "name": "stderr"
        },
        {
          "output_type": "stream",
          "text": [
            "OMEGA_dot\n"
          ],
          "name": "stdout"
        },
        {
          "output_type": "stream",
          "text": [
            "INFO:fbprophet:Disabling yearly seasonality. Run prophet with yearly_seasonality=True to override this.\n"
          ],
          "name": "stderr"
        },
        {
          "output_type": "stream",
          "text": [
            "inclination_rate\n"
          ],
          "name": "stdout"
        },
        {
          "output_type": "stream",
          "text": [
            "INFO:fbprophet:Disabling yearly seasonality. Run prophet with yearly_seasonality=True to override this.\n"
          ],
          "name": "stderr"
        },
        {
          "output_type": "stream",
          "text": [
            "codes\n"
          ],
          "name": "stdout"
        },
        {
          "output_type": "stream",
          "text": [
            "INFO:fbprophet:Disabling yearly seasonality. Run prophet with yearly_seasonality=True to override this.\n"
          ],
          "name": "stderr"
        },
        {
          "output_type": "stream",
          "text": [
            "gps_week\n"
          ],
          "name": "stdout"
        },
        {
          "output_type": "stream",
          "text": [
            "INFO:fbprophet:Disabling yearly seasonality. Run prophet with yearly_seasonality=True to override this.\n"
          ],
          "name": "stderr"
        },
        {
          "output_type": "stream",
          "text": [
            "l2_p_data_flag\n"
          ],
          "name": "stdout"
        },
        {
          "output_type": "stream",
          "text": [
            "INFO:fbprophet:Disabling yearly seasonality. Run prophet with yearly_seasonality=True to override this.\n"
          ],
          "name": "stderr"
        },
        {
          "output_type": "stream",
          "text": [
            "sv_accuracy\n"
          ],
          "name": "stdout"
        },
        {
          "output_type": "stream",
          "text": [
            "INFO:fbprophet:Disabling yearly seasonality. Run prophet with yearly_seasonality=True to override this.\n"
          ],
          "name": "stderr"
        },
        {
          "output_type": "stream",
          "text": [
            "sv_health\n"
          ],
          "name": "stdout"
        },
        {
          "output_type": "stream",
          "text": [
            "INFO:fbprophet:Disabling yearly seasonality. Run prophet with yearly_seasonality=True to override this.\n"
          ],
          "name": "stderr"
        },
        {
          "output_type": "stream",
          "text": [
            "tgd\n"
          ],
          "name": "stdout"
        },
        {
          "output_type": "stream",
          "text": [
            "INFO:fbprophet:Disabling yearly seasonality. Run prophet with yearly_seasonality=True to override this.\n"
          ],
          "name": "stderr"
        },
        {
          "output_type": "stream",
          "text": [
            "iodc\n"
          ],
          "name": "stdout"
        },
        {
          "output_type": "stream",
          "text": [
            "INFO:fbprophet:Disabling yearly seasonality. Run prophet with yearly_seasonality=True to override this.\n"
          ],
          "name": "stderr"
        },
        {
          "output_type": "stream",
          "text": [
            "t_tx\n"
          ],
          "name": "stdout"
        },
        {
          "output_type": "stream",
          "text": [
            "INFO:fbprophet:Disabling yearly seasonality. Run prophet with yearly_seasonality=True to override this.\n"
          ],
          "name": "stderr"
        },
        {
          "output_type": "stream",
          "text": [
            "fit_interval\n"
          ],
          "name": "stdout"
        },
        {
          "output_type": "stream",
          "text": [
            "INFO:fbprophet:Disabling yearly seasonality. Run prophet with yearly_seasonality=True to override this.\n"
          ],
          "name": "stderr"
        },
        {
          "output_type": "stream",
          "text": [
            "0:01:01.430416\n",
            "30\n",
            "prn\n",
            "epoch_time\n",
            "sv_clock_bias\n"
          ],
          "name": "stdout"
        },
        {
          "output_type": "stream",
          "text": [
            "INFO:fbprophet:Disabling yearly seasonality. Run prophet with yearly_seasonality=True to override this.\n"
          ],
          "name": "stderr"
        },
        {
          "output_type": "stream",
          "text": [
            "sv_clock_drift\n"
          ],
          "name": "stdout"
        },
        {
          "output_type": "stream",
          "text": [
            "INFO:fbprophet:Disabling yearly seasonality. Run prophet with yearly_seasonality=True to override this.\n"
          ],
          "name": "stderr"
        },
        {
          "output_type": "stream",
          "text": [
            "sv_clock_drift_rate\n"
          ],
          "name": "stdout"
        },
        {
          "output_type": "stream",
          "text": [
            "INFO:fbprophet:Disabling yearly seasonality. Run prophet with yearly_seasonality=True to override this.\n"
          ],
          "name": "stderr"
        },
        {
          "output_type": "stream",
          "text": [
            "iode\n"
          ],
          "name": "stdout"
        },
        {
          "output_type": "stream",
          "text": [
            "INFO:fbprophet:Disabling yearly seasonality. Run prophet with yearly_seasonality=True to override this.\n"
          ],
          "name": "stderr"
        },
        {
          "output_type": "stream",
          "text": [
            "correction_radius_sine\n"
          ],
          "name": "stdout"
        },
        {
          "output_type": "stream",
          "text": [
            "INFO:fbprophet:Disabling yearly seasonality. Run prophet with yearly_seasonality=True to override this.\n"
          ],
          "name": "stderr"
        },
        {
          "output_type": "stream",
          "text": [
            "mean_motion\n"
          ],
          "name": "stdout"
        },
        {
          "output_type": "stream",
          "text": [
            "INFO:fbprophet:Disabling yearly seasonality. Run prophet with yearly_seasonality=True to override this.\n"
          ],
          "name": "stderr"
        },
        {
          "output_type": "stream",
          "text": [
            "mean_anomaly\n"
          ],
          "name": "stdout"
        },
        {
          "output_type": "stream",
          "text": [
            "INFO:fbprophet:Disabling yearly seasonality. Run prophet with yearly_seasonality=True to override this.\n"
          ],
          "name": "stderr"
        },
        {
          "output_type": "stream",
          "text": [
            "correction_latitude_cosine\n"
          ],
          "name": "stdout"
        },
        {
          "output_type": "stream",
          "text": [
            "INFO:fbprophet:Disabling yearly seasonality. Run prophet with yearly_seasonality=True to override this.\n"
          ],
          "name": "stderr"
        },
        {
          "output_type": "stream",
          "text": [
            "essentricity\n"
          ],
          "name": "stdout"
        },
        {
          "output_type": "stream",
          "text": [
            "INFO:fbprophet:Disabling yearly seasonality. Run prophet with yearly_seasonality=True to override this.\n"
          ],
          "name": "stderr"
        },
        {
          "output_type": "stream",
          "text": [
            "correction_latitude_sine\n"
          ],
          "name": "stdout"
        },
        {
          "output_type": "stream",
          "text": [
            "INFO:fbprophet:Disabling yearly seasonality. Run prophet with yearly_seasonality=True to override this.\n"
          ],
          "name": "stderr"
        },
        {
          "output_type": "stream",
          "text": [
            "sqrt_semi_major_axis\n"
          ],
          "name": "stdout"
        },
        {
          "output_type": "stream",
          "text": [
            "INFO:fbprophet:Disabling yearly seasonality. Run prophet with yearly_seasonality=True to override this.\n"
          ],
          "name": "stderr"
        },
        {
          "output_type": "stream",
          "text": [
            "time_of_ephemeris\n"
          ],
          "name": "stdout"
        },
        {
          "output_type": "stream",
          "text": [
            "INFO:fbprophet:Disabling yearly seasonality. Run prophet with yearly_seasonality=True to override this.\n"
          ],
          "name": "stderr"
        },
        {
          "output_type": "stream",
          "text": [
            "correction_inclination_cosine\n"
          ],
          "name": "stdout"
        },
        {
          "output_type": "stream",
          "text": [
            "INFO:fbprophet:Disabling yearly seasonality. Run prophet with yearly_seasonality=True to override this.\n"
          ],
          "name": "stderr"
        },
        {
          "output_type": "stream",
          "text": [
            "OMEGA\n"
          ],
          "name": "stdout"
        },
        {
          "output_type": "stream",
          "text": [
            "INFO:fbprophet:Disabling yearly seasonality. Run prophet with yearly_seasonality=True to override this.\n"
          ],
          "name": "stderr"
        },
        {
          "output_type": "stream",
          "text": [
            "correction_inclination_sine\n"
          ],
          "name": "stdout"
        },
        {
          "output_type": "stream",
          "text": [
            "INFO:fbprophet:Disabling yearly seasonality. Run prophet with yearly_seasonality=True to override this.\n"
          ],
          "name": "stderr"
        },
        {
          "output_type": "stream",
          "text": [
            "inclination\n"
          ],
          "name": "stdout"
        },
        {
          "output_type": "stream",
          "text": [
            "INFO:fbprophet:Disabling yearly seasonality. Run prophet with yearly_seasonality=True to override this.\n"
          ],
          "name": "stderr"
        },
        {
          "output_type": "stream",
          "text": [
            "correction_radius_cosine\n"
          ],
          "name": "stdout"
        },
        {
          "output_type": "stream",
          "text": [
            "INFO:fbprophet:Disabling yearly seasonality. Run prophet with yearly_seasonality=True to override this.\n"
          ],
          "name": "stderr"
        },
        {
          "output_type": "stream",
          "text": [
            "omega\n"
          ],
          "name": "stdout"
        },
        {
          "output_type": "stream",
          "text": [
            "INFO:fbprophet:Disabling yearly seasonality. Run prophet with yearly_seasonality=True to override this.\n"
          ],
          "name": "stderr"
        },
        {
          "output_type": "stream",
          "text": [
            "OMEGA_dot\n"
          ],
          "name": "stdout"
        },
        {
          "output_type": "stream",
          "text": [
            "INFO:fbprophet:Disabling yearly seasonality. Run prophet with yearly_seasonality=True to override this.\n"
          ],
          "name": "stderr"
        },
        {
          "output_type": "stream",
          "text": [
            "inclination_rate\n"
          ],
          "name": "stdout"
        },
        {
          "output_type": "stream",
          "text": [
            "INFO:fbprophet:Disabling yearly seasonality. Run prophet with yearly_seasonality=True to override this.\n"
          ],
          "name": "stderr"
        },
        {
          "output_type": "stream",
          "text": [
            "codes\n"
          ],
          "name": "stdout"
        },
        {
          "output_type": "stream",
          "text": [
            "INFO:fbprophet:Disabling yearly seasonality. Run prophet with yearly_seasonality=True to override this.\n"
          ],
          "name": "stderr"
        },
        {
          "output_type": "stream",
          "text": [
            "gps_week\n"
          ],
          "name": "stdout"
        },
        {
          "output_type": "stream",
          "text": [
            "INFO:fbprophet:Disabling yearly seasonality. Run prophet with yearly_seasonality=True to override this.\n"
          ],
          "name": "stderr"
        },
        {
          "output_type": "stream",
          "text": [
            "l2_p_data_flag\n"
          ],
          "name": "stdout"
        },
        {
          "output_type": "stream",
          "text": [
            "INFO:fbprophet:Disabling yearly seasonality. Run prophet with yearly_seasonality=True to override this.\n"
          ],
          "name": "stderr"
        },
        {
          "output_type": "stream",
          "text": [
            "sv_accuracy\n"
          ],
          "name": "stdout"
        },
        {
          "output_type": "stream",
          "text": [
            "INFO:fbprophet:Disabling yearly seasonality. Run prophet with yearly_seasonality=True to override this.\n"
          ],
          "name": "stderr"
        },
        {
          "output_type": "stream",
          "text": [
            "sv_health\n"
          ],
          "name": "stdout"
        },
        {
          "output_type": "stream",
          "text": [
            "INFO:fbprophet:Disabling yearly seasonality. Run prophet with yearly_seasonality=True to override this.\n"
          ],
          "name": "stderr"
        },
        {
          "output_type": "stream",
          "text": [
            "tgd\n"
          ],
          "name": "stdout"
        },
        {
          "output_type": "stream",
          "text": [
            "INFO:fbprophet:Disabling yearly seasonality. Run prophet with yearly_seasonality=True to override this.\n"
          ],
          "name": "stderr"
        },
        {
          "output_type": "stream",
          "text": [
            "iodc\n"
          ],
          "name": "stdout"
        },
        {
          "output_type": "stream",
          "text": [
            "INFO:fbprophet:Disabling yearly seasonality. Run prophet with yearly_seasonality=True to override this.\n"
          ],
          "name": "stderr"
        },
        {
          "output_type": "stream",
          "text": [
            "t_tx\n"
          ],
          "name": "stdout"
        },
        {
          "output_type": "stream",
          "text": [
            "INFO:fbprophet:Disabling yearly seasonality. Run prophet with yearly_seasonality=True to override this.\n"
          ],
          "name": "stderr"
        },
        {
          "output_type": "stream",
          "text": [
            "fit_interval\n"
          ],
          "name": "stdout"
        },
        {
          "output_type": "stream",
          "text": [
            "INFO:fbprophet:Disabling yearly seasonality. Run prophet with yearly_seasonality=True to override this.\n"
          ],
          "name": "stderr"
        },
        {
          "output_type": "stream",
          "text": [
            "0:01:02.847953\n",
            "6\n",
            "prn\n",
            "epoch_time\n",
            "sv_clock_bias\n"
          ],
          "name": "stdout"
        },
        {
          "output_type": "stream",
          "text": [
            "INFO:fbprophet:Disabling yearly seasonality. Run prophet with yearly_seasonality=True to override this.\n"
          ],
          "name": "stderr"
        },
        {
          "output_type": "stream",
          "text": [
            "sv_clock_drift\n"
          ],
          "name": "stdout"
        },
        {
          "output_type": "stream",
          "text": [
            "INFO:fbprophet:Disabling yearly seasonality. Run prophet with yearly_seasonality=True to override this.\n"
          ],
          "name": "stderr"
        },
        {
          "output_type": "stream",
          "text": [
            "sv_clock_drift_rate\n"
          ],
          "name": "stdout"
        },
        {
          "output_type": "stream",
          "text": [
            "INFO:fbprophet:Disabling yearly seasonality. Run prophet with yearly_seasonality=True to override this.\n"
          ],
          "name": "stderr"
        },
        {
          "output_type": "stream",
          "text": [
            "iode\n"
          ],
          "name": "stdout"
        },
        {
          "output_type": "stream",
          "text": [
            "INFO:fbprophet:Disabling yearly seasonality. Run prophet with yearly_seasonality=True to override this.\n"
          ],
          "name": "stderr"
        },
        {
          "output_type": "stream",
          "text": [
            "correction_radius_sine\n"
          ],
          "name": "stdout"
        },
        {
          "output_type": "stream",
          "text": [
            "INFO:fbprophet:Disabling yearly seasonality. Run prophet with yearly_seasonality=True to override this.\n"
          ],
          "name": "stderr"
        },
        {
          "output_type": "stream",
          "text": [
            "mean_motion\n"
          ],
          "name": "stdout"
        },
        {
          "output_type": "stream",
          "text": [
            "INFO:fbprophet:Disabling yearly seasonality. Run prophet with yearly_seasonality=True to override this.\n"
          ],
          "name": "stderr"
        },
        {
          "output_type": "stream",
          "text": [
            "mean_anomaly\n"
          ],
          "name": "stdout"
        },
        {
          "output_type": "stream",
          "text": [
            "INFO:fbprophet:Disabling yearly seasonality. Run prophet with yearly_seasonality=True to override this.\n"
          ],
          "name": "stderr"
        },
        {
          "output_type": "stream",
          "text": [
            "correction_latitude_cosine\n"
          ],
          "name": "stdout"
        },
        {
          "output_type": "stream",
          "text": [
            "INFO:fbprophet:Disabling yearly seasonality. Run prophet with yearly_seasonality=True to override this.\n"
          ],
          "name": "stderr"
        },
        {
          "output_type": "stream",
          "text": [
            "essentricity\n"
          ],
          "name": "stdout"
        },
        {
          "output_type": "stream",
          "text": [
            "INFO:fbprophet:Disabling yearly seasonality. Run prophet with yearly_seasonality=True to override this.\n"
          ],
          "name": "stderr"
        },
        {
          "output_type": "stream",
          "text": [
            "correction_latitude_sine\n"
          ],
          "name": "stdout"
        },
        {
          "output_type": "stream",
          "text": [
            "INFO:fbprophet:Disabling yearly seasonality. Run prophet with yearly_seasonality=True to override this.\n"
          ],
          "name": "stderr"
        },
        {
          "output_type": "stream",
          "text": [
            "sqrt_semi_major_axis\n"
          ],
          "name": "stdout"
        },
        {
          "output_type": "stream",
          "text": [
            "INFO:fbprophet:Disabling yearly seasonality. Run prophet with yearly_seasonality=True to override this.\n"
          ],
          "name": "stderr"
        },
        {
          "output_type": "stream",
          "text": [
            "time_of_ephemeris\n"
          ],
          "name": "stdout"
        },
        {
          "output_type": "stream",
          "text": [
            "INFO:fbprophet:Disabling yearly seasonality. Run prophet with yearly_seasonality=True to override this.\n"
          ],
          "name": "stderr"
        },
        {
          "output_type": "stream",
          "text": [
            "correction_inclination_cosine\n"
          ],
          "name": "stdout"
        },
        {
          "output_type": "stream",
          "text": [
            "INFO:fbprophet:Disabling yearly seasonality. Run prophet with yearly_seasonality=True to override this.\n"
          ],
          "name": "stderr"
        },
        {
          "output_type": "stream",
          "text": [
            "OMEGA\n"
          ],
          "name": "stdout"
        },
        {
          "output_type": "stream",
          "text": [
            "INFO:fbprophet:Disabling yearly seasonality. Run prophet with yearly_seasonality=True to override this.\n"
          ],
          "name": "stderr"
        },
        {
          "output_type": "stream",
          "text": [
            "correction_inclination_sine\n"
          ],
          "name": "stdout"
        },
        {
          "output_type": "stream",
          "text": [
            "INFO:fbprophet:Disabling yearly seasonality. Run prophet with yearly_seasonality=True to override this.\n"
          ],
          "name": "stderr"
        },
        {
          "output_type": "stream",
          "text": [
            "inclination\n"
          ],
          "name": "stdout"
        },
        {
          "output_type": "stream",
          "text": [
            "INFO:fbprophet:Disabling yearly seasonality. Run prophet with yearly_seasonality=True to override this.\n"
          ],
          "name": "stderr"
        },
        {
          "output_type": "stream",
          "text": [
            "correction_radius_cosine\n"
          ],
          "name": "stdout"
        },
        {
          "output_type": "stream",
          "text": [
            "INFO:fbprophet:Disabling yearly seasonality. Run prophet with yearly_seasonality=True to override this.\n"
          ],
          "name": "stderr"
        },
        {
          "output_type": "stream",
          "text": [
            "omega\n"
          ],
          "name": "stdout"
        },
        {
          "output_type": "stream",
          "text": [
            "INFO:fbprophet:Disabling yearly seasonality. Run prophet with yearly_seasonality=True to override this.\n"
          ],
          "name": "stderr"
        },
        {
          "output_type": "stream",
          "text": [
            "OMEGA_dot\n"
          ],
          "name": "stdout"
        },
        {
          "output_type": "stream",
          "text": [
            "INFO:fbprophet:Disabling yearly seasonality. Run prophet with yearly_seasonality=True to override this.\n"
          ],
          "name": "stderr"
        },
        {
          "output_type": "stream",
          "text": [
            "inclination_rate\n"
          ],
          "name": "stdout"
        },
        {
          "output_type": "stream",
          "text": [
            "INFO:fbprophet:Disabling yearly seasonality. Run prophet with yearly_seasonality=True to override this.\n"
          ],
          "name": "stderr"
        },
        {
          "output_type": "stream",
          "text": [
            "codes\n"
          ],
          "name": "stdout"
        },
        {
          "output_type": "stream",
          "text": [
            "INFO:fbprophet:Disabling yearly seasonality. Run prophet with yearly_seasonality=True to override this.\n"
          ],
          "name": "stderr"
        },
        {
          "output_type": "stream",
          "text": [
            "gps_week\n"
          ],
          "name": "stdout"
        },
        {
          "output_type": "stream",
          "text": [
            "INFO:fbprophet:Disabling yearly seasonality. Run prophet with yearly_seasonality=True to override this.\n"
          ],
          "name": "stderr"
        },
        {
          "output_type": "stream",
          "text": [
            "l2_p_data_flag\n"
          ],
          "name": "stdout"
        },
        {
          "output_type": "stream",
          "text": [
            "INFO:fbprophet:Disabling yearly seasonality. Run prophet with yearly_seasonality=True to override this.\n"
          ],
          "name": "stderr"
        },
        {
          "output_type": "stream",
          "text": [
            "sv_accuracy\n"
          ],
          "name": "stdout"
        },
        {
          "output_type": "stream",
          "text": [
            "INFO:fbprophet:Disabling yearly seasonality. Run prophet with yearly_seasonality=True to override this.\n"
          ],
          "name": "stderr"
        },
        {
          "output_type": "stream",
          "text": [
            "sv_health\n"
          ],
          "name": "stdout"
        },
        {
          "output_type": "stream",
          "text": [
            "INFO:fbprophet:Disabling yearly seasonality. Run prophet with yearly_seasonality=True to override this.\n"
          ],
          "name": "stderr"
        },
        {
          "output_type": "stream",
          "text": [
            "tgd\n"
          ],
          "name": "stdout"
        },
        {
          "output_type": "stream",
          "text": [
            "INFO:fbprophet:Disabling yearly seasonality. Run prophet with yearly_seasonality=True to override this.\n"
          ],
          "name": "stderr"
        },
        {
          "output_type": "stream",
          "text": [
            "iodc\n"
          ],
          "name": "stdout"
        },
        {
          "output_type": "stream",
          "text": [
            "INFO:fbprophet:Disabling yearly seasonality. Run prophet with yearly_seasonality=True to override this.\n"
          ],
          "name": "stderr"
        },
        {
          "output_type": "stream",
          "text": [
            "t_tx\n"
          ],
          "name": "stdout"
        },
        {
          "output_type": "stream",
          "text": [
            "INFO:fbprophet:Disabling yearly seasonality. Run prophet with yearly_seasonality=True to override this.\n"
          ],
          "name": "stderr"
        },
        {
          "output_type": "stream",
          "text": [
            "fit_interval\n"
          ],
          "name": "stdout"
        },
        {
          "output_type": "stream",
          "text": [
            "INFO:fbprophet:Disabling yearly seasonality. Run prophet with yearly_seasonality=True to override this.\n"
          ],
          "name": "stderr"
        },
        {
          "output_type": "stream",
          "text": [
            "0:01:01.809292\n",
            "17\n",
            "prn\n",
            "epoch_time\n",
            "sv_clock_bias\n"
          ],
          "name": "stdout"
        },
        {
          "output_type": "stream",
          "text": [
            "INFO:fbprophet:Disabling yearly seasonality. Run prophet with yearly_seasonality=True to override this.\n"
          ],
          "name": "stderr"
        },
        {
          "output_type": "stream",
          "text": [
            "sv_clock_drift\n"
          ],
          "name": "stdout"
        },
        {
          "output_type": "stream",
          "text": [
            "INFO:fbprophet:Disabling yearly seasonality. Run prophet with yearly_seasonality=True to override this.\n"
          ],
          "name": "stderr"
        },
        {
          "output_type": "stream",
          "text": [
            "sv_clock_drift_rate\n"
          ],
          "name": "stdout"
        },
        {
          "output_type": "stream",
          "text": [
            "INFO:fbprophet:Disabling yearly seasonality. Run prophet with yearly_seasonality=True to override this.\n"
          ],
          "name": "stderr"
        },
        {
          "output_type": "stream",
          "text": [
            "iode\n"
          ],
          "name": "stdout"
        },
        {
          "output_type": "stream",
          "text": [
            "INFO:fbprophet:Disabling yearly seasonality. Run prophet with yearly_seasonality=True to override this.\n"
          ],
          "name": "stderr"
        },
        {
          "output_type": "stream",
          "text": [
            "correction_radius_sine\n"
          ],
          "name": "stdout"
        },
        {
          "output_type": "stream",
          "text": [
            "INFO:fbprophet:Disabling yearly seasonality. Run prophet with yearly_seasonality=True to override this.\n"
          ],
          "name": "stderr"
        },
        {
          "output_type": "stream",
          "text": [
            "mean_motion\n"
          ],
          "name": "stdout"
        },
        {
          "output_type": "stream",
          "text": [
            "INFO:fbprophet:Disabling yearly seasonality. Run prophet with yearly_seasonality=True to override this.\n"
          ],
          "name": "stderr"
        },
        {
          "output_type": "stream",
          "text": [
            "mean_anomaly\n"
          ],
          "name": "stdout"
        },
        {
          "output_type": "stream",
          "text": [
            "INFO:fbprophet:Disabling yearly seasonality. Run prophet with yearly_seasonality=True to override this.\n"
          ],
          "name": "stderr"
        },
        {
          "output_type": "stream",
          "text": [
            "correction_latitude_cosine\n"
          ],
          "name": "stdout"
        },
        {
          "output_type": "stream",
          "text": [
            "INFO:fbprophet:Disabling yearly seasonality. Run prophet with yearly_seasonality=True to override this.\n"
          ],
          "name": "stderr"
        },
        {
          "output_type": "stream",
          "text": [
            "essentricity\n"
          ],
          "name": "stdout"
        },
        {
          "output_type": "stream",
          "text": [
            "INFO:fbprophet:Disabling yearly seasonality. Run prophet with yearly_seasonality=True to override this.\n"
          ],
          "name": "stderr"
        },
        {
          "output_type": "stream",
          "text": [
            "correction_latitude_sine\n"
          ],
          "name": "stdout"
        },
        {
          "output_type": "stream",
          "text": [
            "INFO:fbprophet:Disabling yearly seasonality. Run prophet with yearly_seasonality=True to override this.\n"
          ],
          "name": "stderr"
        },
        {
          "output_type": "stream",
          "text": [
            "sqrt_semi_major_axis\n"
          ],
          "name": "stdout"
        },
        {
          "output_type": "stream",
          "text": [
            "INFO:fbprophet:Disabling yearly seasonality. Run prophet with yearly_seasonality=True to override this.\n"
          ],
          "name": "stderr"
        },
        {
          "output_type": "stream",
          "text": [
            "time_of_ephemeris\n"
          ],
          "name": "stdout"
        },
        {
          "output_type": "stream",
          "text": [
            "INFO:fbprophet:Disabling yearly seasonality. Run prophet with yearly_seasonality=True to override this.\n"
          ],
          "name": "stderr"
        },
        {
          "output_type": "stream",
          "text": [
            "correction_inclination_cosine\n"
          ],
          "name": "stdout"
        },
        {
          "output_type": "stream",
          "text": [
            "INFO:fbprophet:Disabling yearly seasonality. Run prophet with yearly_seasonality=True to override this.\n"
          ],
          "name": "stderr"
        },
        {
          "output_type": "stream",
          "text": [
            "OMEGA\n"
          ],
          "name": "stdout"
        },
        {
          "output_type": "stream",
          "text": [
            "INFO:fbprophet:Disabling yearly seasonality. Run prophet with yearly_seasonality=True to override this.\n"
          ],
          "name": "stderr"
        },
        {
          "output_type": "stream",
          "text": [
            "correction_inclination_sine\n"
          ],
          "name": "stdout"
        },
        {
          "output_type": "stream",
          "text": [
            "INFO:fbprophet:Disabling yearly seasonality. Run prophet with yearly_seasonality=True to override this.\n"
          ],
          "name": "stderr"
        },
        {
          "output_type": "stream",
          "text": [
            "inclination\n"
          ],
          "name": "stdout"
        },
        {
          "output_type": "stream",
          "text": [
            "INFO:fbprophet:Disabling yearly seasonality. Run prophet with yearly_seasonality=True to override this.\n"
          ],
          "name": "stderr"
        },
        {
          "output_type": "stream",
          "text": [
            "correction_radius_cosine\n"
          ],
          "name": "stdout"
        },
        {
          "output_type": "stream",
          "text": [
            "INFO:fbprophet:Disabling yearly seasonality. Run prophet with yearly_seasonality=True to override this.\n"
          ],
          "name": "stderr"
        },
        {
          "output_type": "stream",
          "text": [
            "omega\n"
          ],
          "name": "stdout"
        },
        {
          "output_type": "stream",
          "text": [
            "INFO:fbprophet:Disabling yearly seasonality. Run prophet with yearly_seasonality=True to override this.\n"
          ],
          "name": "stderr"
        },
        {
          "output_type": "stream",
          "text": [
            "OMEGA_dot\n"
          ],
          "name": "stdout"
        },
        {
          "output_type": "stream",
          "text": [
            "INFO:fbprophet:Disabling yearly seasonality. Run prophet with yearly_seasonality=True to override this.\n"
          ],
          "name": "stderr"
        },
        {
          "output_type": "stream",
          "text": [
            "inclination_rate\n"
          ],
          "name": "stdout"
        },
        {
          "output_type": "stream",
          "text": [
            "INFO:fbprophet:Disabling yearly seasonality. Run prophet with yearly_seasonality=True to override this.\n"
          ],
          "name": "stderr"
        },
        {
          "output_type": "stream",
          "text": [
            "codes\n"
          ],
          "name": "stdout"
        },
        {
          "output_type": "stream",
          "text": [
            "INFO:fbprophet:Disabling yearly seasonality. Run prophet with yearly_seasonality=True to override this.\n"
          ],
          "name": "stderr"
        },
        {
          "output_type": "stream",
          "text": [
            "gps_week\n"
          ],
          "name": "stdout"
        },
        {
          "output_type": "stream",
          "text": [
            "INFO:fbprophet:Disabling yearly seasonality. Run prophet with yearly_seasonality=True to override this.\n"
          ],
          "name": "stderr"
        },
        {
          "output_type": "stream",
          "text": [
            "l2_p_data_flag\n"
          ],
          "name": "stdout"
        },
        {
          "output_type": "stream",
          "text": [
            "INFO:fbprophet:Disabling yearly seasonality. Run prophet with yearly_seasonality=True to override this.\n"
          ],
          "name": "stderr"
        },
        {
          "output_type": "stream",
          "text": [
            "sv_accuracy\n"
          ],
          "name": "stdout"
        },
        {
          "output_type": "stream",
          "text": [
            "INFO:fbprophet:Disabling yearly seasonality. Run prophet with yearly_seasonality=True to override this.\n"
          ],
          "name": "stderr"
        },
        {
          "output_type": "stream",
          "text": [
            "sv_health\n"
          ],
          "name": "stdout"
        },
        {
          "output_type": "stream",
          "text": [
            "INFO:fbprophet:Disabling yearly seasonality. Run prophet with yearly_seasonality=True to override this.\n"
          ],
          "name": "stderr"
        },
        {
          "output_type": "stream",
          "text": [
            "tgd\n"
          ],
          "name": "stdout"
        },
        {
          "output_type": "stream",
          "text": [
            "INFO:fbprophet:Disabling yearly seasonality. Run prophet with yearly_seasonality=True to override this.\n"
          ],
          "name": "stderr"
        },
        {
          "output_type": "stream",
          "text": [
            "iodc\n"
          ],
          "name": "stdout"
        },
        {
          "output_type": "stream",
          "text": [
            "INFO:fbprophet:Disabling yearly seasonality. Run prophet with yearly_seasonality=True to override this.\n"
          ],
          "name": "stderr"
        },
        {
          "output_type": "stream",
          "text": [
            "t_tx\n"
          ],
          "name": "stdout"
        },
        {
          "output_type": "stream",
          "text": [
            "INFO:fbprophet:Disabling yearly seasonality. Run prophet with yearly_seasonality=True to override this.\n"
          ],
          "name": "stderr"
        },
        {
          "output_type": "stream",
          "text": [
            "fit_interval\n"
          ],
          "name": "stdout"
        },
        {
          "output_type": "stream",
          "text": [
            "INFO:fbprophet:Disabling yearly seasonality. Run prophet with yearly_seasonality=True to override this.\n"
          ],
          "name": "stderr"
        },
        {
          "output_type": "stream",
          "text": [
            "0:01:02.521794\n",
            "24\n",
            "prn\n",
            "epoch_time\n",
            "sv_clock_bias\n"
          ],
          "name": "stdout"
        },
        {
          "output_type": "stream",
          "text": [
            "INFO:fbprophet:Disabling yearly seasonality. Run prophet with yearly_seasonality=True to override this.\n"
          ],
          "name": "stderr"
        },
        {
          "output_type": "stream",
          "text": [
            "sv_clock_drift\n"
          ],
          "name": "stdout"
        },
        {
          "output_type": "stream",
          "text": [
            "INFO:fbprophet:Disabling yearly seasonality. Run prophet with yearly_seasonality=True to override this.\n"
          ],
          "name": "stderr"
        },
        {
          "output_type": "stream",
          "text": [
            "sv_clock_drift_rate\n"
          ],
          "name": "stdout"
        },
        {
          "output_type": "stream",
          "text": [
            "INFO:fbprophet:Disabling yearly seasonality. Run prophet with yearly_seasonality=True to override this.\n"
          ],
          "name": "stderr"
        },
        {
          "output_type": "stream",
          "text": [
            "iode\n"
          ],
          "name": "stdout"
        },
        {
          "output_type": "stream",
          "text": [
            "INFO:fbprophet:Disabling yearly seasonality. Run prophet with yearly_seasonality=True to override this.\n"
          ],
          "name": "stderr"
        },
        {
          "output_type": "stream",
          "text": [
            "correction_radius_sine\n"
          ],
          "name": "stdout"
        },
        {
          "output_type": "stream",
          "text": [
            "INFO:fbprophet:Disabling yearly seasonality. Run prophet with yearly_seasonality=True to override this.\n"
          ],
          "name": "stderr"
        },
        {
          "output_type": "stream",
          "text": [
            "mean_motion\n"
          ],
          "name": "stdout"
        },
        {
          "output_type": "stream",
          "text": [
            "INFO:fbprophet:Disabling yearly seasonality. Run prophet with yearly_seasonality=True to override this.\n"
          ],
          "name": "stderr"
        },
        {
          "output_type": "stream",
          "text": [
            "mean_anomaly\n"
          ],
          "name": "stdout"
        },
        {
          "output_type": "stream",
          "text": [
            "INFO:fbprophet:Disabling yearly seasonality. Run prophet with yearly_seasonality=True to override this.\n"
          ],
          "name": "stderr"
        },
        {
          "output_type": "stream",
          "text": [
            "correction_latitude_cosine\n"
          ],
          "name": "stdout"
        },
        {
          "output_type": "stream",
          "text": [
            "INFO:fbprophet:Disabling yearly seasonality. Run prophet with yearly_seasonality=True to override this.\n"
          ],
          "name": "stderr"
        },
        {
          "output_type": "stream",
          "text": [
            "essentricity\n"
          ],
          "name": "stdout"
        },
        {
          "output_type": "stream",
          "text": [
            "INFO:fbprophet:Disabling yearly seasonality. Run prophet with yearly_seasonality=True to override this.\n"
          ],
          "name": "stderr"
        },
        {
          "output_type": "stream",
          "text": [
            "correction_latitude_sine\n"
          ],
          "name": "stdout"
        },
        {
          "output_type": "stream",
          "text": [
            "INFO:fbprophet:Disabling yearly seasonality. Run prophet with yearly_seasonality=True to override this.\n"
          ],
          "name": "stderr"
        },
        {
          "output_type": "stream",
          "text": [
            "sqrt_semi_major_axis\n"
          ],
          "name": "stdout"
        },
        {
          "output_type": "stream",
          "text": [
            "INFO:fbprophet:Disabling yearly seasonality. Run prophet with yearly_seasonality=True to override this.\n"
          ],
          "name": "stderr"
        },
        {
          "output_type": "stream",
          "text": [
            "time_of_ephemeris\n"
          ],
          "name": "stdout"
        },
        {
          "output_type": "stream",
          "text": [
            "INFO:fbprophet:Disabling yearly seasonality. Run prophet with yearly_seasonality=True to override this.\n"
          ],
          "name": "stderr"
        },
        {
          "output_type": "stream",
          "text": [
            "correction_inclination_cosine\n"
          ],
          "name": "stdout"
        },
        {
          "output_type": "stream",
          "text": [
            "INFO:fbprophet:Disabling yearly seasonality. Run prophet with yearly_seasonality=True to override this.\n"
          ],
          "name": "stderr"
        },
        {
          "output_type": "stream",
          "text": [
            "OMEGA\n"
          ],
          "name": "stdout"
        },
        {
          "output_type": "stream",
          "text": [
            "INFO:fbprophet:Disabling yearly seasonality. Run prophet with yearly_seasonality=True to override this.\n"
          ],
          "name": "stderr"
        },
        {
          "output_type": "stream",
          "text": [
            "correction_inclination_sine\n"
          ],
          "name": "stdout"
        },
        {
          "output_type": "stream",
          "text": [
            "INFO:fbprophet:Disabling yearly seasonality. Run prophet with yearly_seasonality=True to override this.\n"
          ],
          "name": "stderr"
        },
        {
          "output_type": "stream",
          "text": [
            "inclination\n"
          ],
          "name": "stdout"
        },
        {
          "output_type": "stream",
          "text": [
            "INFO:fbprophet:Disabling yearly seasonality. Run prophet with yearly_seasonality=True to override this.\n"
          ],
          "name": "stderr"
        },
        {
          "output_type": "stream",
          "text": [
            "correction_radius_cosine\n"
          ],
          "name": "stdout"
        },
        {
          "output_type": "stream",
          "text": [
            "INFO:fbprophet:Disabling yearly seasonality. Run prophet with yearly_seasonality=True to override this.\n"
          ],
          "name": "stderr"
        },
        {
          "output_type": "stream",
          "text": [
            "omega\n"
          ],
          "name": "stdout"
        },
        {
          "output_type": "stream",
          "text": [
            "INFO:fbprophet:Disabling yearly seasonality. Run prophet with yearly_seasonality=True to override this.\n"
          ],
          "name": "stderr"
        },
        {
          "output_type": "stream",
          "text": [
            "OMEGA_dot\n"
          ],
          "name": "stdout"
        },
        {
          "output_type": "stream",
          "text": [
            "INFO:fbprophet:Disabling yearly seasonality. Run prophet with yearly_seasonality=True to override this.\n"
          ],
          "name": "stderr"
        },
        {
          "output_type": "stream",
          "text": [
            "inclination_rate\n"
          ],
          "name": "stdout"
        },
        {
          "output_type": "stream",
          "text": [
            "INFO:fbprophet:Disabling yearly seasonality. Run prophet with yearly_seasonality=True to override this.\n"
          ],
          "name": "stderr"
        },
        {
          "output_type": "stream",
          "text": [
            "codes\n"
          ],
          "name": "stdout"
        },
        {
          "output_type": "stream",
          "text": [
            "INFO:fbprophet:Disabling yearly seasonality. Run prophet with yearly_seasonality=True to override this.\n"
          ],
          "name": "stderr"
        },
        {
          "output_type": "stream",
          "text": [
            "gps_week\n"
          ],
          "name": "stdout"
        },
        {
          "output_type": "stream",
          "text": [
            "INFO:fbprophet:Disabling yearly seasonality. Run prophet with yearly_seasonality=True to override this.\n"
          ],
          "name": "stderr"
        },
        {
          "output_type": "stream",
          "text": [
            "l2_p_data_flag\n"
          ],
          "name": "stdout"
        },
        {
          "output_type": "stream",
          "text": [
            "INFO:fbprophet:Disabling yearly seasonality. Run prophet with yearly_seasonality=True to override this.\n"
          ],
          "name": "stderr"
        },
        {
          "output_type": "stream",
          "text": [
            "sv_accuracy\n"
          ],
          "name": "stdout"
        },
        {
          "output_type": "stream",
          "text": [
            "INFO:fbprophet:Disabling yearly seasonality. Run prophet with yearly_seasonality=True to override this.\n"
          ],
          "name": "stderr"
        },
        {
          "output_type": "stream",
          "text": [
            "sv_health\n"
          ],
          "name": "stdout"
        },
        {
          "output_type": "stream",
          "text": [
            "INFO:fbprophet:Disabling yearly seasonality. Run prophet with yearly_seasonality=True to override this.\n"
          ],
          "name": "stderr"
        },
        {
          "output_type": "stream",
          "text": [
            "tgd\n"
          ],
          "name": "stdout"
        },
        {
          "output_type": "stream",
          "text": [
            "INFO:fbprophet:Disabling yearly seasonality. Run prophet with yearly_seasonality=True to override this.\n"
          ],
          "name": "stderr"
        },
        {
          "output_type": "stream",
          "text": [
            "iodc\n"
          ],
          "name": "stdout"
        },
        {
          "output_type": "stream",
          "text": [
            "INFO:fbprophet:Disabling yearly seasonality. Run prophet with yearly_seasonality=True to override this.\n"
          ],
          "name": "stderr"
        },
        {
          "output_type": "stream",
          "text": [
            "t_tx\n"
          ],
          "name": "stdout"
        },
        {
          "output_type": "stream",
          "text": [
            "INFO:fbprophet:Disabling yearly seasonality. Run prophet with yearly_seasonality=True to override this.\n"
          ],
          "name": "stderr"
        },
        {
          "output_type": "stream",
          "text": [
            "fit_interval\n"
          ],
          "name": "stdout"
        },
        {
          "output_type": "stream",
          "text": [
            "INFO:fbprophet:Disabling yearly seasonality. Run prophet with yearly_seasonality=True to override this.\n"
          ],
          "name": "stderr"
        },
        {
          "output_type": "stream",
          "text": [
            "0:01:02.614690\n",
            "19\n",
            "prn\n",
            "epoch_time\n",
            "sv_clock_bias\n"
          ],
          "name": "stdout"
        },
        {
          "output_type": "stream",
          "text": [
            "INFO:fbprophet:Disabling yearly seasonality. Run prophet with yearly_seasonality=True to override this.\n"
          ],
          "name": "stderr"
        },
        {
          "output_type": "stream",
          "text": [
            "sv_clock_drift\n"
          ],
          "name": "stdout"
        },
        {
          "output_type": "stream",
          "text": [
            "INFO:fbprophet:Disabling yearly seasonality. Run prophet with yearly_seasonality=True to override this.\n"
          ],
          "name": "stderr"
        },
        {
          "output_type": "stream",
          "text": [
            "sv_clock_drift_rate\n"
          ],
          "name": "stdout"
        },
        {
          "output_type": "stream",
          "text": [
            "INFO:fbprophet:Disabling yearly seasonality. Run prophet with yearly_seasonality=True to override this.\n"
          ],
          "name": "stderr"
        },
        {
          "output_type": "stream",
          "text": [
            "iode\n"
          ],
          "name": "stdout"
        },
        {
          "output_type": "stream",
          "text": [
            "INFO:fbprophet:Disabling yearly seasonality. Run prophet with yearly_seasonality=True to override this.\n"
          ],
          "name": "stderr"
        },
        {
          "output_type": "stream",
          "text": [
            "correction_radius_sine\n"
          ],
          "name": "stdout"
        },
        {
          "output_type": "stream",
          "text": [
            "INFO:fbprophet:Disabling yearly seasonality. Run prophet with yearly_seasonality=True to override this.\n"
          ],
          "name": "stderr"
        },
        {
          "output_type": "stream",
          "text": [
            "mean_motion\n"
          ],
          "name": "stdout"
        },
        {
          "output_type": "stream",
          "text": [
            "INFO:fbprophet:Disabling yearly seasonality. Run prophet with yearly_seasonality=True to override this.\n"
          ],
          "name": "stderr"
        },
        {
          "output_type": "stream",
          "text": [
            "mean_anomaly\n"
          ],
          "name": "stdout"
        },
        {
          "output_type": "stream",
          "text": [
            "INFO:fbprophet:Disabling yearly seasonality. Run prophet with yearly_seasonality=True to override this.\n"
          ],
          "name": "stderr"
        },
        {
          "output_type": "stream",
          "text": [
            "correction_latitude_cosine\n"
          ],
          "name": "stdout"
        },
        {
          "output_type": "stream",
          "text": [
            "INFO:fbprophet:Disabling yearly seasonality. Run prophet with yearly_seasonality=True to override this.\n"
          ],
          "name": "stderr"
        },
        {
          "output_type": "stream",
          "text": [
            "essentricity\n"
          ],
          "name": "stdout"
        },
        {
          "output_type": "stream",
          "text": [
            "INFO:fbprophet:Disabling yearly seasonality. Run prophet with yearly_seasonality=True to override this.\n"
          ],
          "name": "stderr"
        },
        {
          "output_type": "stream",
          "text": [
            "correction_latitude_sine\n"
          ],
          "name": "stdout"
        },
        {
          "output_type": "stream",
          "text": [
            "INFO:fbprophet:Disabling yearly seasonality. Run prophet with yearly_seasonality=True to override this.\n"
          ],
          "name": "stderr"
        },
        {
          "output_type": "stream",
          "text": [
            "sqrt_semi_major_axis\n"
          ],
          "name": "stdout"
        },
        {
          "output_type": "stream",
          "text": [
            "INFO:fbprophet:Disabling yearly seasonality. Run prophet with yearly_seasonality=True to override this.\n"
          ],
          "name": "stderr"
        },
        {
          "output_type": "stream",
          "text": [
            "time_of_ephemeris\n"
          ],
          "name": "stdout"
        },
        {
          "output_type": "stream",
          "text": [
            "INFO:fbprophet:Disabling yearly seasonality. Run prophet with yearly_seasonality=True to override this.\n"
          ],
          "name": "stderr"
        },
        {
          "output_type": "stream",
          "text": [
            "correction_inclination_cosine\n"
          ],
          "name": "stdout"
        },
        {
          "output_type": "stream",
          "text": [
            "INFO:fbprophet:Disabling yearly seasonality. Run prophet with yearly_seasonality=True to override this.\n"
          ],
          "name": "stderr"
        },
        {
          "output_type": "stream",
          "text": [
            "OMEGA\n"
          ],
          "name": "stdout"
        },
        {
          "output_type": "stream",
          "text": [
            "INFO:fbprophet:Disabling yearly seasonality. Run prophet with yearly_seasonality=True to override this.\n"
          ],
          "name": "stderr"
        },
        {
          "output_type": "stream",
          "text": [
            "correction_inclination_sine\n"
          ],
          "name": "stdout"
        },
        {
          "output_type": "stream",
          "text": [
            "INFO:fbprophet:Disabling yearly seasonality. Run prophet with yearly_seasonality=True to override this.\n"
          ],
          "name": "stderr"
        },
        {
          "output_type": "stream",
          "text": [
            "inclination\n"
          ],
          "name": "stdout"
        },
        {
          "output_type": "stream",
          "text": [
            "INFO:fbprophet:Disabling yearly seasonality. Run prophet with yearly_seasonality=True to override this.\n"
          ],
          "name": "stderr"
        },
        {
          "output_type": "stream",
          "text": [
            "correction_radius_cosine\n"
          ],
          "name": "stdout"
        },
        {
          "output_type": "stream",
          "text": [
            "INFO:fbprophet:Disabling yearly seasonality. Run prophet with yearly_seasonality=True to override this.\n"
          ],
          "name": "stderr"
        },
        {
          "output_type": "stream",
          "text": [
            "omega\n"
          ],
          "name": "stdout"
        },
        {
          "output_type": "stream",
          "text": [
            "INFO:fbprophet:Disabling yearly seasonality. Run prophet with yearly_seasonality=True to override this.\n"
          ],
          "name": "stderr"
        },
        {
          "output_type": "stream",
          "text": [
            "OMEGA_dot\n"
          ],
          "name": "stdout"
        },
        {
          "output_type": "stream",
          "text": [
            "INFO:fbprophet:Disabling yearly seasonality. Run prophet with yearly_seasonality=True to override this.\n"
          ],
          "name": "stderr"
        },
        {
          "output_type": "stream",
          "text": [
            "inclination_rate\n"
          ],
          "name": "stdout"
        },
        {
          "output_type": "stream",
          "text": [
            "INFO:fbprophet:Disabling yearly seasonality. Run prophet with yearly_seasonality=True to override this.\n"
          ],
          "name": "stderr"
        },
        {
          "output_type": "stream",
          "text": [
            "codes\n"
          ],
          "name": "stdout"
        },
        {
          "output_type": "stream",
          "text": [
            "INFO:fbprophet:Disabling yearly seasonality. Run prophet with yearly_seasonality=True to override this.\n"
          ],
          "name": "stderr"
        },
        {
          "output_type": "stream",
          "text": [
            "gps_week\n"
          ],
          "name": "stdout"
        },
        {
          "output_type": "stream",
          "text": [
            "INFO:fbprophet:Disabling yearly seasonality. Run prophet with yearly_seasonality=True to override this.\n"
          ],
          "name": "stderr"
        },
        {
          "output_type": "stream",
          "text": [
            "l2_p_data_flag\n"
          ],
          "name": "stdout"
        },
        {
          "output_type": "stream",
          "text": [
            "INFO:fbprophet:Disabling yearly seasonality. Run prophet with yearly_seasonality=True to override this.\n"
          ],
          "name": "stderr"
        },
        {
          "output_type": "stream",
          "text": [
            "sv_accuracy\n"
          ],
          "name": "stdout"
        },
        {
          "output_type": "stream",
          "text": [
            "INFO:fbprophet:Disabling yearly seasonality. Run prophet with yearly_seasonality=True to override this.\n"
          ],
          "name": "stderr"
        },
        {
          "output_type": "stream",
          "text": [
            "sv_health\n"
          ],
          "name": "stdout"
        },
        {
          "output_type": "stream",
          "text": [
            "INFO:fbprophet:Disabling yearly seasonality. Run prophet with yearly_seasonality=True to override this.\n"
          ],
          "name": "stderr"
        },
        {
          "output_type": "stream",
          "text": [
            "tgd\n"
          ],
          "name": "stdout"
        },
        {
          "output_type": "stream",
          "text": [
            "INFO:fbprophet:Disabling yearly seasonality. Run prophet with yearly_seasonality=True to override this.\n"
          ],
          "name": "stderr"
        },
        {
          "output_type": "stream",
          "text": [
            "iodc\n"
          ],
          "name": "stdout"
        },
        {
          "output_type": "stream",
          "text": [
            "INFO:fbprophet:Disabling yearly seasonality. Run prophet with yearly_seasonality=True to override this.\n"
          ],
          "name": "stderr"
        },
        {
          "output_type": "stream",
          "text": [
            "t_tx\n"
          ],
          "name": "stdout"
        },
        {
          "output_type": "stream",
          "text": [
            "INFO:fbprophet:Disabling yearly seasonality. Run prophet with yearly_seasonality=True to override this.\n"
          ],
          "name": "stderr"
        },
        {
          "output_type": "stream",
          "text": [
            "fit_interval\n"
          ],
          "name": "stdout"
        },
        {
          "output_type": "stream",
          "text": [
            "INFO:fbprophet:Disabling yearly seasonality. Run prophet with yearly_seasonality=True to override this.\n"
          ],
          "name": "stderr"
        },
        {
          "output_type": "stream",
          "text": [
            "0:01:02.396096\n",
            "13\n",
            "prn\n",
            "epoch_time\n",
            "sv_clock_bias\n"
          ],
          "name": "stdout"
        },
        {
          "output_type": "stream",
          "text": [
            "INFO:fbprophet:Disabling yearly seasonality. Run prophet with yearly_seasonality=True to override this.\n"
          ],
          "name": "stderr"
        },
        {
          "output_type": "stream",
          "text": [
            "sv_clock_drift\n"
          ],
          "name": "stdout"
        },
        {
          "output_type": "stream",
          "text": [
            "INFO:fbprophet:Disabling yearly seasonality. Run prophet with yearly_seasonality=True to override this.\n"
          ],
          "name": "stderr"
        },
        {
          "output_type": "stream",
          "text": [
            "sv_clock_drift_rate\n"
          ],
          "name": "stdout"
        },
        {
          "output_type": "stream",
          "text": [
            "INFO:fbprophet:Disabling yearly seasonality. Run prophet with yearly_seasonality=True to override this.\n"
          ],
          "name": "stderr"
        },
        {
          "output_type": "stream",
          "text": [
            "iode\n"
          ],
          "name": "stdout"
        },
        {
          "output_type": "stream",
          "text": [
            "INFO:fbprophet:Disabling yearly seasonality. Run prophet with yearly_seasonality=True to override this.\n"
          ],
          "name": "stderr"
        },
        {
          "output_type": "stream",
          "text": [
            "correction_radius_sine\n"
          ],
          "name": "stdout"
        },
        {
          "output_type": "stream",
          "text": [
            "INFO:fbprophet:Disabling yearly seasonality. Run prophet with yearly_seasonality=True to override this.\n"
          ],
          "name": "stderr"
        },
        {
          "output_type": "stream",
          "text": [
            "mean_motion\n"
          ],
          "name": "stdout"
        },
        {
          "output_type": "stream",
          "text": [
            "INFO:fbprophet:Disabling yearly seasonality. Run prophet with yearly_seasonality=True to override this.\n"
          ],
          "name": "stderr"
        },
        {
          "output_type": "stream",
          "text": [
            "mean_anomaly\n"
          ],
          "name": "stdout"
        },
        {
          "output_type": "stream",
          "text": [
            "INFO:fbprophet:Disabling yearly seasonality. Run prophet with yearly_seasonality=True to override this.\n"
          ],
          "name": "stderr"
        },
        {
          "output_type": "stream",
          "text": [
            "correction_latitude_cosine\n"
          ],
          "name": "stdout"
        },
        {
          "output_type": "stream",
          "text": [
            "INFO:fbprophet:Disabling yearly seasonality. Run prophet with yearly_seasonality=True to override this.\n"
          ],
          "name": "stderr"
        },
        {
          "output_type": "stream",
          "text": [
            "essentricity\n"
          ],
          "name": "stdout"
        },
        {
          "output_type": "stream",
          "text": [
            "INFO:fbprophet:Disabling yearly seasonality. Run prophet with yearly_seasonality=True to override this.\n"
          ],
          "name": "stderr"
        },
        {
          "output_type": "stream",
          "text": [
            "correction_latitude_sine\n"
          ],
          "name": "stdout"
        },
        {
          "output_type": "stream",
          "text": [
            "INFO:fbprophet:Disabling yearly seasonality. Run prophet with yearly_seasonality=True to override this.\n"
          ],
          "name": "stderr"
        },
        {
          "output_type": "stream",
          "text": [
            "sqrt_semi_major_axis\n"
          ],
          "name": "stdout"
        },
        {
          "output_type": "stream",
          "text": [
            "INFO:fbprophet:Disabling yearly seasonality. Run prophet with yearly_seasonality=True to override this.\n"
          ],
          "name": "stderr"
        },
        {
          "output_type": "stream",
          "text": [
            "time_of_ephemeris\n"
          ],
          "name": "stdout"
        },
        {
          "output_type": "stream",
          "text": [
            "INFO:fbprophet:Disabling yearly seasonality. Run prophet with yearly_seasonality=True to override this.\n"
          ],
          "name": "stderr"
        },
        {
          "output_type": "stream",
          "text": [
            "correction_inclination_cosine\n"
          ],
          "name": "stdout"
        },
        {
          "output_type": "stream",
          "text": [
            "INFO:fbprophet:Disabling yearly seasonality. Run prophet with yearly_seasonality=True to override this.\n"
          ],
          "name": "stderr"
        },
        {
          "output_type": "stream",
          "text": [
            "OMEGA\n"
          ],
          "name": "stdout"
        },
        {
          "output_type": "stream",
          "text": [
            "INFO:fbprophet:Disabling yearly seasonality. Run prophet with yearly_seasonality=True to override this.\n"
          ],
          "name": "stderr"
        },
        {
          "output_type": "stream",
          "text": [
            "correction_inclination_sine\n"
          ],
          "name": "stdout"
        },
        {
          "output_type": "stream",
          "text": [
            "INFO:fbprophet:Disabling yearly seasonality. Run prophet with yearly_seasonality=True to override this.\n"
          ],
          "name": "stderr"
        },
        {
          "output_type": "stream",
          "text": [
            "inclination\n"
          ],
          "name": "stdout"
        },
        {
          "output_type": "stream",
          "text": [
            "INFO:fbprophet:Disabling yearly seasonality. Run prophet with yearly_seasonality=True to override this.\n"
          ],
          "name": "stderr"
        },
        {
          "output_type": "stream",
          "text": [
            "correction_radius_cosine\n"
          ],
          "name": "stdout"
        },
        {
          "output_type": "stream",
          "text": [
            "INFO:fbprophet:Disabling yearly seasonality. Run prophet with yearly_seasonality=True to override this.\n"
          ],
          "name": "stderr"
        },
        {
          "output_type": "stream",
          "text": [
            "omega\n"
          ],
          "name": "stdout"
        },
        {
          "output_type": "stream",
          "text": [
            "INFO:fbprophet:Disabling yearly seasonality. Run prophet with yearly_seasonality=True to override this.\n"
          ],
          "name": "stderr"
        },
        {
          "output_type": "stream",
          "text": [
            "OMEGA_dot\n"
          ],
          "name": "stdout"
        },
        {
          "output_type": "stream",
          "text": [
            "INFO:fbprophet:Disabling yearly seasonality. Run prophet with yearly_seasonality=True to override this.\n"
          ],
          "name": "stderr"
        },
        {
          "output_type": "stream",
          "text": [
            "inclination_rate\n"
          ],
          "name": "stdout"
        },
        {
          "output_type": "stream",
          "text": [
            "INFO:fbprophet:Disabling yearly seasonality. Run prophet with yearly_seasonality=True to override this.\n"
          ],
          "name": "stderr"
        },
        {
          "output_type": "stream",
          "text": [
            "codes\n"
          ],
          "name": "stdout"
        },
        {
          "output_type": "stream",
          "text": [
            "INFO:fbprophet:Disabling yearly seasonality. Run prophet with yearly_seasonality=True to override this.\n"
          ],
          "name": "stderr"
        },
        {
          "output_type": "stream",
          "text": [
            "gps_week\n"
          ],
          "name": "stdout"
        },
        {
          "output_type": "stream",
          "text": [
            "INFO:fbprophet:Disabling yearly seasonality. Run prophet with yearly_seasonality=True to override this.\n"
          ],
          "name": "stderr"
        },
        {
          "output_type": "stream",
          "text": [
            "l2_p_data_flag\n"
          ],
          "name": "stdout"
        },
        {
          "output_type": "stream",
          "text": [
            "INFO:fbprophet:Disabling yearly seasonality. Run prophet with yearly_seasonality=True to override this.\n"
          ],
          "name": "stderr"
        },
        {
          "output_type": "stream",
          "text": [
            "sv_accuracy\n"
          ],
          "name": "stdout"
        },
        {
          "output_type": "stream",
          "text": [
            "INFO:fbprophet:Disabling yearly seasonality. Run prophet with yearly_seasonality=True to override this.\n"
          ],
          "name": "stderr"
        },
        {
          "output_type": "stream",
          "text": [
            "sv_health\n"
          ],
          "name": "stdout"
        },
        {
          "output_type": "stream",
          "text": [
            "INFO:fbprophet:Disabling yearly seasonality. Run prophet with yearly_seasonality=True to override this.\n"
          ],
          "name": "stderr"
        },
        {
          "output_type": "stream",
          "text": [
            "tgd\n"
          ],
          "name": "stdout"
        },
        {
          "output_type": "stream",
          "text": [
            "INFO:fbprophet:Disabling yearly seasonality. Run prophet with yearly_seasonality=True to override this.\n"
          ],
          "name": "stderr"
        },
        {
          "output_type": "stream",
          "text": [
            "iodc\n"
          ],
          "name": "stdout"
        },
        {
          "output_type": "stream",
          "text": [
            "INFO:fbprophet:Disabling yearly seasonality. Run prophet with yearly_seasonality=True to override this.\n"
          ],
          "name": "stderr"
        },
        {
          "output_type": "stream",
          "text": [
            "t_tx\n"
          ],
          "name": "stdout"
        },
        {
          "output_type": "stream",
          "text": [
            "INFO:fbprophet:Disabling yearly seasonality. Run prophet with yearly_seasonality=True to override this.\n"
          ],
          "name": "stderr"
        },
        {
          "output_type": "stream",
          "text": [
            "fit_interval\n"
          ],
          "name": "stdout"
        },
        {
          "output_type": "stream",
          "text": [
            "INFO:fbprophet:Disabling yearly seasonality. Run prophet with yearly_seasonality=True to override this.\n"
          ],
          "name": "stderr"
        },
        {
          "output_type": "stream",
          "text": [
            "0:01:03.405720\n",
            "5\n",
            "prn\n",
            "epoch_time\n",
            "sv_clock_bias\n"
          ],
          "name": "stdout"
        },
        {
          "output_type": "stream",
          "text": [
            "INFO:fbprophet:Disabling yearly seasonality. Run prophet with yearly_seasonality=True to override this.\n"
          ],
          "name": "stderr"
        },
        {
          "output_type": "stream",
          "text": [
            "sv_clock_drift\n"
          ],
          "name": "stdout"
        },
        {
          "output_type": "stream",
          "text": [
            "INFO:fbprophet:Disabling yearly seasonality. Run prophet with yearly_seasonality=True to override this.\n"
          ],
          "name": "stderr"
        },
        {
          "output_type": "stream",
          "text": [
            "sv_clock_drift_rate\n"
          ],
          "name": "stdout"
        },
        {
          "output_type": "stream",
          "text": [
            "INFO:fbprophet:Disabling yearly seasonality. Run prophet with yearly_seasonality=True to override this.\n"
          ],
          "name": "stderr"
        },
        {
          "output_type": "stream",
          "text": [
            "iode\n"
          ],
          "name": "stdout"
        },
        {
          "output_type": "stream",
          "text": [
            "INFO:fbprophet:Disabling yearly seasonality. Run prophet with yearly_seasonality=True to override this.\n"
          ],
          "name": "stderr"
        },
        {
          "output_type": "stream",
          "text": [
            "correction_radius_sine\n"
          ],
          "name": "stdout"
        },
        {
          "output_type": "stream",
          "text": [
            "INFO:fbprophet:Disabling yearly seasonality. Run prophet with yearly_seasonality=True to override this.\n"
          ],
          "name": "stderr"
        },
        {
          "output_type": "stream",
          "text": [
            "mean_motion\n"
          ],
          "name": "stdout"
        },
        {
          "output_type": "stream",
          "text": [
            "INFO:fbprophet:Disabling yearly seasonality. Run prophet with yearly_seasonality=True to override this.\n"
          ],
          "name": "stderr"
        },
        {
          "output_type": "stream",
          "text": [
            "mean_anomaly\n"
          ],
          "name": "stdout"
        },
        {
          "output_type": "stream",
          "text": [
            "INFO:fbprophet:Disabling yearly seasonality. Run prophet with yearly_seasonality=True to override this.\n"
          ],
          "name": "stderr"
        },
        {
          "output_type": "stream",
          "text": [
            "correction_latitude_cosine\n"
          ],
          "name": "stdout"
        },
        {
          "output_type": "stream",
          "text": [
            "INFO:fbprophet:Disabling yearly seasonality. Run prophet with yearly_seasonality=True to override this.\n"
          ],
          "name": "stderr"
        },
        {
          "output_type": "stream",
          "text": [
            "essentricity\n"
          ],
          "name": "stdout"
        },
        {
          "output_type": "stream",
          "text": [
            "INFO:fbprophet:Disabling yearly seasonality. Run prophet with yearly_seasonality=True to override this.\n"
          ],
          "name": "stderr"
        },
        {
          "output_type": "stream",
          "text": [
            "correction_latitude_sine\n"
          ],
          "name": "stdout"
        },
        {
          "output_type": "stream",
          "text": [
            "INFO:fbprophet:Disabling yearly seasonality. Run prophet with yearly_seasonality=True to override this.\n"
          ],
          "name": "stderr"
        },
        {
          "output_type": "stream",
          "text": [
            "sqrt_semi_major_axis\n"
          ],
          "name": "stdout"
        },
        {
          "output_type": "stream",
          "text": [
            "INFO:fbprophet:Disabling yearly seasonality. Run prophet with yearly_seasonality=True to override this.\n"
          ],
          "name": "stderr"
        },
        {
          "output_type": "stream",
          "text": [
            "time_of_ephemeris\n"
          ],
          "name": "stdout"
        },
        {
          "output_type": "stream",
          "text": [
            "INFO:fbprophet:Disabling yearly seasonality. Run prophet with yearly_seasonality=True to override this.\n"
          ],
          "name": "stderr"
        },
        {
          "output_type": "stream",
          "text": [
            "correction_inclination_cosine\n"
          ],
          "name": "stdout"
        },
        {
          "output_type": "stream",
          "text": [
            "INFO:fbprophet:Disabling yearly seasonality. Run prophet with yearly_seasonality=True to override this.\n"
          ],
          "name": "stderr"
        },
        {
          "output_type": "stream",
          "text": [
            "OMEGA\n"
          ],
          "name": "stdout"
        },
        {
          "output_type": "stream",
          "text": [
            "INFO:fbprophet:Disabling yearly seasonality. Run prophet with yearly_seasonality=True to override this.\n"
          ],
          "name": "stderr"
        },
        {
          "output_type": "stream",
          "text": [
            "correction_inclination_sine\n"
          ],
          "name": "stdout"
        },
        {
          "output_type": "stream",
          "text": [
            "INFO:fbprophet:Disabling yearly seasonality. Run prophet with yearly_seasonality=True to override this.\n"
          ],
          "name": "stderr"
        },
        {
          "output_type": "stream",
          "text": [
            "inclination\n"
          ],
          "name": "stdout"
        },
        {
          "output_type": "stream",
          "text": [
            "INFO:fbprophet:Disabling yearly seasonality. Run prophet with yearly_seasonality=True to override this.\n"
          ],
          "name": "stderr"
        },
        {
          "output_type": "stream",
          "text": [
            "correction_radius_cosine\n"
          ],
          "name": "stdout"
        },
        {
          "output_type": "stream",
          "text": [
            "INFO:fbprophet:Disabling yearly seasonality. Run prophet with yearly_seasonality=True to override this.\n"
          ],
          "name": "stderr"
        },
        {
          "output_type": "stream",
          "text": [
            "omega\n"
          ],
          "name": "stdout"
        },
        {
          "output_type": "stream",
          "text": [
            "INFO:fbprophet:Disabling yearly seasonality. Run prophet with yearly_seasonality=True to override this.\n"
          ],
          "name": "stderr"
        },
        {
          "output_type": "stream",
          "text": [
            "OMEGA_dot\n"
          ],
          "name": "stdout"
        },
        {
          "output_type": "stream",
          "text": [
            "INFO:fbprophet:Disabling yearly seasonality. Run prophet with yearly_seasonality=True to override this.\n"
          ],
          "name": "stderr"
        },
        {
          "output_type": "stream",
          "text": [
            "inclination_rate\n"
          ],
          "name": "stdout"
        },
        {
          "output_type": "stream",
          "text": [
            "INFO:fbprophet:Disabling yearly seasonality. Run prophet with yearly_seasonality=True to override this.\n"
          ],
          "name": "stderr"
        },
        {
          "output_type": "stream",
          "text": [
            "codes\n"
          ],
          "name": "stdout"
        },
        {
          "output_type": "stream",
          "text": [
            "INFO:fbprophet:Disabling yearly seasonality. Run prophet with yearly_seasonality=True to override this.\n"
          ],
          "name": "stderr"
        },
        {
          "output_type": "stream",
          "text": [
            "gps_week\n"
          ],
          "name": "stdout"
        },
        {
          "output_type": "stream",
          "text": [
            "INFO:fbprophet:Disabling yearly seasonality. Run prophet with yearly_seasonality=True to override this.\n"
          ],
          "name": "stderr"
        },
        {
          "output_type": "stream",
          "text": [
            "l2_p_data_flag\n"
          ],
          "name": "stdout"
        },
        {
          "output_type": "stream",
          "text": [
            "INFO:fbprophet:Disabling yearly seasonality. Run prophet with yearly_seasonality=True to override this.\n"
          ],
          "name": "stderr"
        },
        {
          "output_type": "stream",
          "text": [
            "sv_accuracy\n"
          ],
          "name": "stdout"
        },
        {
          "output_type": "stream",
          "text": [
            "INFO:fbprophet:Disabling yearly seasonality. Run prophet with yearly_seasonality=True to override this.\n"
          ],
          "name": "stderr"
        },
        {
          "output_type": "stream",
          "text": [
            "sv_health\n"
          ],
          "name": "stdout"
        },
        {
          "output_type": "stream",
          "text": [
            "INFO:fbprophet:Disabling yearly seasonality. Run prophet with yearly_seasonality=True to override this.\n"
          ],
          "name": "stderr"
        },
        {
          "output_type": "stream",
          "text": [
            "tgd\n"
          ],
          "name": "stdout"
        },
        {
          "output_type": "stream",
          "text": [
            "INFO:fbprophet:Disabling yearly seasonality. Run prophet with yearly_seasonality=True to override this.\n"
          ],
          "name": "stderr"
        },
        {
          "output_type": "stream",
          "text": [
            "iodc\n"
          ],
          "name": "stdout"
        },
        {
          "output_type": "stream",
          "text": [
            "INFO:fbprophet:Disabling yearly seasonality. Run prophet with yearly_seasonality=True to override this.\n"
          ],
          "name": "stderr"
        },
        {
          "output_type": "stream",
          "text": [
            "t_tx\n"
          ],
          "name": "stdout"
        },
        {
          "output_type": "stream",
          "text": [
            "INFO:fbprophet:Disabling yearly seasonality. Run prophet with yearly_seasonality=True to override this.\n"
          ],
          "name": "stderr"
        },
        {
          "output_type": "stream",
          "text": [
            "fit_interval\n"
          ],
          "name": "stdout"
        },
        {
          "output_type": "stream",
          "text": [
            "INFO:fbprophet:Disabling yearly seasonality. Run prophet with yearly_seasonality=True to override this.\n"
          ],
          "name": "stderr"
        },
        {
          "output_type": "stream",
          "text": [
            "0:01:02.717533\n",
            "12\n",
            "prn\n",
            "epoch_time\n",
            "sv_clock_bias\n"
          ],
          "name": "stdout"
        },
        {
          "output_type": "stream",
          "text": [
            "INFO:fbprophet:Disabling yearly seasonality. Run prophet with yearly_seasonality=True to override this.\n"
          ],
          "name": "stderr"
        },
        {
          "output_type": "stream",
          "text": [
            "sv_clock_drift\n"
          ],
          "name": "stdout"
        },
        {
          "output_type": "stream",
          "text": [
            "INFO:fbprophet:Disabling yearly seasonality. Run prophet with yearly_seasonality=True to override this.\n"
          ],
          "name": "stderr"
        },
        {
          "output_type": "stream",
          "text": [
            "sv_clock_drift_rate\n"
          ],
          "name": "stdout"
        },
        {
          "output_type": "stream",
          "text": [
            "INFO:fbprophet:Disabling yearly seasonality. Run prophet with yearly_seasonality=True to override this.\n"
          ],
          "name": "stderr"
        },
        {
          "output_type": "stream",
          "text": [
            "iode\n"
          ],
          "name": "stdout"
        },
        {
          "output_type": "stream",
          "text": [
            "INFO:fbprophet:Disabling yearly seasonality. Run prophet with yearly_seasonality=True to override this.\n"
          ],
          "name": "stderr"
        },
        {
          "output_type": "stream",
          "text": [
            "correction_radius_sine\n"
          ],
          "name": "stdout"
        },
        {
          "output_type": "stream",
          "text": [
            "INFO:fbprophet:Disabling yearly seasonality. Run prophet with yearly_seasonality=True to override this.\n"
          ],
          "name": "stderr"
        },
        {
          "output_type": "stream",
          "text": [
            "mean_motion\n"
          ],
          "name": "stdout"
        },
        {
          "output_type": "stream",
          "text": [
            "INFO:fbprophet:Disabling yearly seasonality. Run prophet with yearly_seasonality=True to override this.\n"
          ],
          "name": "stderr"
        },
        {
          "output_type": "stream",
          "text": [
            "mean_anomaly\n"
          ],
          "name": "stdout"
        },
        {
          "output_type": "stream",
          "text": [
            "INFO:fbprophet:Disabling yearly seasonality. Run prophet with yearly_seasonality=True to override this.\n"
          ],
          "name": "stderr"
        },
        {
          "output_type": "stream",
          "text": [
            "correction_latitude_cosine\n"
          ],
          "name": "stdout"
        },
        {
          "output_type": "stream",
          "text": [
            "INFO:fbprophet:Disabling yearly seasonality. Run prophet with yearly_seasonality=True to override this.\n"
          ],
          "name": "stderr"
        },
        {
          "output_type": "stream",
          "text": [
            "essentricity\n"
          ],
          "name": "stdout"
        },
        {
          "output_type": "stream",
          "text": [
            "INFO:fbprophet:Disabling yearly seasonality. Run prophet with yearly_seasonality=True to override this.\n"
          ],
          "name": "stderr"
        },
        {
          "output_type": "stream",
          "text": [
            "correction_latitude_sine\n"
          ],
          "name": "stdout"
        },
        {
          "output_type": "stream",
          "text": [
            "INFO:fbprophet:Disabling yearly seasonality. Run prophet with yearly_seasonality=True to override this.\n"
          ],
          "name": "stderr"
        },
        {
          "output_type": "stream",
          "text": [
            "sqrt_semi_major_axis\n"
          ],
          "name": "stdout"
        },
        {
          "output_type": "stream",
          "text": [
            "INFO:fbprophet:Disabling yearly seasonality. Run prophet with yearly_seasonality=True to override this.\n"
          ],
          "name": "stderr"
        },
        {
          "output_type": "stream",
          "text": [
            "time_of_ephemeris\n"
          ],
          "name": "stdout"
        },
        {
          "output_type": "stream",
          "text": [
            "INFO:fbprophet:Disabling yearly seasonality. Run prophet with yearly_seasonality=True to override this.\n"
          ],
          "name": "stderr"
        },
        {
          "output_type": "stream",
          "text": [
            "correction_inclination_cosine\n"
          ],
          "name": "stdout"
        },
        {
          "output_type": "stream",
          "text": [
            "INFO:fbprophet:Disabling yearly seasonality. Run prophet with yearly_seasonality=True to override this.\n"
          ],
          "name": "stderr"
        },
        {
          "output_type": "stream",
          "text": [
            "OMEGA\n"
          ],
          "name": "stdout"
        },
        {
          "output_type": "stream",
          "text": [
            "INFO:fbprophet:Disabling yearly seasonality. Run prophet with yearly_seasonality=True to override this.\n"
          ],
          "name": "stderr"
        },
        {
          "output_type": "stream",
          "text": [
            "correction_inclination_sine\n"
          ],
          "name": "stdout"
        },
        {
          "output_type": "stream",
          "text": [
            "INFO:fbprophet:Disabling yearly seasonality. Run prophet with yearly_seasonality=True to override this.\n"
          ],
          "name": "stderr"
        },
        {
          "output_type": "stream",
          "text": [
            "inclination\n"
          ],
          "name": "stdout"
        },
        {
          "output_type": "stream",
          "text": [
            "INFO:fbprophet:Disabling yearly seasonality. Run prophet with yearly_seasonality=True to override this.\n"
          ],
          "name": "stderr"
        },
        {
          "output_type": "stream",
          "text": [
            "correction_radius_cosine\n"
          ],
          "name": "stdout"
        },
        {
          "output_type": "stream",
          "text": [
            "INFO:fbprophet:Disabling yearly seasonality. Run prophet with yearly_seasonality=True to override this.\n"
          ],
          "name": "stderr"
        },
        {
          "output_type": "stream",
          "text": [
            "omega\n"
          ],
          "name": "stdout"
        },
        {
          "output_type": "stream",
          "text": [
            "INFO:fbprophet:Disabling yearly seasonality. Run prophet with yearly_seasonality=True to override this.\n"
          ],
          "name": "stderr"
        },
        {
          "output_type": "stream",
          "text": [
            "OMEGA_dot\n"
          ],
          "name": "stdout"
        },
        {
          "output_type": "stream",
          "text": [
            "INFO:fbprophet:Disabling yearly seasonality. Run prophet with yearly_seasonality=True to override this.\n"
          ],
          "name": "stderr"
        },
        {
          "output_type": "stream",
          "text": [
            "inclination_rate\n"
          ],
          "name": "stdout"
        },
        {
          "output_type": "stream",
          "text": [
            "INFO:fbprophet:Disabling yearly seasonality. Run prophet with yearly_seasonality=True to override this.\n"
          ],
          "name": "stderr"
        },
        {
          "output_type": "stream",
          "text": [
            "codes\n"
          ],
          "name": "stdout"
        },
        {
          "output_type": "stream",
          "text": [
            "INFO:fbprophet:Disabling yearly seasonality. Run prophet with yearly_seasonality=True to override this.\n"
          ],
          "name": "stderr"
        },
        {
          "output_type": "stream",
          "text": [
            "gps_week\n"
          ],
          "name": "stdout"
        },
        {
          "output_type": "stream",
          "text": [
            "INFO:fbprophet:Disabling yearly seasonality. Run prophet with yearly_seasonality=True to override this.\n"
          ],
          "name": "stderr"
        },
        {
          "output_type": "stream",
          "text": [
            "l2_p_data_flag\n"
          ],
          "name": "stdout"
        },
        {
          "output_type": "stream",
          "text": [
            "INFO:fbprophet:Disabling yearly seasonality. Run prophet with yearly_seasonality=True to override this.\n"
          ],
          "name": "stderr"
        },
        {
          "output_type": "stream",
          "text": [
            "sv_accuracy\n"
          ],
          "name": "stdout"
        },
        {
          "output_type": "stream",
          "text": [
            "INFO:fbprophet:Disabling yearly seasonality. Run prophet with yearly_seasonality=True to override this.\n"
          ],
          "name": "stderr"
        },
        {
          "output_type": "stream",
          "text": [
            "sv_health\n"
          ],
          "name": "stdout"
        },
        {
          "output_type": "stream",
          "text": [
            "INFO:fbprophet:Disabling yearly seasonality. Run prophet with yearly_seasonality=True to override this.\n"
          ],
          "name": "stderr"
        },
        {
          "output_type": "stream",
          "text": [
            "tgd\n"
          ],
          "name": "stdout"
        },
        {
          "output_type": "stream",
          "text": [
            "INFO:fbprophet:Disabling yearly seasonality. Run prophet with yearly_seasonality=True to override this.\n"
          ],
          "name": "stderr"
        },
        {
          "output_type": "stream",
          "text": [
            "iodc\n"
          ],
          "name": "stdout"
        },
        {
          "output_type": "stream",
          "text": [
            "INFO:fbprophet:Disabling yearly seasonality. Run prophet with yearly_seasonality=True to override this.\n"
          ],
          "name": "stderr"
        },
        {
          "output_type": "stream",
          "text": [
            "t_tx\n"
          ],
          "name": "stdout"
        },
        {
          "output_type": "stream",
          "text": [
            "INFO:fbprophet:Disabling yearly seasonality. Run prophet with yearly_seasonality=True to override this.\n"
          ],
          "name": "stderr"
        },
        {
          "output_type": "stream",
          "text": [
            "fit_interval\n"
          ],
          "name": "stdout"
        },
        {
          "output_type": "stream",
          "text": [
            "INFO:fbprophet:Disabling yearly seasonality. Run prophet with yearly_seasonality=True to override this.\n"
          ],
          "name": "stderr"
        },
        {
          "output_type": "stream",
          "text": [
            "0:01:01.888238\n",
            "29\n",
            "prn\n",
            "epoch_time\n",
            "sv_clock_bias\n"
          ],
          "name": "stdout"
        },
        {
          "output_type": "stream",
          "text": [
            "INFO:fbprophet:Disabling yearly seasonality. Run prophet with yearly_seasonality=True to override this.\n"
          ],
          "name": "stderr"
        },
        {
          "output_type": "stream",
          "text": [
            "sv_clock_drift\n"
          ],
          "name": "stdout"
        },
        {
          "output_type": "stream",
          "text": [
            "INFO:fbprophet:Disabling yearly seasonality. Run prophet with yearly_seasonality=True to override this.\n"
          ],
          "name": "stderr"
        },
        {
          "output_type": "stream",
          "text": [
            "sv_clock_drift_rate\n"
          ],
          "name": "stdout"
        },
        {
          "output_type": "stream",
          "text": [
            "INFO:fbprophet:Disabling yearly seasonality. Run prophet with yearly_seasonality=True to override this.\n"
          ],
          "name": "stderr"
        },
        {
          "output_type": "stream",
          "text": [
            "iode\n"
          ],
          "name": "stdout"
        },
        {
          "output_type": "stream",
          "text": [
            "INFO:fbprophet:Disabling yearly seasonality. Run prophet with yearly_seasonality=True to override this.\n"
          ],
          "name": "stderr"
        },
        {
          "output_type": "stream",
          "text": [
            "correction_radius_sine\n"
          ],
          "name": "stdout"
        },
        {
          "output_type": "stream",
          "text": [
            "INFO:fbprophet:Disabling yearly seasonality. Run prophet with yearly_seasonality=True to override this.\n"
          ],
          "name": "stderr"
        },
        {
          "output_type": "stream",
          "text": [
            "mean_motion\n"
          ],
          "name": "stdout"
        },
        {
          "output_type": "stream",
          "text": [
            "INFO:fbprophet:Disabling yearly seasonality. Run prophet with yearly_seasonality=True to override this.\n"
          ],
          "name": "stderr"
        },
        {
          "output_type": "stream",
          "text": [
            "mean_anomaly\n"
          ],
          "name": "stdout"
        },
        {
          "output_type": "stream",
          "text": [
            "INFO:fbprophet:Disabling yearly seasonality. Run prophet with yearly_seasonality=True to override this.\n"
          ],
          "name": "stderr"
        },
        {
          "output_type": "stream",
          "text": [
            "correction_latitude_cosine\n"
          ],
          "name": "stdout"
        },
        {
          "output_type": "stream",
          "text": [
            "INFO:fbprophet:Disabling yearly seasonality. Run prophet with yearly_seasonality=True to override this.\n"
          ],
          "name": "stderr"
        },
        {
          "output_type": "stream",
          "text": [
            "essentricity\n"
          ],
          "name": "stdout"
        },
        {
          "output_type": "stream",
          "text": [
            "INFO:fbprophet:Disabling yearly seasonality. Run prophet with yearly_seasonality=True to override this.\n"
          ],
          "name": "stderr"
        },
        {
          "output_type": "stream",
          "text": [
            "correction_latitude_sine\n"
          ],
          "name": "stdout"
        },
        {
          "output_type": "stream",
          "text": [
            "INFO:fbprophet:Disabling yearly seasonality. Run prophet with yearly_seasonality=True to override this.\n"
          ],
          "name": "stderr"
        },
        {
          "output_type": "stream",
          "text": [
            "sqrt_semi_major_axis\n"
          ],
          "name": "stdout"
        },
        {
          "output_type": "stream",
          "text": [
            "INFO:fbprophet:Disabling yearly seasonality. Run prophet with yearly_seasonality=True to override this.\n"
          ],
          "name": "stderr"
        },
        {
          "output_type": "stream",
          "text": [
            "time_of_ephemeris\n"
          ],
          "name": "stdout"
        },
        {
          "output_type": "stream",
          "text": [
            "INFO:fbprophet:Disabling yearly seasonality. Run prophet with yearly_seasonality=True to override this.\n"
          ],
          "name": "stderr"
        },
        {
          "output_type": "stream",
          "text": [
            "correction_inclination_cosine\n"
          ],
          "name": "stdout"
        },
        {
          "output_type": "stream",
          "text": [
            "INFO:fbprophet:Disabling yearly seasonality. Run prophet with yearly_seasonality=True to override this.\n"
          ],
          "name": "stderr"
        },
        {
          "output_type": "stream",
          "text": [
            "OMEGA\n"
          ],
          "name": "stdout"
        },
        {
          "output_type": "stream",
          "text": [
            "INFO:fbprophet:Disabling yearly seasonality. Run prophet with yearly_seasonality=True to override this.\n"
          ],
          "name": "stderr"
        },
        {
          "output_type": "stream",
          "text": [
            "correction_inclination_sine\n"
          ],
          "name": "stdout"
        },
        {
          "output_type": "stream",
          "text": [
            "INFO:fbprophet:Disabling yearly seasonality. Run prophet with yearly_seasonality=True to override this.\n"
          ],
          "name": "stderr"
        },
        {
          "output_type": "stream",
          "text": [
            "inclination\n"
          ],
          "name": "stdout"
        },
        {
          "output_type": "stream",
          "text": [
            "INFO:fbprophet:Disabling yearly seasonality. Run prophet with yearly_seasonality=True to override this.\n"
          ],
          "name": "stderr"
        },
        {
          "output_type": "stream",
          "text": [
            "correction_radius_cosine\n"
          ],
          "name": "stdout"
        },
        {
          "output_type": "stream",
          "text": [
            "INFO:fbprophet:Disabling yearly seasonality. Run prophet with yearly_seasonality=True to override this.\n"
          ],
          "name": "stderr"
        },
        {
          "output_type": "stream",
          "text": [
            "omega\n"
          ],
          "name": "stdout"
        },
        {
          "output_type": "stream",
          "text": [
            "INFO:fbprophet:Disabling yearly seasonality. Run prophet with yearly_seasonality=True to override this.\n"
          ],
          "name": "stderr"
        },
        {
          "output_type": "stream",
          "text": [
            "OMEGA_dot\n"
          ],
          "name": "stdout"
        },
        {
          "output_type": "stream",
          "text": [
            "INFO:fbprophet:Disabling yearly seasonality. Run prophet with yearly_seasonality=True to override this.\n"
          ],
          "name": "stderr"
        },
        {
          "output_type": "stream",
          "text": [
            "inclination_rate\n"
          ],
          "name": "stdout"
        },
        {
          "output_type": "stream",
          "text": [
            "INFO:fbprophet:Disabling yearly seasonality. Run prophet with yearly_seasonality=True to override this.\n"
          ],
          "name": "stderr"
        },
        {
          "output_type": "stream",
          "text": [
            "codes\n"
          ],
          "name": "stdout"
        },
        {
          "output_type": "stream",
          "text": [
            "INFO:fbprophet:Disabling yearly seasonality. Run prophet with yearly_seasonality=True to override this.\n"
          ],
          "name": "stderr"
        },
        {
          "output_type": "stream",
          "text": [
            "gps_week\n"
          ],
          "name": "stdout"
        },
        {
          "output_type": "stream",
          "text": [
            "INFO:fbprophet:Disabling yearly seasonality. Run prophet with yearly_seasonality=True to override this.\n"
          ],
          "name": "stderr"
        },
        {
          "output_type": "stream",
          "text": [
            "l2_p_data_flag\n"
          ],
          "name": "stdout"
        },
        {
          "output_type": "stream",
          "text": [
            "INFO:fbprophet:Disabling yearly seasonality. Run prophet with yearly_seasonality=True to override this.\n"
          ],
          "name": "stderr"
        },
        {
          "output_type": "stream",
          "text": [
            "sv_accuracy\n"
          ],
          "name": "stdout"
        },
        {
          "output_type": "stream",
          "text": [
            "INFO:fbprophet:Disabling yearly seasonality. Run prophet with yearly_seasonality=True to override this.\n"
          ],
          "name": "stderr"
        },
        {
          "output_type": "stream",
          "text": [
            "sv_health\n"
          ],
          "name": "stdout"
        },
        {
          "output_type": "stream",
          "text": [
            "INFO:fbprophet:Disabling yearly seasonality. Run prophet with yearly_seasonality=True to override this.\n"
          ],
          "name": "stderr"
        },
        {
          "output_type": "stream",
          "text": [
            "tgd\n"
          ],
          "name": "stdout"
        },
        {
          "output_type": "stream",
          "text": [
            "INFO:fbprophet:Disabling yearly seasonality. Run prophet with yearly_seasonality=True to override this.\n"
          ],
          "name": "stderr"
        },
        {
          "output_type": "stream",
          "text": [
            "iodc\n"
          ],
          "name": "stdout"
        },
        {
          "output_type": "stream",
          "text": [
            "INFO:fbprophet:Disabling yearly seasonality. Run prophet with yearly_seasonality=True to override this.\n"
          ],
          "name": "stderr"
        },
        {
          "output_type": "stream",
          "text": [
            "t_tx\n"
          ],
          "name": "stdout"
        },
        {
          "output_type": "stream",
          "text": [
            "INFO:fbprophet:Disabling yearly seasonality. Run prophet with yearly_seasonality=True to override this.\n"
          ],
          "name": "stderr"
        },
        {
          "output_type": "stream",
          "text": [
            "fit_interval\n"
          ],
          "name": "stdout"
        },
        {
          "output_type": "stream",
          "text": [
            "INFO:fbprophet:Disabling yearly seasonality. Run prophet with yearly_seasonality=True to override this.\n"
          ],
          "name": "stderr"
        },
        {
          "output_type": "stream",
          "text": [
            "0:01:01.329902\n",
            "21\n",
            "prn\n",
            "epoch_time\n",
            "sv_clock_bias\n"
          ],
          "name": "stdout"
        },
        {
          "output_type": "stream",
          "text": [
            "INFO:fbprophet:Disabling yearly seasonality. Run prophet with yearly_seasonality=True to override this.\n"
          ],
          "name": "stderr"
        },
        {
          "output_type": "stream",
          "text": [
            "sv_clock_drift\n"
          ],
          "name": "stdout"
        },
        {
          "output_type": "stream",
          "text": [
            "INFO:fbprophet:Disabling yearly seasonality. Run prophet with yearly_seasonality=True to override this.\n"
          ],
          "name": "stderr"
        },
        {
          "output_type": "stream",
          "text": [
            "sv_clock_drift_rate\n"
          ],
          "name": "stdout"
        },
        {
          "output_type": "stream",
          "text": [
            "INFO:fbprophet:Disabling yearly seasonality. Run prophet with yearly_seasonality=True to override this.\n"
          ],
          "name": "stderr"
        },
        {
          "output_type": "stream",
          "text": [
            "iode\n"
          ],
          "name": "stdout"
        },
        {
          "output_type": "stream",
          "text": [
            "INFO:fbprophet:Disabling yearly seasonality. Run prophet with yearly_seasonality=True to override this.\n"
          ],
          "name": "stderr"
        },
        {
          "output_type": "stream",
          "text": [
            "correction_radius_sine\n"
          ],
          "name": "stdout"
        },
        {
          "output_type": "stream",
          "text": [
            "INFO:fbprophet:Disabling yearly seasonality. Run prophet with yearly_seasonality=True to override this.\n"
          ],
          "name": "stderr"
        },
        {
          "output_type": "stream",
          "text": [
            "mean_motion\n"
          ],
          "name": "stdout"
        },
        {
          "output_type": "stream",
          "text": [
            "INFO:fbprophet:Disabling yearly seasonality. Run prophet with yearly_seasonality=True to override this.\n"
          ],
          "name": "stderr"
        },
        {
          "output_type": "stream",
          "text": [
            "mean_anomaly\n"
          ],
          "name": "stdout"
        },
        {
          "output_type": "stream",
          "text": [
            "INFO:fbprophet:Disabling yearly seasonality. Run prophet with yearly_seasonality=True to override this.\n"
          ],
          "name": "stderr"
        },
        {
          "output_type": "stream",
          "text": [
            "correction_latitude_cosine\n"
          ],
          "name": "stdout"
        },
        {
          "output_type": "stream",
          "text": [
            "INFO:fbprophet:Disabling yearly seasonality. Run prophet with yearly_seasonality=True to override this.\n"
          ],
          "name": "stderr"
        },
        {
          "output_type": "stream",
          "text": [
            "essentricity\n"
          ],
          "name": "stdout"
        },
        {
          "output_type": "stream",
          "text": [
            "INFO:fbprophet:Disabling yearly seasonality. Run prophet with yearly_seasonality=True to override this.\n"
          ],
          "name": "stderr"
        },
        {
          "output_type": "stream",
          "text": [
            "correction_latitude_sine\n"
          ],
          "name": "stdout"
        },
        {
          "output_type": "stream",
          "text": [
            "INFO:fbprophet:Disabling yearly seasonality. Run prophet with yearly_seasonality=True to override this.\n"
          ],
          "name": "stderr"
        },
        {
          "output_type": "stream",
          "text": [
            "sqrt_semi_major_axis\n"
          ],
          "name": "stdout"
        },
        {
          "output_type": "stream",
          "text": [
            "INFO:fbprophet:Disabling yearly seasonality. Run prophet with yearly_seasonality=True to override this.\n"
          ],
          "name": "stderr"
        },
        {
          "output_type": "stream",
          "text": [
            "time_of_ephemeris\n"
          ],
          "name": "stdout"
        },
        {
          "output_type": "stream",
          "text": [
            "INFO:fbprophet:Disabling yearly seasonality. Run prophet with yearly_seasonality=True to override this.\n"
          ],
          "name": "stderr"
        },
        {
          "output_type": "stream",
          "text": [
            "correction_inclination_cosine\n"
          ],
          "name": "stdout"
        },
        {
          "output_type": "stream",
          "text": [
            "INFO:fbprophet:Disabling yearly seasonality. Run prophet with yearly_seasonality=True to override this.\n"
          ],
          "name": "stderr"
        },
        {
          "output_type": "stream",
          "text": [
            "OMEGA\n"
          ],
          "name": "stdout"
        },
        {
          "output_type": "stream",
          "text": [
            "INFO:fbprophet:Disabling yearly seasonality. Run prophet with yearly_seasonality=True to override this.\n"
          ],
          "name": "stderr"
        },
        {
          "output_type": "stream",
          "text": [
            "correction_inclination_sine\n"
          ],
          "name": "stdout"
        },
        {
          "output_type": "stream",
          "text": [
            "INFO:fbprophet:Disabling yearly seasonality. Run prophet with yearly_seasonality=True to override this.\n"
          ],
          "name": "stderr"
        },
        {
          "output_type": "stream",
          "text": [
            "inclination\n"
          ],
          "name": "stdout"
        },
        {
          "output_type": "stream",
          "text": [
            "INFO:fbprophet:Disabling yearly seasonality. Run prophet with yearly_seasonality=True to override this.\n"
          ],
          "name": "stderr"
        },
        {
          "output_type": "stream",
          "text": [
            "correction_radius_cosine\n"
          ],
          "name": "stdout"
        },
        {
          "output_type": "stream",
          "text": [
            "INFO:fbprophet:Disabling yearly seasonality. Run prophet with yearly_seasonality=True to override this.\n"
          ],
          "name": "stderr"
        },
        {
          "output_type": "stream",
          "text": [
            "omega\n"
          ],
          "name": "stdout"
        },
        {
          "output_type": "stream",
          "text": [
            "INFO:fbprophet:Disabling yearly seasonality. Run prophet with yearly_seasonality=True to override this.\n"
          ],
          "name": "stderr"
        },
        {
          "output_type": "stream",
          "text": [
            "OMEGA_dot\n"
          ],
          "name": "stdout"
        },
        {
          "output_type": "stream",
          "text": [
            "INFO:fbprophet:Disabling yearly seasonality. Run prophet with yearly_seasonality=True to override this.\n"
          ],
          "name": "stderr"
        },
        {
          "output_type": "stream",
          "text": [
            "inclination_rate\n"
          ],
          "name": "stdout"
        },
        {
          "output_type": "stream",
          "text": [
            "INFO:fbprophet:Disabling yearly seasonality. Run prophet with yearly_seasonality=True to override this.\n"
          ],
          "name": "stderr"
        },
        {
          "output_type": "stream",
          "text": [
            "codes\n"
          ],
          "name": "stdout"
        },
        {
          "output_type": "stream",
          "text": [
            "INFO:fbprophet:Disabling yearly seasonality. Run prophet with yearly_seasonality=True to override this.\n"
          ],
          "name": "stderr"
        },
        {
          "output_type": "stream",
          "text": [
            "gps_week\n"
          ],
          "name": "stdout"
        },
        {
          "output_type": "stream",
          "text": [
            "INFO:fbprophet:Disabling yearly seasonality. Run prophet with yearly_seasonality=True to override this.\n"
          ],
          "name": "stderr"
        },
        {
          "output_type": "stream",
          "text": [
            "l2_p_data_flag\n"
          ],
          "name": "stdout"
        },
        {
          "output_type": "stream",
          "text": [
            "INFO:fbprophet:Disabling yearly seasonality. Run prophet with yearly_seasonality=True to override this.\n"
          ],
          "name": "stderr"
        },
        {
          "output_type": "stream",
          "text": [
            "sv_accuracy\n"
          ],
          "name": "stdout"
        },
        {
          "output_type": "stream",
          "text": [
            "INFO:fbprophet:Disabling yearly seasonality. Run prophet with yearly_seasonality=True to override this.\n"
          ],
          "name": "stderr"
        },
        {
          "output_type": "stream",
          "text": [
            "sv_health\n"
          ],
          "name": "stdout"
        },
        {
          "output_type": "stream",
          "text": [
            "INFO:fbprophet:Disabling yearly seasonality. Run prophet with yearly_seasonality=True to override this.\n"
          ],
          "name": "stderr"
        },
        {
          "output_type": "stream",
          "text": [
            "tgd\n"
          ],
          "name": "stdout"
        },
        {
          "output_type": "stream",
          "text": [
            "INFO:fbprophet:Disabling yearly seasonality. Run prophet with yearly_seasonality=True to override this.\n"
          ],
          "name": "stderr"
        },
        {
          "output_type": "stream",
          "text": [
            "iodc\n"
          ],
          "name": "stdout"
        },
        {
          "output_type": "stream",
          "text": [
            "INFO:fbprophet:Disabling yearly seasonality. Run prophet with yearly_seasonality=True to override this.\n"
          ],
          "name": "stderr"
        },
        {
          "output_type": "stream",
          "text": [
            "t_tx\n"
          ],
          "name": "stdout"
        },
        {
          "output_type": "stream",
          "text": [
            "INFO:fbprophet:Disabling yearly seasonality. Run prophet with yearly_seasonality=True to override this.\n"
          ],
          "name": "stderr"
        },
        {
          "output_type": "stream",
          "text": [
            "fit_interval\n"
          ],
          "name": "stdout"
        },
        {
          "output_type": "stream",
          "text": [
            "INFO:fbprophet:Disabling yearly seasonality. Run prophet with yearly_seasonality=True to override this.\n"
          ],
          "name": "stderr"
        },
        {
          "output_type": "stream",
          "text": [
            "0:01:03.045719\n",
            "15\n",
            "prn\n",
            "epoch_time\n",
            "sv_clock_bias\n"
          ],
          "name": "stdout"
        },
        {
          "output_type": "stream",
          "text": [
            "INFO:fbprophet:Disabling yearly seasonality. Run prophet with yearly_seasonality=True to override this.\n"
          ],
          "name": "stderr"
        },
        {
          "output_type": "stream",
          "text": [
            "sv_clock_drift\n"
          ],
          "name": "stdout"
        },
        {
          "output_type": "stream",
          "text": [
            "INFO:fbprophet:Disabling yearly seasonality. Run prophet with yearly_seasonality=True to override this.\n"
          ],
          "name": "stderr"
        },
        {
          "output_type": "stream",
          "text": [
            "sv_clock_drift_rate\n"
          ],
          "name": "stdout"
        },
        {
          "output_type": "stream",
          "text": [
            "INFO:fbprophet:Disabling yearly seasonality. Run prophet with yearly_seasonality=True to override this.\n"
          ],
          "name": "stderr"
        },
        {
          "output_type": "stream",
          "text": [
            "iode\n"
          ],
          "name": "stdout"
        },
        {
          "output_type": "stream",
          "text": [
            "INFO:fbprophet:Disabling yearly seasonality. Run prophet with yearly_seasonality=True to override this.\n"
          ],
          "name": "stderr"
        },
        {
          "output_type": "stream",
          "text": [
            "correction_radius_sine\n"
          ],
          "name": "stdout"
        },
        {
          "output_type": "stream",
          "text": [
            "INFO:fbprophet:Disabling yearly seasonality. Run prophet with yearly_seasonality=True to override this.\n"
          ],
          "name": "stderr"
        },
        {
          "output_type": "stream",
          "text": [
            "mean_motion\n"
          ],
          "name": "stdout"
        },
        {
          "output_type": "stream",
          "text": [
            "INFO:fbprophet:Disabling yearly seasonality. Run prophet with yearly_seasonality=True to override this.\n"
          ],
          "name": "stderr"
        },
        {
          "output_type": "stream",
          "text": [
            "mean_anomaly\n"
          ],
          "name": "stdout"
        },
        {
          "output_type": "stream",
          "text": [
            "INFO:fbprophet:Disabling yearly seasonality. Run prophet with yearly_seasonality=True to override this.\n"
          ],
          "name": "stderr"
        },
        {
          "output_type": "stream",
          "text": [
            "correction_latitude_cosine\n"
          ],
          "name": "stdout"
        },
        {
          "output_type": "stream",
          "text": [
            "INFO:fbprophet:Disabling yearly seasonality. Run prophet with yearly_seasonality=True to override this.\n"
          ],
          "name": "stderr"
        },
        {
          "output_type": "stream",
          "text": [
            "essentricity\n"
          ],
          "name": "stdout"
        },
        {
          "output_type": "stream",
          "text": [
            "INFO:fbprophet:Disabling yearly seasonality. Run prophet with yearly_seasonality=True to override this.\n"
          ],
          "name": "stderr"
        },
        {
          "output_type": "stream",
          "text": [
            "correction_latitude_sine\n"
          ],
          "name": "stdout"
        },
        {
          "output_type": "stream",
          "text": [
            "INFO:fbprophet:Disabling yearly seasonality. Run prophet with yearly_seasonality=True to override this.\n"
          ],
          "name": "stderr"
        },
        {
          "output_type": "stream",
          "text": [
            "sqrt_semi_major_axis\n"
          ],
          "name": "stdout"
        },
        {
          "output_type": "stream",
          "text": [
            "INFO:fbprophet:Disabling yearly seasonality. Run prophet with yearly_seasonality=True to override this.\n"
          ],
          "name": "stderr"
        },
        {
          "output_type": "stream",
          "text": [
            "time_of_ephemeris\n"
          ],
          "name": "stdout"
        },
        {
          "output_type": "stream",
          "text": [
            "INFO:fbprophet:Disabling yearly seasonality. Run prophet with yearly_seasonality=True to override this.\n"
          ],
          "name": "stderr"
        },
        {
          "output_type": "stream",
          "text": [
            "correction_inclination_cosine\n"
          ],
          "name": "stdout"
        },
        {
          "output_type": "stream",
          "text": [
            "INFO:fbprophet:Disabling yearly seasonality. Run prophet with yearly_seasonality=True to override this.\n"
          ],
          "name": "stderr"
        },
        {
          "output_type": "stream",
          "text": [
            "OMEGA\n"
          ],
          "name": "stdout"
        },
        {
          "output_type": "stream",
          "text": [
            "INFO:fbprophet:Disabling yearly seasonality. Run prophet with yearly_seasonality=True to override this.\n"
          ],
          "name": "stderr"
        },
        {
          "output_type": "stream",
          "text": [
            "correction_inclination_sine\n"
          ],
          "name": "stdout"
        },
        {
          "output_type": "stream",
          "text": [
            "INFO:fbprophet:Disabling yearly seasonality. Run prophet with yearly_seasonality=True to override this.\n"
          ],
          "name": "stderr"
        },
        {
          "output_type": "stream",
          "text": [
            "inclination\n"
          ],
          "name": "stdout"
        },
        {
          "output_type": "stream",
          "text": [
            "INFO:fbprophet:Disabling yearly seasonality. Run prophet with yearly_seasonality=True to override this.\n"
          ],
          "name": "stderr"
        },
        {
          "output_type": "stream",
          "text": [
            "correction_radius_cosine\n"
          ],
          "name": "stdout"
        },
        {
          "output_type": "stream",
          "text": [
            "INFO:fbprophet:Disabling yearly seasonality. Run prophet with yearly_seasonality=True to override this.\n"
          ],
          "name": "stderr"
        },
        {
          "output_type": "stream",
          "text": [
            "omega\n"
          ],
          "name": "stdout"
        },
        {
          "output_type": "stream",
          "text": [
            "INFO:fbprophet:Disabling yearly seasonality. Run prophet with yearly_seasonality=True to override this.\n"
          ],
          "name": "stderr"
        },
        {
          "output_type": "stream",
          "text": [
            "OMEGA_dot\n"
          ],
          "name": "stdout"
        },
        {
          "output_type": "stream",
          "text": [
            "INFO:fbprophet:Disabling yearly seasonality. Run prophet with yearly_seasonality=True to override this.\n"
          ],
          "name": "stderr"
        },
        {
          "output_type": "stream",
          "text": [
            "inclination_rate\n"
          ],
          "name": "stdout"
        },
        {
          "output_type": "stream",
          "text": [
            "INFO:fbprophet:Disabling yearly seasonality. Run prophet with yearly_seasonality=True to override this.\n"
          ],
          "name": "stderr"
        },
        {
          "output_type": "stream",
          "text": [
            "codes\n"
          ],
          "name": "stdout"
        },
        {
          "output_type": "stream",
          "text": [
            "INFO:fbprophet:Disabling yearly seasonality. Run prophet with yearly_seasonality=True to override this.\n"
          ],
          "name": "stderr"
        },
        {
          "output_type": "stream",
          "text": [
            "gps_week\n"
          ],
          "name": "stdout"
        },
        {
          "output_type": "stream",
          "text": [
            "INFO:fbprophet:Disabling yearly seasonality. Run prophet with yearly_seasonality=True to override this.\n"
          ],
          "name": "stderr"
        },
        {
          "output_type": "stream",
          "text": [
            "l2_p_data_flag\n"
          ],
          "name": "stdout"
        },
        {
          "output_type": "stream",
          "text": [
            "INFO:fbprophet:Disabling yearly seasonality. Run prophet with yearly_seasonality=True to override this.\n"
          ],
          "name": "stderr"
        },
        {
          "output_type": "stream",
          "text": [
            "sv_accuracy\n"
          ],
          "name": "stdout"
        },
        {
          "output_type": "stream",
          "text": [
            "INFO:fbprophet:Disabling yearly seasonality. Run prophet with yearly_seasonality=True to override this.\n"
          ],
          "name": "stderr"
        },
        {
          "output_type": "stream",
          "text": [
            "sv_health\n"
          ],
          "name": "stdout"
        },
        {
          "output_type": "stream",
          "text": [
            "INFO:fbprophet:Disabling yearly seasonality. Run prophet with yearly_seasonality=True to override this.\n"
          ],
          "name": "stderr"
        },
        {
          "output_type": "stream",
          "text": [
            "tgd\n"
          ],
          "name": "stdout"
        },
        {
          "output_type": "stream",
          "text": [
            "INFO:fbprophet:Disabling yearly seasonality. Run prophet with yearly_seasonality=True to override this.\n"
          ],
          "name": "stderr"
        },
        {
          "output_type": "stream",
          "text": [
            "iodc\n"
          ],
          "name": "stdout"
        },
        {
          "output_type": "stream",
          "text": [
            "INFO:fbprophet:Disabling yearly seasonality. Run prophet with yearly_seasonality=True to override this.\n"
          ],
          "name": "stderr"
        },
        {
          "output_type": "stream",
          "text": [
            "t_tx\n"
          ],
          "name": "stdout"
        },
        {
          "output_type": "stream",
          "text": [
            "INFO:fbprophet:Disabling yearly seasonality. Run prophet with yearly_seasonality=True to override this.\n"
          ],
          "name": "stderr"
        },
        {
          "output_type": "stream",
          "text": [
            "fit_interval\n"
          ],
          "name": "stdout"
        },
        {
          "output_type": "stream",
          "text": [
            "INFO:fbprophet:Disabling yearly seasonality. Run prophet with yearly_seasonality=True to override this.\n"
          ],
          "name": "stderr"
        },
        {
          "output_type": "stream",
          "text": [
            "0:01:27.082206\n",
            "18\n",
            "prn\n",
            "epoch_time\n",
            "sv_clock_bias\n"
          ],
          "name": "stdout"
        },
        {
          "output_type": "stream",
          "text": [
            "INFO:fbprophet:Disabling yearly seasonality. Run prophet with yearly_seasonality=True to override this.\n"
          ],
          "name": "stderr"
        },
        {
          "output_type": "stream",
          "text": [
            "sv_clock_drift\n"
          ],
          "name": "stdout"
        },
        {
          "output_type": "stream",
          "text": [
            "INFO:fbprophet:Disabling yearly seasonality. Run prophet with yearly_seasonality=True to override this.\n"
          ],
          "name": "stderr"
        },
        {
          "output_type": "stream",
          "text": [
            "sv_clock_drift_rate\n"
          ],
          "name": "stdout"
        },
        {
          "output_type": "stream",
          "text": [
            "INFO:fbprophet:Disabling yearly seasonality. Run prophet with yearly_seasonality=True to override this.\n"
          ],
          "name": "stderr"
        },
        {
          "output_type": "stream",
          "text": [
            "iode\n"
          ],
          "name": "stdout"
        },
        {
          "output_type": "stream",
          "text": [
            "INFO:fbprophet:Disabling yearly seasonality. Run prophet with yearly_seasonality=True to override this.\n"
          ],
          "name": "stderr"
        },
        {
          "output_type": "stream",
          "text": [
            "correction_radius_sine\n"
          ],
          "name": "stdout"
        },
        {
          "output_type": "stream",
          "text": [
            "INFO:fbprophet:Disabling yearly seasonality. Run prophet with yearly_seasonality=True to override this.\n"
          ],
          "name": "stderr"
        },
        {
          "output_type": "stream",
          "text": [
            "mean_motion\n"
          ],
          "name": "stdout"
        },
        {
          "output_type": "stream",
          "text": [
            "INFO:fbprophet:Disabling yearly seasonality. Run prophet with yearly_seasonality=True to override this.\n"
          ],
          "name": "stderr"
        },
        {
          "output_type": "stream",
          "text": [
            "mean_anomaly\n"
          ],
          "name": "stdout"
        },
        {
          "output_type": "stream",
          "text": [
            "INFO:fbprophet:Disabling yearly seasonality. Run prophet with yearly_seasonality=True to override this.\n"
          ],
          "name": "stderr"
        },
        {
          "output_type": "stream",
          "text": [
            "correction_latitude_cosine\n"
          ],
          "name": "stdout"
        },
        {
          "output_type": "stream",
          "text": [
            "INFO:fbprophet:Disabling yearly seasonality. Run prophet with yearly_seasonality=True to override this.\n"
          ],
          "name": "stderr"
        },
        {
          "output_type": "stream",
          "text": [
            "essentricity\n"
          ],
          "name": "stdout"
        },
        {
          "output_type": "stream",
          "text": [
            "INFO:fbprophet:Disabling yearly seasonality. Run prophet with yearly_seasonality=True to override this.\n"
          ],
          "name": "stderr"
        },
        {
          "output_type": "stream",
          "text": [
            "correction_latitude_sine\n"
          ],
          "name": "stdout"
        },
        {
          "output_type": "stream",
          "text": [
            "INFO:fbprophet:Disabling yearly seasonality. Run prophet with yearly_seasonality=True to override this.\n"
          ],
          "name": "stderr"
        },
        {
          "output_type": "stream",
          "text": [
            "sqrt_semi_major_axis\n"
          ],
          "name": "stdout"
        },
        {
          "output_type": "stream",
          "text": [
            "INFO:fbprophet:Disabling yearly seasonality. Run prophet with yearly_seasonality=True to override this.\n"
          ],
          "name": "stderr"
        },
        {
          "output_type": "stream",
          "text": [
            "time_of_ephemeris\n"
          ],
          "name": "stdout"
        },
        {
          "output_type": "stream",
          "text": [
            "INFO:fbprophet:Disabling yearly seasonality. Run prophet with yearly_seasonality=True to override this.\n"
          ],
          "name": "stderr"
        },
        {
          "output_type": "stream",
          "text": [
            "correction_inclination_cosine\n"
          ],
          "name": "stdout"
        },
        {
          "output_type": "stream",
          "text": [
            "INFO:fbprophet:Disabling yearly seasonality. Run prophet with yearly_seasonality=True to override this.\n"
          ],
          "name": "stderr"
        },
        {
          "output_type": "stream",
          "text": [
            "OMEGA\n"
          ],
          "name": "stdout"
        },
        {
          "output_type": "stream",
          "text": [
            "INFO:fbprophet:Disabling yearly seasonality. Run prophet with yearly_seasonality=True to override this.\n"
          ],
          "name": "stderr"
        },
        {
          "output_type": "stream",
          "text": [
            "correction_inclination_sine\n"
          ],
          "name": "stdout"
        },
        {
          "output_type": "stream",
          "text": [
            "INFO:fbprophet:Disabling yearly seasonality. Run prophet with yearly_seasonality=True to override this.\n"
          ],
          "name": "stderr"
        },
        {
          "output_type": "stream",
          "text": [
            "inclination\n"
          ],
          "name": "stdout"
        },
        {
          "output_type": "stream",
          "text": [
            "INFO:fbprophet:Disabling yearly seasonality. Run prophet with yearly_seasonality=True to override this.\n"
          ],
          "name": "stderr"
        },
        {
          "output_type": "stream",
          "text": [
            "correction_radius_cosine\n"
          ],
          "name": "stdout"
        },
        {
          "output_type": "stream",
          "text": [
            "INFO:fbprophet:Disabling yearly seasonality. Run prophet with yearly_seasonality=True to override this.\n"
          ],
          "name": "stderr"
        },
        {
          "output_type": "stream",
          "text": [
            "omega\n"
          ],
          "name": "stdout"
        },
        {
          "output_type": "stream",
          "text": [
            "INFO:fbprophet:Disabling yearly seasonality. Run prophet with yearly_seasonality=True to override this.\n"
          ],
          "name": "stderr"
        },
        {
          "output_type": "stream",
          "text": [
            "OMEGA_dot\n"
          ],
          "name": "stdout"
        },
        {
          "output_type": "stream",
          "text": [
            "INFO:fbprophet:Disabling yearly seasonality. Run prophet with yearly_seasonality=True to override this.\n"
          ],
          "name": "stderr"
        },
        {
          "output_type": "stream",
          "text": [
            "inclination_rate\n"
          ],
          "name": "stdout"
        },
        {
          "output_type": "stream",
          "text": [
            "INFO:fbprophet:Disabling yearly seasonality. Run prophet with yearly_seasonality=True to override this.\n"
          ],
          "name": "stderr"
        },
        {
          "output_type": "stream",
          "text": [
            "codes\n"
          ],
          "name": "stdout"
        },
        {
          "output_type": "stream",
          "text": [
            "INFO:fbprophet:Disabling yearly seasonality. Run prophet with yearly_seasonality=True to override this.\n"
          ],
          "name": "stderr"
        },
        {
          "output_type": "stream",
          "text": [
            "gps_week\n"
          ],
          "name": "stdout"
        },
        {
          "output_type": "stream",
          "text": [
            "INFO:fbprophet:Disabling yearly seasonality. Run prophet with yearly_seasonality=True to override this.\n"
          ],
          "name": "stderr"
        },
        {
          "output_type": "stream",
          "text": [
            "l2_p_data_flag\n"
          ],
          "name": "stdout"
        },
        {
          "output_type": "stream",
          "text": [
            "INFO:fbprophet:Disabling yearly seasonality. Run prophet with yearly_seasonality=True to override this.\n"
          ],
          "name": "stderr"
        },
        {
          "output_type": "stream",
          "text": [
            "sv_accuracy\n"
          ],
          "name": "stdout"
        },
        {
          "output_type": "stream",
          "text": [
            "INFO:fbprophet:Disabling yearly seasonality. Run prophet with yearly_seasonality=True to override this.\n"
          ],
          "name": "stderr"
        },
        {
          "output_type": "stream",
          "text": [
            "sv_health\n"
          ],
          "name": "stdout"
        },
        {
          "output_type": "stream",
          "text": [
            "INFO:fbprophet:Disabling yearly seasonality. Run prophet with yearly_seasonality=True to override this.\n"
          ],
          "name": "stderr"
        },
        {
          "output_type": "stream",
          "text": [
            "tgd\n"
          ],
          "name": "stdout"
        },
        {
          "output_type": "stream",
          "text": [
            "INFO:fbprophet:Disabling yearly seasonality. Run prophet with yearly_seasonality=True to override this.\n"
          ],
          "name": "stderr"
        },
        {
          "output_type": "stream",
          "text": [
            "iodc\n"
          ],
          "name": "stdout"
        },
        {
          "output_type": "stream",
          "text": [
            "INFO:fbprophet:Disabling yearly seasonality. Run prophet with yearly_seasonality=True to override this.\n"
          ],
          "name": "stderr"
        },
        {
          "output_type": "stream",
          "text": [
            "t_tx\n"
          ],
          "name": "stdout"
        },
        {
          "output_type": "stream",
          "text": [
            "INFO:fbprophet:Disabling yearly seasonality. Run prophet with yearly_seasonality=True to override this.\n"
          ],
          "name": "stderr"
        },
        {
          "output_type": "stream",
          "text": [
            "fit_interval\n"
          ],
          "name": "stdout"
        },
        {
          "output_type": "stream",
          "text": [
            "INFO:fbprophet:Disabling yearly seasonality. Run prophet with yearly_seasonality=True to override this.\n"
          ],
          "name": "stderr"
        },
        {
          "output_type": "stream",
          "text": [
            "0:01:03.070366\n",
            "14\n",
            "prn\n",
            "epoch_time\n",
            "sv_clock_bias\n"
          ],
          "name": "stdout"
        },
        {
          "output_type": "stream",
          "text": [
            "INFO:fbprophet:Disabling yearly seasonality. Run prophet with yearly_seasonality=True to override this.\n"
          ],
          "name": "stderr"
        },
        {
          "output_type": "stream",
          "text": [
            "sv_clock_drift\n"
          ],
          "name": "stdout"
        },
        {
          "output_type": "stream",
          "text": [
            "INFO:fbprophet:Disabling yearly seasonality. Run prophet with yearly_seasonality=True to override this.\n"
          ],
          "name": "stderr"
        },
        {
          "output_type": "stream",
          "text": [
            "sv_clock_drift_rate\n"
          ],
          "name": "stdout"
        },
        {
          "output_type": "stream",
          "text": [
            "INFO:fbprophet:Disabling yearly seasonality. Run prophet with yearly_seasonality=True to override this.\n"
          ],
          "name": "stderr"
        },
        {
          "output_type": "stream",
          "text": [
            "iode\n"
          ],
          "name": "stdout"
        },
        {
          "output_type": "stream",
          "text": [
            "INFO:fbprophet:Disabling yearly seasonality. Run prophet with yearly_seasonality=True to override this.\n"
          ],
          "name": "stderr"
        },
        {
          "output_type": "stream",
          "text": [
            "correction_radius_sine\n"
          ],
          "name": "stdout"
        },
        {
          "output_type": "stream",
          "text": [
            "INFO:fbprophet:Disabling yearly seasonality. Run prophet with yearly_seasonality=True to override this.\n"
          ],
          "name": "stderr"
        },
        {
          "output_type": "stream",
          "text": [
            "mean_motion\n"
          ],
          "name": "stdout"
        },
        {
          "output_type": "stream",
          "text": [
            "INFO:fbprophet:Disabling yearly seasonality. Run prophet with yearly_seasonality=True to override this.\n"
          ],
          "name": "stderr"
        },
        {
          "output_type": "stream",
          "text": [
            "mean_anomaly\n"
          ],
          "name": "stdout"
        },
        {
          "output_type": "stream",
          "text": [
            "INFO:fbprophet:Disabling yearly seasonality. Run prophet with yearly_seasonality=True to override this.\n"
          ],
          "name": "stderr"
        },
        {
          "output_type": "stream",
          "text": [
            "correction_latitude_cosine\n"
          ],
          "name": "stdout"
        },
        {
          "output_type": "stream",
          "text": [
            "INFO:fbprophet:Disabling yearly seasonality. Run prophet with yearly_seasonality=True to override this.\n"
          ],
          "name": "stderr"
        },
        {
          "output_type": "stream",
          "text": [
            "essentricity\n"
          ],
          "name": "stdout"
        },
        {
          "output_type": "stream",
          "text": [
            "INFO:fbprophet:Disabling yearly seasonality. Run prophet with yearly_seasonality=True to override this.\n"
          ],
          "name": "stderr"
        },
        {
          "output_type": "stream",
          "text": [
            "correction_latitude_sine\n"
          ],
          "name": "stdout"
        },
        {
          "output_type": "stream",
          "text": [
            "INFO:fbprophet:Disabling yearly seasonality. Run prophet with yearly_seasonality=True to override this.\n"
          ],
          "name": "stderr"
        },
        {
          "output_type": "stream",
          "text": [
            "sqrt_semi_major_axis\n"
          ],
          "name": "stdout"
        },
        {
          "output_type": "stream",
          "text": [
            "INFO:fbprophet:Disabling yearly seasonality. Run prophet with yearly_seasonality=True to override this.\n"
          ],
          "name": "stderr"
        },
        {
          "output_type": "stream",
          "text": [
            "time_of_ephemeris\n"
          ],
          "name": "stdout"
        },
        {
          "output_type": "stream",
          "text": [
            "INFO:fbprophet:Disabling yearly seasonality. Run prophet with yearly_seasonality=True to override this.\n"
          ],
          "name": "stderr"
        },
        {
          "output_type": "stream",
          "text": [
            "correction_inclination_cosine\n"
          ],
          "name": "stdout"
        },
        {
          "output_type": "stream",
          "text": [
            "INFO:fbprophet:Disabling yearly seasonality. Run prophet with yearly_seasonality=True to override this.\n"
          ],
          "name": "stderr"
        },
        {
          "output_type": "stream",
          "text": [
            "OMEGA\n"
          ],
          "name": "stdout"
        },
        {
          "output_type": "stream",
          "text": [
            "INFO:fbprophet:Disabling yearly seasonality. Run prophet with yearly_seasonality=True to override this.\n"
          ],
          "name": "stderr"
        },
        {
          "output_type": "stream",
          "text": [
            "correction_inclination_sine\n"
          ],
          "name": "stdout"
        },
        {
          "output_type": "stream",
          "text": [
            "INFO:fbprophet:Disabling yearly seasonality. Run prophet with yearly_seasonality=True to override this.\n"
          ],
          "name": "stderr"
        },
        {
          "output_type": "stream",
          "text": [
            "inclination\n"
          ],
          "name": "stdout"
        },
        {
          "output_type": "stream",
          "text": [
            "INFO:fbprophet:Disabling yearly seasonality. Run prophet with yearly_seasonality=True to override this.\n"
          ],
          "name": "stderr"
        },
        {
          "output_type": "stream",
          "text": [
            "correction_radius_cosine\n"
          ],
          "name": "stdout"
        },
        {
          "output_type": "stream",
          "text": [
            "INFO:fbprophet:Disabling yearly seasonality. Run prophet with yearly_seasonality=True to override this.\n"
          ],
          "name": "stderr"
        },
        {
          "output_type": "stream",
          "text": [
            "omega\n"
          ],
          "name": "stdout"
        },
        {
          "output_type": "stream",
          "text": [
            "INFO:fbprophet:Disabling yearly seasonality. Run prophet with yearly_seasonality=True to override this.\n"
          ],
          "name": "stderr"
        },
        {
          "output_type": "stream",
          "text": [
            "OMEGA_dot\n"
          ],
          "name": "stdout"
        },
        {
          "output_type": "stream",
          "text": [
            "INFO:fbprophet:Disabling yearly seasonality. Run prophet with yearly_seasonality=True to override this.\n"
          ],
          "name": "stderr"
        },
        {
          "output_type": "stream",
          "text": [
            "inclination_rate\n"
          ],
          "name": "stdout"
        },
        {
          "output_type": "stream",
          "text": [
            "INFO:fbprophet:Disabling yearly seasonality. Run prophet with yearly_seasonality=True to override this.\n"
          ],
          "name": "stderr"
        },
        {
          "output_type": "stream",
          "text": [
            "codes\n"
          ],
          "name": "stdout"
        },
        {
          "output_type": "stream",
          "text": [
            "INFO:fbprophet:Disabling yearly seasonality. Run prophet with yearly_seasonality=True to override this.\n"
          ],
          "name": "stderr"
        },
        {
          "output_type": "stream",
          "text": [
            "gps_week\n"
          ],
          "name": "stdout"
        },
        {
          "output_type": "stream",
          "text": [
            "INFO:fbprophet:Disabling yearly seasonality. Run prophet with yearly_seasonality=True to override this.\n"
          ],
          "name": "stderr"
        },
        {
          "output_type": "stream",
          "text": [
            "l2_p_data_flag\n"
          ],
          "name": "stdout"
        },
        {
          "output_type": "stream",
          "text": [
            "INFO:fbprophet:Disabling yearly seasonality. Run prophet with yearly_seasonality=True to override this.\n"
          ],
          "name": "stderr"
        },
        {
          "output_type": "stream",
          "text": [
            "sv_accuracy\n"
          ],
          "name": "stdout"
        },
        {
          "output_type": "stream",
          "text": [
            "INFO:fbprophet:Disabling yearly seasonality. Run prophet with yearly_seasonality=True to override this.\n"
          ],
          "name": "stderr"
        },
        {
          "output_type": "stream",
          "text": [
            "sv_health\n"
          ],
          "name": "stdout"
        },
        {
          "output_type": "stream",
          "text": [
            "INFO:fbprophet:Disabling yearly seasonality. Run prophet with yearly_seasonality=True to override this.\n"
          ],
          "name": "stderr"
        },
        {
          "output_type": "stream",
          "text": [
            "tgd\n"
          ],
          "name": "stdout"
        },
        {
          "output_type": "stream",
          "text": [
            "INFO:fbprophet:Disabling yearly seasonality. Run prophet with yearly_seasonality=True to override this.\n"
          ],
          "name": "stderr"
        },
        {
          "output_type": "stream",
          "text": [
            "iodc\n"
          ],
          "name": "stdout"
        },
        {
          "output_type": "stream",
          "text": [
            "INFO:fbprophet:Disabling yearly seasonality. Run prophet with yearly_seasonality=True to override this.\n"
          ],
          "name": "stderr"
        },
        {
          "output_type": "stream",
          "text": [
            "t_tx\n"
          ],
          "name": "stdout"
        },
        {
          "output_type": "stream",
          "text": [
            "INFO:fbprophet:Disabling yearly seasonality. Run prophet with yearly_seasonality=True to override this.\n"
          ],
          "name": "stderr"
        },
        {
          "output_type": "stream",
          "text": [
            "fit_interval\n"
          ],
          "name": "stdout"
        },
        {
          "output_type": "stream",
          "text": [
            "INFO:fbprophet:Disabling yearly seasonality. Run prophet with yearly_seasonality=True to override this.\n"
          ],
          "name": "stderr"
        },
        {
          "output_type": "stream",
          "text": [
            "0:01:02.286394\n",
            "26\n",
            "prn\n",
            "epoch_time\n",
            "sv_clock_bias\n"
          ],
          "name": "stdout"
        },
        {
          "output_type": "stream",
          "text": [
            "INFO:fbprophet:Disabling yearly seasonality. Run prophet with yearly_seasonality=True to override this.\n"
          ],
          "name": "stderr"
        },
        {
          "output_type": "stream",
          "text": [
            "sv_clock_drift\n"
          ],
          "name": "stdout"
        },
        {
          "output_type": "stream",
          "text": [
            "INFO:fbprophet:Disabling yearly seasonality. Run prophet with yearly_seasonality=True to override this.\n"
          ],
          "name": "stderr"
        },
        {
          "output_type": "stream",
          "text": [
            "sv_clock_drift_rate\n"
          ],
          "name": "stdout"
        },
        {
          "output_type": "stream",
          "text": [
            "INFO:fbprophet:Disabling yearly seasonality. Run prophet with yearly_seasonality=True to override this.\n"
          ],
          "name": "stderr"
        },
        {
          "output_type": "stream",
          "text": [
            "iode\n"
          ],
          "name": "stdout"
        },
        {
          "output_type": "stream",
          "text": [
            "INFO:fbprophet:Disabling yearly seasonality. Run prophet with yearly_seasonality=True to override this.\n"
          ],
          "name": "stderr"
        },
        {
          "output_type": "stream",
          "text": [
            "correction_radius_sine\n"
          ],
          "name": "stdout"
        },
        {
          "output_type": "stream",
          "text": [
            "INFO:fbprophet:Disabling yearly seasonality. Run prophet with yearly_seasonality=True to override this.\n"
          ],
          "name": "stderr"
        },
        {
          "output_type": "stream",
          "text": [
            "mean_motion\n"
          ],
          "name": "stdout"
        },
        {
          "output_type": "stream",
          "text": [
            "INFO:fbprophet:Disabling yearly seasonality. Run prophet with yearly_seasonality=True to override this.\n"
          ],
          "name": "stderr"
        },
        {
          "output_type": "stream",
          "text": [
            "mean_anomaly\n"
          ],
          "name": "stdout"
        },
        {
          "output_type": "stream",
          "text": [
            "INFO:fbprophet:Disabling yearly seasonality. Run prophet with yearly_seasonality=True to override this.\n"
          ],
          "name": "stderr"
        },
        {
          "output_type": "stream",
          "text": [
            "correction_latitude_cosine\n"
          ],
          "name": "stdout"
        },
        {
          "output_type": "stream",
          "text": [
            "INFO:fbprophet:Disabling yearly seasonality. Run prophet with yearly_seasonality=True to override this.\n"
          ],
          "name": "stderr"
        },
        {
          "output_type": "stream",
          "text": [
            "essentricity\n"
          ],
          "name": "stdout"
        },
        {
          "output_type": "stream",
          "text": [
            "INFO:fbprophet:Disabling yearly seasonality. Run prophet with yearly_seasonality=True to override this.\n"
          ],
          "name": "stderr"
        },
        {
          "output_type": "stream",
          "text": [
            "correction_latitude_sine\n"
          ],
          "name": "stdout"
        },
        {
          "output_type": "stream",
          "text": [
            "INFO:fbprophet:Disabling yearly seasonality. Run prophet with yearly_seasonality=True to override this.\n"
          ],
          "name": "stderr"
        },
        {
          "output_type": "stream",
          "text": [
            "sqrt_semi_major_axis\n"
          ],
          "name": "stdout"
        },
        {
          "output_type": "stream",
          "text": [
            "INFO:fbprophet:Disabling yearly seasonality. Run prophet with yearly_seasonality=True to override this.\n"
          ],
          "name": "stderr"
        },
        {
          "output_type": "stream",
          "text": [
            "time_of_ephemeris\n"
          ],
          "name": "stdout"
        },
        {
          "output_type": "stream",
          "text": [
            "INFO:fbprophet:Disabling yearly seasonality. Run prophet with yearly_seasonality=True to override this.\n"
          ],
          "name": "stderr"
        },
        {
          "output_type": "stream",
          "text": [
            "correction_inclination_cosine\n"
          ],
          "name": "stdout"
        },
        {
          "output_type": "stream",
          "text": [
            "INFO:fbprophet:Disabling yearly seasonality. Run prophet with yearly_seasonality=True to override this.\n"
          ],
          "name": "stderr"
        },
        {
          "output_type": "stream",
          "text": [
            "OMEGA\n"
          ],
          "name": "stdout"
        },
        {
          "output_type": "stream",
          "text": [
            "INFO:fbprophet:Disabling yearly seasonality. Run prophet with yearly_seasonality=True to override this.\n"
          ],
          "name": "stderr"
        },
        {
          "output_type": "stream",
          "text": [
            "correction_inclination_sine\n"
          ],
          "name": "stdout"
        },
        {
          "output_type": "stream",
          "text": [
            "INFO:fbprophet:Disabling yearly seasonality. Run prophet with yearly_seasonality=True to override this.\n"
          ],
          "name": "stderr"
        },
        {
          "output_type": "stream",
          "text": [
            "inclination\n"
          ],
          "name": "stdout"
        },
        {
          "output_type": "stream",
          "text": [
            "INFO:fbprophet:Disabling yearly seasonality. Run prophet with yearly_seasonality=True to override this.\n"
          ],
          "name": "stderr"
        },
        {
          "output_type": "stream",
          "text": [
            "correction_radius_cosine\n"
          ],
          "name": "stdout"
        },
        {
          "output_type": "stream",
          "text": [
            "INFO:fbprophet:Disabling yearly seasonality. Run prophet with yearly_seasonality=True to override this.\n"
          ],
          "name": "stderr"
        },
        {
          "output_type": "stream",
          "text": [
            "omega\n"
          ],
          "name": "stdout"
        },
        {
          "output_type": "stream",
          "text": [
            "INFO:fbprophet:Disabling yearly seasonality. Run prophet with yearly_seasonality=True to override this.\n"
          ],
          "name": "stderr"
        },
        {
          "output_type": "stream",
          "text": [
            "OMEGA_dot\n"
          ],
          "name": "stdout"
        },
        {
          "output_type": "stream",
          "text": [
            "INFO:fbprophet:Disabling yearly seasonality. Run prophet with yearly_seasonality=True to override this.\n"
          ],
          "name": "stderr"
        },
        {
          "output_type": "stream",
          "text": [
            "inclination_rate\n"
          ],
          "name": "stdout"
        },
        {
          "output_type": "stream",
          "text": [
            "INFO:fbprophet:Disabling yearly seasonality. Run prophet with yearly_seasonality=True to override this.\n"
          ],
          "name": "stderr"
        },
        {
          "output_type": "stream",
          "text": [
            "codes\n"
          ],
          "name": "stdout"
        },
        {
          "output_type": "stream",
          "text": [
            "INFO:fbprophet:Disabling yearly seasonality. Run prophet with yearly_seasonality=True to override this.\n"
          ],
          "name": "stderr"
        },
        {
          "output_type": "stream",
          "text": [
            "gps_week\n"
          ],
          "name": "stdout"
        },
        {
          "output_type": "stream",
          "text": [
            "INFO:fbprophet:Disabling yearly seasonality. Run prophet with yearly_seasonality=True to override this.\n"
          ],
          "name": "stderr"
        },
        {
          "output_type": "stream",
          "text": [
            "l2_p_data_flag\n"
          ],
          "name": "stdout"
        },
        {
          "output_type": "stream",
          "text": [
            "INFO:fbprophet:Disabling yearly seasonality. Run prophet with yearly_seasonality=True to override this.\n"
          ],
          "name": "stderr"
        },
        {
          "output_type": "stream",
          "text": [
            "sv_accuracy\n"
          ],
          "name": "stdout"
        },
        {
          "output_type": "stream",
          "text": [
            "INFO:fbprophet:Disabling yearly seasonality. Run prophet with yearly_seasonality=True to override this.\n"
          ],
          "name": "stderr"
        },
        {
          "output_type": "stream",
          "text": [
            "sv_health\n"
          ],
          "name": "stdout"
        },
        {
          "output_type": "stream",
          "text": [
            "INFO:fbprophet:Disabling yearly seasonality. Run prophet with yearly_seasonality=True to override this.\n"
          ],
          "name": "stderr"
        },
        {
          "output_type": "stream",
          "text": [
            "tgd\n"
          ],
          "name": "stdout"
        },
        {
          "output_type": "stream",
          "text": [
            "INFO:fbprophet:Disabling yearly seasonality. Run prophet with yearly_seasonality=True to override this.\n"
          ],
          "name": "stderr"
        },
        {
          "output_type": "stream",
          "text": [
            "iodc\n"
          ],
          "name": "stdout"
        },
        {
          "output_type": "stream",
          "text": [
            "INFO:fbprophet:Disabling yearly seasonality. Run prophet with yearly_seasonality=True to override this.\n"
          ],
          "name": "stderr"
        },
        {
          "output_type": "stream",
          "text": [
            "t_tx\n"
          ],
          "name": "stdout"
        },
        {
          "output_type": "stream",
          "text": [
            "INFO:fbprophet:Disabling yearly seasonality. Run prophet with yearly_seasonality=True to override this.\n"
          ],
          "name": "stderr"
        },
        {
          "output_type": "stream",
          "text": [
            "fit_interval\n"
          ],
          "name": "stdout"
        },
        {
          "output_type": "stream",
          "text": [
            "INFO:fbprophet:Disabling yearly seasonality. Run prophet with yearly_seasonality=True to override this.\n"
          ],
          "name": "stderr"
        },
        {
          "output_type": "stream",
          "text": [
            "0:01:04.096576\n",
            "32\n",
            "prn\n",
            "epoch_time\n",
            "sv_clock_bias\n"
          ],
          "name": "stdout"
        },
        {
          "output_type": "stream",
          "text": [
            "INFO:fbprophet:Disabling yearly seasonality. Run prophet with yearly_seasonality=True to override this.\n"
          ],
          "name": "stderr"
        },
        {
          "output_type": "stream",
          "text": [
            "sv_clock_drift\n"
          ],
          "name": "stdout"
        },
        {
          "output_type": "stream",
          "text": [
            "INFO:fbprophet:Disabling yearly seasonality. Run prophet with yearly_seasonality=True to override this.\n"
          ],
          "name": "stderr"
        },
        {
          "output_type": "stream",
          "text": [
            "sv_clock_drift_rate\n"
          ],
          "name": "stdout"
        },
        {
          "output_type": "stream",
          "text": [
            "INFO:fbprophet:Disabling yearly seasonality. Run prophet with yearly_seasonality=True to override this.\n"
          ],
          "name": "stderr"
        },
        {
          "output_type": "stream",
          "text": [
            "iode\n"
          ],
          "name": "stdout"
        },
        {
          "output_type": "stream",
          "text": [
            "INFO:fbprophet:Disabling yearly seasonality. Run prophet with yearly_seasonality=True to override this.\n"
          ],
          "name": "stderr"
        },
        {
          "output_type": "stream",
          "text": [
            "correction_radius_sine\n"
          ],
          "name": "stdout"
        },
        {
          "output_type": "stream",
          "text": [
            "INFO:fbprophet:Disabling yearly seasonality. Run prophet with yearly_seasonality=True to override this.\n"
          ],
          "name": "stderr"
        },
        {
          "output_type": "stream",
          "text": [
            "mean_motion\n"
          ],
          "name": "stdout"
        },
        {
          "output_type": "stream",
          "text": [
            "INFO:fbprophet:Disabling yearly seasonality. Run prophet with yearly_seasonality=True to override this.\n"
          ],
          "name": "stderr"
        },
        {
          "output_type": "stream",
          "text": [
            "mean_anomaly\n"
          ],
          "name": "stdout"
        },
        {
          "output_type": "stream",
          "text": [
            "INFO:fbprophet:Disabling yearly seasonality. Run prophet with yearly_seasonality=True to override this.\n"
          ],
          "name": "stderr"
        },
        {
          "output_type": "stream",
          "text": [
            "correction_latitude_cosine\n"
          ],
          "name": "stdout"
        },
        {
          "output_type": "stream",
          "text": [
            "INFO:fbprophet:Disabling yearly seasonality. Run prophet with yearly_seasonality=True to override this.\n"
          ],
          "name": "stderr"
        },
        {
          "output_type": "stream",
          "text": [
            "essentricity\n"
          ],
          "name": "stdout"
        },
        {
          "output_type": "stream",
          "text": [
            "INFO:fbprophet:Disabling yearly seasonality. Run prophet with yearly_seasonality=True to override this.\n"
          ],
          "name": "stderr"
        },
        {
          "output_type": "stream",
          "text": [
            "correction_latitude_sine\n"
          ],
          "name": "stdout"
        },
        {
          "output_type": "stream",
          "text": [
            "INFO:fbprophet:Disabling yearly seasonality. Run prophet with yearly_seasonality=True to override this.\n"
          ],
          "name": "stderr"
        },
        {
          "output_type": "stream",
          "text": [
            "sqrt_semi_major_axis\n"
          ],
          "name": "stdout"
        },
        {
          "output_type": "stream",
          "text": [
            "INFO:fbprophet:Disabling yearly seasonality. Run prophet with yearly_seasonality=True to override this.\n"
          ],
          "name": "stderr"
        },
        {
          "output_type": "stream",
          "text": [
            "time_of_ephemeris\n"
          ],
          "name": "stdout"
        },
        {
          "output_type": "stream",
          "text": [
            "INFO:fbprophet:Disabling yearly seasonality. Run prophet with yearly_seasonality=True to override this.\n"
          ],
          "name": "stderr"
        },
        {
          "output_type": "stream",
          "text": [
            "correction_inclination_cosine\n"
          ],
          "name": "stdout"
        },
        {
          "output_type": "stream",
          "text": [
            "INFO:fbprophet:Disabling yearly seasonality. Run prophet with yearly_seasonality=True to override this.\n"
          ],
          "name": "stderr"
        },
        {
          "output_type": "stream",
          "text": [
            "OMEGA\n"
          ],
          "name": "stdout"
        },
        {
          "output_type": "stream",
          "text": [
            "INFO:fbprophet:Disabling yearly seasonality. Run prophet with yearly_seasonality=True to override this.\n"
          ],
          "name": "stderr"
        },
        {
          "output_type": "stream",
          "text": [
            "correction_inclination_sine\n"
          ],
          "name": "stdout"
        },
        {
          "output_type": "stream",
          "text": [
            "INFO:fbprophet:Disabling yearly seasonality. Run prophet with yearly_seasonality=True to override this.\n"
          ],
          "name": "stderr"
        },
        {
          "output_type": "stream",
          "text": [
            "inclination\n"
          ],
          "name": "stdout"
        },
        {
          "output_type": "stream",
          "text": [
            "INFO:fbprophet:Disabling yearly seasonality. Run prophet with yearly_seasonality=True to override this.\n"
          ],
          "name": "stderr"
        },
        {
          "output_type": "stream",
          "text": [
            "correction_radius_cosine\n"
          ],
          "name": "stdout"
        },
        {
          "output_type": "stream",
          "text": [
            "INFO:fbprophet:Disabling yearly seasonality. Run prophet with yearly_seasonality=True to override this.\n"
          ],
          "name": "stderr"
        },
        {
          "output_type": "stream",
          "text": [
            "omega\n"
          ],
          "name": "stdout"
        },
        {
          "output_type": "stream",
          "text": [
            "INFO:fbprophet:Disabling yearly seasonality. Run prophet with yearly_seasonality=True to override this.\n"
          ],
          "name": "stderr"
        },
        {
          "output_type": "stream",
          "text": [
            "OMEGA_dot\n"
          ],
          "name": "stdout"
        },
        {
          "output_type": "stream",
          "text": [
            "INFO:fbprophet:Disabling yearly seasonality. Run prophet with yearly_seasonality=True to override this.\n"
          ],
          "name": "stderr"
        },
        {
          "output_type": "stream",
          "text": [
            "inclination_rate\n"
          ],
          "name": "stdout"
        },
        {
          "output_type": "stream",
          "text": [
            "INFO:fbprophet:Disabling yearly seasonality. Run prophet with yearly_seasonality=True to override this.\n"
          ],
          "name": "stderr"
        },
        {
          "output_type": "stream",
          "text": [
            "codes\n"
          ],
          "name": "stdout"
        },
        {
          "output_type": "stream",
          "text": [
            "INFO:fbprophet:Disabling yearly seasonality. Run prophet with yearly_seasonality=True to override this.\n"
          ],
          "name": "stderr"
        },
        {
          "output_type": "stream",
          "text": [
            "gps_week\n"
          ],
          "name": "stdout"
        },
        {
          "output_type": "stream",
          "text": [
            "INFO:fbprophet:Disabling yearly seasonality. Run prophet with yearly_seasonality=True to override this.\n"
          ],
          "name": "stderr"
        },
        {
          "output_type": "stream",
          "text": [
            "l2_p_data_flag\n"
          ],
          "name": "stdout"
        },
        {
          "output_type": "stream",
          "text": [
            "INFO:fbprophet:Disabling yearly seasonality. Run prophet with yearly_seasonality=True to override this.\n"
          ],
          "name": "stderr"
        },
        {
          "output_type": "stream",
          "text": [
            "sv_accuracy\n"
          ],
          "name": "stdout"
        },
        {
          "output_type": "stream",
          "text": [
            "INFO:fbprophet:Disabling yearly seasonality. Run prophet with yearly_seasonality=True to override this.\n"
          ],
          "name": "stderr"
        },
        {
          "output_type": "stream",
          "text": [
            "sv_health\n"
          ],
          "name": "stdout"
        },
        {
          "output_type": "stream",
          "text": [
            "INFO:fbprophet:Disabling yearly seasonality. Run prophet with yearly_seasonality=True to override this.\n"
          ],
          "name": "stderr"
        },
        {
          "output_type": "stream",
          "text": [
            "tgd\n"
          ],
          "name": "stdout"
        },
        {
          "output_type": "stream",
          "text": [
            "INFO:fbprophet:Disabling yearly seasonality. Run prophet with yearly_seasonality=True to override this.\n"
          ],
          "name": "stderr"
        },
        {
          "output_type": "stream",
          "text": [
            "iodc\n"
          ],
          "name": "stdout"
        },
        {
          "output_type": "stream",
          "text": [
            "INFO:fbprophet:Disabling yearly seasonality. Run prophet with yearly_seasonality=True to override this.\n"
          ],
          "name": "stderr"
        },
        {
          "output_type": "stream",
          "text": [
            "t_tx\n"
          ],
          "name": "stdout"
        },
        {
          "output_type": "stream",
          "text": [
            "INFO:fbprophet:Disabling yearly seasonality. Run prophet with yearly_seasonality=True to override this.\n"
          ],
          "name": "stderr"
        },
        {
          "output_type": "stream",
          "text": [
            "fit_interval\n"
          ],
          "name": "stdout"
        },
        {
          "output_type": "stream",
          "text": [
            "INFO:fbprophet:Disabling yearly seasonality. Run prophet with yearly_seasonality=True to override this.\n"
          ],
          "name": "stderr"
        },
        {
          "output_type": "stream",
          "text": [
            "0:01:02.131823\n",
            "10\n",
            "prn\n",
            "epoch_time\n",
            "sv_clock_bias\n"
          ],
          "name": "stdout"
        },
        {
          "output_type": "stream",
          "text": [
            "INFO:fbprophet:Disabling yearly seasonality. Run prophet with yearly_seasonality=True to override this.\n"
          ],
          "name": "stderr"
        },
        {
          "output_type": "stream",
          "text": [
            "sv_clock_drift\n"
          ],
          "name": "stdout"
        },
        {
          "output_type": "stream",
          "text": [
            "INFO:fbprophet:Disabling yearly seasonality. Run prophet with yearly_seasonality=True to override this.\n"
          ],
          "name": "stderr"
        },
        {
          "output_type": "stream",
          "text": [
            "sv_clock_drift_rate\n"
          ],
          "name": "stdout"
        },
        {
          "output_type": "stream",
          "text": [
            "INFO:fbprophet:Disabling yearly seasonality. Run prophet with yearly_seasonality=True to override this.\n"
          ],
          "name": "stderr"
        },
        {
          "output_type": "stream",
          "text": [
            "iode\n"
          ],
          "name": "stdout"
        },
        {
          "output_type": "stream",
          "text": [
            "INFO:fbprophet:Disabling yearly seasonality. Run prophet with yearly_seasonality=True to override this.\n"
          ],
          "name": "stderr"
        },
        {
          "output_type": "stream",
          "text": [
            "correction_radius_sine\n"
          ],
          "name": "stdout"
        },
        {
          "output_type": "stream",
          "text": [
            "INFO:fbprophet:Disabling yearly seasonality. Run prophet with yearly_seasonality=True to override this.\n"
          ],
          "name": "stderr"
        },
        {
          "output_type": "stream",
          "text": [
            "mean_motion\n"
          ],
          "name": "stdout"
        },
        {
          "output_type": "stream",
          "text": [
            "INFO:fbprophet:Disabling yearly seasonality. Run prophet with yearly_seasonality=True to override this.\n"
          ],
          "name": "stderr"
        },
        {
          "output_type": "stream",
          "text": [
            "mean_anomaly\n"
          ],
          "name": "stdout"
        },
        {
          "output_type": "stream",
          "text": [
            "INFO:fbprophet:Disabling yearly seasonality. Run prophet with yearly_seasonality=True to override this.\n"
          ],
          "name": "stderr"
        },
        {
          "output_type": "stream",
          "text": [
            "correction_latitude_cosine\n"
          ],
          "name": "stdout"
        },
        {
          "output_type": "stream",
          "text": [
            "INFO:fbprophet:Disabling yearly seasonality. Run prophet with yearly_seasonality=True to override this.\n"
          ],
          "name": "stderr"
        },
        {
          "output_type": "stream",
          "text": [
            "essentricity\n"
          ],
          "name": "stdout"
        },
        {
          "output_type": "stream",
          "text": [
            "INFO:fbprophet:Disabling yearly seasonality. Run prophet with yearly_seasonality=True to override this.\n"
          ],
          "name": "stderr"
        },
        {
          "output_type": "stream",
          "text": [
            "correction_latitude_sine\n"
          ],
          "name": "stdout"
        },
        {
          "output_type": "stream",
          "text": [
            "INFO:fbprophet:Disabling yearly seasonality. Run prophet with yearly_seasonality=True to override this.\n"
          ],
          "name": "stderr"
        },
        {
          "output_type": "stream",
          "text": [
            "sqrt_semi_major_axis\n"
          ],
          "name": "stdout"
        },
        {
          "output_type": "stream",
          "text": [
            "INFO:fbprophet:Disabling yearly seasonality. Run prophet with yearly_seasonality=True to override this.\n"
          ],
          "name": "stderr"
        },
        {
          "output_type": "stream",
          "text": [
            "time_of_ephemeris\n"
          ],
          "name": "stdout"
        },
        {
          "output_type": "stream",
          "text": [
            "INFO:fbprophet:Disabling yearly seasonality. Run prophet with yearly_seasonality=True to override this.\n"
          ],
          "name": "stderr"
        },
        {
          "output_type": "stream",
          "text": [
            "correction_inclination_cosine\n"
          ],
          "name": "stdout"
        },
        {
          "output_type": "stream",
          "text": [
            "INFO:fbprophet:Disabling yearly seasonality. Run prophet with yearly_seasonality=True to override this.\n"
          ],
          "name": "stderr"
        },
        {
          "output_type": "stream",
          "text": [
            "OMEGA\n"
          ],
          "name": "stdout"
        },
        {
          "output_type": "stream",
          "text": [
            "INFO:fbprophet:Disabling yearly seasonality. Run prophet with yearly_seasonality=True to override this.\n"
          ],
          "name": "stderr"
        },
        {
          "output_type": "stream",
          "text": [
            "correction_inclination_sine\n"
          ],
          "name": "stdout"
        },
        {
          "output_type": "stream",
          "text": [
            "INFO:fbprophet:Disabling yearly seasonality. Run prophet with yearly_seasonality=True to override this.\n"
          ],
          "name": "stderr"
        },
        {
          "output_type": "stream",
          "text": [
            "inclination\n"
          ],
          "name": "stdout"
        },
        {
          "output_type": "stream",
          "text": [
            "INFO:fbprophet:Disabling yearly seasonality. Run prophet with yearly_seasonality=True to override this.\n"
          ],
          "name": "stderr"
        },
        {
          "output_type": "stream",
          "text": [
            "correction_radius_cosine\n"
          ],
          "name": "stdout"
        },
        {
          "output_type": "stream",
          "text": [
            "INFO:fbprophet:Disabling yearly seasonality. Run prophet with yearly_seasonality=True to override this.\n"
          ],
          "name": "stderr"
        },
        {
          "output_type": "stream",
          "text": [
            "omega\n"
          ],
          "name": "stdout"
        },
        {
          "output_type": "stream",
          "text": [
            "INFO:fbprophet:Disabling yearly seasonality. Run prophet with yearly_seasonality=True to override this.\n"
          ],
          "name": "stderr"
        },
        {
          "output_type": "stream",
          "text": [
            "OMEGA_dot\n"
          ],
          "name": "stdout"
        },
        {
          "output_type": "stream",
          "text": [
            "INFO:fbprophet:Disabling yearly seasonality. Run prophet with yearly_seasonality=True to override this.\n"
          ],
          "name": "stderr"
        },
        {
          "output_type": "stream",
          "text": [
            "inclination_rate\n"
          ],
          "name": "stdout"
        },
        {
          "output_type": "stream",
          "text": [
            "INFO:fbprophet:Disabling yearly seasonality. Run prophet with yearly_seasonality=True to override this.\n"
          ],
          "name": "stderr"
        },
        {
          "output_type": "stream",
          "text": [
            "codes\n"
          ],
          "name": "stdout"
        },
        {
          "output_type": "stream",
          "text": [
            "INFO:fbprophet:Disabling yearly seasonality. Run prophet with yearly_seasonality=True to override this.\n"
          ],
          "name": "stderr"
        },
        {
          "output_type": "stream",
          "text": [
            "gps_week\n"
          ],
          "name": "stdout"
        },
        {
          "output_type": "stream",
          "text": [
            "INFO:fbprophet:Disabling yearly seasonality. Run prophet with yearly_seasonality=True to override this.\n"
          ],
          "name": "stderr"
        },
        {
          "output_type": "stream",
          "text": [
            "l2_p_data_flag\n"
          ],
          "name": "stdout"
        },
        {
          "output_type": "stream",
          "text": [
            "INFO:fbprophet:Disabling yearly seasonality. Run prophet with yearly_seasonality=True to override this.\n"
          ],
          "name": "stderr"
        },
        {
          "output_type": "stream",
          "text": [
            "sv_accuracy\n"
          ],
          "name": "stdout"
        },
        {
          "output_type": "stream",
          "text": [
            "INFO:fbprophet:Disabling yearly seasonality. Run prophet with yearly_seasonality=True to override this.\n"
          ],
          "name": "stderr"
        },
        {
          "output_type": "stream",
          "text": [
            "sv_health\n"
          ],
          "name": "stdout"
        },
        {
          "output_type": "stream",
          "text": [
            "INFO:fbprophet:Disabling yearly seasonality. Run prophet with yearly_seasonality=True to override this.\n"
          ],
          "name": "stderr"
        },
        {
          "output_type": "stream",
          "text": [
            "tgd\n"
          ],
          "name": "stdout"
        },
        {
          "output_type": "stream",
          "text": [
            "INFO:fbprophet:Disabling yearly seasonality. Run prophet with yearly_seasonality=True to override this.\n"
          ],
          "name": "stderr"
        },
        {
          "output_type": "stream",
          "text": [
            "iodc\n"
          ],
          "name": "stdout"
        },
        {
          "output_type": "stream",
          "text": [
            "INFO:fbprophet:Disabling yearly seasonality. Run prophet with yearly_seasonality=True to override this.\n"
          ],
          "name": "stderr"
        },
        {
          "output_type": "stream",
          "text": [
            "t_tx\n"
          ],
          "name": "stdout"
        },
        {
          "output_type": "stream",
          "text": [
            "INFO:fbprophet:Disabling yearly seasonality. Run prophet with yearly_seasonality=True to override this.\n"
          ],
          "name": "stderr"
        },
        {
          "output_type": "stream",
          "text": [
            "fit_interval\n"
          ],
          "name": "stdout"
        },
        {
          "output_type": "stream",
          "text": [
            "INFO:fbprophet:Disabling yearly seasonality. Run prophet with yearly_seasonality=True to override this.\n"
          ],
          "name": "stderr"
        },
        {
          "output_type": "stream",
          "text": [
            "0:01:02.766664\n",
            "8\n",
            "prn\n",
            "epoch_time\n",
            "sv_clock_bias\n"
          ],
          "name": "stdout"
        },
        {
          "output_type": "stream",
          "text": [
            "INFO:fbprophet:Disabling yearly seasonality. Run prophet with yearly_seasonality=True to override this.\n"
          ],
          "name": "stderr"
        },
        {
          "output_type": "stream",
          "text": [
            "sv_clock_drift\n"
          ],
          "name": "stdout"
        },
        {
          "output_type": "stream",
          "text": [
            "INFO:fbprophet:Disabling yearly seasonality. Run prophet with yearly_seasonality=True to override this.\n"
          ],
          "name": "stderr"
        },
        {
          "output_type": "stream",
          "text": [
            "sv_clock_drift_rate\n"
          ],
          "name": "stdout"
        },
        {
          "output_type": "stream",
          "text": [
            "INFO:fbprophet:Disabling yearly seasonality. Run prophet with yearly_seasonality=True to override this.\n"
          ],
          "name": "stderr"
        },
        {
          "output_type": "stream",
          "text": [
            "iode\n"
          ],
          "name": "stdout"
        },
        {
          "output_type": "stream",
          "text": [
            "INFO:fbprophet:Disabling yearly seasonality. Run prophet with yearly_seasonality=True to override this.\n"
          ],
          "name": "stderr"
        },
        {
          "output_type": "stream",
          "text": [
            "correction_radius_sine\n"
          ],
          "name": "stdout"
        },
        {
          "output_type": "stream",
          "text": [
            "INFO:fbprophet:Disabling yearly seasonality. Run prophet with yearly_seasonality=True to override this.\n"
          ],
          "name": "stderr"
        },
        {
          "output_type": "stream",
          "text": [
            "mean_motion\n"
          ],
          "name": "stdout"
        },
        {
          "output_type": "stream",
          "text": [
            "INFO:fbprophet:Disabling yearly seasonality. Run prophet with yearly_seasonality=True to override this.\n"
          ],
          "name": "stderr"
        },
        {
          "output_type": "stream",
          "text": [
            "mean_anomaly\n"
          ],
          "name": "stdout"
        },
        {
          "output_type": "stream",
          "text": [
            "INFO:fbprophet:Disabling yearly seasonality. Run prophet with yearly_seasonality=True to override this.\n"
          ],
          "name": "stderr"
        },
        {
          "output_type": "stream",
          "text": [
            "correction_latitude_cosine\n"
          ],
          "name": "stdout"
        },
        {
          "output_type": "stream",
          "text": [
            "INFO:fbprophet:Disabling yearly seasonality. Run prophet with yearly_seasonality=True to override this.\n"
          ],
          "name": "stderr"
        },
        {
          "output_type": "stream",
          "text": [
            "essentricity\n"
          ],
          "name": "stdout"
        },
        {
          "output_type": "stream",
          "text": [
            "INFO:fbprophet:Disabling yearly seasonality. Run prophet with yearly_seasonality=True to override this.\n"
          ],
          "name": "stderr"
        },
        {
          "output_type": "stream",
          "text": [
            "correction_latitude_sine\n"
          ],
          "name": "stdout"
        },
        {
          "output_type": "stream",
          "text": [
            "INFO:fbprophet:Disabling yearly seasonality. Run prophet with yearly_seasonality=True to override this.\n"
          ],
          "name": "stderr"
        },
        {
          "output_type": "stream",
          "text": [
            "sqrt_semi_major_axis\n"
          ],
          "name": "stdout"
        },
        {
          "output_type": "stream",
          "text": [
            "INFO:fbprophet:Disabling yearly seasonality. Run prophet with yearly_seasonality=True to override this.\n"
          ],
          "name": "stderr"
        },
        {
          "output_type": "stream",
          "text": [
            "time_of_ephemeris\n"
          ],
          "name": "stdout"
        },
        {
          "output_type": "stream",
          "text": [
            "INFO:fbprophet:Disabling yearly seasonality. Run prophet with yearly_seasonality=True to override this.\n"
          ],
          "name": "stderr"
        },
        {
          "output_type": "stream",
          "text": [
            "correction_inclination_cosine\n"
          ],
          "name": "stdout"
        },
        {
          "output_type": "stream",
          "text": [
            "INFO:fbprophet:Disabling yearly seasonality. Run prophet with yearly_seasonality=True to override this.\n"
          ],
          "name": "stderr"
        },
        {
          "output_type": "stream",
          "text": [
            "OMEGA\n"
          ],
          "name": "stdout"
        },
        {
          "output_type": "stream",
          "text": [
            "INFO:fbprophet:Disabling yearly seasonality. Run prophet with yearly_seasonality=True to override this.\n"
          ],
          "name": "stderr"
        },
        {
          "output_type": "stream",
          "text": [
            "correction_inclination_sine\n"
          ],
          "name": "stdout"
        },
        {
          "output_type": "stream",
          "text": [
            "INFO:fbprophet:Disabling yearly seasonality. Run prophet with yearly_seasonality=True to override this.\n"
          ],
          "name": "stderr"
        },
        {
          "output_type": "stream",
          "text": [
            "inclination\n"
          ],
          "name": "stdout"
        },
        {
          "output_type": "stream",
          "text": [
            "INFO:fbprophet:Disabling yearly seasonality. Run prophet with yearly_seasonality=True to override this.\n"
          ],
          "name": "stderr"
        },
        {
          "output_type": "stream",
          "text": [
            "correction_radius_cosine\n"
          ],
          "name": "stdout"
        },
        {
          "output_type": "stream",
          "text": [
            "INFO:fbprophet:Disabling yearly seasonality. Run prophet with yearly_seasonality=True to override this.\n"
          ],
          "name": "stderr"
        },
        {
          "output_type": "stream",
          "text": [
            "omega\n"
          ],
          "name": "stdout"
        },
        {
          "output_type": "stream",
          "text": [
            "INFO:fbprophet:Disabling yearly seasonality. Run prophet with yearly_seasonality=True to override this.\n"
          ],
          "name": "stderr"
        },
        {
          "output_type": "stream",
          "text": [
            "OMEGA_dot\n"
          ],
          "name": "stdout"
        },
        {
          "output_type": "stream",
          "text": [
            "INFO:fbprophet:Disabling yearly seasonality. Run prophet with yearly_seasonality=True to override this.\n"
          ],
          "name": "stderr"
        },
        {
          "output_type": "stream",
          "text": [
            "inclination_rate\n"
          ],
          "name": "stdout"
        },
        {
          "output_type": "stream",
          "text": [
            "INFO:fbprophet:Disabling yearly seasonality. Run prophet with yearly_seasonality=True to override this.\n"
          ],
          "name": "stderr"
        },
        {
          "output_type": "stream",
          "text": [
            "codes\n"
          ],
          "name": "stdout"
        },
        {
          "output_type": "stream",
          "text": [
            "INFO:fbprophet:Disabling yearly seasonality. Run prophet with yearly_seasonality=True to override this.\n"
          ],
          "name": "stderr"
        },
        {
          "output_type": "stream",
          "text": [
            "gps_week\n"
          ],
          "name": "stdout"
        },
        {
          "output_type": "stream",
          "text": [
            "INFO:fbprophet:Disabling yearly seasonality. Run prophet with yearly_seasonality=True to override this.\n"
          ],
          "name": "stderr"
        },
        {
          "output_type": "stream",
          "text": [
            "l2_p_data_flag\n"
          ],
          "name": "stdout"
        },
        {
          "output_type": "stream",
          "text": [
            "INFO:fbprophet:Disabling yearly seasonality. Run prophet with yearly_seasonality=True to override this.\n"
          ],
          "name": "stderr"
        },
        {
          "output_type": "stream",
          "text": [
            "sv_accuracy\n"
          ],
          "name": "stdout"
        },
        {
          "output_type": "stream",
          "text": [
            "INFO:fbprophet:Disabling yearly seasonality. Run prophet with yearly_seasonality=True to override this.\n"
          ],
          "name": "stderr"
        },
        {
          "output_type": "stream",
          "text": [
            "sv_health\n"
          ],
          "name": "stdout"
        },
        {
          "output_type": "stream",
          "text": [
            "INFO:fbprophet:Disabling yearly seasonality. Run prophet with yearly_seasonality=True to override this.\n"
          ],
          "name": "stderr"
        },
        {
          "output_type": "stream",
          "text": [
            "tgd\n"
          ],
          "name": "stdout"
        },
        {
          "output_type": "stream",
          "text": [
            "INFO:fbprophet:Disabling yearly seasonality. Run prophet with yearly_seasonality=True to override this.\n"
          ],
          "name": "stderr"
        },
        {
          "output_type": "stream",
          "text": [
            "iodc\n"
          ],
          "name": "stdout"
        },
        {
          "output_type": "stream",
          "text": [
            "INFO:fbprophet:Disabling yearly seasonality. Run prophet with yearly_seasonality=True to override this.\n"
          ],
          "name": "stderr"
        },
        {
          "output_type": "stream",
          "text": [
            "t_tx\n"
          ],
          "name": "stdout"
        },
        {
          "output_type": "stream",
          "text": [
            "INFO:fbprophet:Disabling yearly seasonality. Run prophet with yearly_seasonality=True to override this.\n"
          ],
          "name": "stderr"
        },
        {
          "output_type": "stream",
          "text": [
            "fit_interval\n"
          ],
          "name": "stdout"
        },
        {
          "output_type": "stream",
          "text": [
            "INFO:fbprophet:Disabling yearly seasonality. Run prophet with yearly_seasonality=True to override this.\n"
          ],
          "name": "stderr"
        },
        {
          "output_type": "stream",
          "text": [
            "0:01:02.642701\n",
            "31\n",
            "prn\n",
            "epoch_time\n",
            "sv_clock_bias\n"
          ],
          "name": "stdout"
        },
        {
          "output_type": "stream",
          "text": [
            "INFO:fbprophet:Disabling yearly seasonality. Run prophet with yearly_seasonality=True to override this.\n"
          ],
          "name": "stderr"
        },
        {
          "output_type": "stream",
          "text": [
            "sv_clock_drift\n"
          ],
          "name": "stdout"
        },
        {
          "output_type": "stream",
          "text": [
            "INFO:fbprophet:Disabling yearly seasonality. Run prophet with yearly_seasonality=True to override this.\n"
          ],
          "name": "stderr"
        },
        {
          "output_type": "stream",
          "text": [
            "sv_clock_drift_rate\n"
          ],
          "name": "stdout"
        },
        {
          "output_type": "stream",
          "text": [
            "INFO:fbprophet:Disabling yearly seasonality. Run prophet with yearly_seasonality=True to override this.\n"
          ],
          "name": "stderr"
        },
        {
          "output_type": "stream",
          "text": [
            "iode\n"
          ],
          "name": "stdout"
        },
        {
          "output_type": "stream",
          "text": [
            "INFO:fbprophet:Disabling yearly seasonality. Run prophet with yearly_seasonality=True to override this.\n"
          ],
          "name": "stderr"
        },
        {
          "output_type": "stream",
          "text": [
            "correction_radius_sine\n"
          ],
          "name": "stdout"
        },
        {
          "output_type": "stream",
          "text": [
            "INFO:fbprophet:Disabling yearly seasonality. Run prophet with yearly_seasonality=True to override this.\n"
          ],
          "name": "stderr"
        },
        {
          "output_type": "stream",
          "text": [
            "mean_motion\n"
          ],
          "name": "stdout"
        },
        {
          "output_type": "stream",
          "text": [
            "INFO:fbprophet:Disabling yearly seasonality. Run prophet with yearly_seasonality=True to override this.\n"
          ],
          "name": "stderr"
        },
        {
          "output_type": "stream",
          "text": [
            "mean_anomaly\n"
          ],
          "name": "stdout"
        },
        {
          "output_type": "stream",
          "text": [
            "INFO:fbprophet:Disabling yearly seasonality. Run prophet with yearly_seasonality=True to override this.\n"
          ],
          "name": "stderr"
        },
        {
          "output_type": "stream",
          "text": [
            "correction_latitude_cosine\n"
          ],
          "name": "stdout"
        },
        {
          "output_type": "stream",
          "text": [
            "INFO:fbprophet:Disabling yearly seasonality. Run prophet with yearly_seasonality=True to override this.\n"
          ],
          "name": "stderr"
        },
        {
          "output_type": "stream",
          "text": [
            "essentricity\n"
          ],
          "name": "stdout"
        },
        {
          "output_type": "stream",
          "text": [
            "INFO:fbprophet:Disabling yearly seasonality. Run prophet with yearly_seasonality=True to override this.\n"
          ],
          "name": "stderr"
        },
        {
          "output_type": "stream",
          "text": [
            "correction_latitude_sine\n"
          ],
          "name": "stdout"
        },
        {
          "output_type": "stream",
          "text": [
            "INFO:fbprophet:Disabling yearly seasonality. Run prophet with yearly_seasonality=True to override this.\n"
          ],
          "name": "stderr"
        },
        {
          "output_type": "stream",
          "text": [
            "sqrt_semi_major_axis\n"
          ],
          "name": "stdout"
        },
        {
          "output_type": "stream",
          "text": [
            "INFO:fbprophet:Disabling yearly seasonality. Run prophet with yearly_seasonality=True to override this.\n"
          ],
          "name": "stderr"
        },
        {
          "output_type": "stream",
          "text": [
            "time_of_ephemeris\n"
          ],
          "name": "stdout"
        },
        {
          "output_type": "stream",
          "text": [
            "INFO:fbprophet:Disabling yearly seasonality. Run prophet with yearly_seasonality=True to override this.\n"
          ],
          "name": "stderr"
        },
        {
          "output_type": "stream",
          "text": [
            "correction_inclination_cosine\n"
          ],
          "name": "stdout"
        },
        {
          "output_type": "stream",
          "text": [
            "INFO:fbprophet:Disabling yearly seasonality. Run prophet with yearly_seasonality=True to override this.\n"
          ],
          "name": "stderr"
        },
        {
          "output_type": "stream",
          "text": [
            "OMEGA\n"
          ],
          "name": "stdout"
        },
        {
          "output_type": "stream",
          "text": [
            "INFO:fbprophet:Disabling yearly seasonality. Run prophet with yearly_seasonality=True to override this.\n"
          ],
          "name": "stderr"
        },
        {
          "output_type": "stream",
          "text": [
            "correction_inclination_sine\n"
          ],
          "name": "stdout"
        },
        {
          "output_type": "stream",
          "text": [
            "INFO:fbprophet:Disabling yearly seasonality. Run prophet with yearly_seasonality=True to override this.\n"
          ],
          "name": "stderr"
        },
        {
          "output_type": "stream",
          "text": [
            "inclination\n"
          ],
          "name": "stdout"
        },
        {
          "output_type": "stream",
          "text": [
            "INFO:fbprophet:Disabling yearly seasonality. Run prophet with yearly_seasonality=True to override this.\n"
          ],
          "name": "stderr"
        },
        {
          "output_type": "stream",
          "text": [
            "correction_radius_cosine\n"
          ],
          "name": "stdout"
        },
        {
          "output_type": "stream",
          "text": [
            "INFO:fbprophet:Disabling yearly seasonality. Run prophet with yearly_seasonality=True to override this.\n"
          ],
          "name": "stderr"
        },
        {
          "output_type": "stream",
          "text": [
            "omega\n"
          ],
          "name": "stdout"
        },
        {
          "output_type": "stream",
          "text": [
            "INFO:fbprophet:Disabling yearly seasonality. Run prophet with yearly_seasonality=True to override this.\n"
          ],
          "name": "stderr"
        },
        {
          "output_type": "stream",
          "text": [
            "OMEGA_dot\n"
          ],
          "name": "stdout"
        },
        {
          "output_type": "stream",
          "text": [
            "INFO:fbprophet:Disabling yearly seasonality. Run prophet with yearly_seasonality=True to override this.\n"
          ],
          "name": "stderr"
        },
        {
          "output_type": "stream",
          "text": [
            "inclination_rate\n"
          ],
          "name": "stdout"
        },
        {
          "output_type": "stream",
          "text": [
            "INFO:fbprophet:Disabling yearly seasonality. Run prophet with yearly_seasonality=True to override this.\n"
          ],
          "name": "stderr"
        },
        {
          "output_type": "stream",
          "text": [
            "codes\n"
          ],
          "name": "stdout"
        },
        {
          "output_type": "stream",
          "text": [
            "INFO:fbprophet:Disabling yearly seasonality. Run prophet with yearly_seasonality=True to override this.\n"
          ],
          "name": "stderr"
        },
        {
          "output_type": "stream",
          "text": [
            "gps_week\n"
          ],
          "name": "stdout"
        },
        {
          "output_type": "stream",
          "text": [
            "INFO:fbprophet:Disabling yearly seasonality. Run prophet with yearly_seasonality=True to override this.\n"
          ],
          "name": "stderr"
        },
        {
          "output_type": "stream",
          "text": [
            "l2_p_data_flag\n"
          ],
          "name": "stdout"
        },
        {
          "output_type": "stream",
          "text": [
            "INFO:fbprophet:Disabling yearly seasonality. Run prophet with yearly_seasonality=True to override this.\n"
          ],
          "name": "stderr"
        },
        {
          "output_type": "stream",
          "text": [
            "sv_accuracy\n"
          ],
          "name": "stdout"
        },
        {
          "output_type": "stream",
          "text": [
            "INFO:fbprophet:Disabling yearly seasonality. Run prophet with yearly_seasonality=True to override this.\n"
          ],
          "name": "stderr"
        },
        {
          "output_type": "stream",
          "text": [
            "sv_health\n"
          ],
          "name": "stdout"
        },
        {
          "output_type": "stream",
          "text": [
            "INFO:fbprophet:Disabling yearly seasonality. Run prophet with yearly_seasonality=True to override this.\n"
          ],
          "name": "stderr"
        },
        {
          "output_type": "stream",
          "text": [
            "tgd\n"
          ],
          "name": "stdout"
        },
        {
          "output_type": "stream",
          "text": [
            "INFO:fbprophet:Disabling yearly seasonality. Run prophet with yearly_seasonality=True to override this.\n"
          ],
          "name": "stderr"
        },
        {
          "output_type": "stream",
          "text": [
            "iodc\n"
          ],
          "name": "stdout"
        },
        {
          "output_type": "stream",
          "text": [
            "INFO:fbprophet:Disabling yearly seasonality. Run prophet with yearly_seasonality=True to override this.\n"
          ],
          "name": "stderr"
        },
        {
          "output_type": "stream",
          "text": [
            "t_tx\n"
          ],
          "name": "stdout"
        },
        {
          "output_type": "stream",
          "text": [
            "INFO:fbprophet:Disabling yearly seasonality. Run prophet with yearly_seasonality=True to override this.\n"
          ],
          "name": "stderr"
        },
        {
          "output_type": "stream",
          "text": [
            "fit_interval\n"
          ],
          "name": "stdout"
        },
        {
          "output_type": "stream",
          "text": [
            "INFO:fbprophet:Disabling yearly seasonality. Run prophet with yearly_seasonality=True to override this.\n"
          ],
          "name": "stderr"
        },
        {
          "output_type": "stream",
          "text": [
            "0:01:29.635651\n",
            "27\n",
            "prn\n",
            "epoch_time\n",
            "sv_clock_bias\n"
          ],
          "name": "stdout"
        },
        {
          "output_type": "stream",
          "text": [
            "INFO:fbprophet:Disabling yearly seasonality. Run prophet with yearly_seasonality=True to override this.\n"
          ],
          "name": "stderr"
        },
        {
          "output_type": "stream",
          "text": [
            "sv_clock_drift\n"
          ],
          "name": "stdout"
        },
        {
          "output_type": "stream",
          "text": [
            "INFO:fbprophet:Disabling yearly seasonality. Run prophet with yearly_seasonality=True to override this.\n"
          ],
          "name": "stderr"
        },
        {
          "output_type": "stream",
          "text": [
            "sv_clock_drift_rate\n"
          ],
          "name": "stdout"
        },
        {
          "output_type": "stream",
          "text": [
            "INFO:fbprophet:Disabling yearly seasonality. Run prophet with yearly_seasonality=True to override this.\n"
          ],
          "name": "stderr"
        },
        {
          "output_type": "stream",
          "text": [
            "iode\n"
          ],
          "name": "stdout"
        },
        {
          "output_type": "stream",
          "text": [
            "INFO:fbprophet:Disabling yearly seasonality. Run prophet with yearly_seasonality=True to override this.\n"
          ],
          "name": "stderr"
        },
        {
          "output_type": "stream",
          "text": [
            "correction_radius_sine\n"
          ],
          "name": "stdout"
        },
        {
          "output_type": "stream",
          "text": [
            "INFO:fbprophet:Disabling yearly seasonality. Run prophet with yearly_seasonality=True to override this.\n"
          ],
          "name": "stderr"
        },
        {
          "output_type": "stream",
          "text": [
            "mean_motion\n"
          ],
          "name": "stdout"
        },
        {
          "output_type": "stream",
          "text": [
            "INFO:fbprophet:Disabling yearly seasonality. Run prophet with yearly_seasonality=True to override this.\n"
          ],
          "name": "stderr"
        },
        {
          "output_type": "stream",
          "text": [
            "mean_anomaly\n"
          ],
          "name": "stdout"
        },
        {
          "output_type": "stream",
          "text": [
            "INFO:fbprophet:Disabling yearly seasonality. Run prophet with yearly_seasonality=True to override this.\n"
          ],
          "name": "stderr"
        },
        {
          "output_type": "stream",
          "text": [
            "correction_latitude_cosine\n"
          ],
          "name": "stdout"
        },
        {
          "output_type": "stream",
          "text": [
            "INFO:fbprophet:Disabling yearly seasonality. Run prophet with yearly_seasonality=True to override this.\n"
          ],
          "name": "stderr"
        },
        {
          "output_type": "stream",
          "text": [
            "essentricity\n"
          ],
          "name": "stdout"
        },
        {
          "output_type": "stream",
          "text": [
            "INFO:fbprophet:Disabling yearly seasonality. Run prophet with yearly_seasonality=True to override this.\n"
          ],
          "name": "stderr"
        },
        {
          "output_type": "stream",
          "text": [
            "correction_latitude_sine\n"
          ],
          "name": "stdout"
        },
        {
          "output_type": "stream",
          "text": [
            "INFO:fbprophet:Disabling yearly seasonality. Run prophet with yearly_seasonality=True to override this.\n"
          ],
          "name": "stderr"
        },
        {
          "output_type": "stream",
          "text": [
            "sqrt_semi_major_axis\n"
          ],
          "name": "stdout"
        },
        {
          "output_type": "stream",
          "text": [
            "INFO:fbprophet:Disabling yearly seasonality. Run prophet with yearly_seasonality=True to override this.\n"
          ],
          "name": "stderr"
        },
        {
          "output_type": "stream",
          "text": [
            "time_of_ephemeris\n"
          ],
          "name": "stdout"
        },
        {
          "output_type": "stream",
          "text": [
            "INFO:fbprophet:Disabling yearly seasonality. Run prophet with yearly_seasonality=True to override this.\n"
          ],
          "name": "stderr"
        },
        {
          "output_type": "stream",
          "text": [
            "correction_inclination_cosine\n"
          ],
          "name": "stdout"
        },
        {
          "output_type": "stream",
          "text": [
            "INFO:fbprophet:Disabling yearly seasonality. Run prophet with yearly_seasonality=True to override this.\n"
          ],
          "name": "stderr"
        },
        {
          "output_type": "stream",
          "text": [
            "OMEGA\n"
          ],
          "name": "stdout"
        },
        {
          "output_type": "stream",
          "text": [
            "INFO:fbprophet:Disabling yearly seasonality. Run prophet with yearly_seasonality=True to override this.\n"
          ],
          "name": "stderr"
        },
        {
          "output_type": "stream",
          "text": [
            "correction_inclination_sine\n"
          ],
          "name": "stdout"
        },
        {
          "output_type": "stream",
          "text": [
            "INFO:fbprophet:Disabling yearly seasonality. Run prophet with yearly_seasonality=True to override this.\n"
          ],
          "name": "stderr"
        },
        {
          "output_type": "stream",
          "text": [
            "inclination\n"
          ],
          "name": "stdout"
        },
        {
          "output_type": "stream",
          "text": [
            "INFO:fbprophet:Disabling yearly seasonality. Run prophet with yearly_seasonality=True to override this.\n"
          ],
          "name": "stderr"
        },
        {
          "output_type": "stream",
          "text": [
            "correction_radius_cosine\n"
          ],
          "name": "stdout"
        },
        {
          "output_type": "stream",
          "text": [
            "INFO:fbprophet:Disabling yearly seasonality. Run prophet with yearly_seasonality=True to override this.\n"
          ],
          "name": "stderr"
        },
        {
          "output_type": "stream",
          "text": [
            "omega\n"
          ],
          "name": "stdout"
        },
        {
          "output_type": "stream",
          "text": [
            "INFO:fbprophet:Disabling yearly seasonality. Run prophet with yearly_seasonality=True to override this.\n"
          ],
          "name": "stderr"
        },
        {
          "output_type": "stream",
          "text": [
            "OMEGA_dot\n"
          ],
          "name": "stdout"
        },
        {
          "output_type": "stream",
          "text": [
            "INFO:fbprophet:Disabling yearly seasonality. Run prophet with yearly_seasonality=True to override this.\n"
          ],
          "name": "stderr"
        },
        {
          "output_type": "stream",
          "text": [
            "inclination_rate\n"
          ],
          "name": "stdout"
        },
        {
          "output_type": "stream",
          "text": [
            "INFO:fbprophet:Disabling yearly seasonality. Run prophet with yearly_seasonality=True to override this.\n"
          ],
          "name": "stderr"
        },
        {
          "output_type": "stream",
          "text": [
            "codes\n"
          ],
          "name": "stdout"
        },
        {
          "output_type": "stream",
          "text": [
            "INFO:fbprophet:Disabling yearly seasonality. Run prophet with yearly_seasonality=True to override this.\n"
          ],
          "name": "stderr"
        },
        {
          "output_type": "stream",
          "text": [
            "gps_week\n"
          ],
          "name": "stdout"
        },
        {
          "output_type": "stream",
          "text": [
            "INFO:fbprophet:Disabling yearly seasonality. Run prophet with yearly_seasonality=True to override this.\n"
          ],
          "name": "stderr"
        },
        {
          "output_type": "stream",
          "text": [
            "l2_p_data_flag\n"
          ],
          "name": "stdout"
        },
        {
          "output_type": "stream",
          "text": [
            "INFO:fbprophet:Disabling yearly seasonality. Run prophet with yearly_seasonality=True to override this.\n"
          ],
          "name": "stderr"
        },
        {
          "output_type": "stream",
          "text": [
            "sv_accuracy\n"
          ],
          "name": "stdout"
        },
        {
          "output_type": "stream",
          "text": [
            "INFO:fbprophet:Disabling yearly seasonality. Run prophet with yearly_seasonality=True to override this.\n"
          ],
          "name": "stderr"
        },
        {
          "output_type": "stream",
          "text": [
            "sv_health\n"
          ],
          "name": "stdout"
        },
        {
          "output_type": "stream",
          "text": [
            "INFO:fbprophet:Disabling yearly seasonality. Run prophet with yearly_seasonality=True to override this.\n"
          ],
          "name": "stderr"
        },
        {
          "output_type": "stream",
          "text": [
            "tgd\n"
          ],
          "name": "stdout"
        },
        {
          "output_type": "stream",
          "text": [
            "INFO:fbprophet:Disabling yearly seasonality. Run prophet with yearly_seasonality=True to override this.\n"
          ],
          "name": "stderr"
        },
        {
          "output_type": "stream",
          "text": [
            "iodc\n"
          ],
          "name": "stdout"
        },
        {
          "output_type": "stream",
          "text": [
            "INFO:fbprophet:Disabling yearly seasonality. Run prophet with yearly_seasonality=True to override this.\n"
          ],
          "name": "stderr"
        },
        {
          "output_type": "stream",
          "text": [
            "t_tx\n"
          ],
          "name": "stdout"
        },
        {
          "output_type": "stream",
          "text": [
            "INFO:fbprophet:Disabling yearly seasonality. Run prophet with yearly_seasonality=True to override this.\n"
          ],
          "name": "stderr"
        },
        {
          "output_type": "stream",
          "text": [
            "fit_interval\n"
          ],
          "name": "stdout"
        },
        {
          "output_type": "stream",
          "text": [
            "INFO:fbprophet:Disabling yearly seasonality. Run prophet with yearly_seasonality=True to override this.\n"
          ],
          "name": "stderr"
        },
        {
          "output_type": "stream",
          "text": [
            "0:01:02.818388\n",
            "11\n",
            "prn\n",
            "epoch_time\n",
            "sv_clock_bias\n"
          ],
          "name": "stdout"
        },
        {
          "output_type": "stream",
          "text": [
            "INFO:fbprophet:Disabling yearly seasonality. Run prophet with yearly_seasonality=True to override this.\n"
          ],
          "name": "stderr"
        },
        {
          "output_type": "stream",
          "text": [
            "sv_clock_drift\n"
          ],
          "name": "stdout"
        },
        {
          "output_type": "stream",
          "text": [
            "INFO:fbprophet:Disabling yearly seasonality. Run prophet with yearly_seasonality=True to override this.\n"
          ],
          "name": "stderr"
        },
        {
          "output_type": "stream",
          "text": [
            "sv_clock_drift_rate\n"
          ],
          "name": "stdout"
        },
        {
          "output_type": "stream",
          "text": [
            "INFO:fbprophet:Disabling yearly seasonality. Run prophet with yearly_seasonality=True to override this.\n"
          ],
          "name": "stderr"
        },
        {
          "output_type": "stream",
          "text": [
            "iode\n"
          ],
          "name": "stdout"
        },
        {
          "output_type": "stream",
          "text": [
            "INFO:fbprophet:Disabling yearly seasonality. Run prophet with yearly_seasonality=True to override this.\n"
          ],
          "name": "stderr"
        },
        {
          "output_type": "stream",
          "text": [
            "correction_radius_sine\n"
          ],
          "name": "stdout"
        },
        {
          "output_type": "stream",
          "text": [
            "INFO:fbprophet:Disabling yearly seasonality. Run prophet with yearly_seasonality=True to override this.\n"
          ],
          "name": "stderr"
        },
        {
          "output_type": "stream",
          "text": [
            "mean_motion\n"
          ],
          "name": "stdout"
        },
        {
          "output_type": "stream",
          "text": [
            "INFO:fbprophet:Disabling yearly seasonality. Run prophet with yearly_seasonality=True to override this.\n"
          ],
          "name": "stderr"
        },
        {
          "output_type": "stream",
          "text": [
            "mean_anomaly\n"
          ],
          "name": "stdout"
        },
        {
          "output_type": "stream",
          "text": [
            "INFO:fbprophet:Disabling yearly seasonality. Run prophet with yearly_seasonality=True to override this.\n"
          ],
          "name": "stderr"
        },
        {
          "output_type": "stream",
          "text": [
            "correction_latitude_cosine\n"
          ],
          "name": "stdout"
        },
        {
          "output_type": "stream",
          "text": [
            "INFO:fbprophet:Disabling yearly seasonality. Run prophet with yearly_seasonality=True to override this.\n"
          ],
          "name": "stderr"
        },
        {
          "output_type": "stream",
          "text": [
            "essentricity\n"
          ],
          "name": "stdout"
        },
        {
          "output_type": "stream",
          "text": [
            "INFO:fbprophet:Disabling yearly seasonality. Run prophet with yearly_seasonality=True to override this.\n"
          ],
          "name": "stderr"
        },
        {
          "output_type": "stream",
          "text": [
            "correction_latitude_sine\n"
          ],
          "name": "stdout"
        },
        {
          "output_type": "stream",
          "text": [
            "INFO:fbprophet:Disabling yearly seasonality. Run prophet with yearly_seasonality=True to override this.\n"
          ],
          "name": "stderr"
        },
        {
          "output_type": "stream",
          "text": [
            "sqrt_semi_major_axis\n"
          ],
          "name": "stdout"
        },
        {
          "output_type": "stream",
          "text": [
            "INFO:fbprophet:Disabling yearly seasonality. Run prophet with yearly_seasonality=True to override this.\n"
          ],
          "name": "stderr"
        },
        {
          "output_type": "stream",
          "text": [
            "time_of_ephemeris\n"
          ],
          "name": "stdout"
        },
        {
          "output_type": "stream",
          "text": [
            "INFO:fbprophet:Disabling yearly seasonality. Run prophet with yearly_seasonality=True to override this.\n"
          ],
          "name": "stderr"
        },
        {
          "output_type": "stream",
          "text": [
            "correction_inclination_cosine\n"
          ],
          "name": "stdout"
        },
        {
          "output_type": "stream",
          "text": [
            "INFO:fbprophet:Disabling yearly seasonality. Run prophet with yearly_seasonality=True to override this.\n"
          ],
          "name": "stderr"
        },
        {
          "output_type": "stream",
          "text": [
            "OMEGA\n"
          ],
          "name": "stdout"
        },
        {
          "output_type": "stream",
          "text": [
            "INFO:fbprophet:Disabling yearly seasonality. Run prophet with yearly_seasonality=True to override this.\n"
          ],
          "name": "stderr"
        },
        {
          "output_type": "stream",
          "text": [
            "correction_inclination_sine\n"
          ],
          "name": "stdout"
        },
        {
          "output_type": "stream",
          "text": [
            "INFO:fbprophet:Disabling yearly seasonality. Run prophet with yearly_seasonality=True to override this.\n"
          ],
          "name": "stderr"
        },
        {
          "output_type": "stream",
          "text": [
            "inclination\n"
          ],
          "name": "stdout"
        },
        {
          "output_type": "stream",
          "text": [
            "INFO:fbprophet:Disabling yearly seasonality. Run prophet with yearly_seasonality=True to override this.\n"
          ],
          "name": "stderr"
        },
        {
          "output_type": "stream",
          "text": [
            "correction_radius_cosine\n"
          ],
          "name": "stdout"
        },
        {
          "output_type": "stream",
          "text": [
            "INFO:fbprophet:Disabling yearly seasonality. Run prophet with yearly_seasonality=True to override this.\n"
          ],
          "name": "stderr"
        },
        {
          "output_type": "stream",
          "text": [
            "omega\n"
          ],
          "name": "stdout"
        },
        {
          "output_type": "stream",
          "text": [
            "INFO:fbprophet:Disabling yearly seasonality. Run prophet with yearly_seasonality=True to override this.\n"
          ],
          "name": "stderr"
        },
        {
          "output_type": "stream",
          "text": [
            "OMEGA_dot\n"
          ],
          "name": "stdout"
        },
        {
          "output_type": "stream",
          "text": [
            "INFO:fbprophet:Disabling yearly seasonality. Run prophet with yearly_seasonality=True to override this.\n"
          ],
          "name": "stderr"
        },
        {
          "output_type": "stream",
          "text": [
            "inclination_rate\n"
          ],
          "name": "stdout"
        },
        {
          "output_type": "stream",
          "text": [
            "INFO:fbprophet:Disabling yearly seasonality. Run prophet with yearly_seasonality=True to override this.\n"
          ],
          "name": "stderr"
        },
        {
          "output_type": "stream",
          "text": [
            "codes\n"
          ],
          "name": "stdout"
        },
        {
          "output_type": "stream",
          "text": [
            "INFO:fbprophet:Disabling yearly seasonality. Run prophet with yearly_seasonality=True to override this.\n"
          ],
          "name": "stderr"
        },
        {
          "output_type": "stream",
          "text": [
            "gps_week\n"
          ],
          "name": "stdout"
        },
        {
          "output_type": "stream",
          "text": [
            "INFO:fbprophet:Disabling yearly seasonality. Run prophet with yearly_seasonality=True to override this.\n"
          ],
          "name": "stderr"
        },
        {
          "output_type": "stream",
          "text": [
            "l2_p_data_flag\n"
          ],
          "name": "stdout"
        },
        {
          "output_type": "stream",
          "text": [
            "INFO:fbprophet:Disabling yearly seasonality. Run prophet with yearly_seasonality=True to override this.\n"
          ],
          "name": "stderr"
        },
        {
          "output_type": "stream",
          "text": [
            "sv_accuracy\n"
          ],
          "name": "stdout"
        },
        {
          "output_type": "stream",
          "text": [
            "INFO:fbprophet:Disabling yearly seasonality. Run prophet with yearly_seasonality=True to override this.\n"
          ],
          "name": "stderr"
        },
        {
          "output_type": "stream",
          "text": [
            "sv_health\n"
          ],
          "name": "stdout"
        },
        {
          "output_type": "stream",
          "text": [
            "INFO:fbprophet:Disabling yearly seasonality. Run prophet with yearly_seasonality=True to override this.\n"
          ],
          "name": "stderr"
        },
        {
          "output_type": "stream",
          "text": [
            "tgd\n"
          ],
          "name": "stdout"
        },
        {
          "output_type": "stream",
          "text": [
            "INFO:fbprophet:Disabling yearly seasonality. Run prophet with yearly_seasonality=True to override this.\n"
          ],
          "name": "stderr"
        },
        {
          "output_type": "stream",
          "text": [
            "iodc\n"
          ],
          "name": "stdout"
        },
        {
          "output_type": "stream",
          "text": [
            "INFO:fbprophet:Disabling yearly seasonality. Run prophet with yearly_seasonality=True to override this.\n"
          ],
          "name": "stderr"
        },
        {
          "output_type": "stream",
          "text": [
            "t_tx\n"
          ],
          "name": "stdout"
        },
        {
          "output_type": "stream",
          "text": [
            "INFO:fbprophet:Disabling yearly seasonality. Run prophet with yearly_seasonality=True to override this.\n"
          ],
          "name": "stderr"
        },
        {
          "output_type": "stream",
          "text": [
            "fit_interval\n"
          ],
          "name": "stdout"
        },
        {
          "output_type": "stream",
          "text": [
            "INFO:fbprophet:Disabling yearly seasonality. Run prophet with yearly_seasonality=True to override this.\n"
          ],
          "name": "stderr"
        },
        {
          "output_type": "stream",
          "text": [
            "0:01:03.420025\n",
            "22\n",
            "prn\n",
            "epoch_time\n",
            "sv_clock_bias\n"
          ],
          "name": "stdout"
        },
        {
          "output_type": "stream",
          "text": [
            "INFO:fbprophet:Disabling yearly seasonality. Run prophet with yearly_seasonality=True to override this.\n"
          ],
          "name": "stderr"
        },
        {
          "output_type": "stream",
          "text": [
            "sv_clock_drift\n"
          ],
          "name": "stdout"
        },
        {
          "output_type": "stream",
          "text": [
            "INFO:fbprophet:Disabling yearly seasonality. Run prophet with yearly_seasonality=True to override this.\n"
          ],
          "name": "stderr"
        },
        {
          "output_type": "stream",
          "text": [
            "sv_clock_drift_rate\n"
          ],
          "name": "stdout"
        },
        {
          "output_type": "stream",
          "text": [
            "INFO:fbprophet:Disabling yearly seasonality. Run prophet with yearly_seasonality=True to override this.\n"
          ],
          "name": "stderr"
        },
        {
          "output_type": "stream",
          "text": [
            "iode\n"
          ],
          "name": "stdout"
        },
        {
          "output_type": "stream",
          "text": [
            "INFO:fbprophet:Disabling yearly seasonality. Run prophet with yearly_seasonality=True to override this.\n"
          ],
          "name": "stderr"
        },
        {
          "output_type": "stream",
          "text": [
            "correction_radius_sine\n"
          ],
          "name": "stdout"
        },
        {
          "output_type": "stream",
          "text": [
            "INFO:fbprophet:Disabling yearly seasonality. Run prophet with yearly_seasonality=True to override this.\n"
          ],
          "name": "stderr"
        },
        {
          "output_type": "stream",
          "text": [
            "mean_motion\n"
          ],
          "name": "stdout"
        },
        {
          "output_type": "stream",
          "text": [
            "INFO:fbprophet:Disabling yearly seasonality. Run prophet with yearly_seasonality=True to override this.\n"
          ],
          "name": "stderr"
        },
        {
          "output_type": "stream",
          "text": [
            "mean_anomaly\n"
          ],
          "name": "stdout"
        },
        {
          "output_type": "stream",
          "text": [
            "INFO:fbprophet:Disabling yearly seasonality. Run prophet with yearly_seasonality=True to override this.\n"
          ],
          "name": "stderr"
        },
        {
          "output_type": "stream",
          "text": [
            "correction_latitude_cosine\n"
          ],
          "name": "stdout"
        },
        {
          "output_type": "stream",
          "text": [
            "INFO:fbprophet:Disabling yearly seasonality. Run prophet with yearly_seasonality=True to override this.\n"
          ],
          "name": "stderr"
        },
        {
          "output_type": "stream",
          "text": [
            "essentricity\n"
          ],
          "name": "stdout"
        },
        {
          "output_type": "stream",
          "text": [
            "INFO:fbprophet:Disabling yearly seasonality. Run prophet with yearly_seasonality=True to override this.\n"
          ],
          "name": "stderr"
        },
        {
          "output_type": "stream",
          "text": [
            "correction_latitude_sine\n"
          ],
          "name": "stdout"
        },
        {
          "output_type": "stream",
          "text": [
            "INFO:fbprophet:Disabling yearly seasonality. Run prophet with yearly_seasonality=True to override this.\n"
          ],
          "name": "stderr"
        },
        {
          "output_type": "stream",
          "text": [
            "sqrt_semi_major_axis\n"
          ],
          "name": "stdout"
        },
        {
          "output_type": "stream",
          "text": [
            "INFO:fbprophet:Disabling yearly seasonality. Run prophet with yearly_seasonality=True to override this.\n"
          ],
          "name": "stderr"
        },
        {
          "output_type": "stream",
          "text": [
            "time_of_ephemeris\n"
          ],
          "name": "stdout"
        },
        {
          "output_type": "stream",
          "text": [
            "INFO:fbprophet:Disabling yearly seasonality. Run prophet with yearly_seasonality=True to override this.\n"
          ],
          "name": "stderr"
        },
        {
          "output_type": "stream",
          "text": [
            "correction_inclination_cosine\n"
          ],
          "name": "stdout"
        },
        {
          "output_type": "stream",
          "text": [
            "INFO:fbprophet:Disabling yearly seasonality. Run prophet with yearly_seasonality=True to override this.\n"
          ],
          "name": "stderr"
        },
        {
          "output_type": "stream",
          "text": [
            "OMEGA\n"
          ],
          "name": "stdout"
        },
        {
          "output_type": "stream",
          "text": [
            "INFO:fbprophet:Disabling yearly seasonality. Run prophet with yearly_seasonality=True to override this.\n"
          ],
          "name": "stderr"
        },
        {
          "output_type": "stream",
          "text": [
            "correction_inclination_sine\n"
          ],
          "name": "stdout"
        },
        {
          "output_type": "stream",
          "text": [
            "INFO:fbprophet:Disabling yearly seasonality. Run prophet with yearly_seasonality=True to override this.\n"
          ],
          "name": "stderr"
        },
        {
          "output_type": "stream",
          "text": [
            "inclination\n"
          ],
          "name": "stdout"
        },
        {
          "output_type": "stream",
          "text": [
            "INFO:fbprophet:Disabling yearly seasonality. Run prophet with yearly_seasonality=True to override this.\n"
          ],
          "name": "stderr"
        },
        {
          "output_type": "stream",
          "text": [
            "correction_radius_cosine\n"
          ],
          "name": "stdout"
        },
        {
          "output_type": "stream",
          "text": [
            "INFO:fbprophet:Disabling yearly seasonality. Run prophet with yearly_seasonality=True to override this.\n"
          ],
          "name": "stderr"
        },
        {
          "output_type": "stream",
          "text": [
            "omega\n"
          ],
          "name": "stdout"
        },
        {
          "output_type": "stream",
          "text": [
            "INFO:fbprophet:Disabling yearly seasonality. Run prophet with yearly_seasonality=True to override this.\n"
          ],
          "name": "stderr"
        },
        {
          "output_type": "stream",
          "text": [
            "OMEGA_dot\n"
          ],
          "name": "stdout"
        },
        {
          "output_type": "stream",
          "text": [
            "INFO:fbprophet:Disabling yearly seasonality. Run prophet with yearly_seasonality=True to override this.\n"
          ],
          "name": "stderr"
        },
        {
          "output_type": "stream",
          "text": [
            "inclination_rate\n"
          ],
          "name": "stdout"
        },
        {
          "output_type": "stream",
          "text": [
            "INFO:fbprophet:Disabling yearly seasonality. Run prophet with yearly_seasonality=True to override this.\n"
          ],
          "name": "stderr"
        },
        {
          "output_type": "stream",
          "text": [
            "codes\n"
          ],
          "name": "stdout"
        },
        {
          "output_type": "stream",
          "text": [
            "INFO:fbprophet:Disabling yearly seasonality. Run prophet with yearly_seasonality=True to override this.\n"
          ],
          "name": "stderr"
        },
        {
          "output_type": "stream",
          "text": [
            "gps_week\n"
          ],
          "name": "stdout"
        },
        {
          "output_type": "stream",
          "text": [
            "INFO:fbprophet:Disabling yearly seasonality. Run prophet with yearly_seasonality=True to override this.\n"
          ],
          "name": "stderr"
        },
        {
          "output_type": "stream",
          "text": [
            "l2_p_data_flag\n"
          ],
          "name": "stdout"
        },
        {
          "output_type": "stream",
          "text": [
            "INFO:fbprophet:Disabling yearly seasonality. Run prophet with yearly_seasonality=True to override this.\n"
          ],
          "name": "stderr"
        },
        {
          "output_type": "stream",
          "text": [
            "sv_accuracy\n"
          ],
          "name": "stdout"
        },
        {
          "output_type": "stream",
          "text": [
            "INFO:fbprophet:Disabling yearly seasonality. Run prophet with yearly_seasonality=True to override this.\n"
          ],
          "name": "stderr"
        },
        {
          "output_type": "stream",
          "text": [
            "sv_health\n"
          ],
          "name": "stdout"
        },
        {
          "output_type": "stream",
          "text": [
            "INFO:fbprophet:Disabling yearly seasonality. Run prophet with yearly_seasonality=True to override this.\n"
          ],
          "name": "stderr"
        },
        {
          "output_type": "stream",
          "text": [
            "tgd\n"
          ],
          "name": "stdout"
        },
        {
          "output_type": "stream",
          "text": [
            "INFO:fbprophet:Disabling yearly seasonality. Run prophet with yearly_seasonality=True to override this.\n"
          ],
          "name": "stderr"
        },
        {
          "output_type": "stream",
          "text": [
            "iodc\n"
          ],
          "name": "stdout"
        },
        {
          "output_type": "stream",
          "text": [
            "INFO:fbprophet:Disabling yearly seasonality. Run prophet with yearly_seasonality=True to override this.\n"
          ],
          "name": "stderr"
        },
        {
          "output_type": "stream",
          "text": [
            "t_tx\n"
          ],
          "name": "stdout"
        },
        {
          "output_type": "stream",
          "text": [
            "INFO:fbprophet:Disabling yearly seasonality. Run prophet with yearly_seasonality=True to override this.\n"
          ],
          "name": "stderr"
        },
        {
          "output_type": "stream",
          "text": [
            "fit_interval\n"
          ],
          "name": "stdout"
        },
        {
          "output_type": "stream",
          "text": [
            "INFO:fbprophet:Disabling yearly seasonality. Run prophet with yearly_seasonality=True to override this.\n"
          ],
          "name": "stderr"
        },
        {
          "output_type": "stream",
          "text": [
            "0:01:28.292708\n",
            "16\n",
            "prn\n",
            "epoch_time\n",
            "sv_clock_bias\n"
          ],
          "name": "stdout"
        },
        {
          "output_type": "stream",
          "text": [
            "INFO:fbprophet:Disabling yearly seasonality. Run prophet with yearly_seasonality=True to override this.\n"
          ],
          "name": "stderr"
        },
        {
          "output_type": "stream",
          "text": [
            "sv_clock_drift\n"
          ],
          "name": "stdout"
        },
        {
          "output_type": "stream",
          "text": [
            "INFO:fbprophet:Disabling yearly seasonality. Run prophet with yearly_seasonality=True to override this.\n"
          ],
          "name": "stderr"
        },
        {
          "output_type": "stream",
          "text": [
            "sv_clock_drift_rate\n"
          ],
          "name": "stdout"
        },
        {
          "output_type": "stream",
          "text": [
            "INFO:fbprophet:Disabling yearly seasonality. Run prophet with yearly_seasonality=True to override this.\n"
          ],
          "name": "stderr"
        },
        {
          "output_type": "stream",
          "text": [
            "iode\n"
          ],
          "name": "stdout"
        },
        {
          "output_type": "stream",
          "text": [
            "INFO:fbprophet:Disabling yearly seasonality. Run prophet with yearly_seasonality=True to override this.\n"
          ],
          "name": "stderr"
        },
        {
          "output_type": "stream",
          "text": [
            "correction_radius_sine\n"
          ],
          "name": "stdout"
        },
        {
          "output_type": "stream",
          "text": [
            "INFO:fbprophet:Disabling yearly seasonality. Run prophet with yearly_seasonality=True to override this.\n"
          ],
          "name": "stderr"
        },
        {
          "output_type": "stream",
          "text": [
            "mean_motion\n"
          ],
          "name": "stdout"
        },
        {
          "output_type": "stream",
          "text": [
            "INFO:fbprophet:Disabling yearly seasonality. Run prophet with yearly_seasonality=True to override this.\n"
          ],
          "name": "stderr"
        },
        {
          "output_type": "stream",
          "text": [
            "mean_anomaly\n"
          ],
          "name": "stdout"
        },
        {
          "output_type": "stream",
          "text": [
            "INFO:fbprophet:Disabling yearly seasonality. Run prophet with yearly_seasonality=True to override this.\n"
          ],
          "name": "stderr"
        },
        {
          "output_type": "stream",
          "text": [
            "correction_latitude_cosine\n"
          ],
          "name": "stdout"
        },
        {
          "output_type": "stream",
          "text": [
            "INFO:fbprophet:Disabling yearly seasonality. Run prophet with yearly_seasonality=True to override this.\n"
          ],
          "name": "stderr"
        },
        {
          "output_type": "stream",
          "text": [
            "essentricity\n"
          ],
          "name": "stdout"
        },
        {
          "output_type": "stream",
          "text": [
            "INFO:fbprophet:Disabling yearly seasonality. Run prophet with yearly_seasonality=True to override this.\n"
          ],
          "name": "stderr"
        },
        {
          "output_type": "stream",
          "text": [
            "correction_latitude_sine\n"
          ],
          "name": "stdout"
        },
        {
          "output_type": "stream",
          "text": [
            "INFO:fbprophet:Disabling yearly seasonality. Run prophet with yearly_seasonality=True to override this.\n"
          ],
          "name": "stderr"
        },
        {
          "output_type": "stream",
          "text": [
            "sqrt_semi_major_axis\n"
          ],
          "name": "stdout"
        },
        {
          "output_type": "stream",
          "text": [
            "INFO:fbprophet:Disabling yearly seasonality. Run prophet with yearly_seasonality=True to override this.\n"
          ],
          "name": "stderr"
        },
        {
          "output_type": "stream",
          "text": [
            "time_of_ephemeris\n"
          ],
          "name": "stdout"
        },
        {
          "output_type": "stream",
          "text": [
            "INFO:fbprophet:Disabling yearly seasonality. Run prophet with yearly_seasonality=True to override this.\n"
          ],
          "name": "stderr"
        },
        {
          "output_type": "stream",
          "text": [
            "correction_inclination_cosine\n"
          ],
          "name": "stdout"
        },
        {
          "output_type": "stream",
          "text": [
            "INFO:fbprophet:Disabling yearly seasonality. Run prophet with yearly_seasonality=True to override this.\n"
          ],
          "name": "stderr"
        },
        {
          "output_type": "stream",
          "text": [
            "OMEGA\n"
          ],
          "name": "stdout"
        },
        {
          "output_type": "stream",
          "text": [
            "INFO:fbprophet:Disabling yearly seasonality. Run prophet with yearly_seasonality=True to override this.\n"
          ],
          "name": "stderr"
        },
        {
          "output_type": "stream",
          "text": [
            "correction_inclination_sine\n"
          ],
          "name": "stdout"
        },
        {
          "output_type": "stream",
          "text": [
            "INFO:fbprophet:Disabling yearly seasonality. Run prophet with yearly_seasonality=True to override this.\n"
          ],
          "name": "stderr"
        },
        {
          "output_type": "stream",
          "text": [
            "inclination\n"
          ],
          "name": "stdout"
        },
        {
          "output_type": "stream",
          "text": [
            "INFO:fbprophet:Disabling yearly seasonality. Run prophet with yearly_seasonality=True to override this.\n"
          ],
          "name": "stderr"
        },
        {
          "output_type": "stream",
          "text": [
            "correction_radius_cosine\n"
          ],
          "name": "stdout"
        },
        {
          "output_type": "stream",
          "text": [
            "INFO:fbprophet:Disabling yearly seasonality. Run prophet with yearly_seasonality=True to override this.\n"
          ],
          "name": "stderr"
        },
        {
          "output_type": "stream",
          "text": [
            "omega\n"
          ],
          "name": "stdout"
        },
        {
          "output_type": "stream",
          "text": [
            "INFO:fbprophet:Disabling yearly seasonality. Run prophet with yearly_seasonality=True to override this.\n"
          ],
          "name": "stderr"
        },
        {
          "output_type": "stream",
          "text": [
            "OMEGA_dot\n"
          ],
          "name": "stdout"
        },
        {
          "output_type": "stream",
          "text": [
            "INFO:fbprophet:Disabling yearly seasonality. Run prophet with yearly_seasonality=True to override this.\n"
          ],
          "name": "stderr"
        },
        {
          "output_type": "stream",
          "text": [
            "inclination_rate\n"
          ],
          "name": "stdout"
        },
        {
          "output_type": "stream",
          "text": [
            "INFO:fbprophet:Disabling yearly seasonality. Run prophet with yearly_seasonality=True to override this.\n"
          ],
          "name": "stderr"
        },
        {
          "output_type": "stream",
          "text": [
            "codes\n"
          ],
          "name": "stdout"
        },
        {
          "output_type": "stream",
          "text": [
            "INFO:fbprophet:Disabling yearly seasonality. Run prophet with yearly_seasonality=True to override this.\n"
          ],
          "name": "stderr"
        },
        {
          "output_type": "stream",
          "text": [
            "gps_week\n"
          ],
          "name": "stdout"
        },
        {
          "output_type": "stream",
          "text": [
            "INFO:fbprophet:Disabling yearly seasonality. Run prophet with yearly_seasonality=True to override this.\n"
          ],
          "name": "stderr"
        },
        {
          "output_type": "stream",
          "text": [
            "l2_p_data_flag\n"
          ],
          "name": "stdout"
        },
        {
          "output_type": "stream",
          "text": [
            "INFO:fbprophet:Disabling yearly seasonality. Run prophet with yearly_seasonality=True to override this.\n"
          ],
          "name": "stderr"
        },
        {
          "output_type": "stream",
          "text": [
            "sv_accuracy\n"
          ],
          "name": "stdout"
        },
        {
          "output_type": "stream",
          "text": [
            "INFO:fbprophet:Disabling yearly seasonality. Run prophet with yearly_seasonality=True to override this.\n"
          ],
          "name": "stderr"
        },
        {
          "output_type": "stream",
          "text": [
            "sv_health\n"
          ],
          "name": "stdout"
        },
        {
          "output_type": "stream",
          "text": [
            "INFO:fbprophet:Disabling yearly seasonality. Run prophet with yearly_seasonality=True to override this.\n"
          ],
          "name": "stderr"
        },
        {
          "output_type": "stream",
          "text": [
            "tgd\n"
          ],
          "name": "stdout"
        },
        {
          "output_type": "stream",
          "text": [
            "INFO:fbprophet:Disabling yearly seasonality. Run prophet with yearly_seasonality=True to override this.\n"
          ],
          "name": "stderr"
        },
        {
          "output_type": "stream",
          "text": [
            "iodc\n"
          ],
          "name": "stdout"
        },
        {
          "output_type": "stream",
          "text": [
            "INFO:fbprophet:Disabling yearly seasonality. Run prophet with yearly_seasonality=True to override this.\n"
          ],
          "name": "stderr"
        },
        {
          "output_type": "stream",
          "text": [
            "t_tx\n"
          ],
          "name": "stdout"
        },
        {
          "output_type": "stream",
          "text": [
            "INFO:fbprophet:Disabling yearly seasonality. Run prophet with yearly_seasonality=True to override this.\n"
          ],
          "name": "stderr"
        },
        {
          "output_type": "stream",
          "text": [
            "fit_interval\n"
          ],
          "name": "stdout"
        },
        {
          "output_type": "stream",
          "text": [
            "INFO:fbprophet:Disabling yearly seasonality. Run prophet with yearly_seasonality=True to override this.\n"
          ],
          "name": "stderr"
        },
        {
          "output_type": "stream",
          "text": [
            "0:01:26.059556\n",
            "1\n",
            "prn\n",
            "epoch_time\n",
            "sv_clock_bias\n"
          ],
          "name": "stdout"
        },
        {
          "output_type": "stream",
          "text": [
            "INFO:fbprophet:Disabling yearly seasonality. Run prophet with yearly_seasonality=True to override this.\n"
          ],
          "name": "stderr"
        },
        {
          "output_type": "stream",
          "text": [
            "sv_clock_drift\n"
          ],
          "name": "stdout"
        },
        {
          "output_type": "stream",
          "text": [
            "INFO:fbprophet:Disabling yearly seasonality. Run prophet with yearly_seasonality=True to override this.\n"
          ],
          "name": "stderr"
        },
        {
          "output_type": "stream",
          "text": [
            "sv_clock_drift_rate\n"
          ],
          "name": "stdout"
        },
        {
          "output_type": "stream",
          "text": [
            "INFO:fbprophet:Disabling yearly seasonality. Run prophet with yearly_seasonality=True to override this.\n"
          ],
          "name": "stderr"
        },
        {
          "output_type": "stream",
          "text": [
            "iode\n"
          ],
          "name": "stdout"
        },
        {
          "output_type": "stream",
          "text": [
            "INFO:fbprophet:Disabling yearly seasonality. Run prophet with yearly_seasonality=True to override this.\n"
          ],
          "name": "stderr"
        },
        {
          "output_type": "stream",
          "text": [
            "correction_radius_sine\n"
          ],
          "name": "stdout"
        },
        {
          "output_type": "stream",
          "text": [
            "INFO:fbprophet:Disabling yearly seasonality. Run prophet with yearly_seasonality=True to override this.\n"
          ],
          "name": "stderr"
        },
        {
          "output_type": "stream",
          "text": [
            "mean_motion\n"
          ],
          "name": "stdout"
        },
        {
          "output_type": "stream",
          "text": [
            "INFO:fbprophet:Disabling yearly seasonality. Run prophet with yearly_seasonality=True to override this.\n"
          ],
          "name": "stderr"
        },
        {
          "output_type": "stream",
          "text": [
            "mean_anomaly\n"
          ],
          "name": "stdout"
        },
        {
          "output_type": "stream",
          "text": [
            "INFO:fbprophet:Disabling yearly seasonality. Run prophet with yearly_seasonality=True to override this.\n"
          ],
          "name": "stderr"
        },
        {
          "output_type": "stream",
          "text": [
            "correction_latitude_cosine\n"
          ],
          "name": "stdout"
        },
        {
          "output_type": "stream",
          "text": [
            "INFO:fbprophet:Disabling yearly seasonality. Run prophet with yearly_seasonality=True to override this.\n"
          ],
          "name": "stderr"
        },
        {
          "output_type": "stream",
          "text": [
            "essentricity\n"
          ],
          "name": "stdout"
        },
        {
          "output_type": "stream",
          "text": [
            "INFO:fbprophet:Disabling yearly seasonality. Run prophet with yearly_seasonality=True to override this.\n"
          ],
          "name": "stderr"
        },
        {
          "output_type": "stream",
          "text": [
            "correction_latitude_sine\n"
          ],
          "name": "stdout"
        },
        {
          "output_type": "stream",
          "text": [
            "INFO:fbprophet:Disabling yearly seasonality. Run prophet with yearly_seasonality=True to override this.\n"
          ],
          "name": "stderr"
        },
        {
          "output_type": "stream",
          "text": [
            "sqrt_semi_major_axis\n"
          ],
          "name": "stdout"
        },
        {
          "output_type": "stream",
          "text": [
            "INFO:fbprophet:Disabling yearly seasonality. Run prophet with yearly_seasonality=True to override this.\n"
          ],
          "name": "stderr"
        },
        {
          "output_type": "stream",
          "text": [
            "time_of_ephemeris\n"
          ],
          "name": "stdout"
        },
        {
          "output_type": "stream",
          "text": [
            "INFO:fbprophet:Disabling yearly seasonality. Run prophet with yearly_seasonality=True to override this.\n"
          ],
          "name": "stderr"
        },
        {
          "output_type": "stream",
          "text": [
            "correction_inclination_cosine\n"
          ],
          "name": "stdout"
        },
        {
          "output_type": "stream",
          "text": [
            "INFO:fbprophet:Disabling yearly seasonality. Run prophet with yearly_seasonality=True to override this.\n"
          ],
          "name": "stderr"
        },
        {
          "output_type": "stream",
          "text": [
            "OMEGA\n"
          ],
          "name": "stdout"
        },
        {
          "output_type": "stream",
          "text": [
            "INFO:fbprophet:Disabling yearly seasonality. Run prophet with yearly_seasonality=True to override this.\n"
          ],
          "name": "stderr"
        },
        {
          "output_type": "stream",
          "text": [
            "correction_inclination_sine\n"
          ],
          "name": "stdout"
        },
        {
          "output_type": "stream",
          "text": [
            "INFO:fbprophet:Disabling yearly seasonality. Run prophet with yearly_seasonality=True to override this.\n"
          ],
          "name": "stderr"
        },
        {
          "output_type": "stream",
          "text": [
            "inclination\n"
          ],
          "name": "stdout"
        },
        {
          "output_type": "stream",
          "text": [
            "INFO:fbprophet:Disabling yearly seasonality. Run prophet with yearly_seasonality=True to override this.\n"
          ],
          "name": "stderr"
        },
        {
          "output_type": "stream",
          "text": [
            "correction_radius_cosine\n"
          ],
          "name": "stdout"
        },
        {
          "output_type": "stream",
          "text": [
            "INFO:fbprophet:Disabling yearly seasonality. Run prophet with yearly_seasonality=True to override this.\n"
          ],
          "name": "stderr"
        },
        {
          "output_type": "stream",
          "text": [
            "omega\n"
          ],
          "name": "stdout"
        },
        {
          "output_type": "stream",
          "text": [
            "INFO:fbprophet:Disabling yearly seasonality. Run prophet with yearly_seasonality=True to override this.\n"
          ],
          "name": "stderr"
        },
        {
          "output_type": "stream",
          "text": [
            "OMEGA_dot\n"
          ],
          "name": "stdout"
        },
        {
          "output_type": "stream",
          "text": [
            "INFO:fbprophet:Disabling yearly seasonality. Run prophet with yearly_seasonality=True to override this.\n"
          ],
          "name": "stderr"
        },
        {
          "output_type": "stream",
          "text": [
            "inclination_rate\n"
          ],
          "name": "stdout"
        },
        {
          "output_type": "stream",
          "text": [
            "INFO:fbprophet:Disabling yearly seasonality. Run prophet with yearly_seasonality=True to override this.\n"
          ],
          "name": "stderr"
        },
        {
          "output_type": "stream",
          "text": [
            "codes\n"
          ],
          "name": "stdout"
        },
        {
          "output_type": "stream",
          "text": [
            "INFO:fbprophet:Disabling yearly seasonality. Run prophet with yearly_seasonality=True to override this.\n"
          ],
          "name": "stderr"
        },
        {
          "output_type": "stream",
          "text": [
            "gps_week\n"
          ],
          "name": "stdout"
        },
        {
          "output_type": "stream",
          "text": [
            "INFO:fbprophet:Disabling yearly seasonality. Run prophet with yearly_seasonality=True to override this.\n"
          ],
          "name": "stderr"
        },
        {
          "output_type": "stream",
          "text": [
            "l2_p_data_flag\n"
          ],
          "name": "stdout"
        },
        {
          "output_type": "stream",
          "text": [
            "INFO:fbprophet:Disabling yearly seasonality. Run prophet with yearly_seasonality=True to override this.\n"
          ],
          "name": "stderr"
        },
        {
          "output_type": "stream",
          "text": [
            "sv_accuracy\n"
          ],
          "name": "stdout"
        },
        {
          "output_type": "stream",
          "text": [
            "INFO:fbprophet:Disabling yearly seasonality. Run prophet with yearly_seasonality=True to override this.\n"
          ],
          "name": "stderr"
        },
        {
          "output_type": "stream",
          "text": [
            "sv_health\n"
          ],
          "name": "stdout"
        },
        {
          "output_type": "stream",
          "text": [
            "INFO:fbprophet:Disabling yearly seasonality. Run prophet with yearly_seasonality=True to override this.\n"
          ],
          "name": "stderr"
        },
        {
          "output_type": "stream",
          "text": [
            "tgd\n"
          ],
          "name": "stdout"
        },
        {
          "output_type": "stream",
          "text": [
            "INFO:fbprophet:Disabling yearly seasonality. Run prophet with yearly_seasonality=True to override this.\n"
          ],
          "name": "stderr"
        },
        {
          "output_type": "stream",
          "text": [
            "iodc\n"
          ],
          "name": "stdout"
        },
        {
          "output_type": "stream",
          "text": [
            "INFO:fbprophet:Disabling yearly seasonality. Run prophet with yearly_seasonality=True to override this.\n"
          ],
          "name": "stderr"
        },
        {
          "output_type": "stream",
          "text": [
            "t_tx\n"
          ],
          "name": "stdout"
        },
        {
          "output_type": "stream",
          "text": [
            "INFO:fbprophet:Disabling yearly seasonality. Run prophet with yearly_seasonality=True to override this.\n"
          ],
          "name": "stderr"
        },
        {
          "output_type": "stream",
          "text": [
            "fit_interval\n"
          ],
          "name": "stdout"
        },
        {
          "output_type": "stream",
          "text": [
            "INFO:fbprophet:Disabling yearly seasonality. Run prophet with yearly_seasonality=True to override this.\n"
          ],
          "name": "stderr"
        },
        {
          "output_type": "stream",
          "text": [
            "0:01:02.235138\n",
            "23\n",
            "prn\n",
            "epoch_time\n",
            "sv_clock_bias\n"
          ],
          "name": "stdout"
        },
        {
          "output_type": "stream",
          "text": [
            "INFO:fbprophet:Disabling yearly seasonality. Run prophet with yearly_seasonality=True to override this.\n"
          ],
          "name": "stderr"
        },
        {
          "output_type": "stream",
          "text": [
            "sv_clock_drift\n"
          ],
          "name": "stdout"
        },
        {
          "output_type": "stream",
          "text": [
            "INFO:fbprophet:Disabling yearly seasonality. Run prophet with yearly_seasonality=True to override this.\n"
          ],
          "name": "stderr"
        },
        {
          "output_type": "stream",
          "text": [
            "sv_clock_drift_rate\n"
          ],
          "name": "stdout"
        },
        {
          "output_type": "stream",
          "text": [
            "INFO:fbprophet:Disabling yearly seasonality. Run prophet with yearly_seasonality=True to override this.\n"
          ],
          "name": "stderr"
        },
        {
          "output_type": "stream",
          "text": [
            "iode\n"
          ],
          "name": "stdout"
        },
        {
          "output_type": "stream",
          "text": [
            "INFO:fbprophet:Disabling yearly seasonality. Run prophet with yearly_seasonality=True to override this.\n"
          ],
          "name": "stderr"
        },
        {
          "output_type": "stream",
          "text": [
            "correction_radius_sine\n"
          ],
          "name": "stdout"
        },
        {
          "output_type": "stream",
          "text": [
            "INFO:fbprophet:Disabling yearly seasonality. Run prophet with yearly_seasonality=True to override this.\n"
          ],
          "name": "stderr"
        },
        {
          "output_type": "stream",
          "text": [
            "mean_motion\n"
          ],
          "name": "stdout"
        },
        {
          "output_type": "stream",
          "text": [
            "INFO:fbprophet:Disabling yearly seasonality. Run prophet with yearly_seasonality=True to override this.\n"
          ],
          "name": "stderr"
        },
        {
          "output_type": "stream",
          "text": [
            "mean_anomaly\n"
          ],
          "name": "stdout"
        },
        {
          "output_type": "stream",
          "text": [
            "INFO:fbprophet:Disabling yearly seasonality. Run prophet with yearly_seasonality=True to override this.\n"
          ],
          "name": "stderr"
        },
        {
          "output_type": "stream",
          "text": [
            "correction_latitude_cosine\n"
          ],
          "name": "stdout"
        },
        {
          "output_type": "stream",
          "text": [
            "INFO:fbprophet:Disabling yearly seasonality. Run prophet with yearly_seasonality=True to override this.\n"
          ],
          "name": "stderr"
        },
        {
          "output_type": "stream",
          "text": [
            "essentricity\n"
          ],
          "name": "stdout"
        },
        {
          "output_type": "stream",
          "text": [
            "INFO:fbprophet:Disabling yearly seasonality. Run prophet with yearly_seasonality=True to override this.\n"
          ],
          "name": "stderr"
        },
        {
          "output_type": "stream",
          "text": [
            "correction_latitude_sine\n"
          ],
          "name": "stdout"
        },
        {
          "output_type": "stream",
          "text": [
            "INFO:fbprophet:Disabling yearly seasonality. Run prophet with yearly_seasonality=True to override this.\n"
          ],
          "name": "stderr"
        },
        {
          "output_type": "stream",
          "text": [
            "sqrt_semi_major_axis\n"
          ],
          "name": "stdout"
        },
        {
          "output_type": "stream",
          "text": [
            "INFO:fbprophet:Disabling yearly seasonality. Run prophet with yearly_seasonality=True to override this.\n"
          ],
          "name": "stderr"
        },
        {
          "output_type": "stream",
          "text": [
            "time_of_ephemeris\n"
          ],
          "name": "stdout"
        },
        {
          "output_type": "stream",
          "text": [
            "INFO:fbprophet:Disabling yearly seasonality. Run prophet with yearly_seasonality=True to override this.\n"
          ],
          "name": "stderr"
        },
        {
          "output_type": "stream",
          "text": [
            "correction_inclination_cosine\n"
          ],
          "name": "stdout"
        },
        {
          "output_type": "stream",
          "text": [
            "INFO:fbprophet:Disabling yearly seasonality. Run prophet with yearly_seasonality=True to override this.\n"
          ],
          "name": "stderr"
        },
        {
          "output_type": "stream",
          "text": [
            "OMEGA\n"
          ],
          "name": "stdout"
        },
        {
          "output_type": "stream",
          "text": [
            "INFO:fbprophet:Disabling yearly seasonality. Run prophet with yearly_seasonality=True to override this.\n"
          ],
          "name": "stderr"
        },
        {
          "output_type": "stream",
          "text": [
            "correction_inclination_sine\n"
          ],
          "name": "stdout"
        },
        {
          "output_type": "stream",
          "text": [
            "INFO:fbprophet:Disabling yearly seasonality. Run prophet with yearly_seasonality=True to override this.\n"
          ],
          "name": "stderr"
        },
        {
          "output_type": "stream",
          "text": [
            "inclination\n"
          ],
          "name": "stdout"
        },
        {
          "output_type": "stream",
          "text": [
            "INFO:fbprophet:Disabling yearly seasonality. Run prophet with yearly_seasonality=True to override this.\n"
          ],
          "name": "stderr"
        },
        {
          "output_type": "stream",
          "text": [
            "correction_radius_cosine\n"
          ],
          "name": "stdout"
        },
        {
          "output_type": "stream",
          "text": [
            "INFO:fbprophet:Disabling yearly seasonality. Run prophet with yearly_seasonality=True to override this.\n"
          ],
          "name": "stderr"
        },
        {
          "output_type": "stream",
          "text": [
            "omega\n"
          ],
          "name": "stdout"
        },
        {
          "output_type": "stream",
          "text": [
            "INFO:fbprophet:Disabling yearly seasonality. Run prophet with yearly_seasonality=True to override this.\n"
          ],
          "name": "stderr"
        },
        {
          "output_type": "stream",
          "text": [
            "OMEGA_dot\n"
          ],
          "name": "stdout"
        },
        {
          "output_type": "stream",
          "text": [
            "INFO:fbprophet:Disabling yearly seasonality. Run prophet with yearly_seasonality=True to override this.\n"
          ],
          "name": "stderr"
        },
        {
          "output_type": "stream",
          "text": [
            "inclination_rate\n"
          ],
          "name": "stdout"
        },
        {
          "output_type": "stream",
          "text": [
            "INFO:fbprophet:Disabling yearly seasonality. Run prophet with yearly_seasonality=True to override this.\n"
          ],
          "name": "stderr"
        },
        {
          "output_type": "stream",
          "text": [
            "codes\n"
          ],
          "name": "stdout"
        },
        {
          "output_type": "stream",
          "text": [
            "INFO:fbprophet:Disabling yearly seasonality. Run prophet with yearly_seasonality=True to override this.\n"
          ],
          "name": "stderr"
        },
        {
          "output_type": "stream",
          "text": [
            "gps_week\n"
          ],
          "name": "stdout"
        },
        {
          "output_type": "stream",
          "text": [
            "INFO:fbprophet:Disabling yearly seasonality. Run prophet with yearly_seasonality=True to override this.\n"
          ],
          "name": "stderr"
        },
        {
          "output_type": "stream",
          "text": [
            "l2_p_data_flag\n"
          ],
          "name": "stdout"
        },
        {
          "output_type": "stream",
          "text": [
            "INFO:fbprophet:Disabling yearly seasonality. Run prophet with yearly_seasonality=True to override this.\n"
          ],
          "name": "stderr"
        },
        {
          "output_type": "stream",
          "text": [
            "sv_accuracy\n"
          ],
          "name": "stdout"
        },
        {
          "output_type": "stream",
          "text": [
            "INFO:fbprophet:Disabling yearly seasonality. Run prophet with yearly_seasonality=True to override this.\n"
          ],
          "name": "stderr"
        },
        {
          "output_type": "stream",
          "text": [
            "sv_health\n"
          ],
          "name": "stdout"
        },
        {
          "output_type": "stream",
          "text": [
            "INFO:fbprophet:Disabling yearly seasonality. Run prophet with yearly_seasonality=True to override this.\n"
          ],
          "name": "stderr"
        },
        {
          "output_type": "stream",
          "text": [
            "tgd\n"
          ],
          "name": "stdout"
        },
        {
          "output_type": "stream",
          "text": [
            "INFO:fbprophet:Disabling yearly seasonality. Run prophet with yearly_seasonality=True to override this.\n"
          ],
          "name": "stderr"
        },
        {
          "output_type": "stream",
          "text": [
            "iodc\n"
          ],
          "name": "stdout"
        },
        {
          "output_type": "stream",
          "text": [
            "INFO:fbprophet:Disabling yearly seasonality. Run prophet with yearly_seasonality=True to override this.\n"
          ],
          "name": "stderr"
        },
        {
          "output_type": "stream",
          "text": [
            "t_tx\n"
          ],
          "name": "stdout"
        },
        {
          "output_type": "stream",
          "text": [
            "INFO:fbprophet:Disabling yearly seasonality. Run prophet with yearly_seasonality=True to override this.\n"
          ],
          "name": "stderr"
        },
        {
          "output_type": "stream",
          "text": [
            "fit_interval\n"
          ],
          "name": "stdout"
        },
        {
          "output_type": "stream",
          "text": [
            "INFO:fbprophet:Disabling yearly seasonality. Run prophet with yearly_seasonality=True to override this.\n"
          ],
          "name": "stderr"
        },
        {
          "output_type": "stream",
          "text": [
            "0:01:26.500593\n",
            "3\n",
            "prn\n",
            "epoch_time\n",
            "sv_clock_bias\n"
          ],
          "name": "stdout"
        },
        {
          "output_type": "stream",
          "text": [
            "INFO:fbprophet:Disabling yearly seasonality. Run prophet with yearly_seasonality=True to override this.\n"
          ],
          "name": "stderr"
        },
        {
          "output_type": "stream",
          "text": [
            "sv_clock_drift\n"
          ],
          "name": "stdout"
        },
        {
          "output_type": "stream",
          "text": [
            "INFO:fbprophet:Disabling yearly seasonality. Run prophet with yearly_seasonality=True to override this.\n"
          ],
          "name": "stderr"
        },
        {
          "output_type": "stream",
          "text": [
            "sv_clock_drift_rate\n"
          ],
          "name": "stdout"
        },
        {
          "output_type": "stream",
          "text": [
            "INFO:fbprophet:Disabling yearly seasonality. Run prophet with yearly_seasonality=True to override this.\n"
          ],
          "name": "stderr"
        },
        {
          "output_type": "stream",
          "text": [
            "iode\n"
          ],
          "name": "stdout"
        },
        {
          "output_type": "stream",
          "text": [
            "INFO:fbprophet:Disabling yearly seasonality. Run prophet with yearly_seasonality=True to override this.\n"
          ],
          "name": "stderr"
        },
        {
          "output_type": "stream",
          "text": [
            "correction_radius_sine\n"
          ],
          "name": "stdout"
        },
        {
          "output_type": "stream",
          "text": [
            "INFO:fbprophet:Disabling yearly seasonality. Run prophet with yearly_seasonality=True to override this.\n"
          ],
          "name": "stderr"
        },
        {
          "output_type": "stream",
          "text": [
            "mean_motion\n"
          ],
          "name": "stdout"
        },
        {
          "output_type": "stream",
          "text": [
            "INFO:fbprophet:Disabling yearly seasonality. Run prophet with yearly_seasonality=True to override this.\n"
          ],
          "name": "stderr"
        },
        {
          "output_type": "stream",
          "text": [
            "mean_anomaly\n"
          ],
          "name": "stdout"
        },
        {
          "output_type": "stream",
          "text": [
            "INFO:fbprophet:Disabling yearly seasonality. Run prophet with yearly_seasonality=True to override this.\n"
          ],
          "name": "stderr"
        },
        {
          "output_type": "stream",
          "text": [
            "correction_latitude_cosine\n"
          ],
          "name": "stdout"
        },
        {
          "output_type": "stream",
          "text": [
            "INFO:fbprophet:Disabling yearly seasonality. Run prophet with yearly_seasonality=True to override this.\n"
          ],
          "name": "stderr"
        },
        {
          "output_type": "stream",
          "text": [
            "essentricity\n"
          ],
          "name": "stdout"
        },
        {
          "output_type": "stream",
          "text": [
            "INFO:fbprophet:Disabling yearly seasonality. Run prophet with yearly_seasonality=True to override this.\n"
          ],
          "name": "stderr"
        },
        {
          "output_type": "stream",
          "text": [
            "correction_latitude_sine\n"
          ],
          "name": "stdout"
        },
        {
          "output_type": "stream",
          "text": [
            "INFO:fbprophet:Disabling yearly seasonality. Run prophet with yearly_seasonality=True to override this.\n"
          ],
          "name": "stderr"
        },
        {
          "output_type": "stream",
          "text": [
            "sqrt_semi_major_axis\n"
          ],
          "name": "stdout"
        },
        {
          "output_type": "stream",
          "text": [
            "INFO:fbprophet:Disabling yearly seasonality. Run prophet with yearly_seasonality=True to override this.\n"
          ],
          "name": "stderr"
        },
        {
          "output_type": "stream",
          "text": [
            "time_of_ephemeris\n"
          ],
          "name": "stdout"
        },
        {
          "output_type": "stream",
          "text": [
            "INFO:fbprophet:Disabling yearly seasonality. Run prophet with yearly_seasonality=True to override this.\n"
          ],
          "name": "stderr"
        },
        {
          "output_type": "stream",
          "text": [
            "correction_inclination_cosine\n"
          ],
          "name": "stdout"
        },
        {
          "output_type": "stream",
          "text": [
            "INFO:fbprophet:Disabling yearly seasonality. Run prophet with yearly_seasonality=True to override this.\n"
          ],
          "name": "stderr"
        },
        {
          "output_type": "stream",
          "text": [
            "OMEGA\n"
          ],
          "name": "stdout"
        },
        {
          "output_type": "stream",
          "text": [
            "INFO:fbprophet:Disabling yearly seasonality. Run prophet with yearly_seasonality=True to override this.\n"
          ],
          "name": "stderr"
        },
        {
          "output_type": "stream",
          "text": [
            "correction_inclination_sine\n"
          ],
          "name": "stdout"
        },
        {
          "output_type": "stream",
          "text": [
            "INFO:fbprophet:Disabling yearly seasonality. Run prophet with yearly_seasonality=True to override this.\n"
          ],
          "name": "stderr"
        },
        {
          "output_type": "stream",
          "text": [
            "inclination\n"
          ],
          "name": "stdout"
        },
        {
          "output_type": "stream",
          "text": [
            "INFO:fbprophet:Disabling yearly seasonality. Run prophet with yearly_seasonality=True to override this.\n"
          ],
          "name": "stderr"
        },
        {
          "output_type": "stream",
          "text": [
            "correction_radius_cosine\n"
          ],
          "name": "stdout"
        },
        {
          "output_type": "stream",
          "text": [
            "INFO:fbprophet:Disabling yearly seasonality. Run prophet with yearly_seasonality=True to override this.\n"
          ],
          "name": "stderr"
        },
        {
          "output_type": "stream",
          "text": [
            "omega\n"
          ],
          "name": "stdout"
        },
        {
          "output_type": "stream",
          "text": [
            "INFO:fbprophet:Disabling yearly seasonality. Run prophet with yearly_seasonality=True to override this.\n"
          ],
          "name": "stderr"
        },
        {
          "output_type": "stream",
          "text": [
            "OMEGA_dot\n"
          ],
          "name": "stdout"
        },
        {
          "output_type": "stream",
          "text": [
            "INFO:fbprophet:Disabling yearly seasonality. Run prophet with yearly_seasonality=True to override this.\n"
          ],
          "name": "stderr"
        },
        {
          "output_type": "stream",
          "text": [
            "inclination_rate\n"
          ],
          "name": "stdout"
        },
        {
          "output_type": "stream",
          "text": [
            "INFO:fbprophet:Disabling yearly seasonality. Run prophet with yearly_seasonality=True to override this.\n"
          ],
          "name": "stderr"
        },
        {
          "output_type": "stream",
          "text": [
            "codes\n"
          ],
          "name": "stdout"
        },
        {
          "output_type": "stream",
          "text": [
            "INFO:fbprophet:Disabling yearly seasonality. Run prophet with yearly_seasonality=True to override this.\n"
          ],
          "name": "stderr"
        },
        {
          "output_type": "stream",
          "text": [
            "gps_week\n"
          ],
          "name": "stdout"
        },
        {
          "output_type": "stream",
          "text": [
            "INFO:fbprophet:Disabling yearly seasonality. Run prophet with yearly_seasonality=True to override this.\n"
          ],
          "name": "stderr"
        },
        {
          "output_type": "stream",
          "text": [
            "l2_p_data_flag\n"
          ],
          "name": "stdout"
        },
        {
          "output_type": "stream",
          "text": [
            "INFO:fbprophet:Disabling yearly seasonality. Run prophet with yearly_seasonality=True to override this.\n"
          ],
          "name": "stderr"
        },
        {
          "output_type": "stream",
          "text": [
            "sv_accuracy\n"
          ],
          "name": "stdout"
        },
        {
          "output_type": "stream",
          "text": [
            "INFO:fbprophet:Disabling yearly seasonality. Run prophet with yearly_seasonality=True to override this.\n"
          ],
          "name": "stderr"
        },
        {
          "output_type": "stream",
          "text": [
            "sv_health\n"
          ],
          "name": "stdout"
        },
        {
          "output_type": "stream",
          "text": [
            "INFO:fbprophet:Disabling yearly seasonality. Run prophet with yearly_seasonality=True to override this.\n"
          ],
          "name": "stderr"
        },
        {
          "output_type": "stream",
          "text": [
            "tgd\n"
          ],
          "name": "stdout"
        },
        {
          "output_type": "stream",
          "text": [
            "INFO:fbprophet:Disabling yearly seasonality. Run prophet with yearly_seasonality=True to override this.\n"
          ],
          "name": "stderr"
        },
        {
          "output_type": "stream",
          "text": [
            "iodc\n"
          ],
          "name": "stdout"
        },
        {
          "output_type": "stream",
          "text": [
            "INFO:fbprophet:Disabling yearly seasonality. Run prophet with yearly_seasonality=True to override this.\n"
          ],
          "name": "stderr"
        },
        {
          "output_type": "stream",
          "text": [
            "t_tx\n"
          ],
          "name": "stdout"
        },
        {
          "output_type": "stream",
          "text": [
            "INFO:fbprophet:Disabling yearly seasonality. Run prophet with yearly_seasonality=True to override this.\n"
          ],
          "name": "stderr"
        },
        {
          "output_type": "stream",
          "text": [
            "fit_interval\n"
          ],
          "name": "stdout"
        },
        {
          "output_type": "stream",
          "text": [
            "INFO:fbprophet:Disabling yearly seasonality. Run prophet with yearly_seasonality=True to override this.\n"
          ],
          "name": "stderr"
        },
        {
          "output_type": "stream",
          "text": [
            "0:01:02.643288\n",
            "7\n",
            "prn\n",
            "epoch_time\n",
            "sv_clock_bias\n"
          ],
          "name": "stdout"
        },
        {
          "output_type": "stream",
          "text": [
            "INFO:fbprophet:Disabling yearly seasonality. Run prophet with yearly_seasonality=True to override this.\n"
          ],
          "name": "stderr"
        },
        {
          "output_type": "stream",
          "text": [
            "sv_clock_drift\n"
          ],
          "name": "stdout"
        },
        {
          "output_type": "stream",
          "text": [
            "INFO:fbprophet:Disabling yearly seasonality. Run prophet with yearly_seasonality=True to override this.\n"
          ],
          "name": "stderr"
        },
        {
          "output_type": "stream",
          "text": [
            "sv_clock_drift_rate\n"
          ],
          "name": "stdout"
        },
        {
          "output_type": "stream",
          "text": [
            "INFO:fbprophet:Disabling yearly seasonality. Run prophet with yearly_seasonality=True to override this.\n"
          ],
          "name": "stderr"
        },
        {
          "output_type": "stream",
          "text": [
            "iode\n"
          ],
          "name": "stdout"
        },
        {
          "output_type": "stream",
          "text": [
            "INFO:fbprophet:Disabling yearly seasonality. Run prophet with yearly_seasonality=True to override this.\n"
          ],
          "name": "stderr"
        },
        {
          "output_type": "stream",
          "text": [
            "correction_radius_sine\n"
          ],
          "name": "stdout"
        },
        {
          "output_type": "stream",
          "text": [
            "INFO:fbprophet:Disabling yearly seasonality. Run prophet with yearly_seasonality=True to override this.\n"
          ],
          "name": "stderr"
        },
        {
          "output_type": "stream",
          "text": [
            "mean_motion\n"
          ],
          "name": "stdout"
        },
        {
          "output_type": "stream",
          "text": [
            "INFO:fbprophet:Disabling yearly seasonality. Run prophet with yearly_seasonality=True to override this.\n"
          ],
          "name": "stderr"
        },
        {
          "output_type": "stream",
          "text": [
            "mean_anomaly\n"
          ],
          "name": "stdout"
        },
        {
          "output_type": "stream",
          "text": [
            "INFO:fbprophet:Disabling yearly seasonality. Run prophet with yearly_seasonality=True to override this.\n"
          ],
          "name": "stderr"
        },
        {
          "output_type": "stream",
          "text": [
            "correction_latitude_cosine\n"
          ],
          "name": "stdout"
        },
        {
          "output_type": "stream",
          "text": [
            "INFO:fbprophet:Disabling yearly seasonality. Run prophet with yearly_seasonality=True to override this.\n"
          ],
          "name": "stderr"
        },
        {
          "output_type": "stream",
          "text": [
            "essentricity\n"
          ],
          "name": "stdout"
        },
        {
          "output_type": "stream",
          "text": [
            "INFO:fbprophet:Disabling yearly seasonality. Run prophet with yearly_seasonality=True to override this.\n"
          ],
          "name": "stderr"
        },
        {
          "output_type": "stream",
          "text": [
            "correction_latitude_sine\n"
          ],
          "name": "stdout"
        },
        {
          "output_type": "stream",
          "text": [
            "INFO:fbprophet:Disabling yearly seasonality. Run prophet with yearly_seasonality=True to override this.\n"
          ],
          "name": "stderr"
        },
        {
          "output_type": "stream",
          "text": [
            "sqrt_semi_major_axis\n"
          ],
          "name": "stdout"
        },
        {
          "output_type": "stream",
          "text": [
            "INFO:fbprophet:Disabling yearly seasonality. Run prophet with yearly_seasonality=True to override this.\n"
          ],
          "name": "stderr"
        },
        {
          "output_type": "stream",
          "text": [
            "time_of_ephemeris\n"
          ],
          "name": "stdout"
        },
        {
          "output_type": "stream",
          "text": [
            "INFO:fbprophet:Disabling yearly seasonality. Run prophet with yearly_seasonality=True to override this.\n"
          ],
          "name": "stderr"
        },
        {
          "output_type": "stream",
          "text": [
            "correction_inclination_cosine\n"
          ],
          "name": "stdout"
        },
        {
          "output_type": "stream",
          "text": [
            "INFO:fbprophet:Disabling yearly seasonality. Run prophet with yearly_seasonality=True to override this.\n"
          ],
          "name": "stderr"
        },
        {
          "output_type": "stream",
          "text": [
            "OMEGA\n"
          ],
          "name": "stdout"
        },
        {
          "output_type": "stream",
          "text": [
            "INFO:fbprophet:Disabling yearly seasonality. Run prophet with yearly_seasonality=True to override this.\n"
          ],
          "name": "stderr"
        },
        {
          "output_type": "stream",
          "text": [
            "correction_inclination_sine\n"
          ],
          "name": "stdout"
        },
        {
          "output_type": "stream",
          "text": [
            "INFO:fbprophet:Disabling yearly seasonality. Run prophet with yearly_seasonality=True to override this.\n"
          ],
          "name": "stderr"
        },
        {
          "output_type": "stream",
          "text": [
            "inclination\n"
          ],
          "name": "stdout"
        },
        {
          "output_type": "stream",
          "text": [
            "INFO:fbprophet:Disabling yearly seasonality. Run prophet with yearly_seasonality=True to override this.\n"
          ],
          "name": "stderr"
        },
        {
          "output_type": "stream",
          "text": [
            "correction_radius_cosine\n"
          ],
          "name": "stdout"
        },
        {
          "output_type": "stream",
          "text": [
            "INFO:fbprophet:Disabling yearly seasonality. Run prophet with yearly_seasonality=True to override this.\n"
          ],
          "name": "stderr"
        },
        {
          "output_type": "stream",
          "text": [
            "omega\n"
          ],
          "name": "stdout"
        },
        {
          "output_type": "stream",
          "text": [
            "INFO:fbprophet:Disabling yearly seasonality. Run prophet with yearly_seasonality=True to override this.\n"
          ],
          "name": "stderr"
        },
        {
          "output_type": "stream",
          "text": [
            "OMEGA_dot\n"
          ],
          "name": "stdout"
        },
        {
          "output_type": "stream",
          "text": [
            "INFO:fbprophet:Disabling yearly seasonality. Run prophet with yearly_seasonality=True to override this.\n"
          ],
          "name": "stderr"
        },
        {
          "output_type": "stream",
          "text": [
            "inclination_rate\n"
          ],
          "name": "stdout"
        },
        {
          "output_type": "stream",
          "text": [
            "INFO:fbprophet:Disabling yearly seasonality. Run prophet with yearly_seasonality=True to override this.\n"
          ],
          "name": "stderr"
        },
        {
          "output_type": "stream",
          "text": [
            "codes\n"
          ],
          "name": "stdout"
        },
        {
          "output_type": "stream",
          "text": [
            "INFO:fbprophet:Disabling yearly seasonality. Run prophet with yearly_seasonality=True to override this.\n"
          ],
          "name": "stderr"
        },
        {
          "output_type": "stream",
          "text": [
            "gps_week\n"
          ],
          "name": "stdout"
        },
        {
          "output_type": "stream",
          "text": [
            "INFO:fbprophet:Disabling yearly seasonality. Run prophet with yearly_seasonality=True to override this.\n"
          ],
          "name": "stderr"
        },
        {
          "output_type": "stream",
          "text": [
            "l2_p_data_flag\n"
          ],
          "name": "stdout"
        },
        {
          "output_type": "stream",
          "text": [
            "INFO:fbprophet:Disabling yearly seasonality. Run prophet with yearly_seasonality=True to override this.\n"
          ],
          "name": "stderr"
        },
        {
          "output_type": "stream",
          "text": [
            "sv_accuracy\n"
          ],
          "name": "stdout"
        },
        {
          "output_type": "stream",
          "text": [
            "INFO:fbprophet:Disabling yearly seasonality. Run prophet with yearly_seasonality=True to override this.\n"
          ],
          "name": "stderr"
        },
        {
          "output_type": "stream",
          "text": [
            "sv_health\n"
          ],
          "name": "stdout"
        },
        {
          "output_type": "stream",
          "text": [
            "INFO:fbprophet:Disabling yearly seasonality. Run prophet with yearly_seasonality=True to override this.\n"
          ],
          "name": "stderr"
        },
        {
          "output_type": "stream",
          "text": [
            "tgd\n"
          ],
          "name": "stdout"
        },
        {
          "output_type": "stream",
          "text": [
            "INFO:fbprophet:Disabling yearly seasonality. Run prophet with yearly_seasonality=True to override this.\n"
          ],
          "name": "stderr"
        },
        {
          "output_type": "stream",
          "text": [
            "iodc\n"
          ],
          "name": "stdout"
        },
        {
          "output_type": "stream",
          "text": [
            "INFO:fbprophet:Disabling yearly seasonality. Run prophet with yearly_seasonality=True to override this.\n"
          ],
          "name": "stderr"
        },
        {
          "output_type": "stream",
          "text": [
            "t_tx\n"
          ],
          "name": "stdout"
        },
        {
          "output_type": "stream",
          "text": [
            "INFO:fbprophet:Disabling yearly seasonality. Run prophet with yearly_seasonality=True to override this.\n"
          ],
          "name": "stderr"
        },
        {
          "output_type": "stream",
          "text": [
            "fit_interval\n"
          ],
          "name": "stdout"
        },
        {
          "output_type": "stream",
          "text": [
            "INFO:fbprophet:Disabling yearly seasonality. Run prophet with yearly_seasonality=True to override this.\n"
          ],
          "name": "stderr"
        },
        {
          "output_type": "stream",
          "text": [
            "0:01:02.870775\n",
            "9\n",
            "prn\n",
            "epoch_time\n",
            "sv_clock_bias\n"
          ],
          "name": "stdout"
        },
        {
          "output_type": "stream",
          "text": [
            "INFO:fbprophet:Disabling yearly seasonality. Run prophet with yearly_seasonality=True to override this.\n"
          ],
          "name": "stderr"
        },
        {
          "output_type": "stream",
          "text": [
            "sv_clock_drift\n"
          ],
          "name": "stdout"
        },
        {
          "output_type": "stream",
          "text": [
            "INFO:fbprophet:Disabling yearly seasonality. Run prophet with yearly_seasonality=True to override this.\n"
          ],
          "name": "stderr"
        },
        {
          "output_type": "stream",
          "text": [
            "sv_clock_drift_rate\n"
          ],
          "name": "stdout"
        },
        {
          "output_type": "stream",
          "text": [
            "INFO:fbprophet:Disabling yearly seasonality. Run prophet with yearly_seasonality=True to override this.\n"
          ],
          "name": "stderr"
        },
        {
          "output_type": "stream",
          "text": [
            "iode\n"
          ],
          "name": "stdout"
        },
        {
          "output_type": "stream",
          "text": [
            "INFO:fbprophet:Disabling yearly seasonality. Run prophet with yearly_seasonality=True to override this.\n"
          ],
          "name": "stderr"
        },
        {
          "output_type": "stream",
          "text": [
            "correction_radius_sine\n"
          ],
          "name": "stdout"
        },
        {
          "output_type": "stream",
          "text": [
            "INFO:fbprophet:Disabling yearly seasonality. Run prophet with yearly_seasonality=True to override this.\n"
          ],
          "name": "stderr"
        },
        {
          "output_type": "stream",
          "text": [
            "mean_motion\n"
          ],
          "name": "stdout"
        },
        {
          "output_type": "stream",
          "text": [
            "INFO:fbprophet:Disabling yearly seasonality. Run prophet with yearly_seasonality=True to override this.\n"
          ],
          "name": "stderr"
        },
        {
          "output_type": "stream",
          "text": [
            "mean_anomaly\n"
          ],
          "name": "stdout"
        },
        {
          "output_type": "stream",
          "text": [
            "INFO:fbprophet:Disabling yearly seasonality. Run prophet with yearly_seasonality=True to override this.\n"
          ],
          "name": "stderr"
        },
        {
          "output_type": "stream",
          "text": [
            "correction_latitude_cosine\n"
          ],
          "name": "stdout"
        },
        {
          "output_type": "stream",
          "text": [
            "INFO:fbprophet:Disabling yearly seasonality. Run prophet with yearly_seasonality=True to override this.\n"
          ],
          "name": "stderr"
        },
        {
          "output_type": "stream",
          "text": [
            "essentricity\n"
          ],
          "name": "stdout"
        },
        {
          "output_type": "stream",
          "text": [
            "INFO:fbprophet:Disabling yearly seasonality. Run prophet with yearly_seasonality=True to override this.\n"
          ],
          "name": "stderr"
        },
        {
          "output_type": "stream",
          "text": [
            "correction_latitude_sine\n"
          ],
          "name": "stdout"
        },
        {
          "output_type": "stream",
          "text": [
            "INFO:fbprophet:Disabling yearly seasonality. Run prophet with yearly_seasonality=True to override this.\n"
          ],
          "name": "stderr"
        },
        {
          "output_type": "stream",
          "text": [
            "sqrt_semi_major_axis\n"
          ],
          "name": "stdout"
        },
        {
          "output_type": "stream",
          "text": [
            "INFO:fbprophet:Disabling yearly seasonality. Run prophet with yearly_seasonality=True to override this.\n"
          ],
          "name": "stderr"
        },
        {
          "output_type": "stream",
          "text": [
            "time_of_ephemeris\n"
          ],
          "name": "stdout"
        },
        {
          "output_type": "stream",
          "text": [
            "INFO:fbprophet:Disabling yearly seasonality. Run prophet with yearly_seasonality=True to override this.\n"
          ],
          "name": "stderr"
        },
        {
          "output_type": "stream",
          "text": [
            "correction_inclination_cosine\n"
          ],
          "name": "stdout"
        },
        {
          "output_type": "stream",
          "text": [
            "INFO:fbprophet:Disabling yearly seasonality. Run prophet with yearly_seasonality=True to override this.\n"
          ],
          "name": "stderr"
        },
        {
          "output_type": "stream",
          "text": [
            "OMEGA\n"
          ],
          "name": "stdout"
        },
        {
          "output_type": "stream",
          "text": [
            "INFO:fbprophet:Disabling yearly seasonality. Run prophet with yearly_seasonality=True to override this.\n"
          ],
          "name": "stderr"
        },
        {
          "output_type": "stream",
          "text": [
            "correction_inclination_sine\n"
          ],
          "name": "stdout"
        },
        {
          "output_type": "stream",
          "text": [
            "INFO:fbprophet:Disabling yearly seasonality. Run prophet with yearly_seasonality=True to override this.\n"
          ],
          "name": "stderr"
        },
        {
          "output_type": "stream",
          "text": [
            "inclination\n"
          ],
          "name": "stdout"
        },
        {
          "output_type": "stream",
          "text": [
            "INFO:fbprophet:Disabling yearly seasonality. Run prophet with yearly_seasonality=True to override this.\n"
          ],
          "name": "stderr"
        },
        {
          "output_type": "stream",
          "text": [
            "correction_radius_cosine\n"
          ],
          "name": "stdout"
        },
        {
          "output_type": "stream",
          "text": [
            "INFO:fbprophet:Disabling yearly seasonality. Run prophet with yearly_seasonality=True to override this.\n"
          ],
          "name": "stderr"
        },
        {
          "output_type": "stream",
          "text": [
            "omega\n"
          ],
          "name": "stdout"
        },
        {
          "output_type": "stream",
          "text": [
            "INFO:fbprophet:Disabling yearly seasonality. Run prophet with yearly_seasonality=True to override this.\n"
          ],
          "name": "stderr"
        },
        {
          "output_type": "stream",
          "text": [
            "OMEGA_dot\n"
          ],
          "name": "stdout"
        },
        {
          "output_type": "stream",
          "text": [
            "INFO:fbprophet:Disabling yearly seasonality. Run prophet with yearly_seasonality=True to override this.\n"
          ],
          "name": "stderr"
        },
        {
          "output_type": "stream",
          "text": [
            "inclination_rate\n"
          ],
          "name": "stdout"
        },
        {
          "output_type": "stream",
          "text": [
            "INFO:fbprophet:Disabling yearly seasonality. Run prophet with yearly_seasonality=True to override this.\n"
          ],
          "name": "stderr"
        },
        {
          "output_type": "stream",
          "text": [
            "codes\n"
          ],
          "name": "stdout"
        },
        {
          "output_type": "stream",
          "text": [
            "INFO:fbprophet:Disabling yearly seasonality. Run prophet with yearly_seasonality=True to override this.\n"
          ],
          "name": "stderr"
        },
        {
          "output_type": "stream",
          "text": [
            "gps_week\n"
          ],
          "name": "stdout"
        },
        {
          "output_type": "stream",
          "text": [
            "INFO:fbprophet:Disabling yearly seasonality. Run prophet with yearly_seasonality=True to override this.\n"
          ],
          "name": "stderr"
        },
        {
          "output_type": "stream",
          "text": [
            "l2_p_data_flag\n"
          ],
          "name": "stdout"
        },
        {
          "output_type": "stream",
          "text": [
            "INFO:fbprophet:Disabling yearly seasonality. Run prophet with yearly_seasonality=True to override this.\n"
          ],
          "name": "stderr"
        },
        {
          "output_type": "stream",
          "text": [
            "sv_accuracy\n"
          ],
          "name": "stdout"
        },
        {
          "output_type": "stream",
          "text": [
            "INFO:fbprophet:Disabling yearly seasonality. Run prophet with yearly_seasonality=True to override this.\n"
          ],
          "name": "stderr"
        },
        {
          "output_type": "stream",
          "text": [
            "sv_health\n"
          ],
          "name": "stdout"
        },
        {
          "output_type": "stream",
          "text": [
            "INFO:fbprophet:Disabling yearly seasonality. Run prophet with yearly_seasonality=True to override this.\n"
          ],
          "name": "stderr"
        },
        {
          "output_type": "stream",
          "text": [
            "tgd\n"
          ],
          "name": "stdout"
        },
        {
          "output_type": "stream",
          "text": [
            "INFO:fbprophet:Disabling yearly seasonality. Run prophet with yearly_seasonality=True to override this.\n"
          ],
          "name": "stderr"
        },
        {
          "output_type": "stream",
          "text": [
            "iodc\n"
          ],
          "name": "stdout"
        },
        {
          "output_type": "stream",
          "text": [
            "INFO:fbprophet:Disabling yearly seasonality. Run prophet with yearly_seasonality=True to override this.\n"
          ],
          "name": "stderr"
        },
        {
          "output_type": "stream",
          "text": [
            "t_tx\n"
          ],
          "name": "stdout"
        },
        {
          "output_type": "stream",
          "text": [
            "INFO:fbprophet:Disabling yearly seasonality. Run prophet with yearly_seasonality=True to override this.\n"
          ],
          "name": "stderr"
        },
        {
          "output_type": "stream",
          "text": [
            "fit_interval\n",
            "0:01:27.178085\n"
          ],
          "name": "stdout"
        },
        {
          "output_type": "execute_result",
          "data": {
            "text/plain": [
              "\"    df_t = pd.DataFrame()\\n    df_t['ds'] = df_final_prn['epoch_time']\\n    df_t['y'] = min_max_scaler_dict['sv_clock_bias'].transform(df_final_prn['sv_clock_bias'].values.reshape(-1, 1))\\n    model = Prophet()\\n    model.fit(df_t)\\n    df_p = pd.DataFrame()\\n    df_p['ds'] = df_expect_prn['epoch_time']\\n    df_predict_prn = model.predict(df_p)\\n    e  = {}\\n    e['r2_score'] = r2_score(min_max_scaler_dict['sv_clock_bias'].transform(df_expect_prn['sv_clock_bias'].values.reshape(-1, 1)).reshape(-1), df_predict_prn['yhat'].values)\\n    e['mean_absolute_error'] = mean_absolute_error(min_max_scaler_dict['sv_clock_bias'].transform(df_expect_prn['sv_clock_bias'].values.reshape(-1, 1)).reshape(-1), df_predict_prn['yhat'].values)\\n    e['mean_squared_error'] = mean_squared_error(min_max_scaler_dict['sv_clock_bias'].transform(df_expect_prn['sv_clock_bias'].values.reshape(-1, 1)).reshape(-1), df_predict_prn['yhat'].values)\\n    e['mean_squared_log_error'] = mean_squared_log_error(min_max_scaler_dict['sv_clock_bias'].transform(df_expect_prn['sv_clock_bias'].values.reshape(-1, 1)).reshape(-1), df_predict_prn['yhat'].values)\\n    e['mean_absolute_percentage_error'] = mean_absolute_percentage_error(min_max_scaler_dict['sv_clock_bias'].transform(df_expect_prn['sv_clock_bias'].values.reshape(-1, 1)).reshape(-1), df_predict_prn['yhat'].values)\\n    error[prn] = { 'sv_clock_bias': e}\\n\""
            ]
          },
          "metadata": {
            "tags": []
          },
          "execution_count": 77
        }
      ]
    },
    {
      "cell_type": "code",
      "metadata": {
        "id": "GOYeQisoN4ux",
        "colab_type": "code",
        "colab": {
          "base_uri": "https://localhost:8080/",
          "height": 1000
        },
        "outputId": "9f4657cd-af1b-4701-f988-cb01d613a3a1"
      },
      "source": [
        "for prn in prns:\n",
        "    #print(prn)\n",
        "    a = datetime.datetime.now()\n",
        "    error[prn] = {}\n",
        "    ec = {}\n",
        "    df_final_prn = df_final.loc[df_final['prn'] == prn]\n",
        "    df_expect_prn = df_expect.loc[df_expect['prn'] == prn]\n",
        "\n",
        "    for column in list(df_prn.columns.values):\n",
        "        #print(column)\n",
        "        if column == 'prn' or column == 'epoch_time' or column=='index':\n",
        "            continue\n",
        "            \n",
        "        if column == 'sv_clock_bias' or column == 'sv_clock_drift' or column == 'sv_clock_drift_rate' or column == 'mean_motion'  or  column == 'essentricity'  or column == 'sqrt_semi_major_axis'  or column == 'OMEGA' or column == 'inclination'  or column == 'omega' or column == 'OMEGA_dot' or column == 'inclination_rate' or column == 'codes' or column == 'gps_week' or column == 'l2_p_data_flag' or column == 'sv_accuracy' or column == 'sv_health' or column == 'tgd'  or column == 'fit_interval':\n",
        "            df_t = pd.DataFrame()\n",
        "            df_t['ds'] = df_final_prn['epoch_time']\n",
        "            df_t['y'] = df_final_prn[column]\n",
        "            model = Prophet()\n",
        "            model.fit(df_t)\n",
        "            df_p = pd.DataFrame()\n",
        "            df_p['ds'] = df_expect_prn['epoch_time']\n",
        "            df_predict_prn = model.predict(df_p)\n",
        "            e  = {}\n",
        "            e['r2_score'] = r2_score(df_expect_prn[column].values, df_predict_prn['yhat'].values)\n",
        "            e['mean_absolute_error'] = mean_absolute_error(df_expect_prn[column].values, df_predict_prn['yhat'].values)\n",
        "            e['mean_squared_error'] = mean_squared_error(df_expect_prn[column].values, df_predict_prn['yhat'].values)\n",
        "            e['percentError'] = percentError(df_expect_prn[column], df_predict_prn['yhat'])\n",
        "            #e['mean_absolute_percentage_error'] = mean_absolute_percentage_error(df_expect_prn[column].values, df_predict_prn['yhat'].values)\n",
        "            ec[column]= e\n",
        "\n",
        "        if column == 'iode' or column == 'correction_radius_sine' or  column == 'correction_latitude_cosine' or column == 't_tx' or column == 'correction_latitude_sine' or  column == 'correction_inclination_cosine' or   column == 'correction_radius_cosine' or column == 'mean_anomaly' or  column == 'correction_inclination_sine':\n",
        "            df_t = pd.DataFrame()\n",
        "            df_t['ds'] = df_final_prn['epoch_time']\n",
        "            df_t['y'] = df_final_prn[column]\n",
        "            model = Prophet(changepoint_prior_scale=0.5)\n",
        "            model.fit(df_t)\n",
        "            df_p = pd.DataFrame()\n",
        "            df_p['ds'] = df_expect_prn['epoch_time']\n",
        "            df_predict_prn = model.predict(df_p)\n",
        "            e  = {}\n",
        "            e['r2_score'] = r2_score(df_expect_prn[column].values, df_predict_prn['yhat'].values)\n",
        "            e['mean_absolute_error'] = mean_absolute_error(df_expect_prn[column].values, df_predict_prn['yhat'].values)\n",
        "            e['mean_squared_error'] = mean_squared_error(df_expect_prn[column].values, df_predict_prn['yhat'].values)\n",
        "            e['percentError'] = percentError(df_expect_prn[column], df_predict_prn['yhat'])\n",
        "            #e['mean_absolute_percentage_error'] = mean_absolute_percentage_error(df_expect_prn[column].values, df_predict_prn['yhat'].values)\n",
        "            ec[column]= e\n",
        "\n",
        "        if column == 'time_of_ephemeris' or column == 'iodc' :\n",
        "            df_t = pd.DataFrame()\n",
        "            df_t['ds'] = df_final_prn['epoch_time']\n",
        "            df_t['y'] = df_final_prn[column]\n",
        "            model = Prophet(changepoint_prior_scale=1.0)\n",
        "            model.fit(df_t)\n",
        "            df_p = pd.DataFrame()\n",
        "            df_p['ds'] = df_expect_prn['epoch_time']\n",
        "            df_predict_prn = model.predict(df_p)\n",
        "            e  = {}\n",
        "            e['r2_score'] = r2_score(df_expect_prn[column].values, df_predict_prn['yhat'].values)\n",
        "            e['mean_absolute_error'] = mean_absolute_error(df_expect_prn[column].values, df_predict_prn['yhat'].values)\n",
        "            e['mean_squared_error'] = mean_squared_error(df_expect_prn[column].values, df_predict_prn['yhat'].values)\n",
        "            e['percentError'] = percentError(df_expect_prn[column], df_predict_prn['yhat'])\n",
        "            #e['mean_absolute_percentage_error'] = mean_absolute_percentage_error(df_expect_prn[column].values, df_predict_prn['yhat'].values)\n",
        "            ec[column]= e\n",
        "\n",
        "    error[prn]=ec\n",
        "    b = datetime.datetime.now()\n",
        "    print(b-a)\n"
      ],
      "execution_count": 96,
      "outputs": [
        {
          "output_type": "stream",
          "text": [
            "INFO:fbprophet:Disabling yearly seasonality. Run prophet with yearly_seasonality=True to override this.\n",
            "INFO:fbprophet:Disabling yearly seasonality. Run prophet with yearly_seasonality=True to override this.\n",
            "INFO:fbprophet:Disabling yearly seasonality. Run prophet with yearly_seasonality=True to override this.\n",
            "INFO:fbprophet:Disabling yearly seasonality. Run prophet with yearly_seasonality=True to override this.\n",
            "INFO:fbprophet:Disabling yearly seasonality. Run prophet with yearly_seasonality=True to override this.\n",
            "INFO:fbprophet:Disabling yearly seasonality. Run prophet with yearly_seasonality=True to override this.\n",
            "INFO:fbprophet:Disabling yearly seasonality. Run prophet with yearly_seasonality=True to override this.\n",
            "INFO:fbprophet:Disabling yearly seasonality. Run prophet with yearly_seasonality=True to override this.\n",
            "INFO:fbprophet:Disabling yearly seasonality. Run prophet with yearly_seasonality=True to override this.\n",
            "INFO:fbprophet:Disabling yearly seasonality. Run prophet with yearly_seasonality=True to override this.\n",
            "INFO:fbprophet:Disabling yearly seasonality. Run prophet with yearly_seasonality=True to override this.\n",
            "INFO:fbprophet:Disabling yearly seasonality. Run prophet with yearly_seasonality=True to override this.\n",
            "INFO:fbprophet:Disabling yearly seasonality. Run prophet with yearly_seasonality=True to override this.\n",
            "INFO:fbprophet:Disabling yearly seasonality. Run prophet with yearly_seasonality=True to override this.\n",
            "INFO:fbprophet:Disabling yearly seasonality. Run prophet with yearly_seasonality=True to override this.\n",
            "INFO:fbprophet:Disabling yearly seasonality. Run prophet with yearly_seasonality=True to override this.\n",
            "INFO:fbprophet:Disabling yearly seasonality. Run prophet with yearly_seasonality=True to override this.\n",
            "INFO:fbprophet:Disabling yearly seasonality. Run prophet with yearly_seasonality=True to override this.\n",
            "INFO:fbprophet:Disabling yearly seasonality. Run prophet with yearly_seasonality=True to override this.\n",
            "INFO:fbprophet:Disabling yearly seasonality. Run prophet with yearly_seasonality=True to override this.\n",
            "INFO:fbprophet:Disabling yearly seasonality. Run prophet with yearly_seasonality=True to override this.\n",
            "INFO:fbprophet:Disabling yearly seasonality. Run prophet with yearly_seasonality=True to override this.\n",
            "INFO:fbprophet:Disabling yearly seasonality. Run prophet with yearly_seasonality=True to override this.\n",
            "INFO:fbprophet:Disabling yearly seasonality. Run prophet with yearly_seasonality=True to override this.\n",
            "INFO:fbprophet:Disabling yearly seasonality. Run prophet with yearly_seasonality=True to override this.\n",
            "INFO:fbprophet:Disabling yearly seasonality. Run prophet with yearly_seasonality=True to override this.\n",
            "INFO:fbprophet:Disabling yearly seasonality. Run prophet with yearly_seasonality=True to override this.\n",
            "INFO:fbprophet:Disabling yearly seasonality. Run prophet with yearly_seasonality=True to override this.\n",
            "INFO:fbprophet:Disabling yearly seasonality. Run prophet with yearly_seasonality=True to override this.\n",
            "INFO:fbprophet:Disabling yearly seasonality. Run prophet with yearly_seasonality=True to override this.\n"
          ],
          "name": "stderr"
        },
        {
          "output_type": "stream",
          "text": [
            "0:01:02.641093\n"
          ],
          "name": "stdout"
        },
        {
          "output_type": "stream",
          "text": [
            "INFO:fbprophet:Disabling yearly seasonality. Run prophet with yearly_seasonality=True to override this.\n",
            "INFO:fbprophet:Disabling yearly seasonality. Run prophet with yearly_seasonality=True to override this.\n",
            "INFO:fbprophet:Disabling yearly seasonality. Run prophet with yearly_seasonality=True to override this.\n",
            "INFO:fbprophet:Disabling yearly seasonality. Run prophet with yearly_seasonality=True to override this.\n",
            "INFO:fbprophet:Disabling yearly seasonality. Run prophet with yearly_seasonality=True to override this.\n",
            "INFO:fbprophet:Disabling yearly seasonality. Run prophet with yearly_seasonality=True to override this.\n",
            "INFO:fbprophet:Disabling yearly seasonality. Run prophet with yearly_seasonality=True to override this.\n",
            "INFO:fbprophet:Disabling yearly seasonality. Run prophet with yearly_seasonality=True to override this.\n",
            "INFO:fbprophet:Disabling yearly seasonality. Run prophet with yearly_seasonality=True to override this.\n",
            "INFO:fbprophet:Disabling yearly seasonality. Run prophet with yearly_seasonality=True to override this.\n",
            "INFO:fbprophet:Disabling yearly seasonality. Run prophet with yearly_seasonality=True to override this.\n",
            "INFO:fbprophet:Disabling yearly seasonality. Run prophet with yearly_seasonality=True to override this.\n",
            "INFO:fbprophet:Disabling yearly seasonality. Run prophet with yearly_seasonality=True to override this.\n",
            "INFO:fbprophet:Disabling yearly seasonality. Run prophet with yearly_seasonality=True to override this.\n",
            "INFO:fbprophet:Disabling yearly seasonality. Run prophet with yearly_seasonality=True to override this.\n",
            "INFO:fbprophet:Disabling yearly seasonality. Run prophet with yearly_seasonality=True to override this.\n",
            "INFO:fbprophet:Disabling yearly seasonality. Run prophet with yearly_seasonality=True to override this.\n",
            "INFO:fbprophet:Disabling yearly seasonality. Run prophet with yearly_seasonality=True to override this.\n",
            "INFO:fbprophet:Disabling yearly seasonality. Run prophet with yearly_seasonality=True to override this.\n",
            "INFO:fbprophet:Disabling yearly seasonality. Run prophet with yearly_seasonality=True to override this.\n",
            "INFO:fbprophet:Disabling yearly seasonality. Run prophet with yearly_seasonality=True to override this.\n",
            "INFO:fbprophet:Disabling yearly seasonality. Run prophet with yearly_seasonality=True to override this.\n",
            "INFO:fbprophet:Disabling yearly seasonality. Run prophet with yearly_seasonality=True to override this.\n",
            "INFO:fbprophet:Disabling yearly seasonality. Run prophet with yearly_seasonality=True to override this.\n",
            "INFO:fbprophet:Disabling yearly seasonality. Run prophet with yearly_seasonality=True to override this.\n",
            "INFO:fbprophet:Disabling yearly seasonality. Run prophet with yearly_seasonality=True to override this.\n",
            "INFO:fbprophet:Disabling yearly seasonality. Run prophet with yearly_seasonality=True to override this.\n",
            "INFO:fbprophet:Disabling yearly seasonality. Run prophet with yearly_seasonality=True to override this.\n",
            "INFO:fbprophet:Disabling yearly seasonality. Run prophet with yearly_seasonality=True to override this.\n"
          ],
          "name": "stderr"
        },
        {
          "output_type": "stream",
          "text": [
            "0:01:02.746729\n"
          ],
          "name": "stdout"
        },
        {
          "output_type": "stream",
          "text": [
            "INFO:fbprophet:Disabling yearly seasonality. Run prophet with yearly_seasonality=True to override this.\n",
            "INFO:fbprophet:Disabling yearly seasonality. Run prophet with yearly_seasonality=True to override this.\n",
            "INFO:fbprophet:Disabling yearly seasonality. Run prophet with yearly_seasonality=True to override this.\n",
            "INFO:fbprophet:Disabling yearly seasonality. Run prophet with yearly_seasonality=True to override this.\n",
            "INFO:fbprophet:Disabling yearly seasonality. Run prophet with yearly_seasonality=True to override this.\n",
            "INFO:fbprophet:Disabling yearly seasonality. Run prophet with yearly_seasonality=True to override this.\n",
            "INFO:fbprophet:Disabling yearly seasonality. Run prophet with yearly_seasonality=True to override this.\n",
            "INFO:fbprophet:Disabling yearly seasonality. Run prophet with yearly_seasonality=True to override this.\n",
            "INFO:fbprophet:Disabling yearly seasonality. Run prophet with yearly_seasonality=True to override this.\n",
            "INFO:fbprophet:Disabling yearly seasonality. Run prophet with yearly_seasonality=True to override this.\n",
            "INFO:fbprophet:Disabling yearly seasonality. Run prophet with yearly_seasonality=True to override this.\n",
            "INFO:fbprophet:Disabling yearly seasonality. Run prophet with yearly_seasonality=True to override this.\n",
            "INFO:fbprophet:Disabling yearly seasonality. Run prophet with yearly_seasonality=True to override this.\n",
            "INFO:fbprophet:Disabling yearly seasonality. Run prophet with yearly_seasonality=True to override this.\n",
            "INFO:fbprophet:Disabling yearly seasonality. Run prophet with yearly_seasonality=True to override this.\n",
            "INFO:fbprophet:Disabling yearly seasonality. Run prophet with yearly_seasonality=True to override this.\n",
            "INFO:fbprophet:Disabling yearly seasonality. Run prophet with yearly_seasonality=True to override this.\n",
            "INFO:fbprophet:Disabling yearly seasonality. Run prophet with yearly_seasonality=True to override this.\n",
            "INFO:fbprophet:Disabling yearly seasonality. Run prophet with yearly_seasonality=True to override this.\n",
            "INFO:fbprophet:Disabling yearly seasonality. Run prophet with yearly_seasonality=True to override this.\n",
            "INFO:fbprophet:Disabling yearly seasonality. Run prophet with yearly_seasonality=True to override this.\n",
            "INFO:fbprophet:Disabling yearly seasonality. Run prophet with yearly_seasonality=True to override this.\n",
            "INFO:fbprophet:Disabling yearly seasonality. Run prophet with yearly_seasonality=True to override this.\n",
            "INFO:fbprophet:Disabling yearly seasonality. Run prophet with yearly_seasonality=True to override this.\n",
            "INFO:fbprophet:Disabling yearly seasonality. Run prophet with yearly_seasonality=True to override this.\n",
            "INFO:fbprophet:Disabling yearly seasonality. Run prophet with yearly_seasonality=True to override this.\n",
            "INFO:fbprophet:Disabling yearly seasonality. Run prophet with yearly_seasonality=True to override this.\n",
            "INFO:fbprophet:Disabling yearly seasonality. Run prophet with yearly_seasonality=True to override this.\n",
            "INFO:fbprophet:Disabling yearly seasonality. Run prophet with yearly_seasonality=True to override this.\n"
          ],
          "name": "stderr"
        },
        {
          "output_type": "stream",
          "text": [
            "0:01:02.745045\n"
          ],
          "name": "stdout"
        },
        {
          "output_type": "stream",
          "text": [
            "INFO:fbprophet:Disabling yearly seasonality. Run prophet with yearly_seasonality=True to override this.\n",
            "INFO:fbprophet:Disabling yearly seasonality. Run prophet with yearly_seasonality=True to override this.\n",
            "INFO:fbprophet:Disabling yearly seasonality. Run prophet with yearly_seasonality=True to override this.\n",
            "INFO:fbprophet:Disabling yearly seasonality. Run prophet with yearly_seasonality=True to override this.\n",
            "INFO:fbprophet:Disabling yearly seasonality. Run prophet with yearly_seasonality=True to override this.\n",
            "INFO:fbprophet:Disabling yearly seasonality. Run prophet with yearly_seasonality=True to override this.\n",
            "INFO:fbprophet:Disabling yearly seasonality. Run prophet with yearly_seasonality=True to override this.\n",
            "INFO:fbprophet:Disabling yearly seasonality. Run prophet with yearly_seasonality=True to override this.\n",
            "INFO:fbprophet:Disabling yearly seasonality. Run prophet with yearly_seasonality=True to override this.\n",
            "INFO:fbprophet:Disabling yearly seasonality. Run prophet with yearly_seasonality=True to override this.\n",
            "INFO:fbprophet:Disabling yearly seasonality. Run prophet with yearly_seasonality=True to override this.\n",
            "INFO:fbprophet:Disabling yearly seasonality. Run prophet with yearly_seasonality=True to override this.\n",
            "INFO:fbprophet:Disabling yearly seasonality. Run prophet with yearly_seasonality=True to override this.\n",
            "INFO:fbprophet:Disabling yearly seasonality. Run prophet with yearly_seasonality=True to override this.\n",
            "INFO:fbprophet:Disabling yearly seasonality. Run prophet with yearly_seasonality=True to override this.\n",
            "INFO:fbprophet:Disabling yearly seasonality. Run prophet with yearly_seasonality=True to override this.\n",
            "INFO:fbprophet:Disabling yearly seasonality. Run prophet with yearly_seasonality=True to override this.\n",
            "INFO:fbprophet:Disabling yearly seasonality. Run prophet with yearly_seasonality=True to override this.\n",
            "INFO:fbprophet:Disabling yearly seasonality. Run prophet with yearly_seasonality=True to override this.\n",
            "INFO:fbprophet:Disabling yearly seasonality. Run prophet with yearly_seasonality=True to override this.\n",
            "INFO:fbprophet:Disabling yearly seasonality. Run prophet with yearly_seasonality=True to override this.\n",
            "INFO:fbprophet:Disabling yearly seasonality. Run prophet with yearly_seasonality=True to override this.\n",
            "INFO:fbprophet:Disabling yearly seasonality. Run prophet with yearly_seasonality=True to override this.\n",
            "INFO:fbprophet:Disabling yearly seasonality. Run prophet with yearly_seasonality=True to override this.\n",
            "INFO:fbprophet:Disabling yearly seasonality. Run prophet with yearly_seasonality=True to override this.\n",
            "INFO:fbprophet:Disabling yearly seasonality. Run prophet with yearly_seasonality=True to override this.\n",
            "INFO:fbprophet:Disabling yearly seasonality. Run prophet with yearly_seasonality=True to override this.\n",
            "INFO:fbprophet:Disabling yearly seasonality. Run prophet with yearly_seasonality=True to override this.\n",
            "INFO:fbprophet:Disabling yearly seasonality. Run prophet with yearly_seasonality=True to override this.\n"
          ],
          "name": "stderr"
        },
        {
          "output_type": "stream",
          "text": [
            "0:01:00.975008\n"
          ],
          "name": "stdout"
        },
        {
          "output_type": "stream",
          "text": [
            "INFO:fbprophet:Disabling yearly seasonality. Run prophet with yearly_seasonality=True to override this.\n",
            "INFO:fbprophet:Disabling yearly seasonality. Run prophet with yearly_seasonality=True to override this.\n",
            "INFO:fbprophet:Disabling yearly seasonality. Run prophet with yearly_seasonality=True to override this.\n",
            "INFO:fbprophet:Disabling yearly seasonality. Run prophet with yearly_seasonality=True to override this.\n",
            "INFO:fbprophet:Disabling yearly seasonality. Run prophet with yearly_seasonality=True to override this.\n",
            "INFO:fbprophet:Disabling yearly seasonality. Run prophet with yearly_seasonality=True to override this.\n",
            "INFO:fbprophet:Disabling yearly seasonality. Run prophet with yearly_seasonality=True to override this.\n",
            "INFO:fbprophet:Disabling yearly seasonality. Run prophet with yearly_seasonality=True to override this.\n",
            "INFO:fbprophet:Disabling yearly seasonality. Run prophet with yearly_seasonality=True to override this.\n",
            "INFO:fbprophet:Disabling yearly seasonality. Run prophet with yearly_seasonality=True to override this.\n",
            "INFO:fbprophet:Disabling yearly seasonality. Run prophet with yearly_seasonality=True to override this.\n",
            "INFO:fbprophet:Disabling yearly seasonality. Run prophet with yearly_seasonality=True to override this.\n",
            "INFO:fbprophet:Disabling yearly seasonality. Run prophet with yearly_seasonality=True to override this.\n",
            "INFO:fbprophet:Disabling yearly seasonality. Run prophet with yearly_seasonality=True to override this.\n",
            "INFO:fbprophet:Disabling yearly seasonality. Run prophet with yearly_seasonality=True to override this.\n",
            "INFO:fbprophet:Disabling yearly seasonality. Run prophet with yearly_seasonality=True to override this.\n",
            "INFO:fbprophet:Disabling yearly seasonality. Run prophet with yearly_seasonality=True to override this.\n",
            "INFO:fbprophet:Disabling yearly seasonality. Run prophet with yearly_seasonality=True to override this.\n",
            "INFO:fbprophet:Disabling yearly seasonality. Run prophet with yearly_seasonality=True to override this.\n",
            "INFO:fbprophet:Disabling yearly seasonality. Run prophet with yearly_seasonality=True to override this.\n",
            "INFO:fbprophet:Disabling yearly seasonality. Run prophet with yearly_seasonality=True to override this.\n",
            "INFO:fbprophet:Disabling yearly seasonality. Run prophet with yearly_seasonality=True to override this.\n",
            "INFO:fbprophet:Disabling yearly seasonality. Run prophet with yearly_seasonality=True to override this.\n",
            "INFO:fbprophet:Disabling yearly seasonality. Run prophet with yearly_seasonality=True to override this.\n",
            "INFO:fbprophet:Disabling yearly seasonality. Run prophet with yearly_seasonality=True to override this.\n",
            "INFO:fbprophet:Disabling yearly seasonality. Run prophet with yearly_seasonality=True to override this.\n",
            "INFO:fbprophet:Disabling yearly seasonality. Run prophet with yearly_seasonality=True to override this.\n",
            "INFO:fbprophet:Disabling yearly seasonality. Run prophet with yearly_seasonality=True to override this.\n",
            "INFO:fbprophet:Disabling yearly seasonality. Run prophet with yearly_seasonality=True to override this.\n"
          ],
          "name": "stderr"
        },
        {
          "output_type": "stream",
          "text": [
            "0:01:02.797212\n"
          ],
          "name": "stdout"
        },
        {
          "output_type": "stream",
          "text": [
            "INFO:fbprophet:Disabling yearly seasonality. Run prophet with yearly_seasonality=True to override this.\n",
            "INFO:fbprophet:Disabling yearly seasonality. Run prophet with yearly_seasonality=True to override this.\n",
            "INFO:fbprophet:Disabling yearly seasonality. Run prophet with yearly_seasonality=True to override this.\n",
            "INFO:fbprophet:Disabling yearly seasonality. Run prophet with yearly_seasonality=True to override this.\n",
            "INFO:fbprophet:Disabling yearly seasonality. Run prophet with yearly_seasonality=True to override this.\n",
            "INFO:fbprophet:Disabling yearly seasonality. Run prophet with yearly_seasonality=True to override this.\n",
            "INFO:fbprophet:Disabling yearly seasonality. Run prophet with yearly_seasonality=True to override this.\n",
            "INFO:fbprophet:Disabling yearly seasonality. Run prophet with yearly_seasonality=True to override this.\n",
            "INFO:fbprophet:Disabling yearly seasonality. Run prophet with yearly_seasonality=True to override this.\n",
            "INFO:fbprophet:Disabling yearly seasonality. Run prophet with yearly_seasonality=True to override this.\n",
            "INFO:fbprophet:Disabling yearly seasonality. Run prophet with yearly_seasonality=True to override this.\n",
            "INFO:fbprophet:Disabling yearly seasonality. Run prophet with yearly_seasonality=True to override this.\n",
            "INFO:fbprophet:Disabling yearly seasonality. Run prophet with yearly_seasonality=True to override this.\n",
            "INFO:fbprophet:Disabling yearly seasonality. Run prophet with yearly_seasonality=True to override this.\n",
            "INFO:fbprophet:Disabling yearly seasonality. Run prophet with yearly_seasonality=True to override this.\n",
            "INFO:fbprophet:Disabling yearly seasonality. Run prophet with yearly_seasonality=True to override this.\n",
            "INFO:fbprophet:Disabling yearly seasonality. Run prophet with yearly_seasonality=True to override this.\n",
            "INFO:fbprophet:Disabling yearly seasonality. Run prophet with yearly_seasonality=True to override this.\n",
            "INFO:fbprophet:Disabling yearly seasonality. Run prophet with yearly_seasonality=True to override this.\n",
            "INFO:fbprophet:Disabling yearly seasonality. Run prophet with yearly_seasonality=True to override this.\n",
            "INFO:fbprophet:Disabling yearly seasonality. Run prophet with yearly_seasonality=True to override this.\n",
            "INFO:fbprophet:Disabling yearly seasonality. Run prophet with yearly_seasonality=True to override this.\n",
            "INFO:fbprophet:Disabling yearly seasonality. Run prophet with yearly_seasonality=True to override this.\n",
            "INFO:fbprophet:Disabling yearly seasonality. Run prophet with yearly_seasonality=True to override this.\n",
            "INFO:fbprophet:Disabling yearly seasonality. Run prophet with yearly_seasonality=True to override this.\n",
            "INFO:fbprophet:Disabling yearly seasonality. Run prophet with yearly_seasonality=True to override this.\n",
            "INFO:fbprophet:Disabling yearly seasonality. Run prophet with yearly_seasonality=True to override this.\n",
            "INFO:fbprophet:Disabling yearly seasonality. Run prophet with yearly_seasonality=True to override this.\n",
            "INFO:fbprophet:Disabling yearly seasonality. Run prophet with yearly_seasonality=True to override this.\n"
          ],
          "name": "stderr"
        },
        {
          "output_type": "stream",
          "text": [
            "0:01:00.651264\n"
          ],
          "name": "stdout"
        },
        {
          "output_type": "stream",
          "text": [
            "INFO:fbprophet:Disabling yearly seasonality. Run prophet with yearly_seasonality=True to override this.\n",
            "INFO:fbprophet:Disabling yearly seasonality. Run prophet with yearly_seasonality=True to override this.\n",
            "INFO:fbprophet:Disabling yearly seasonality. Run prophet with yearly_seasonality=True to override this.\n",
            "INFO:fbprophet:Disabling yearly seasonality. Run prophet with yearly_seasonality=True to override this.\n",
            "INFO:fbprophet:Disabling yearly seasonality. Run prophet with yearly_seasonality=True to override this.\n",
            "INFO:fbprophet:Disabling yearly seasonality. Run prophet with yearly_seasonality=True to override this.\n",
            "INFO:fbprophet:Disabling yearly seasonality. Run prophet with yearly_seasonality=True to override this.\n",
            "INFO:fbprophet:Disabling yearly seasonality. Run prophet with yearly_seasonality=True to override this.\n",
            "INFO:fbprophet:Disabling yearly seasonality. Run prophet with yearly_seasonality=True to override this.\n",
            "INFO:fbprophet:Disabling yearly seasonality. Run prophet with yearly_seasonality=True to override this.\n",
            "INFO:fbprophet:Disabling yearly seasonality. Run prophet with yearly_seasonality=True to override this.\n",
            "INFO:fbprophet:Disabling yearly seasonality. Run prophet with yearly_seasonality=True to override this.\n",
            "INFO:fbprophet:Disabling yearly seasonality. Run prophet with yearly_seasonality=True to override this.\n",
            "INFO:fbprophet:Disabling yearly seasonality. Run prophet with yearly_seasonality=True to override this.\n",
            "INFO:fbprophet:Disabling yearly seasonality. Run prophet with yearly_seasonality=True to override this.\n",
            "INFO:fbprophet:Disabling yearly seasonality. Run prophet with yearly_seasonality=True to override this.\n",
            "INFO:fbprophet:Disabling yearly seasonality. Run prophet with yearly_seasonality=True to override this.\n",
            "INFO:fbprophet:Disabling yearly seasonality. Run prophet with yearly_seasonality=True to override this.\n",
            "INFO:fbprophet:Disabling yearly seasonality. Run prophet with yearly_seasonality=True to override this.\n",
            "INFO:fbprophet:Disabling yearly seasonality. Run prophet with yearly_seasonality=True to override this.\n",
            "INFO:fbprophet:Disabling yearly seasonality. Run prophet with yearly_seasonality=True to override this.\n",
            "INFO:fbprophet:Disabling yearly seasonality. Run prophet with yearly_seasonality=True to override this.\n",
            "INFO:fbprophet:Disabling yearly seasonality. Run prophet with yearly_seasonality=True to override this.\n",
            "INFO:fbprophet:Disabling yearly seasonality. Run prophet with yearly_seasonality=True to override this.\n",
            "INFO:fbprophet:Disabling yearly seasonality. Run prophet with yearly_seasonality=True to override this.\n",
            "INFO:fbprophet:Disabling yearly seasonality. Run prophet with yearly_seasonality=True to override this.\n",
            "INFO:fbprophet:Disabling yearly seasonality. Run prophet with yearly_seasonality=True to override this.\n",
            "INFO:fbprophet:Disabling yearly seasonality. Run prophet with yearly_seasonality=True to override this.\n",
            "INFO:fbprophet:Disabling yearly seasonality. Run prophet with yearly_seasonality=True to override this.\n"
          ],
          "name": "stderr"
        },
        {
          "output_type": "stream",
          "text": [
            "0:01:01.364094\n"
          ],
          "name": "stdout"
        },
        {
          "output_type": "stream",
          "text": [
            "INFO:fbprophet:Disabling yearly seasonality. Run prophet with yearly_seasonality=True to override this.\n",
            "INFO:fbprophet:Disabling yearly seasonality. Run prophet with yearly_seasonality=True to override this.\n",
            "INFO:fbprophet:Disabling yearly seasonality. Run prophet with yearly_seasonality=True to override this.\n",
            "INFO:fbprophet:Disabling yearly seasonality. Run prophet with yearly_seasonality=True to override this.\n",
            "INFO:fbprophet:Disabling yearly seasonality. Run prophet with yearly_seasonality=True to override this.\n",
            "INFO:fbprophet:Disabling yearly seasonality. Run prophet with yearly_seasonality=True to override this.\n",
            "INFO:fbprophet:Disabling yearly seasonality. Run prophet with yearly_seasonality=True to override this.\n",
            "INFO:fbprophet:Disabling yearly seasonality. Run prophet with yearly_seasonality=True to override this.\n",
            "INFO:fbprophet:Disabling yearly seasonality. Run prophet with yearly_seasonality=True to override this.\n",
            "INFO:fbprophet:Disabling yearly seasonality. Run prophet with yearly_seasonality=True to override this.\n",
            "INFO:fbprophet:Disabling yearly seasonality. Run prophet with yearly_seasonality=True to override this.\n",
            "INFO:fbprophet:Disabling yearly seasonality. Run prophet with yearly_seasonality=True to override this.\n",
            "INFO:fbprophet:Disabling yearly seasonality. Run prophet with yearly_seasonality=True to override this.\n",
            "INFO:fbprophet:Disabling yearly seasonality. Run prophet with yearly_seasonality=True to override this.\n",
            "INFO:fbprophet:Disabling yearly seasonality. Run prophet with yearly_seasonality=True to override this.\n",
            "INFO:fbprophet:Disabling yearly seasonality. Run prophet with yearly_seasonality=True to override this.\n",
            "INFO:fbprophet:Disabling yearly seasonality. Run prophet with yearly_seasonality=True to override this.\n",
            "INFO:fbprophet:Disabling yearly seasonality. Run prophet with yearly_seasonality=True to override this.\n",
            "INFO:fbprophet:Disabling yearly seasonality. Run prophet with yearly_seasonality=True to override this.\n",
            "INFO:fbprophet:Disabling yearly seasonality. Run prophet with yearly_seasonality=True to override this.\n",
            "INFO:fbprophet:Disabling yearly seasonality. Run prophet with yearly_seasonality=True to override this.\n",
            "INFO:fbprophet:Disabling yearly seasonality. Run prophet with yearly_seasonality=True to override this.\n",
            "INFO:fbprophet:Disabling yearly seasonality. Run prophet with yearly_seasonality=True to override this.\n",
            "INFO:fbprophet:Disabling yearly seasonality. Run prophet with yearly_seasonality=True to override this.\n",
            "INFO:fbprophet:Disabling yearly seasonality. Run prophet with yearly_seasonality=True to override this.\n",
            "INFO:fbprophet:Disabling yearly seasonality. Run prophet with yearly_seasonality=True to override this.\n",
            "INFO:fbprophet:Disabling yearly seasonality. Run prophet with yearly_seasonality=True to override this.\n",
            "INFO:fbprophet:Disabling yearly seasonality. Run prophet with yearly_seasonality=True to override this.\n",
            "INFO:fbprophet:Disabling yearly seasonality. Run prophet with yearly_seasonality=True to override this.\n"
          ],
          "name": "stderr"
        },
        {
          "output_type": "stream",
          "text": [
            "0:01:03.150796\n"
          ],
          "name": "stdout"
        },
        {
          "output_type": "stream",
          "text": [
            "INFO:fbprophet:Disabling yearly seasonality. Run prophet with yearly_seasonality=True to override this.\n",
            "INFO:fbprophet:Disabling yearly seasonality. Run prophet with yearly_seasonality=True to override this.\n",
            "INFO:fbprophet:Disabling yearly seasonality. Run prophet with yearly_seasonality=True to override this.\n",
            "INFO:fbprophet:Disabling yearly seasonality. Run prophet with yearly_seasonality=True to override this.\n",
            "INFO:fbprophet:Disabling yearly seasonality. Run prophet with yearly_seasonality=True to override this.\n",
            "INFO:fbprophet:Disabling yearly seasonality. Run prophet with yearly_seasonality=True to override this.\n",
            "INFO:fbprophet:Disabling yearly seasonality. Run prophet with yearly_seasonality=True to override this.\n",
            "INFO:fbprophet:Disabling yearly seasonality. Run prophet with yearly_seasonality=True to override this.\n",
            "INFO:fbprophet:Disabling yearly seasonality. Run prophet with yearly_seasonality=True to override this.\n",
            "INFO:fbprophet:Disabling yearly seasonality. Run prophet with yearly_seasonality=True to override this.\n",
            "INFO:fbprophet:Disabling yearly seasonality. Run prophet with yearly_seasonality=True to override this.\n",
            "INFO:fbprophet:Disabling yearly seasonality. Run prophet with yearly_seasonality=True to override this.\n",
            "INFO:fbprophet:Disabling yearly seasonality. Run prophet with yearly_seasonality=True to override this.\n",
            "INFO:fbprophet:Disabling yearly seasonality. Run prophet with yearly_seasonality=True to override this.\n",
            "INFO:fbprophet:Disabling yearly seasonality. Run prophet with yearly_seasonality=True to override this.\n",
            "INFO:fbprophet:Disabling yearly seasonality. Run prophet with yearly_seasonality=True to override this.\n",
            "INFO:fbprophet:Disabling yearly seasonality. Run prophet with yearly_seasonality=True to override this.\n",
            "INFO:fbprophet:Disabling yearly seasonality. Run prophet with yearly_seasonality=True to override this.\n",
            "INFO:fbprophet:Disabling yearly seasonality. Run prophet with yearly_seasonality=True to override this.\n",
            "INFO:fbprophet:Disabling yearly seasonality. Run prophet with yearly_seasonality=True to override this.\n",
            "INFO:fbprophet:Disabling yearly seasonality. Run prophet with yearly_seasonality=True to override this.\n",
            "INFO:fbprophet:Disabling yearly seasonality. Run prophet with yearly_seasonality=True to override this.\n",
            "INFO:fbprophet:Disabling yearly seasonality. Run prophet with yearly_seasonality=True to override this.\n",
            "INFO:fbprophet:Disabling yearly seasonality. Run prophet with yearly_seasonality=True to override this.\n",
            "INFO:fbprophet:Disabling yearly seasonality. Run prophet with yearly_seasonality=True to override this.\n",
            "INFO:fbprophet:Disabling yearly seasonality. Run prophet with yearly_seasonality=True to override this.\n",
            "INFO:fbprophet:Disabling yearly seasonality. Run prophet with yearly_seasonality=True to override this.\n",
            "INFO:fbprophet:Disabling yearly seasonality. Run prophet with yearly_seasonality=True to override this.\n",
            "INFO:fbprophet:Disabling yearly seasonality. Run prophet with yearly_seasonality=True to override this.\n"
          ],
          "name": "stderr"
        },
        {
          "output_type": "stream",
          "text": [
            "0:01:02.306643\n"
          ],
          "name": "stdout"
        },
        {
          "output_type": "stream",
          "text": [
            "INFO:fbprophet:Disabling yearly seasonality. Run prophet with yearly_seasonality=True to override this.\n",
            "INFO:fbprophet:Disabling yearly seasonality. Run prophet with yearly_seasonality=True to override this.\n",
            "INFO:fbprophet:Disabling yearly seasonality. Run prophet with yearly_seasonality=True to override this.\n",
            "INFO:fbprophet:Disabling yearly seasonality. Run prophet with yearly_seasonality=True to override this.\n",
            "INFO:fbprophet:Disabling yearly seasonality. Run prophet with yearly_seasonality=True to override this.\n",
            "INFO:fbprophet:Disabling yearly seasonality. Run prophet with yearly_seasonality=True to override this.\n",
            "INFO:fbprophet:Disabling yearly seasonality. Run prophet with yearly_seasonality=True to override this.\n",
            "INFO:fbprophet:Disabling yearly seasonality. Run prophet with yearly_seasonality=True to override this.\n",
            "INFO:fbprophet:Disabling yearly seasonality. Run prophet with yearly_seasonality=True to override this.\n",
            "INFO:fbprophet:Disabling yearly seasonality. Run prophet with yearly_seasonality=True to override this.\n",
            "INFO:fbprophet:Disabling yearly seasonality. Run prophet with yearly_seasonality=True to override this.\n",
            "INFO:fbprophet:Disabling yearly seasonality. Run prophet with yearly_seasonality=True to override this.\n",
            "INFO:fbprophet:Disabling yearly seasonality. Run prophet with yearly_seasonality=True to override this.\n",
            "INFO:fbprophet:Disabling yearly seasonality. Run prophet with yearly_seasonality=True to override this.\n",
            "INFO:fbprophet:Disabling yearly seasonality. Run prophet with yearly_seasonality=True to override this.\n",
            "INFO:fbprophet:Disabling yearly seasonality. Run prophet with yearly_seasonality=True to override this.\n",
            "INFO:fbprophet:Disabling yearly seasonality. Run prophet with yearly_seasonality=True to override this.\n",
            "INFO:fbprophet:Disabling yearly seasonality. Run prophet with yearly_seasonality=True to override this.\n",
            "INFO:fbprophet:Disabling yearly seasonality. Run prophet with yearly_seasonality=True to override this.\n",
            "INFO:fbprophet:Disabling yearly seasonality. Run prophet with yearly_seasonality=True to override this.\n",
            "INFO:fbprophet:Disabling yearly seasonality. Run prophet with yearly_seasonality=True to override this.\n",
            "INFO:fbprophet:Disabling yearly seasonality. Run prophet with yearly_seasonality=True to override this.\n",
            "INFO:fbprophet:Disabling yearly seasonality. Run prophet with yearly_seasonality=True to override this.\n",
            "INFO:fbprophet:Disabling yearly seasonality. Run prophet with yearly_seasonality=True to override this.\n",
            "INFO:fbprophet:Disabling yearly seasonality. Run prophet with yearly_seasonality=True to override this.\n",
            "INFO:fbprophet:Disabling yearly seasonality. Run prophet with yearly_seasonality=True to override this.\n",
            "INFO:fbprophet:Disabling yearly seasonality. Run prophet with yearly_seasonality=True to override this.\n",
            "INFO:fbprophet:Disabling yearly seasonality. Run prophet with yearly_seasonality=True to override this.\n",
            "INFO:fbprophet:Disabling yearly seasonality. Run prophet with yearly_seasonality=True to override this.\n"
          ],
          "name": "stderr"
        },
        {
          "output_type": "stream",
          "text": [
            "0:01:02.770424\n"
          ],
          "name": "stdout"
        },
        {
          "output_type": "stream",
          "text": [
            "INFO:fbprophet:Disabling yearly seasonality. Run prophet with yearly_seasonality=True to override this.\n",
            "INFO:fbprophet:Disabling yearly seasonality. Run prophet with yearly_seasonality=True to override this.\n",
            "INFO:fbprophet:Disabling yearly seasonality. Run prophet with yearly_seasonality=True to override this.\n",
            "INFO:fbprophet:Disabling yearly seasonality. Run prophet with yearly_seasonality=True to override this.\n",
            "INFO:fbprophet:Disabling yearly seasonality. Run prophet with yearly_seasonality=True to override this.\n",
            "INFO:fbprophet:Disabling yearly seasonality. Run prophet with yearly_seasonality=True to override this.\n",
            "INFO:fbprophet:Disabling yearly seasonality. Run prophet with yearly_seasonality=True to override this.\n",
            "INFO:fbprophet:Disabling yearly seasonality. Run prophet with yearly_seasonality=True to override this.\n",
            "INFO:fbprophet:Disabling yearly seasonality. Run prophet with yearly_seasonality=True to override this.\n",
            "INFO:fbprophet:Disabling yearly seasonality. Run prophet with yearly_seasonality=True to override this.\n",
            "INFO:fbprophet:Disabling yearly seasonality. Run prophet with yearly_seasonality=True to override this.\n",
            "INFO:fbprophet:Disabling yearly seasonality. Run prophet with yearly_seasonality=True to override this.\n",
            "INFO:fbprophet:Disabling yearly seasonality. Run prophet with yearly_seasonality=True to override this.\n",
            "INFO:fbprophet:Disabling yearly seasonality. Run prophet with yearly_seasonality=True to override this.\n",
            "INFO:fbprophet:Disabling yearly seasonality. Run prophet with yearly_seasonality=True to override this.\n",
            "INFO:fbprophet:Disabling yearly seasonality. Run prophet with yearly_seasonality=True to override this.\n",
            "INFO:fbprophet:Disabling yearly seasonality. Run prophet with yearly_seasonality=True to override this.\n",
            "INFO:fbprophet:Disabling yearly seasonality. Run prophet with yearly_seasonality=True to override this.\n",
            "INFO:fbprophet:Disabling yearly seasonality. Run prophet with yearly_seasonality=True to override this.\n",
            "INFO:fbprophet:Disabling yearly seasonality. Run prophet with yearly_seasonality=True to override this.\n",
            "INFO:fbprophet:Disabling yearly seasonality. Run prophet with yearly_seasonality=True to override this.\n",
            "INFO:fbprophet:Disabling yearly seasonality. Run prophet with yearly_seasonality=True to override this.\n",
            "INFO:fbprophet:Disabling yearly seasonality. Run prophet with yearly_seasonality=True to override this.\n",
            "INFO:fbprophet:Disabling yearly seasonality. Run prophet with yearly_seasonality=True to override this.\n",
            "INFO:fbprophet:Disabling yearly seasonality. Run prophet with yearly_seasonality=True to override this.\n",
            "INFO:fbprophet:Disabling yearly seasonality. Run prophet with yearly_seasonality=True to override this.\n",
            "INFO:fbprophet:Disabling yearly seasonality. Run prophet with yearly_seasonality=True to override this.\n",
            "INFO:fbprophet:Disabling yearly seasonality. Run prophet with yearly_seasonality=True to override this.\n",
            "INFO:fbprophet:Disabling yearly seasonality. Run prophet with yearly_seasonality=True to override this.\n"
          ],
          "name": "stderr"
        },
        {
          "output_type": "stream",
          "text": [
            "0:01:02.132876\n"
          ],
          "name": "stdout"
        },
        {
          "output_type": "stream",
          "text": [
            "INFO:fbprophet:Disabling yearly seasonality. Run prophet with yearly_seasonality=True to override this.\n",
            "INFO:fbprophet:Disabling yearly seasonality. Run prophet with yearly_seasonality=True to override this.\n",
            "INFO:fbprophet:Disabling yearly seasonality. Run prophet with yearly_seasonality=True to override this.\n",
            "INFO:fbprophet:Disabling yearly seasonality. Run prophet with yearly_seasonality=True to override this.\n",
            "INFO:fbprophet:Disabling yearly seasonality. Run prophet with yearly_seasonality=True to override this.\n",
            "INFO:fbprophet:Disabling yearly seasonality. Run prophet with yearly_seasonality=True to override this.\n",
            "INFO:fbprophet:Disabling yearly seasonality. Run prophet with yearly_seasonality=True to override this.\n",
            "INFO:fbprophet:Disabling yearly seasonality. Run prophet with yearly_seasonality=True to override this.\n",
            "INFO:fbprophet:Disabling yearly seasonality. Run prophet with yearly_seasonality=True to override this.\n",
            "INFO:fbprophet:Disabling yearly seasonality. Run prophet with yearly_seasonality=True to override this.\n",
            "INFO:fbprophet:Disabling yearly seasonality. Run prophet with yearly_seasonality=True to override this.\n",
            "INFO:fbprophet:Disabling yearly seasonality. Run prophet with yearly_seasonality=True to override this.\n",
            "INFO:fbprophet:Disabling yearly seasonality. Run prophet with yearly_seasonality=True to override this.\n",
            "INFO:fbprophet:Disabling yearly seasonality. Run prophet with yearly_seasonality=True to override this.\n",
            "INFO:fbprophet:Disabling yearly seasonality. Run prophet with yearly_seasonality=True to override this.\n",
            "INFO:fbprophet:Disabling yearly seasonality. Run prophet with yearly_seasonality=True to override this.\n",
            "INFO:fbprophet:Disabling yearly seasonality. Run prophet with yearly_seasonality=True to override this.\n",
            "INFO:fbprophet:Disabling yearly seasonality. Run prophet with yearly_seasonality=True to override this.\n",
            "INFO:fbprophet:Disabling yearly seasonality. Run prophet with yearly_seasonality=True to override this.\n",
            "INFO:fbprophet:Disabling yearly seasonality. Run prophet with yearly_seasonality=True to override this.\n",
            "INFO:fbprophet:Disabling yearly seasonality. Run prophet with yearly_seasonality=True to override this.\n",
            "INFO:fbprophet:Disabling yearly seasonality. Run prophet with yearly_seasonality=True to override this.\n",
            "INFO:fbprophet:Disabling yearly seasonality. Run prophet with yearly_seasonality=True to override this.\n",
            "INFO:fbprophet:Disabling yearly seasonality. Run prophet with yearly_seasonality=True to override this.\n",
            "INFO:fbprophet:Disabling yearly seasonality. Run prophet with yearly_seasonality=True to override this.\n",
            "INFO:fbprophet:Disabling yearly seasonality. Run prophet with yearly_seasonality=True to override this.\n",
            "INFO:fbprophet:Disabling yearly seasonality. Run prophet with yearly_seasonality=True to override this.\n",
            "INFO:fbprophet:Disabling yearly seasonality. Run prophet with yearly_seasonality=True to override this.\n",
            "INFO:fbprophet:Disabling yearly seasonality. Run prophet with yearly_seasonality=True to override this.\n"
          ],
          "name": "stderr"
        },
        {
          "output_type": "stream",
          "text": [
            "0:01:01.362081\n"
          ],
          "name": "stdout"
        },
        {
          "output_type": "stream",
          "text": [
            "INFO:fbprophet:Disabling yearly seasonality. Run prophet with yearly_seasonality=True to override this.\n",
            "INFO:fbprophet:Disabling yearly seasonality. Run prophet with yearly_seasonality=True to override this.\n",
            "INFO:fbprophet:Disabling yearly seasonality. Run prophet with yearly_seasonality=True to override this.\n",
            "INFO:fbprophet:Disabling yearly seasonality. Run prophet with yearly_seasonality=True to override this.\n",
            "INFO:fbprophet:Disabling yearly seasonality. Run prophet with yearly_seasonality=True to override this.\n",
            "INFO:fbprophet:Disabling yearly seasonality. Run prophet with yearly_seasonality=True to override this.\n",
            "INFO:fbprophet:Disabling yearly seasonality. Run prophet with yearly_seasonality=True to override this.\n",
            "INFO:fbprophet:Disabling yearly seasonality. Run prophet with yearly_seasonality=True to override this.\n",
            "INFO:fbprophet:Disabling yearly seasonality. Run prophet with yearly_seasonality=True to override this.\n",
            "INFO:fbprophet:Disabling yearly seasonality. Run prophet with yearly_seasonality=True to override this.\n",
            "INFO:fbprophet:Disabling yearly seasonality. Run prophet with yearly_seasonality=True to override this.\n",
            "INFO:fbprophet:Disabling yearly seasonality. Run prophet with yearly_seasonality=True to override this.\n",
            "INFO:fbprophet:Disabling yearly seasonality. Run prophet with yearly_seasonality=True to override this.\n",
            "INFO:fbprophet:Disabling yearly seasonality. Run prophet with yearly_seasonality=True to override this.\n",
            "INFO:fbprophet:Disabling yearly seasonality. Run prophet with yearly_seasonality=True to override this.\n",
            "INFO:fbprophet:Disabling yearly seasonality. Run prophet with yearly_seasonality=True to override this.\n",
            "INFO:fbprophet:Disabling yearly seasonality. Run prophet with yearly_seasonality=True to override this.\n",
            "INFO:fbprophet:Disabling yearly seasonality. Run prophet with yearly_seasonality=True to override this.\n",
            "INFO:fbprophet:Disabling yearly seasonality. Run prophet with yearly_seasonality=True to override this.\n",
            "INFO:fbprophet:Disabling yearly seasonality. Run prophet with yearly_seasonality=True to override this.\n",
            "INFO:fbprophet:Disabling yearly seasonality. Run prophet with yearly_seasonality=True to override this.\n",
            "INFO:fbprophet:Disabling yearly seasonality. Run prophet with yearly_seasonality=True to override this.\n",
            "INFO:fbprophet:Disabling yearly seasonality. Run prophet with yearly_seasonality=True to override this.\n",
            "INFO:fbprophet:Disabling yearly seasonality. Run prophet with yearly_seasonality=True to override this.\n",
            "INFO:fbprophet:Disabling yearly seasonality. Run prophet with yearly_seasonality=True to override this.\n",
            "INFO:fbprophet:Disabling yearly seasonality. Run prophet with yearly_seasonality=True to override this.\n",
            "INFO:fbprophet:Disabling yearly seasonality. Run prophet with yearly_seasonality=True to override this.\n",
            "INFO:fbprophet:Disabling yearly seasonality. Run prophet with yearly_seasonality=True to override this.\n",
            "INFO:fbprophet:Disabling yearly seasonality. Run prophet with yearly_seasonality=True to override this.\n"
          ],
          "name": "stderr"
        },
        {
          "output_type": "stream",
          "text": [
            "0:01:00.440489\n"
          ],
          "name": "stdout"
        },
        {
          "output_type": "stream",
          "text": [
            "INFO:fbprophet:Disabling yearly seasonality. Run prophet with yearly_seasonality=True to override this.\n",
            "INFO:fbprophet:Disabling yearly seasonality. Run prophet with yearly_seasonality=True to override this.\n",
            "INFO:fbprophet:Disabling yearly seasonality. Run prophet with yearly_seasonality=True to override this.\n",
            "INFO:fbprophet:Disabling yearly seasonality. Run prophet with yearly_seasonality=True to override this.\n",
            "INFO:fbprophet:Disabling yearly seasonality. Run prophet with yearly_seasonality=True to override this.\n",
            "INFO:fbprophet:Disabling yearly seasonality. Run prophet with yearly_seasonality=True to override this.\n",
            "INFO:fbprophet:Disabling yearly seasonality. Run prophet with yearly_seasonality=True to override this.\n",
            "INFO:fbprophet:Disabling yearly seasonality. Run prophet with yearly_seasonality=True to override this.\n",
            "INFO:fbprophet:Disabling yearly seasonality. Run prophet with yearly_seasonality=True to override this.\n",
            "INFO:fbprophet:Disabling yearly seasonality. Run prophet with yearly_seasonality=True to override this.\n",
            "INFO:fbprophet:Disabling yearly seasonality. Run prophet with yearly_seasonality=True to override this.\n",
            "INFO:fbprophet:Disabling yearly seasonality. Run prophet with yearly_seasonality=True to override this.\n",
            "INFO:fbprophet:Disabling yearly seasonality. Run prophet with yearly_seasonality=True to override this.\n",
            "INFO:fbprophet:Disabling yearly seasonality. Run prophet with yearly_seasonality=True to override this.\n",
            "INFO:fbprophet:Disabling yearly seasonality. Run prophet with yearly_seasonality=True to override this.\n",
            "INFO:fbprophet:Disabling yearly seasonality. Run prophet with yearly_seasonality=True to override this.\n",
            "INFO:fbprophet:Disabling yearly seasonality. Run prophet with yearly_seasonality=True to override this.\n",
            "INFO:fbprophet:Disabling yearly seasonality. Run prophet with yearly_seasonality=True to override this.\n",
            "INFO:fbprophet:Disabling yearly seasonality. Run prophet with yearly_seasonality=True to override this.\n",
            "INFO:fbprophet:Disabling yearly seasonality. Run prophet with yearly_seasonality=True to override this.\n",
            "INFO:fbprophet:Disabling yearly seasonality. Run prophet with yearly_seasonality=True to override this.\n",
            "INFO:fbprophet:Disabling yearly seasonality. Run prophet with yearly_seasonality=True to override this.\n",
            "INFO:fbprophet:Disabling yearly seasonality. Run prophet with yearly_seasonality=True to override this.\n",
            "INFO:fbprophet:Disabling yearly seasonality. Run prophet with yearly_seasonality=True to override this.\n",
            "INFO:fbprophet:Disabling yearly seasonality. Run prophet with yearly_seasonality=True to override this.\n",
            "INFO:fbprophet:Disabling yearly seasonality. Run prophet with yearly_seasonality=True to override this.\n",
            "INFO:fbprophet:Disabling yearly seasonality. Run prophet with yearly_seasonality=True to override this.\n",
            "INFO:fbprophet:Disabling yearly seasonality. Run prophet with yearly_seasonality=True to override this.\n",
            "INFO:fbprophet:Disabling yearly seasonality. Run prophet with yearly_seasonality=True to override this.\n"
          ],
          "name": "stderr"
        },
        {
          "output_type": "stream",
          "text": [
            "0:01:01.611382\n"
          ],
          "name": "stdout"
        },
        {
          "output_type": "stream",
          "text": [
            "INFO:fbprophet:Disabling yearly seasonality. Run prophet with yearly_seasonality=True to override this.\n",
            "INFO:fbprophet:Disabling yearly seasonality. Run prophet with yearly_seasonality=True to override this.\n",
            "INFO:fbprophet:Disabling yearly seasonality. Run prophet with yearly_seasonality=True to override this.\n",
            "INFO:fbprophet:Disabling yearly seasonality. Run prophet with yearly_seasonality=True to override this.\n",
            "INFO:fbprophet:Disabling yearly seasonality. Run prophet with yearly_seasonality=True to override this.\n",
            "INFO:fbprophet:Disabling yearly seasonality. Run prophet with yearly_seasonality=True to override this.\n",
            "INFO:fbprophet:Disabling yearly seasonality. Run prophet with yearly_seasonality=True to override this.\n",
            "INFO:fbprophet:Disabling yearly seasonality. Run prophet with yearly_seasonality=True to override this.\n",
            "INFO:fbprophet:Disabling yearly seasonality. Run prophet with yearly_seasonality=True to override this.\n",
            "INFO:fbprophet:Disabling yearly seasonality. Run prophet with yearly_seasonality=True to override this.\n",
            "INFO:fbprophet:Disabling yearly seasonality. Run prophet with yearly_seasonality=True to override this.\n",
            "INFO:fbprophet:Disabling yearly seasonality. Run prophet with yearly_seasonality=True to override this.\n",
            "INFO:fbprophet:Disabling yearly seasonality. Run prophet with yearly_seasonality=True to override this.\n",
            "INFO:fbprophet:Disabling yearly seasonality. Run prophet with yearly_seasonality=True to override this.\n",
            "INFO:fbprophet:Disabling yearly seasonality. Run prophet with yearly_seasonality=True to override this.\n",
            "INFO:fbprophet:Disabling yearly seasonality. Run prophet with yearly_seasonality=True to override this.\n",
            "INFO:fbprophet:Disabling yearly seasonality. Run prophet with yearly_seasonality=True to override this.\n",
            "INFO:fbprophet:Disabling yearly seasonality. Run prophet with yearly_seasonality=True to override this.\n",
            "INFO:fbprophet:Disabling yearly seasonality. Run prophet with yearly_seasonality=True to override this.\n",
            "INFO:fbprophet:Disabling yearly seasonality. Run prophet with yearly_seasonality=True to override this.\n",
            "INFO:fbprophet:Disabling yearly seasonality. Run prophet with yearly_seasonality=True to override this.\n",
            "INFO:fbprophet:Disabling yearly seasonality. Run prophet with yearly_seasonality=True to override this.\n",
            "INFO:fbprophet:Disabling yearly seasonality. Run prophet with yearly_seasonality=True to override this.\n",
            "INFO:fbprophet:Disabling yearly seasonality. Run prophet with yearly_seasonality=True to override this.\n",
            "INFO:fbprophet:Disabling yearly seasonality. Run prophet with yearly_seasonality=True to override this.\n",
            "INFO:fbprophet:Disabling yearly seasonality. Run prophet with yearly_seasonality=True to override this.\n",
            "INFO:fbprophet:Disabling yearly seasonality. Run prophet with yearly_seasonality=True to override this.\n",
            "INFO:fbprophet:Disabling yearly seasonality. Run prophet with yearly_seasonality=True to override this.\n",
            "INFO:fbprophet:Disabling yearly seasonality. Run prophet with yearly_seasonality=True to override this.\n"
          ],
          "name": "stderr"
        },
        {
          "output_type": "stream",
          "text": [
            "0:01:28.507695\n"
          ],
          "name": "stdout"
        },
        {
          "output_type": "stream",
          "text": [
            "INFO:fbprophet:Disabling yearly seasonality. Run prophet with yearly_seasonality=True to override this.\n",
            "INFO:fbprophet:Disabling yearly seasonality. Run prophet with yearly_seasonality=True to override this.\n",
            "INFO:fbprophet:Disabling yearly seasonality. Run prophet with yearly_seasonality=True to override this.\n",
            "INFO:fbprophet:Disabling yearly seasonality. Run prophet with yearly_seasonality=True to override this.\n",
            "INFO:fbprophet:Disabling yearly seasonality. Run prophet with yearly_seasonality=True to override this.\n",
            "INFO:fbprophet:Disabling yearly seasonality. Run prophet with yearly_seasonality=True to override this.\n",
            "INFO:fbprophet:Disabling yearly seasonality. Run prophet with yearly_seasonality=True to override this.\n",
            "INFO:fbprophet:Disabling yearly seasonality. Run prophet with yearly_seasonality=True to override this.\n",
            "INFO:fbprophet:Disabling yearly seasonality. Run prophet with yearly_seasonality=True to override this.\n",
            "INFO:fbprophet:Disabling yearly seasonality. Run prophet with yearly_seasonality=True to override this.\n",
            "INFO:fbprophet:Disabling yearly seasonality. Run prophet with yearly_seasonality=True to override this.\n",
            "INFO:fbprophet:Disabling yearly seasonality. Run prophet with yearly_seasonality=True to override this.\n",
            "INFO:fbprophet:Disabling yearly seasonality. Run prophet with yearly_seasonality=True to override this.\n",
            "INFO:fbprophet:Disabling yearly seasonality. Run prophet with yearly_seasonality=True to override this.\n",
            "INFO:fbprophet:Disabling yearly seasonality. Run prophet with yearly_seasonality=True to override this.\n",
            "INFO:fbprophet:Disabling yearly seasonality. Run prophet with yearly_seasonality=True to override this.\n",
            "INFO:fbprophet:Disabling yearly seasonality. Run prophet with yearly_seasonality=True to override this.\n",
            "INFO:fbprophet:Disabling yearly seasonality. Run prophet with yearly_seasonality=True to override this.\n",
            "INFO:fbprophet:Disabling yearly seasonality. Run prophet with yearly_seasonality=True to override this.\n",
            "INFO:fbprophet:Disabling yearly seasonality. Run prophet with yearly_seasonality=True to override this.\n",
            "INFO:fbprophet:Disabling yearly seasonality. Run prophet with yearly_seasonality=True to override this.\n",
            "INFO:fbprophet:Disabling yearly seasonality. Run prophet with yearly_seasonality=True to override this.\n",
            "INFO:fbprophet:Disabling yearly seasonality. Run prophet with yearly_seasonality=True to override this.\n",
            "INFO:fbprophet:Disabling yearly seasonality. Run prophet with yearly_seasonality=True to override this.\n",
            "INFO:fbprophet:Disabling yearly seasonality. Run prophet with yearly_seasonality=True to override this.\n",
            "INFO:fbprophet:Disabling yearly seasonality. Run prophet with yearly_seasonality=True to override this.\n",
            "INFO:fbprophet:Disabling yearly seasonality. Run prophet with yearly_seasonality=True to override this.\n",
            "INFO:fbprophet:Disabling yearly seasonality. Run prophet with yearly_seasonality=True to override this.\n",
            "INFO:fbprophet:Disabling yearly seasonality. Run prophet with yearly_seasonality=True to override this.\n"
          ],
          "name": "stderr"
        },
        {
          "output_type": "stream",
          "text": [
            "0:01:02.501607\n"
          ],
          "name": "stdout"
        },
        {
          "output_type": "stream",
          "text": [
            "INFO:fbprophet:Disabling yearly seasonality. Run prophet with yearly_seasonality=True to override this.\n",
            "INFO:fbprophet:Disabling yearly seasonality. Run prophet with yearly_seasonality=True to override this.\n",
            "INFO:fbprophet:Disabling yearly seasonality. Run prophet with yearly_seasonality=True to override this.\n",
            "INFO:fbprophet:Disabling yearly seasonality. Run prophet with yearly_seasonality=True to override this.\n",
            "INFO:fbprophet:Disabling yearly seasonality. Run prophet with yearly_seasonality=True to override this.\n",
            "INFO:fbprophet:Disabling yearly seasonality. Run prophet with yearly_seasonality=True to override this.\n",
            "INFO:fbprophet:Disabling yearly seasonality. Run prophet with yearly_seasonality=True to override this.\n",
            "INFO:fbprophet:Disabling yearly seasonality. Run prophet with yearly_seasonality=True to override this.\n",
            "INFO:fbprophet:Disabling yearly seasonality. Run prophet with yearly_seasonality=True to override this.\n",
            "INFO:fbprophet:Disabling yearly seasonality. Run prophet with yearly_seasonality=True to override this.\n",
            "INFO:fbprophet:Disabling yearly seasonality. Run prophet with yearly_seasonality=True to override this.\n",
            "INFO:fbprophet:Disabling yearly seasonality. Run prophet with yearly_seasonality=True to override this.\n",
            "INFO:fbprophet:Disabling yearly seasonality. Run prophet with yearly_seasonality=True to override this.\n",
            "INFO:fbprophet:Disabling yearly seasonality. Run prophet with yearly_seasonality=True to override this.\n",
            "INFO:fbprophet:Disabling yearly seasonality. Run prophet with yearly_seasonality=True to override this.\n",
            "INFO:fbprophet:Disabling yearly seasonality. Run prophet with yearly_seasonality=True to override this.\n",
            "INFO:fbprophet:Disabling yearly seasonality. Run prophet with yearly_seasonality=True to override this.\n",
            "INFO:fbprophet:Disabling yearly seasonality. Run prophet with yearly_seasonality=True to override this.\n",
            "INFO:fbprophet:Disabling yearly seasonality. Run prophet with yearly_seasonality=True to override this.\n",
            "INFO:fbprophet:Disabling yearly seasonality. Run prophet with yearly_seasonality=True to override this.\n",
            "INFO:fbprophet:Disabling yearly seasonality. Run prophet with yearly_seasonality=True to override this.\n",
            "INFO:fbprophet:Disabling yearly seasonality. Run prophet with yearly_seasonality=True to override this.\n",
            "INFO:fbprophet:Disabling yearly seasonality. Run prophet with yearly_seasonality=True to override this.\n",
            "INFO:fbprophet:Disabling yearly seasonality. Run prophet with yearly_seasonality=True to override this.\n",
            "INFO:fbprophet:Disabling yearly seasonality. Run prophet with yearly_seasonality=True to override this.\n",
            "INFO:fbprophet:Disabling yearly seasonality. Run prophet with yearly_seasonality=True to override this.\n",
            "INFO:fbprophet:Disabling yearly seasonality. Run prophet with yearly_seasonality=True to override this.\n",
            "INFO:fbprophet:Disabling yearly seasonality. Run prophet with yearly_seasonality=True to override this.\n",
            "INFO:fbprophet:Disabling yearly seasonality. Run prophet with yearly_seasonality=True to override this.\n"
          ],
          "name": "stderr"
        },
        {
          "output_type": "stream",
          "text": [
            "0:01:02.074544\n"
          ],
          "name": "stdout"
        },
        {
          "output_type": "stream",
          "text": [
            "INFO:fbprophet:Disabling yearly seasonality. Run prophet with yearly_seasonality=True to override this.\n",
            "INFO:fbprophet:Disabling yearly seasonality. Run prophet with yearly_seasonality=True to override this.\n",
            "INFO:fbprophet:Disabling yearly seasonality. Run prophet with yearly_seasonality=True to override this.\n",
            "INFO:fbprophet:Disabling yearly seasonality. Run prophet with yearly_seasonality=True to override this.\n",
            "INFO:fbprophet:Disabling yearly seasonality. Run prophet with yearly_seasonality=True to override this.\n",
            "INFO:fbprophet:Disabling yearly seasonality. Run prophet with yearly_seasonality=True to override this.\n",
            "INFO:fbprophet:Disabling yearly seasonality. Run prophet with yearly_seasonality=True to override this.\n",
            "INFO:fbprophet:Disabling yearly seasonality. Run prophet with yearly_seasonality=True to override this.\n",
            "INFO:fbprophet:Disabling yearly seasonality. Run prophet with yearly_seasonality=True to override this.\n",
            "INFO:fbprophet:Disabling yearly seasonality. Run prophet with yearly_seasonality=True to override this.\n",
            "INFO:fbprophet:Disabling yearly seasonality. Run prophet with yearly_seasonality=True to override this.\n",
            "INFO:fbprophet:Disabling yearly seasonality. Run prophet with yearly_seasonality=True to override this.\n",
            "INFO:fbprophet:Disabling yearly seasonality. Run prophet with yearly_seasonality=True to override this.\n",
            "INFO:fbprophet:Disabling yearly seasonality. Run prophet with yearly_seasonality=True to override this.\n",
            "INFO:fbprophet:Disabling yearly seasonality. Run prophet with yearly_seasonality=True to override this.\n",
            "INFO:fbprophet:Disabling yearly seasonality. Run prophet with yearly_seasonality=True to override this.\n",
            "INFO:fbprophet:Disabling yearly seasonality. Run prophet with yearly_seasonality=True to override this.\n",
            "INFO:fbprophet:Disabling yearly seasonality. Run prophet with yearly_seasonality=True to override this.\n",
            "INFO:fbprophet:Disabling yearly seasonality. Run prophet with yearly_seasonality=True to override this.\n",
            "INFO:fbprophet:Disabling yearly seasonality. Run prophet with yearly_seasonality=True to override this.\n",
            "INFO:fbprophet:Disabling yearly seasonality. Run prophet with yearly_seasonality=True to override this.\n",
            "INFO:fbprophet:Disabling yearly seasonality. Run prophet with yearly_seasonality=True to override this.\n",
            "INFO:fbprophet:Disabling yearly seasonality. Run prophet with yearly_seasonality=True to override this.\n",
            "INFO:fbprophet:Disabling yearly seasonality. Run prophet with yearly_seasonality=True to override this.\n",
            "INFO:fbprophet:Disabling yearly seasonality. Run prophet with yearly_seasonality=True to override this.\n",
            "INFO:fbprophet:Disabling yearly seasonality. Run prophet with yearly_seasonality=True to override this.\n",
            "INFO:fbprophet:Disabling yearly seasonality. Run prophet with yearly_seasonality=True to override this.\n",
            "INFO:fbprophet:Disabling yearly seasonality. Run prophet with yearly_seasonality=True to override this.\n",
            "INFO:fbprophet:Disabling yearly seasonality. Run prophet with yearly_seasonality=True to override this.\n"
          ],
          "name": "stderr"
        },
        {
          "output_type": "stream",
          "text": [
            "0:01:02.416899\n"
          ],
          "name": "stdout"
        },
        {
          "output_type": "stream",
          "text": [
            "INFO:fbprophet:Disabling yearly seasonality. Run prophet with yearly_seasonality=True to override this.\n",
            "INFO:fbprophet:Disabling yearly seasonality. Run prophet with yearly_seasonality=True to override this.\n",
            "INFO:fbprophet:Disabling yearly seasonality. Run prophet with yearly_seasonality=True to override this.\n",
            "INFO:fbprophet:Disabling yearly seasonality. Run prophet with yearly_seasonality=True to override this.\n",
            "INFO:fbprophet:Disabling yearly seasonality. Run prophet with yearly_seasonality=True to override this.\n",
            "INFO:fbprophet:Disabling yearly seasonality. Run prophet with yearly_seasonality=True to override this.\n",
            "INFO:fbprophet:Disabling yearly seasonality. Run prophet with yearly_seasonality=True to override this.\n",
            "INFO:fbprophet:Disabling yearly seasonality. Run prophet with yearly_seasonality=True to override this.\n",
            "INFO:fbprophet:Disabling yearly seasonality. Run prophet with yearly_seasonality=True to override this.\n",
            "INFO:fbprophet:Disabling yearly seasonality. Run prophet with yearly_seasonality=True to override this.\n",
            "INFO:fbprophet:Disabling yearly seasonality. Run prophet with yearly_seasonality=True to override this.\n",
            "INFO:fbprophet:Disabling yearly seasonality. Run prophet with yearly_seasonality=True to override this.\n",
            "INFO:fbprophet:Disabling yearly seasonality. Run prophet with yearly_seasonality=True to override this.\n",
            "INFO:fbprophet:Disabling yearly seasonality. Run prophet with yearly_seasonality=True to override this.\n",
            "INFO:fbprophet:Disabling yearly seasonality. Run prophet with yearly_seasonality=True to override this.\n",
            "INFO:fbprophet:Disabling yearly seasonality. Run prophet with yearly_seasonality=True to override this.\n",
            "INFO:fbprophet:Disabling yearly seasonality. Run prophet with yearly_seasonality=True to override this.\n",
            "INFO:fbprophet:Disabling yearly seasonality. Run prophet with yearly_seasonality=True to override this.\n",
            "INFO:fbprophet:Disabling yearly seasonality. Run prophet with yearly_seasonality=True to override this.\n",
            "INFO:fbprophet:Disabling yearly seasonality. Run prophet with yearly_seasonality=True to override this.\n",
            "INFO:fbprophet:Disabling yearly seasonality. Run prophet with yearly_seasonality=True to override this.\n",
            "INFO:fbprophet:Disabling yearly seasonality. Run prophet with yearly_seasonality=True to override this.\n",
            "INFO:fbprophet:Disabling yearly seasonality. Run prophet with yearly_seasonality=True to override this.\n",
            "INFO:fbprophet:Disabling yearly seasonality. Run prophet with yearly_seasonality=True to override this.\n",
            "INFO:fbprophet:Disabling yearly seasonality. Run prophet with yearly_seasonality=True to override this.\n",
            "INFO:fbprophet:Disabling yearly seasonality. Run prophet with yearly_seasonality=True to override this.\n",
            "INFO:fbprophet:Disabling yearly seasonality. Run prophet with yearly_seasonality=True to override this.\n",
            "INFO:fbprophet:Disabling yearly seasonality. Run prophet with yearly_seasonality=True to override this.\n",
            "INFO:fbprophet:Disabling yearly seasonality. Run prophet with yearly_seasonality=True to override this.\n"
          ],
          "name": "stderr"
        },
        {
          "output_type": "stream",
          "text": [
            "0:01:01.822346\n"
          ],
          "name": "stdout"
        },
        {
          "output_type": "stream",
          "text": [
            "INFO:fbprophet:Disabling yearly seasonality. Run prophet with yearly_seasonality=True to override this.\n",
            "INFO:fbprophet:Disabling yearly seasonality. Run prophet with yearly_seasonality=True to override this.\n",
            "INFO:fbprophet:Disabling yearly seasonality. Run prophet with yearly_seasonality=True to override this.\n",
            "INFO:fbprophet:Disabling yearly seasonality. Run prophet with yearly_seasonality=True to override this.\n",
            "INFO:fbprophet:Disabling yearly seasonality. Run prophet with yearly_seasonality=True to override this.\n",
            "INFO:fbprophet:Disabling yearly seasonality. Run prophet with yearly_seasonality=True to override this.\n",
            "INFO:fbprophet:Disabling yearly seasonality. Run prophet with yearly_seasonality=True to override this.\n",
            "INFO:fbprophet:Disabling yearly seasonality. Run prophet with yearly_seasonality=True to override this.\n",
            "INFO:fbprophet:Disabling yearly seasonality. Run prophet with yearly_seasonality=True to override this.\n",
            "INFO:fbprophet:Disabling yearly seasonality. Run prophet with yearly_seasonality=True to override this.\n",
            "INFO:fbprophet:Disabling yearly seasonality. Run prophet with yearly_seasonality=True to override this.\n",
            "INFO:fbprophet:Disabling yearly seasonality. Run prophet with yearly_seasonality=True to override this.\n",
            "INFO:fbprophet:Disabling yearly seasonality. Run prophet with yearly_seasonality=True to override this.\n",
            "INFO:fbprophet:Disabling yearly seasonality. Run prophet with yearly_seasonality=True to override this.\n",
            "INFO:fbprophet:Disabling yearly seasonality. Run prophet with yearly_seasonality=True to override this.\n",
            "INFO:fbprophet:Disabling yearly seasonality. Run prophet with yearly_seasonality=True to override this.\n",
            "INFO:fbprophet:Disabling yearly seasonality. Run prophet with yearly_seasonality=True to override this.\n",
            "INFO:fbprophet:Disabling yearly seasonality. Run prophet with yearly_seasonality=True to override this.\n",
            "INFO:fbprophet:Disabling yearly seasonality. Run prophet with yearly_seasonality=True to override this.\n",
            "INFO:fbprophet:Disabling yearly seasonality. Run prophet with yearly_seasonality=True to override this.\n",
            "INFO:fbprophet:Disabling yearly seasonality. Run prophet with yearly_seasonality=True to override this.\n",
            "INFO:fbprophet:Disabling yearly seasonality. Run prophet with yearly_seasonality=True to override this.\n",
            "INFO:fbprophet:Disabling yearly seasonality. Run prophet with yearly_seasonality=True to override this.\n",
            "INFO:fbprophet:Disabling yearly seasonality. Run prophet with yearly_seasonality=True to override this.\n",
            "INFO:fbprophet:Disabling yearly seasonality. Run prophet with yearly_seasonality=True to override this.\n",
            "INFO:fbprophet:Disabling yearly seasonality. Run prophet with yearly_seasonality=True to override this.\n",
            "INFO:fbprophet:Disabling yearly seasonality. Run prophet with yearly_seasonality=True to override this.\n",
            "INFO:fbprophet:Disabling yearly seasonality. Run prophet with yearly_seasonality=True to override this.\n",
            "INFO:fbprophet:Disabling yearly seasonality. Run prophet with yearly_seasonality=True to override this.\n"
          ],
          "name": "stderr"
        },
        {
          "output_type": "stream",
          "text": [
            "0:01:03.091326\n"
          ],
          "name": "stdout"
        },
        {
          "output_type": "stream",
          "text": [
            "INFO:fbprophet:Disabling yearly seasonality. Run prophet with yearly_seasonality=True to override this.\n",
            "INFO:fbprophet:Disabling yearly seasonality. Run prophet with yearly_seasonality=True to override this.\n",
            "INFO:fbprophet:Disabling yearly seasonality. Run prophet with yearly_seasonality=True to override this.\n",
            "INFO:fbprophet:Disabling yearly seasonality. Run prophet with yearly_seasonality=True to override this.\n",
            "INFO:fbprophet:Disabling yearly seasonality. Run prophet with yearly_seasonality=True to override this.\n",
            "INFO:fbprophet:Disabling yearly seasonality. Run prophet with yearly_seasonality=True to override this.\n",
            "INFO:fbprophet:Disabling yearly seasonality. Run prophet with yearly_seasonality=True to override this.\n",
            "INFO:fbprophet:Disabling yearly seasonality. Run prophet with yearly_seasonality=True to override this.\n",
            "INFO:fbprophet:Disabling yearly seasonality. Run prophet with yearly_seasonality=True to override this.\n",
            "INFO:fbprophet:Disabling yearly seasonality. Run prophet with yearly_seasonality=True to override this.\n",
            "INFO:fbprophet:Disabling yearly seasonality. Run prophet with yearly_seasonality=True to override this.\n",
            "INFO:fbprophet:Disabling yearly seasonality. Run prophet with yearly_seasonality=True to override this.\n",
            "INFO:fbprophet:Disabling yearly seasonality. Run prophet with yearly_seasonality=True to override this.\n",
            "INFO:fbprophet:Disabling yearly seasonality. Run prophet with yearly_seasonality=True to override this.\n",
            "INFO:fbprophet:Disabling yearly seasonality. Run prophet with yearly_seasonality=True to override this.\n",
            "INFO:fbprophet:Disabling yearly seasonality. Run prophet with yearly_seasonality=True to override this.\n",
            "INFO:fbprophet:Disabling yearly seasonality. Run prophet with yearly_seasonality=True to override this.\n",
            "INFO:fbprophet:Disabling yearly seasonality. Run prophet with yearly_seasonality=True to override this.\n",
            "INFO:fbprophet:Disabling yearly seasonality. Run prophet with yearly_seasonality=True to override this.\n",
            "INFO:fbprophet:Disabling yearly seasonality. Run prophet with yearly_seasonality=True to override this.\n",
            "INFO:fbprophet:Disabling yearly seasonality. Run prophet with yearly_seasonality=True to override this.\n",
            "INFO:fbprophet:Disabling yearly seasonality. Run prophet with yearly_seasonality=True to override this.\n",
            "INFO:fbprophet:Disabling yearly seasonality. Run prophet with yearly_seasonality=True to override this.\n",
            "INFO:fbprophet:Disabling yearly seasonality. Run prophet with yearly_seasonality=True to override this.\n",
            "INFO:fbprophet:Disabling yearly seasonality. Run prophet with yearly_seasonality=True to override this.\n",
            "INFO:fbprophet:Disabling yearly seasonality. Run prophet with yearly_seasonality=True to override this.\n",
            "INFO:fbprophet:Disabling yearly seasonality. Run prophet with yearly_seasonality=True to override this.\n",
            "INFO:fbprophet:Disabling yearly seasonality. Run prophet with yearly_seasonality=True to override this.\n",
            "INFO:fbprophet:Disabling yearly seasonality. Run prophet with yearly_seasonality=True to override this.\n"
          ],
          "name": "stderr"
        },
        {
          "output_type": "stream",
          "text": [
            "0:01:01.845802\n"
          ],
          "name": "stdout"
        },
        {
          "output_type": "stream",
          "text": [
            "INFO:fbprophet:Disabling yearly seasonality. Run prophet with yearly_seasonality=True to override this.\n",
            "INFO:fbprophet:Disabling yearly seasonality. Run prophet with yearly_seasonality=True to override this.\n",
            "INFO:fbprophet:Disabling yearly seasonality. Run prophet with yearly_seasonality=True to override this.\n",
            "INFO:fbprophet:Disabling yearly seasonality. Run prophet with yearly_seasonality=True to override this.\n",
            "INFO:fbprophet:Disabling yearly seasonality. Run prophet with yearly_seasonality=True to override this.\n",
            "INFO:fbprophet:Disabling yearly seasonality. Run prophet with yearly_seasonality=True to override this.\n",
            "INFO:fbprophet:Disabling yearly seasonality. Run prophet with yearly_seasonality=True to override this.\n",
            "INFO:fbprophet:Disabling yearly seasonality. Run prophet with yearly_seasonality=True to override this.\n",
            "INFO:fbprophet:Disabling yearly seasonality. Run prophet with yearly_seasonality=True to override this.\n",
            "INFO:fbprophet:Disabling yearly seasonality. Run prophet with yearly_seasonality=True to override this.\n",
            "INFO:fbprophet:Disabling yearly seasonality. Run prophet with yearly_seasonality=True to override this.\n",
            "INFO:fbprophet:Disabling yearly seasonality. Run prophet with yearly_seasonality=True to override this.\n",
            "INFO:fbprophet:Disabling yearly seasonality. Run prophet with yearly_seasonality=True to override this.\n",
            "INFO:fbprophet:Disabling yearly seasonality. Run prophet with yearly_seasonality=True to override this.\n",
            "INFO:fbprophet:Disabling yearly seasonality. Run prophet with yearly_seasonality=True to override this.\n",
            "INFO:fbprophet:Disabling yearly seasonality. Run prophet with yearly_seasonality=True to override this.\n",
            "INFO:fbprophet:Disabling yearly seasonality. Run prophet with yearly_seasonality=True to override this.\n",
            "INFO:fbprophet:Disabling yearly seasonality. Run prophet with yearly_seasonality=True to override this.\n",
            "INFO:fbprophet:Disabling yearly seasonality. Run prophet with yearly_seasonality=True to override this.\n",
            "INFO:fbprophet:Disabling yearly seasonality. Run prophet with yearly_seasonality=True to override this.\n",
            "INFO:fbprophet:Disabling yearly seasonality. Run prophet with yearly_seasonality=True to override this.\n",
            "INFO:fbprophet:Disabling yearly seasonality. Run prophet with yearly_seasonality=True to override this.\n",
            "INFO:fbprophet:Disabling yearly seasonality. Run prophet with yearly_seasonality=True to override this.\n",
            "INFO:fbprophet:Disabling yearly seasonality. Run prophet with yearly_seasonality=True to override this.\n",
            "INFO:fbprophet:Disabling yearly seasonality. Run prophet with yearly_seasonality=True to override this.\n",
            "INFO:fbprophet:Disabling yearly seasonality. Run prophet with yearly_seasonality=True to override this.\n",
            "INFO:fbprophet:Disabling yearly seasonality. Run prophet with yearly_seasonality=True to override this.\n",
            "INFO:fbprophet:Disabling yearly seasonality. Run prophet with yearly_seasonality=True to override this.\n",
            "INFO:fbprophet:Disabling yearly seasonality. Run prophet with yearly_seasonality=True to override this.\n"
          ],
          "name": "stderr"
        },
        {
          "output_type": "stream",
          "text": [
            "0:01:31.406852\n"
          ],
          "name": "stdout"
        },
        {
          "output_type": "stream",
          "text": [
            "INFO:fbprophet:Disabling yearly seasonality. Run prophet with yearly_seasonality=True to override this.\n",
            "INFO:fbprophet:Disabling yearly seasonality. Run prophet with yearly_seasonality=True to override this.\n",
            "INFO:fbprophet:Disabling yearly seasonality. Run prophet with yearly_seasonality=True to override this.\n",
            "INFO:fbprophet:Disabling yearly seasonality. Run prophet with yearly_seasonality=True to override this.\n",
            "INFO:fbprophet:Disabling yearly seasonality. Run prophet with yearly_seasonality=True to override this.\n",
            "INFO:fbprophet:Disabling yearly seasonality. Run prophet with yearly_seasonality=True to override this.\n",
            "INFO:fbprophet:Disabling yearly seasonality. Run prophet with yearly_seasonality=True to override this.\n",
            "INFO:fbprophet:Disabling yearly seasonality. Run prophet with yearly_seasonality=True to override this.\n",
            "INFO:fbprophet:Disabling yearly seasonality. Run prophet with yearly_seasonality=True to override this.\n",
            "INFO:fbprophet:Disabling yearly seasonality. Run prophet with yearly_seasonality=True to override this.\n",
            "INFO:fbprophet:Disabling yearly seasonality. Run prophet with yearly_seasonality=True to override this.\n",
            "INFO:fbprophet:Disabling yearly seasonality. Run prophet with yearly_seasonality=True to override this.\n",
            "INFO:fbprophet:Disabling yearly seasonality. Run prophet with yearly_seasonality=True to override this.\n",
            "INFO:fbprophet:Disabling yearly seasonality. Run prophet with yearly_seasonality=True to override this.\n",
            "INFO:fbprophet:Disabling yearly seasonality. Run prophet with yearly_seasonality=True to override this.\n",
            "INFO:fbprophet:Disabling yearly seasonality. Run prophet with yearly_seasonality=True to override this.\n",
            "INFO:fbprophet:Disabling yearly seasonality. Run prophet with yearly_seasonality=True to override this.\n",
            "INFO:fbprophet:Disabling yearly seasonality. Run prophet with yearly_seasonality=True to override this.\n",
            "INFO:fbprophet:Disabling yearly seasonality. Run prophet with yearly_seasonality=True to override this.\n",
            "INFO:fbprophet:Disabling yearly seasonality. Run prophet with yearly_seasonality=True to override this.\n",
            "INFO:fbprophet:Disabling yearly seasonality. Run prophet with yearly_seasonality=True to override this.\n",
            "INFO:fbprophet:Disabling yearly seasonality. Run prophet with yearly_seasonality=True to override this.\n",
            "INFO:fbprophet:Disabling yearly seasonality. Run prophet with yearly_seasonality=True to override this.\n",
            "INFO:fbprophet:Disabling yearly seasonality. Run prophet with yearly_seasonality=True to override this.\n",
            "INFO:fbprophet:Disabling yearly seasonality. Run prophet with yearly_seasonality=True to override this.\n",
            "INFO:fbprophet:Disabling yearly seasonality. Run prophet with yearly_seasonality=True to override this.\n",
            "INFO:fbprophet:Disabling yearly seasonality. Run prophet with yearly_seasonality=True to override this.\n",
            "INFO:fbprophet:Disabling yearly seasonality. Run prophet with yearly_seasonality=True to override this.\n",
            "INFO:fbprophet:Disabling yearly seasonality. Run prophet with yearly_seasonality=True to override this.\n"
          ],
          "name": "stderr"
        },
        {
          "output_type": "stream",
          "text": [
            "0:01:01.933519\n"
          ],
          "name": "stdout"
        },
        {
          "output_type": "stream",
          "text": [
            "INFO:fbprophet:Disabling yearly seasonality. Run prophet with yearly_seasonality=True to override this.\n",
            "INFO:fbprophet:Disabling yearly seasonality. Run prophet with yearly_seasonality=True to override this.\n",
            "INFO:fbprophet:Disabling yearly seasonality. Run prophet with yearly_seasonality=True to override this.\n",
            "INFO:fbprophet:Disabling yearly seasonality. Run prophet with yearly_seasonality=True to override this.\n",
            "INFO:fbprophet:Disabling yearly seasonality. Run prophet with yearly_seasonality=True to override this.\n",
            "INFO:fbprophet:Disabling yearly seasonality. Run prophet with yearly_seasonality=True to override this.\n",
            "INFO:fbprophet:Disabling yearly seasonality. Run prophet with yearly_seasonality=True to override this.\n",
            "INFO:fbprophet:Disabling yearly seasonality. Run prophet with yearly_seasonality=True to override this.\n",
            "INFO:fbprophet:Disabling yearly seasonality. Run prophet with yearly_seasonality=True to override this.\n",
            "INFO:fbprophet:Disabling yearly seasonality. Run prophet with yearly_seasonality=True to override this.\n",
            "INFO:fbprophet:Disabling yearly seasonality. Run prophet with yearly_seasonality=True to override this.\n",
            "INFO:fbprophet:Disabling yearly seasonality. Run prophet with yearly_seasonality=True to override this.\n",
            "INFO:fbprophet:Disabling yearly seasonality. Run prophet with yearly_seasonality=True to override this.\n",
            "INFO:fbprophet:Disabling yearly seasonality. Run prophet with yearly_seasonality=True to override this.\n",
            "INFO:fbprophet:Disabling yearly seasonality. Run prophet with yearly_seasonality=True to override this.\n",
            "INFO:fbprophet:Disabling yearly seasonality. Run prophet with yearly_seasonality=True to override this.\n",
            "INFO:fbprophet:Disabling yearly seasonality. Run prophet with yearly_seasonality=True to override this.\n",
            "INFO:fbprophet:Disabling yearly seasonality. Run prophet with yearly_seasonality=True to override this.\n",
            "INFO:fbprophet:Disabling yearly seasonality. Run prophet with yearly_seasonality=True to override this.\n",
            "INFO:fbprophet:Disabling yearly seasonality. Run prophet with yearly_seasonality=True to override this.\n",
            "INFO:fbprophet:Disabling yearly seasonality. Run prophet with yearly_seasonality=True to override this.\n",
            "INFO:fbprophet:Disabling yearly seasonality. Run prophet with yearly_seasonality=True to override this.\n",
            "INFO:fbprophet:Disabling yearly seasonality. Run prophet with yearly_seasonality=True to override this.\n",
            "INFO:fbprophet:Disabling yearly seasonality. Run prophet with yearly_seasonality=True to override this.\n",
            "INFO:fbprophet:Disabling yearly seasonality. Run prophet with yearly_seasonality=True to override this.\n",
            "INFO:fbprophet:Disabling yearly seasonality. Run prophet with yearly_seasonality=True to override this.\n",
            "INFO:fbprophet:Disabling yearly seasonality. Run prophet with yearly_seasonality=True to override this.\n",
            "INFO:fbprophet:Disabling yearly seasonality. Run prophet with yearly_seasonality=True to override this.\n",
            "INFO:fbprophet:Disabling yearly seasonality. Run prophet with yearly_seasonality=True to override this.\n"
          ],
          "name": "stderr"
        },
        {
          "output_type": "stream",
          "text": [
            "0:01:01.212393\n"
          ],
          "name": "stdout"
        },
        {
          "output_type": "stream",
          "text": [
            "INFO:fbprophet:Disabling yearly seasonality. Run prophet with yearly_seasonality=True to override this.\n",
            "INFO:fbprophet:Disabling yearly seasonality. Run prophet with yearly_seasonality=True to override this.\n",
            "INFO:fbprophet:Disabling yearly seasonality. Run prophet with yearly_seasonality=True to override this.\n",
            "INFO:fbprophet:Disabling yearly seasonality. Run prophet with yearly_seasonality=True to override this.\n",
            "INFO:fbprophet:Disabling yearly seasonality. Run prophet with yearly_seasonality=True to override this.\n",
            "INFO:fbprophet:Disabling yearly seasonality. Run prophet with yearly_seasonality=True to override this.\n",
            "INFO:fbprophet:Disabling yearly seasonality. Run prophet with yearly_seasonality=True to override this.\n",
            "INFO:fbprophet:Disabling yearly seasonality. Run prophet with yearly_seasonality=True to override this.\n",
            "INFO:fbprophet:Disabling yearly seasonality. Run prophet with yearly_seasonality=True to override this.\n",
            "INFO:fbprophet:Disabling yearly seasonality. Run prophet with yearly_seasonality=True to override this.\n",
            "INFO:fbprophet:Disabling yearly seasonality. Run prophet with yearly_seasonality=True to override this.\n",
            "INFO:fbprophet:Disabling yearly seasonality. Run prophet with yearly_seasonality=True to override this.\n",
            "INFO:fbprophet:Disabling yearly seasonality. Run prophet with yearly_seasonality=True to override this.\n",
            "INFO:fbprophet:Disabling yearly seasonality. Run prophet with yearly_seasonality=True to override this.\n",
            "INFO:fbprophet:Disabling yearly seasonality. Run prophet with yearly_seasonality=True to override this.\n",
            "INFO:fbprophet:Disabling yearly seasonality. Run prophet with yearly_seasonality=True to override this.\n",
            "INFO:fbprophet:Disabling yearly seasonality. Run prophet with yearly_seasonality=True to override this.\n",
            "INFO:fbprophet:Disabling yearly seasonality. Run prophet with yearly_seasonality=True to override this.\n",
            "INFO:fbprophet:Disabling yearly seasonality. Run prophet with yearly_seasonality=True to override this.\n",
            "INFO:fbprophet:Disabling yearly seasonality. Run prophet with yearly_seasonality=True to override this.\n",
            "INFO:fbprophet:Disabling yearly seasonality. Run prophet with yearly_seasonality=True to override this.\n",
            "INFO:fbprophet:Disabling yearly seasonality. Run prophet with yearly_seasonality=True to override this.\n",
            "INFO:fbprophet:Disabling yearly seasonality. Run prophet with yearly_seasonality=True to override this.\n",
            "INFO:fbprophet:Disabling yearly seasonality. Run prophet with yearly_seasonality=True to override this.\n",
            "INFO:fbprophet:Disabling yearly seasonality. Run prophet with yearly_seasonality=True to override this.\n",
            "INFO:fbprophet:Disabling yearly seasonality. Run prophet with yearly_seasonality=True to override this.\n",
            "INFO:fbprophet:Disabling yearly seasonality. Run prophet with yearly_seasonality=True to override this.\n",
            "INFO:fbprophet:Disabling yearly seasonality. Run prophet with yearly_seasonality=True to override this.\n",
            "INFO:fbprophet:Disabling yearly seasonality. Run prophet with yearly_seasonality=True to override this.\n"
          ],
          "name": "stderr"
        },
        {
          "output_type": "stream",
          "text": [
            "0:01:28.596364\n"
          ],
          "name": "stdout"
        },
        {
          "output_type": "stream",
          "text": [
            "INFO:fbprophet:Disabling yearly seasonality. Run prophet with yearly_seasonality=True to override this.\n",
            "INFO:fbprophet:Disabling yearly seasonality. Run prophet with yearly_seasonality=True to override this.\n",
            "INFO:fbprophet:Disabling yearly seasonality. Run prophet with yearly_seasonality=True to override this.\n",
            "INFO:fbprophet:Disabling yearly seasonality. Run prophet with yearly_seasonality=True to override this.\n",
            "INFO:fbprophet:Disabling yearly seasonality. Run prophet with yearly_seasonality=True to override this.\n",
            "INFO:fbprophet:Disabling yearly seasonality. Run prophet with yearly_seasonality=True to override this.\n",
            "INFO:fbprophet:Disabling yearly seasonality. Run prophet with yearly_seasonality=True to override this.\n",
            "INFO:fbprophet:Disabling yearly seasonality. Run prophet with yearly_seasonality=True to override this.\n",
            "INFO:fbprophet:Disabling yearly seasonality. Run prophet with yearly_seasonality=True to override this.\n",
            "INFO:fbprophet:Disabling yearly seasonality. Run prophet with yearly_seasonality=True to override this.\n",
            "INFO:fbprophet:Disabling yearly seasonality. Run prophet with yearly_seasonality=True to override this.\n",
            "INFO:fbprophet:Disabling yearly seasonality. Run prophet with yearly_seasonality=True to override this.\n",
            "INFO:fbprophet:Disabling yearly seasonality. Run prophet with yearly_seasonality=True to override this.\n",
            "INFO:fbprophet:Disabling yearly seasonality. Run prophet with yearly_seasonality=True to override this.\n",
            "INFO:fbprophet:Disabling yearly seasonality. Run prophet with yearly_seasonality=True to override this.\n",
            "INFO:fbprophet:Disabling yearly seasonality. Run prophet with yearly_seasonality=True to override this.\n",
            "INFO:fbprophet:Disabling yearly seasonality. Run prophet with yearly_seasonality=True to override this.\n",
            "INFO:fbprophet:Disabling yearly seasonality. Run prophet with yearly_seasonality=True to override this.\n",
            "INFO:fbprophet:Disabling yearly seasonality. Run prophet with yearly_seasonality=True to override this.\n",
            "INFO:fbprophet:Disabling yearly seasonality. Run prophet with yearly_seasonality=True to override this.\n",
            "INFO:fbprophet:Disabling yearly seasonality. Run prophet with yearly_seasonality=True to override this.\n",
            "INFO:fbprophet:Disabling yearly seasonality. Run prophet with yearly_seasonality=True to override this.\n",
            "INFO:fbprophet:Disabling yearly seasonality. Run prophet with yearly_seasonality=True to override this.\n",
            "INFO:fbprophet:Disabling yearly seasonality. Run prophet with yearly_seasonality=True to override this.\n",
            "INFO:fbprophet:Disabling yearly seasonality. Run prophet with yearly_seasonality=True to override this.\n",
            "INFO:fbprophet:Disabling yearly seasonality. Run prophet with yearly_seasonality=True to override this.\n",
            "INFO:fbprophet:Disabling yearly seasonality. Run prophet with yearly_seasonality=True to override this.\n",
            "INFO:fbprophet:Disabling yearly seasonality. Run prophet with yearly_seasonality=True to override this.\n",
            "INFO:fbprophet:Disabling yearly seasonality. Run prophet with yearly_seasonality=True to override this.\n"
          ],
          "name": "stderr"
        },
        {
          "output_type": "stream",
          "text": [
            "0:01:27.882358\n"
          ],
          "name": "stdout"
        },
        {
          "output_type": "stream",
          "text": [
            "INFO:fbprophet:Disabling yearly seasonality. Run prophet with yearly_seasonality=True to override this.\n",
            "INFO:fbprophet:Disabling yearly seasonality. Run prophet with yearly_seasonality=True to override this.\n",
            "INFO:fbprophet:Disabling yearly seasonality. Run prophet with yearly_seasonality=True to override this.\n",
            "INFO:fbprophet:Disabling yearly seasonality. Run prophet with yearly_seasonality=True to override this.\n",
            "INFO:fbprophet:Disabling yearly seasonality. Run prophet with yearly_seasonality=True to override this.\n",
            "INFO:fbprophet:Disabling yearly seasonality. Run prophet with yearly_seasonality=True to override this.\n",
            "INFO:fbprophet:Disabling yearly seasonality. Run prophet with yearly_seasonality=True to override this.\n",
            "INFO:fbprophet:Disabling yearly seasonality. Run prophet with yearly_seasonality=True to override this.\n",
            "INFO:fbprophet:Disabling yearly seasonality. Run prophet with yearly_seasonality=True to override this.\n",
            "INFO:fbprophet:Disabling yearly seasonality. Run prophet with yearly_seasonality=True to override this.\n",
            "INFO:fbprophet:Disabling yearly seasonality. Run prophet with yearly_seasonality=True to override this.\n",
            "INFO:fbprophet:Disabling yearly seasonality. Run prophet with yearly_seasonality=True to override this.\n",
            "INFO:fbprophet:Disabling yearly seasonality. Run prophet with yearly_seasonality=True to override this.\n",
            "INFO:fbprophet:Disabling yearly seasonality. Run prophet with yearly_seasonality=True to override this.\n",
            "INFO:fbprophet:Disabling yearly seasonality. Run prophet with yearly_seasonality=True to override this.\n",
            "INFO:fbprophet:Disabling yearly seasonality. Run prophet with yearly_seasonality=True to override this.\n",
            "INFO:fbprophet:Disabling yearly seasonality. Run prophet with yearly_seasonality=True to override this.\n",
            "INFO:fbprophet:Disabling yearly seasonality. Run prophet with yearly_seasonality=True to override this.\n",
            "INFO:fbprophet:Disabling yearly seasonality. Run prophet with yearly_seasonality=True to override this.\n",
            "INFO:fbprophet:Disabling yearly seasonality. Run prophet with yearly_seasonality=True to override this.\n",
            "INFO:fbprophet:Disabling yearly seasonality. Run prophet with yearly_seasonality=True to override this.\n",
            "INFO:fbprophet:Disabling yearly seasonality. Run prophet with yearly_seasonality=True to override this.\n",
            "INFO:fbprophet:Disabling yearly seasonality. Run prophet with yearly_seasonality=True to override this.\n",
            "INFO:fbprophet:Disabling yearly seasonality. Run prophet with yearly_seasonality=True to override this.\n",
            "INFO:fbprophet:Disabling yearly seasonality. Run prophet with yearly_seasonality=True to override this.\n",
            "INFO:fbprophet:Disabling yearly seasonality. Run prophet with yearly_seasonality=True to override this.\n",
            "INFO:fbprophet:Disabling yearly seasonality. Run prophet with yearly_seasonality=True to override this.\n",
            "INFO:fbprophet:Disabling yearly seasonality. Run prophet with yearly_seasonality=True to override this.\n",
            "INFO:fbprophet:Disabling yearly seasonality. Run prophet with yearly_seasonality=True to override this.\n"
          ],
          "name": "stderr"
        },
        {
          "output_type": "stream",
          "text": [
            "0:01:02.119813\n"
          ],
          "name": "stdout"
        },
        {
          "output_type": "stream",
          "text": [
            "INFO:fbprophet:Disabling yearly seasonality. Run prophet with yearly_seasonality=True to override this.\n",
            "INFO:fbprophet:Disabling yearly seasonality. Run prophet with yearly_seasonality=True to override this.\n",
            "INFO:fbprophet:Disabling yearly seasonality. Run prophet with yearly_seasonality=True to override this.\n",
            "INFO:fbprophet:Disabling yearly seasonality. Run prophet with yearly_seasonality=True to override this.\n",
            "INFO:fbprophet:Disabling yearly seasonality. Run prophet with yearly_seasonality=True to override this.\n",
            "INFO:fbprophet:Disabling yearly seasonality. Run prophet with yearly_seasonality=True to override this.\n",
            "INFO:fbprophet:Disabling yearly seasonality. Run prophet with yearly_seasonality=True to override this.\n",
            "INFO:fbprophet:Disabling yearly seasonality. Run prophet with yearly_seasonality=True to override this.\n",
            "INFO:fbprophet:Disabling yearly seasonality. Run prophet with yearly_seasonality=True to override this.\n",
            "INFO:fbprophet:Disabling yearly seasonality. Run prophet with yearly_seasonality=True to override this.\n",
            "INFO:fbprophet:Disabling yearly seasonality. Run prophet with yearly_seasonality=True to override this.\n",
            "INFO:fbprophet:Disabling yearly seasonality. Run prophet with yearly_seasonality=True to override this.\n",
            "INFO:fbprophet:Disabling yearly seasonality. Run prophet with yearly_seasonality=True to override this.\n",
            "INFO:fbprophet:Disabling yearly seasonality. Run prophet with yearly_seasonality=True to override this.\n",
            "INFO:fbprophet:Disabling yearly seasonality. Run prophet with yearly_seasonality=True to override this.\n",
            "INFO:fbprophet:Disabling yearly seasonality. Run prophet with yearly_seasonality=True to override this.\n",
            "INFO:fbprophet:Disabling yearly seasonality. Run prophet with yearly_seasonality=True to override this.\n",
            "INFO:fbprophet:Disabling yearly seasonality. Run prophet with yearly_seasonality=True to override this.\n",
            "INFO:fbprophet:Disabling yearly seasonality. Run prophet with yearly_seasonality=True to override this.\n",
            "INFO:fbprophet:Disabling yearly seasonality. Run prophet with yearly_seasonality=True to override this.\n",
            "INFO:fbprophet:Disabling yearly seasonality. Run prophet with yearly_seasonality=True to override this.\n",
            "INFO:fbprophet:Disabling yearly seasonality. Run prophet with yearly_seasonality=True to override this.\n",
            "INFO:fbprophet:Disabling yearly seasonality. Run prophet with yearly_seasonality=True to override this.\n",
            "INFO:fbprophet:Disabling yearly seasonality. Run prophet with yearly_seasonality=True to override this.\n",
            "INFO:fbprophet:Disabling yearly seasonality. Run prophet with yearly_seasonality=True to override this.\n",
            "INFO:fbprophet:Disabling yearly seasonality. Run prophet with yearly_seasonality=True to override this.\n",
            "INFO:fbprophet:Disabling yearly seasonality. Run prophet with yearly_seasonality=True to override this.\n",
            "INFO:fbprophet:Disabling yearly seasonality. Run prophet with yearly_seasonality=True to override this.\n",
            "INFO:fbprophet:Disabling yearly seasonality. Run prophet with yearly_seasonality=True to override this.\n"
          ],
          "name": "stderr"
        },
        {
          "output_type": "stream",
          "text": [
            "0:01:30.788013\n"
          ],
          "name": "stdout"
        },
        {
          "output_type": "stream",
          "text": [
            "INFO:fbprophet:Disabling yearly seasonality. Run prophet with yearly_seasonality=True to override this.\n",
            "INFO:fbprophet:Disabling yearly seasonality. Run prophet with yearly_seasonality=True to override this.\n",
            "INFO:fbprophet:Disabling yearly seasonality. Run prophet with yearly_seasonality=True to override this.\n",
            "INFO:fbprophet:Disabling yearly seasonality. Run prophet with yearly_seasonality=True to override this.\n",
            "INFO:fbprophet:Disabling yearly seasonality. Run prophet with yearly_seasonality=True to override this.\n",
            "INFO:fbprophet:Disabling yearly seasonality. Run prophet with yearly_seasonality=True to override this.\n",
            "INFO:fbprophet:Disabling yearly seasonality. Run prophet with yearly_seasonality=True to override this.\n",
            "INFO:fbprophet:Disabling yearly seasonality. Run prophet with yearly_seasonality=True to override this.\n",
            "INFO:fbprophet:Disabling yearly seasonality. Run prophet with yearly_seasonality=True to override this.\n",
            "INFO:fbprophet:Disabling yearly seasonality. Run prophet with yearly_seasonality=True to override this.\n",
            "INFO:fbprophet:Disabling yearly seasonality. Run prophet with yearly_seasonality=True to override this.\n",
            "INFO:fbprophet:Disabling yearly seasonality. Run prophet with yearly_seasonality=True to override this.\n",
            "INFO:fbprophet:Disabling yearly seasonality. Run prophet with yearly_seasonality=True to override this.\n",
            "INFO:fbprophet:Disabling yearly seasonality. Run prophet with yearly_seasonality=True to override this.\n",
            "INFO:fbprophet:Disabling yearly seasonality. Run prophet with yearly_seasonality=True to override this.\n",
            "INFO:fbprophet:Disabling yearly seasonality. Run prophet with yearly_seasonality=True to override this.\n",
            "INFO:fbprophet:Disabling yearly seasonality. Run prophet with yearly_seasonality=True to override this.\n",
            "INFO:fbprophet:Disabling yearly seasonality. Run prophet with yearly_seasonality=True to override this.\n",
            "INFO:fbprophet:Disabling yearly seasonality. Run prophet with yearly_seasonality=True to override this.\n",
            "INFO:fbprophet:Disabling yearly seasonality. Run prophet with yearly_seasonality=True to override this.\n",
            "INFO:fbprophet:Disabling yearly seasonality. Run prophet with yearly_seasonality=True to override this.\n",
            "INFO:fbprophet:Disabling yearly seasonality. Run prophet with yearly_seasonality=True to override this.\n",
            "INFO:fbprophet:Disabling yearly seasonality. Run prophet with yearly_seasonality=True to override this.\n",
            "INFO:fbprophet:Disabling yearly seasonality. Run prophet with yearly_seasonality=True to override this.\n",
            "INFO:fbprophet:Disabling yearly seasonality. Run prophet with yearly_seasonality=True to override this.\n",
            "INFO:fbprophet:Disabling yearly seasonality. Run prophet with yearly_seasonality=True to override this.\n",
            "INFO:fbprophet:Disabling yearly seasonality. Run prophet with yearly_seasonality=True to override this.\n",
            "INFO:fbprophet:Disabling yearly seasonality. Run prophet with yearly_seasonality=True to override this.\n",
            "INFO:fbprophet:Disabling yearly seasonality. Run prophet with yearly_seasonality=True to override this.\n"
          ],
          "name": "stderr"
        },
        {
          "output_type": "stream",
          "text": [
            "0:01:00.986729\n"
          ],
          "name": "stdout"
        },
        {
          "output_type": "stream",
          "text": [
            "INFO:fbprophet:Disabling yearly seasonality. Run prophet with yearly_seasonality=True to override this.\n",
            "INFO:fbprophet:Disabling yearly seasonality. Run prophet with yearly_seasonality=True to override this.\n",
            "INFO:fbprophet:Disabling yearly seasonality. Run prophet with yearly_seasonality=True to override this.\n",
            "INFO:fbprophet:Disabling yearly seasonality. Run prophet with yearly_seasonality=True to override this.\n",
            "INFO:fbprophet:Disabling yearly seasonality. Run prophet with yearly_seasonality=True to override this.\n",
            "INFO:fbprophet:Disabling yearly seasonality. Run prophet with yearly_seasonality=True to override this.\n",
            "INFO:fbprophet:Disabling yearly seasonality. Run prophet with yearly_seasonality=True to override this.\n",
            "INFO:fbprophet:Disabling yearly seasonality. Run prophet with yearly_seasonality=True to override this.\n",
            "INFO:fbprophet:Disabling yearly seasonality. Run prophet with yearly_seasonality=True to override this.\n",
            "INFO:fbprophet:Disabling yearly seasonality. Run prophet with yearly_seasonality=True to override this.\n",
            "INFO:fbprophet:Disabling yearly seasonality. Run prophet with yearly_seasonality=True to override this.\n",
            "INFO:fbprophet:Disabling yearly seasonality. Run prophet with yearly_seasonality=True to override this.\n",
            "INFO:fbprophet:Disabling yearly seasonality. Run prophet with yearly_seasonality=True to override this.\n",
            "INFO:fbprophet:Disabling yearly seasonality. Run prophet with yearly_seasonality=True to override this.\n",
            "INFO:fbprophet:Disabling yearly seasonality. Run prophet with yearly_seasonality=True to override this.\n",
            "INFO:fbprophet:Disabling yearly seasonality. Run prophet with yearly_seasonality=True to override this.\n",
            "INFO:fbprophet:Disabling yearly seasonality. Run prophet with yearly_seasonality=True to override this.\n",
            "INFO:fbprophet:Disabling yearly seasonality. Run prophet with yearly_seasonality=True to override this.\n",
            "INFO:fbprophet:Disabling yearly seasonality. Run prophet with yearly_seasonality=True to override this.\n",
            "INFO:fbprophet:Disabling yearly seasonality. Run prophet with yearly_seasonality=True to override this.\n",
            "INFO:fbprophet:Disabling yearly seasonality. Run prophet with yearly_seasonality=True to override this.\n",
            "INFO:fbprophet:Disabling yearly seasonality. Run prophet with yearly_seasonality=True to override this.\n",
            "INFO:fbprophet:Disabling yearly seasonality. Run prophet with yearly_seasonality=True to override this.\n",
            "INFO:fbprophet:Disabling yearly seasonality. Run prophet with yearly_seasonality=True to override this.\n",
            "INFO:fbprophet:Disabling yearly seasonality. Run prophet with yearly_seasonality=True to override this.\n",
            "INFO:fbprophet:Disabling yearly seasonality. Run prophet with yearly_seasonality=True to override this.\n",
            "INFO:fbprophet:Disabling yearly seasonality. Run prophet with yearly_seasonality=True to override this.\n",
            "INFO:fbprophet:Disabling yearly seasonality. Run prophet with yearly_seasonality=True to override this.\n",
            "INFO:fbprophet:Disabling yearly seasonality. Run prophet with yearly_seasonality=True to override this.\n"
          ],
          "name": "stderr"
        },
        {
          "output_type": "stream",
          "text": [
            "0:01:01.592192\n"
          ],
          "name": "stdout"
        },
        {
          "output_type": "stream",
          "text": [
            "INFO:fbprophet:Disabling yearly seasonality. Run prophet with yearly_seasonality=True to override this.\n",
            "INFO:fbprophet:Disabling yearly seasonality. Run prophet with yearly_seasonality=True to override this.\n",
            "INFO:fbprophet:Disabling yearly seasonality. Run prophet with yearly_seasonality=True to override this.\n",
            "INFO:fbprophet:Disabling yearly seasonality. Run prophet with yearly_seasonality=True to override this.\n",
            "INFO:fbprophet:Disabling yearly seasonality. Run prophet with yearly_seasonality=True to override this.\n",
            "INFO:fbprophet:Disabling yearly seasonality. Run prophet with yearly_seasonality=True to override this.\n",
            "INFO:fbprophet:Disabling yearly seasonality. Run prophet with yearly_seasonality=True to override this.\n",
            "INFO:fbprophet:Disabling yearly seasonality. Run prophet with yearly_seasonality=True to override this.\n",
            "INFO:fbprophet:Disabling yearly seasonality. Run prophet with yearly_seasonality=True to override this.\n",
            "INFO:fbprophet:Disabling yearly seasonality. Run prophet with yearly_seasonality=True to override this.\n",
            "INFO:fbprophet:Disabling yearly seasonality. Run prophet with yearly_seasonality=True to override this.\n",
            "INFO:fbprophet:Disabling yearly seasonality. Run prophet with yearly_seasonality=True to override this.\n",
            "INFO:fbprophet:Disabling yearly seasonality. Run prophet with yearly_seasonality=True to override this.\n",
            "INFO:fbprophet:Disabling yearly seasonality. Run prophet with yearly_seasonality=True to override this.\n",
            "INFO:fbprophet:Disabling yearly seasonality. Run prophet with yearly_seasonality=True to override this.\n",
            "INFO:fbprophet:Disabling yearly seasonality. Run prophet with yearly_seasonality=True to override this.\n",
            "INFO:fbprophet:Disabling yearly seasonality. Run prophet with yearly_seasonality=True to override this.\n",
            "INFO:fbprophet:Disabling yearly seasonality. Run prophet with yearly_seasonality=True to override this.\n",
            "INFO:fbprophet:Disabling yearly seasonality. Run prophet with yearly_seasonality=True to override this.\n",
            "INFO:fbprophet:Disabling yearly seasonality. Run prophet with yearly_seasonality=True to override this.\n",
            "INFO:fbprophet:Disabling yearly seasonality. Run prophet with yearly_seasonality=True to override this.\n",
            "INFO:fbprophet:Disabling yearly seasonality. Run prophet with yearly_seasonality=True to override this.\n",
            "INFO:fbprophet:Disabling yearly seasonality. Run prophet with yearly_seasonality=True to override this.\n",
            "INFO:fbprophet:Disabling yearly seasonality. Run prophet with yearly_seasonality=True to override this.\n",
            "INFO:fbprophet:Disabling yearly seasonality. Run prophet with yearly_seasonality=True to override this.\n",
            "INFO:fbprophet:Disabling yearly seasonality. Run prophet with yearly_seasonality=True to override this.\n",
            "INFO:fbprophet:Disabling yearly seasonality. Run prophet with yearly_seasonality=True to override this.\n",
            "INFO:fbprophet:Disabling yearly seasonality. Run prophet with yearly_seasonality=True to override this.\n"
          ],
          "name": "stderr"
        },
        {
          "output_type": "stream",
          "text": [
            "0:01:29.482946\n"
          ],
          "name": "stdout"
        }
      ]
    },
    {
      "cell_type": "code",
      "metadata": {
        "id": "fwGkg_ezOL05",
        "colab_type": "code",
        "colab": {
          "base_uri": "https://localhost:8080/",
          "height": 1000
        },
        "outputId": "e9adafbc-dbdf-44e5-ef65-7484a905ae5f"
      },
      "source": [
        "error"
      ],
      "execution_count": 97,
      "outputs": [
        {
          "output_type": "execute_result",
          "data": {
            "text/plain": [
              "{1: {'OMEGA': {'mean_absolute_error': 0.006233902256657981,\n",
              "   'mean_squared_error': 7.649959222164497e-05,\n",
              "   'percentError': 1.223400877533703,\n",
              "   'r2_score': -71.34273918158199},\n",
              "  'OMEGA_dot': {'mean_absolute_error': 1.102790447573554e-10,\n",
              "   'mean_squared_error': 1.661367076643167e-20,\n",
              "   'percentError': -1.3448011358491498,\n",
              "   'r2_score': -1.149659527421131},\n",
              "  'codes': {'mean_absolute_error': 0.0,\n",
              "   'mean_squared_error': 0.0,\n",
              "   'percentError': 0.0,\n",
              "   'r2_score': 1.0},\n",
              "  'correction_inclination_cosine': {'mean_absolute_error': 6.122968971500916e-08,\n",
              "   'mean_squared_error': 4.890012326706549e-15,\n",
              "   'percentError': -44.87163354841595,\n",
              "   'r2_score': 0.18821438360744047},\n",
              "  'correction_inclination_sine': {'mean_absolute_error': 2.801927807176727e-08,\n",
              "   'mean_squared_error': 1.0782872094534958e-15,\n",
              "   'percentError': 3.599663450265887,\n",
              "   'r2_score': 0.885330946524544},\n",
              "  'correction_latitude_cosine': {'mean_absolute_error': 6.011737075552474e-06,\n",
              "   'mean_squared_error': 4.6712907156582825e-11,\n",
              "   'percentError': -167.79587118573113,\n",
              "   'r2_score': -13.15912107236002},\n",
              "  'correction_latitude_sine': {'mean_absolute_error': 9.08476504644635e-07,\n",
              "   'mean_squared_error': 1.993556429822391e-12,\n",
              "   'percentError': 14.476780601553571,\n",
              "   'r2_score': -2.9694306478337587},\n",
              "  'correction_radius_cosine': {'mean_absolute_error': 17.505898191890317,\n",
              "   'mean_squared_error': 800.1623889214984,\n",
              "   'percentError': 6.768885979788162,\n",
              "   'r2_score': -3.230544482501095},\n",
              "  'correction_radius_sine': {'mean_absolute_error': 115.15994746225171,\n",
              "   'mean_squared_error': 17155.08065260298,\n",
              "   'percentError': -714.2628667689105,\n",
              "   'r2_score': -12.947954659342477},\n",
              "  'essentricity': {'mean_absolute_error': 2.1712142373182645e-06,\n",
              "   'mean_squared_error': 1.0758764200187341e-11,\n",
              "   'percentError': 0.030402844836314134,\n",
              "   'r2_score': 0.729298230897364},\n",
              "  'fit_interval': {'mean_absolute_error': 0.0,\n",
              "   'mean_squared_error': 0.0,\n",
              "   'percentError': 0,\n",
              "   'r2_score': 1.0},\n",
              "  'gps_week': {'mean_absolute_error': 0.23598786328216192,\n",
              "   'mean_squared_error': 0.08574965227458495,\n",
              "   'percentError': 0.011936664809416384,\n",
              "   'r2_score': 0.0},\n",
              "  'inclination': {'mean_absolute_error': 3.7804601397996296e-05,\n",
              "   'mean_squared_error': 1.732971614123998e-09,\n",
              "   'percentError': 0.003899834298699065,\n",
              "   'r2_score': -1.6352748553210712},\n",
              "  'inclination_rate': {'mean_absolute_error': 2.4257126345371e-10,\n",
              "   'mean_squared_error': 7.35503136778668e-20,\n",
              "   'percentError': 650.4313550199146,\n",
              "   'r2_score': -0.7501373784011358},\n",
              "  'iodc': {'mean_absolute_error': 49.375555544481145,\n",
              "   'mean_squared_error': 3259.752600525255,\n",
              "   'percentError': 177.61024105777219,\n",
              "   'r2_score': -1.1067189727513056},\n",
              "  'iode': {'mean_absolute_error': 44.76716575014997,\n",
              "   'mean_squared_error': 2668.5482810520007,\n",
              "   'percentError': 218.63798722314417,\n",
              "   'r2_score': -0.7246343457136168},\n",
              "  'l2_p_data_flag': {'mean_absolute_error': 0.0,\n",
              "   'mean_squared_error': 0.0,\n",
              "   'percentError': 0,\n",
              "   'r2_score': 1.0},\n",
              "  'mean_anomaly': {'mean_absolute_error': 1.0053870839153964,\n",
              "   'mean_squared_error': 1.158164272553134,\n",
              "   'percentError': -12.73906661389375,\n",
              "   'r2_score': 0.6306994718327452},\n",
              "  'mean_motion': {'mean_absolute_error': 1.811959323592368e-10,\n",
              "   'mean_squared_error': 4.0639506282498546e-20,\n",
              "   'percentError': 3.9064992953077873,\n",
              "   'r2_score': -4.831162615405825},\n",
              "  'omega': {'mean_absolute_error': 0.0018315570842629449,\n",
              "   'mean_squared_error': 4.769857548474367e-06,\n",
              "   'percentError': 0.29082283296652145,\n",
              "   'r2_score': -6.272676034906302},\n",
              "  'sqrt_semi_major_axis': {'mean_absolute_error': 0.009581098245575959,\n",
              "   'mean_squared_error': 0.00010890333006672212,\n",
              "   'percentError': 0.00018590814459413239,\n",
              "   'r2_score': -16.898983946503847},\n",
              "  'sv_accuracy': {'mean_absolute_error': 0.36478252531680233,\n",
              "   'mean_squared_error': 0.17379792874307692,\n",
              "   'percentError': 45.398327444155285,\n",
              "   'r2_score': 0.1910496407594965},\n",
              "  'sv_clock_bias': {'mean_absolute_error': 6.6003404851881836e-09,\n",
              "   'mean_squared_error': 6.90196429723595e-17,\n",
              "   'percentError': -0.04887382080227318,\n",
              "   'r2_score': 0.9992840806274124},\n",
              "  'sv_clock_drift': {'mean_absolute_error': 3.243605552879252e-14,\n",
              "   'mean_squared_error': 1.589889418758659e-27,\n",
              "   'percentError': -1.296866189564799,\n",
              "   'r2_score': 0.0},\n",
              "  'sv_clock_drift_rate': {'mean_absolute_error': 0.0,\n",
              "   'mean_squared_error': 0.0,\n",
              "   'percentError': 0,\n",
              "   'r2_score': 1.0},\n",
              "  'sv_health': {'mean_absolute_error': 0.0,\n",
              "   'mean_squared_error': 0.0,\n",
              "   'percentError': 0,\n",
              "   'r2_score': 1.0},\n",
              "  't_tx': {'mean_absolute_error': 31243.64967116551,\n",
              "   'mean_squared_error': 1935142774.9477384,\n",
              "   'percentError': 39.43647725668487,\n",
              "   'r2_score': 0.8755221208883899},\n",
              "  'tgd': {'mean_absolute_error': 0.0,\n",
              "   'mean_squared_error': 0.0,\n",
              "   'percentError': 0.0,\n",
              "   'r2_score': 1.0},\n",
              "  'time_of_ephemeris': {'mean_absolute_error': 32883.656084795344,\n",
              "   'mean_squared_error': 2002993422.8630176,\n",
              "   'percentError': 36.668841516907094,\n",
              "   'r2_score': 0.8720881654185807}},\n",
              " 2: {'OMEGA': {'mean_absolute_error': 0.010804678167189219,\n",
              "   'mean_squared_error': 0.00022565498158663884,\n",
              "   'percentError': 2.3907333224901475,\n",
              "   'r2_score': -195.98554204898787},\n",
              "  'OMEGA_dot': {'mean_absolute_error': 2.438231430558741e-10,\n",
              "   'mean_squared_error': 8.413301288140493e-20,\n",
              "   'percentError': -2.882973536070954,\n",
              "   'r2_score': 0.20227782768171976},\n",
              "  'codes': {'mean_absolute_error': 0.0,\n",
              "   'mean_squared_error': 0.0,\n",
              "   'percentError': 0.0,\n",
              "   'r2_score': 1.0},\n",
              "  'correction_inclination_cosine': {'mean_absolute_error': 1.3716923302821168e-07,\n",
              "   'mean_squared_error': 3.529115068849881e-14,\n",
              "   'percentError': -9.051172952366429,\n",
              "   'r2_score': 0.1115370564776712},\n",
              "  'correction_inclination_sine': {'mean_absolute_error': 1.024374856327579e-07,\n",
              "   'mean_squared_error': 1.9503947782213823e-14,\n",
              "   'percentError': 33.55914028980623,\n",
              "   'r2_score': 0.7625180736373963},\n",
              "  'correction_latitude_cosine': {'mean_absolute_error': 6.260951752001452e-06,\n",
              "   'mean_squared_error': 4.9394879575600055e-11,\n",
              "   'percentError': 384.45504673655273,\n",
              "   'r2_score': -13.35024252641358},\n",
              "  'correction_latitude_sine': {'mean_absolute_error': 1.2381278881685881e-06,\n",
              "   'mean_squared_error': 2.6598310982747095e-12,\n",
              "   'percentError': 21.099699395221876,\n",
              "   'r2_score': -2.315733651887637},\n",
              "  'correction_radius_cosine': {'mean_absolute_error': 23.95934139167212,\n",
              "   'mean_squared_error': 1044.6312974401933,\n",
              "   'percentError': 9.517490878629898,\n",
              "   'r2_score': -2.5000118961555144},\n",
              "  'correction_radius_sine': {'mean_absolute_error': 121.82828971899514,\n",
              "   'mean_squared_error': 18652.013702356187,\n",
              "   'percentError': 1752.035241296105,\n",
              "   'r2_score': -13.677738689950477},\n",
              "  'essentricity': {'mean_absolute_error': 3.6994923358484265e-06,\n",
              "   'mean_squared_error': 3.0282994428483636e-11,\n",
              "   'percentError': 0.021318498702994848,\n",
              "   'r2_score': -0.8711717167695552},\n",
              "  'fit_interval': {'mean_absolute_error': 0.0,\n",
              "   'mean_squared_error': 0.0,\n",
              "   'percentError': 0,\n",
              "   'r2_score': 1.0},\n",
              "  'gps_week': {'mean_absolute_error': 1.1186714839746628,\n",
              "   'mean_squared_error': 1.3671352777100507,\n",
              "   'percentError': 0.05658429357484385,\n",
              "   'r2_score': 0.0},\n",
              "  'inclination': {'mean_absolute_error': 3.0915411534881976e-05,\n",
              "   'mean_squared_error': 1.2136940140445886e-09,\n",
              "   'percentError': 0.003259664822064723,\n",
              "   'r2_score': -0.5757582524487517},\n",
              "  'inclination_rate': {'mean_absolute_error': 2.493744422368286e-10,\n",
              "   'mean_squared_error': 7.863646196516028e-20,\n",
              "   'percentError': -728.2711620693435,\n",
              "   'r2_score': -0.7186863887266641},\n",
              "  'iodc': {'mean_absolute_error': 19.157475830501088,\n",
              "   'mean_squared_error': 495.8325607105661,\n",
              "   'percentError': 216.7900237119301,\n",
              "   'r2_score': -0.04687252565752975},\n",
              "  'iode': {'mean_absolute_error': 17.335603577400438,\n",
              "   'mean_squared_error': 440.0526691250094,\n",
              "   'percentError': 271.11202143282026,\n",
              "   'r2_score': 0.07089794891838608},\n",
              "  'l2_p_data_flag': {'mean_absolute_error': 0.0,\n",
              "   'mean_squared_error': 0.0,\n",
              "   'percentError': 0,\n",
              "   'r2_score': 1.0},\n",
              "  'mean_anomaly': {'mean_absolute_error': 0.4342005419926188,\n",
              "   'mean_squared_error': 2.645634764717699,\n",
              "   'percentError': -16.0734489808323,\n",
              "   'r2_score': 0.23316502836033148},\n",
              "  'mean_motion': {'mean_absolute_error': 3.06912344834486e-10,\n",
              "   'mean_squared_error': 1.077501810058876e-19,\n",
              "   'percentError': 6.0991326929744885,\n",
              "   'r2_score': -2.1236715431606057},\n",
              "  'omega': {'mean_absolute_error': 0.0008284794349855555,\n",
              "   'mean_squared_error': 9.287557309064654e-07,\n",
              "   'percentError': -0.04283808036797094,\n",
              "   'r2_score': -0.1902872660429018},\n",
              "  'sqrt_semi_major_axis': {'mean_absolute_error': 0.012752966141094172,\n",
              "   'mean_squared_error': 0.0001849052620207741,\n",
              "   'percentError': 0.00024745613553763885,\n",
              "   'r2_score': -31.284624676691323},\n",
              "  'sv_accuracy': {'mean_absolute_error': 0.053097343377143856,\n",
              "   'mean_squared_error': 0.004295784331498281,\n",
              "   'percentError': 0,\n",
              "   'r2_score': 0.0},\n",
              "  'sv_clock_bias': {'mean_absolute_error': 1.4694496993357846e-08,\n",
              "   'mean_squared_error': 3.081152681125011e-16,\n",
              "   'percentError': 0.005472952509401606,\n",
              "   'r2_score': 0.9998009306416207},\n",
              "  'sv_clock_drift': {'mean_absolute_error': 5.859803067951663e-14,\n",
              "   'mean_squared_error': 6.638486216949543e-27,\n",
              "   'percentError': -0.5925706137962916,\n",
              "   'r2_score': -1.0545119721098861},\n",
              "  'sv_clock_drift_rate': {'mean_absolute_error': 0.0,\n",
              "   'mean_squared_error': 0.0,\n",
              "   'percentError': 0,\n",
              "   'r2_score': 1.0},\n",
              "  'sv_health': {'mean_absolute_error': 0.0,\n",
              "   'mean_squared_error': 0.0,\n",
              "   'percentError': 0,\n",
              "   'r2_score': 1.0},\n",
              "  't_tx': {'mean_absolute_error': 92366.69766901102,\n",
              "   'mean_squared_error': 12845585058.176643,\n",
              "   'percentError': 159433.94861777365,\n",
              "   'r2_score': 0.20003136697145263},\n",
              "  'tgd': {'mean_absolute_error': 0.0,\n",
              "   'mean_squared_error': 0.0,\n",
              "   'percentError': 0.0,\n",
              "   'r2_score': 1.0},\n",
              "  'time_of_ephemeris': {'mean_absolute_error': 65122.82332525931,\n",
              "   'mean_squared_error': 7205794545.769057,\n",
              "   'percentError': 140.67763593688778,\n",
              "   'r2_score': 0.5500254684617966}},\n",
              " 3: {'OMEGA': {'mean_absolute_error': 0.004186575257412188,\n",
              "   'mean_squared_error': 2.698485176528392e-05,\n",
              "   'percentError': 0.26973967974061747,\n",
              "   'r2_score': -26.653552653871177},\n",
              "  'OMEGA_dot': {'mean_absolute_error': 3.300343627850408e-10,\n",
              "   'mean_squared_error': 1.5211123785277525e-19,\n",
              "   'percentError': -4.033631282604688,\n",
              "   'r2_score': -8.904136543720684},\n",
              "  'codes': {'mean_absolute_error': 0.0,\n",
              "   'mean_squared_error': 0.0,\n",
              "   'percentError': 0.0,\n",
              "   'r2_score': 1.0},\n",
              "  'correction_inclination_cosine': {'mean_absolute_error': 4.553972034045223e-08,\n",
              "   'mean_squared_error': 2.9483874516341386e-15,\n",
              "   'percentError': -131.3945292136362,\n",
              "   'r2_score': -2.9913233300765687},\n",
              "  'correction_inclination_sine': {'mean_absolute_error': 3.3627901302387546e-08,\n",
              "   'mean_squared_error': 1.4647521584452398e-15,\n",
              "   'percentError': -123.99058780904818,\n",
              "   'r2_score': -0.050492831259449256},\n",
              "  'correction_latitude_cosine': {'mean_absolute_error': 1.5290832728224658e-06,\n",
              "   'mean_squared_error': 2.8229644544848393e-12,\n",
              "   'percentError': -56.61119425100396,\n",
              "   'r2_score': -8.815610383044294},\n",
              "  'correction_latitude_sine': {'mean_absolute_error': 2.7589388987656117e-06,\n",
              "   'mean_squared_error': 1.3495943359464762e-11,\n",
              "   'percentError': 36.60791957308907,\n",
              "   'r2_score': -6.279566079657587},\n",
              "  'correction_radius_cosine': {'mean_absolute_error': 53.19759541820972,\n",
              "   'mean_squared_error': 5014.411395471225,\n",
              "   'percentError': 23.378250651979112,\n",
              "   'r2_score': -5.999696143035969},\n",
              "  'correction_radius_sine': {'mean_absolute_error': 30.885466169384603,\n",
              "   'mean_squared_error': 1142.5399186137886,\n",
              "   'percentError': -59.942731451910085,\n",
              "   'r2_score': -9.535876700249862},\n",
              "  'essentricity': {'mean_absolute_error': 8.920099095286685e-06,\n",
              "   'mean_squared_error': 9.635551204905782e-11,\n",
              "   'percentError': 0.788157503599953,\n",
              "   'r2_score': -19.81499254071274},\n",
              "  'fit_interval': {'mean_absolute_error': 0.0,\n",
              "   'mean_squared_error': 0.0,\n",
              "   'percentError': 0,\n",
              "   'r2_score': 1.0},\n",
              "  'gps_week': {'mean_absolute_error': 0.39748217635058913,\n",
              "   'mean_squared_error': 0.1587494813434181,\n",
              "   'percentError': 0.020105319997500714,\n",
              "   'r2_score': 0.0},\n",
              "  'inclination': {'mean_absolute_error': 7.464568651932938e-05,\n",
              "   'mean_squared_error': 9.349347255028281e-09,\n",
              "   'percentError': 0.007776318644205164,\n",
              "   'r2_score': -8.594677730802871},\n",
              "  'inclination_rate': {'mean_absolute_error': 5.386276591101543e-10,\n",
              "   'mean_squared_error': 3.568868597785905e-19,\n",
              "   'percentError': -183.4012624326228,\n",
              "   'r2_score': -9.47068718294143},\n",
              "  'iodc': {'mean_absolute_error': 21.30531168253981,\n",
              "   'mean_squared_error': 553.7428426429867,\n",
              "   'percentError': 42.122022302876736,\n",
              "   'r2_score': -0.2932008178472143},\n",
              "  'iode': {'mean_absolute_error': 19.06702470430309,\n",
              "   'mean_squared_error': 471.97499106666896,\n",
              "   'percentError': 41.343189035043544,\n",
              "   'r2_score': -0.10224168593789451},\n",
              "  'l2_p_data_flag': {'mean_absolute_error': 0.0,\n",
              "   'mean_squared_error': 0.0,\n",
              "   'percentError': 0,\n",
              "   'r2_score': 1.0},\n",
              "  'mean_anomaly': {'mean_absolute_error': 1.4317811653485693,\n",
              "   'mean_squared_error': 2.1004830419403655,\n",
              "   'percentError': -30.31019715414071,\n",
              "   'r2_score': 0.5891396327821119},\n",
              "  'mean_motion': {'mean_absolute_error': 3.6146760707592253e-10,\n",
              "   'mean_squared_error': 2.061049757696368e-19,\n",
              "   'percentError': 7.48025400211069,\n",
              "   'r2_score': -6.4055972842001365},\n",
              "  'omega': {'mean_absolute_error': 0.007250090145197937,\n",
              "   'mean_squared_error': 6.06737734073707e-05,\n",
              "   'percentError': 1.2080120750769618,\n",
              "   'r2_score': -10.815566361418778},\n",
              "  'sqrt_semi_major_axis': {'mean_absolute_error': 0.006787351836040519,\n",
              "   'mean_squared_error': 8.111529269218562e-05,\n",
              "   'percentError': 0.00013170105561484882,\n",
              "   'r2_score': -3.0196678466956035},\n",
              "  'sv_accuracy': {'mean_absolute_error': 0.011149894983619315,\n",
              "   'mean_squared_error': 0.0002420390488184639,\n",
              "   'percentError': 0,\n",
              "   'r2_score': 0.0},\n",
              "  'sv_clock_bias': {'mean_absolute_error': 2.7131062869619782e-08,\n",
              "   'mean_squared_error': 1.0132411358315817e-15,\n",
              "   'percentError': -0.07778194807735068,\n",
              "   'r2_score': 0.9979642781626525},\n",
              "  'sv_clock_drift': {'mean_absolute_error': 4.6806561167847694e-14,\n",
              "   'mean_squared_error': 3.616885425685166e-27,\n",
              "   'percentError': 0.8082666367467447,\n",
              "   'r2_score': -0.7490184711291934},\n",
              "  'sv_clock_drift_rate': {'mean_absolute_error': 0.0,\n",
              "   'mean_squared_error': 0.0,\n",
              "   'percentError': 0,\n",
              "   'r2_score': 1.0},\n",
              "  'sv_health': {'mean_absolute_error': 0.0,\n",
              "   'mean_squared_error': 0.0,\n",
              "   'percentError': 0,\n",
              "   'r2_score': 1.0},\n",
              "  't_tx': {'mean_absolute_error': 22806.984888452174,\n",
              "   'mean_squared_error': 879558389.3813367,\n",
              "   'percentError': 26.052555122592487,\n",
              "   'r2_score': 0.941102350781918},\n",
              "  'tgd': {'mean_absolute_error': 0.0,\n",
              "   'mean_squared_error': 0.0,\n",
              "   'percentError': 0.0,\n",
              "   'r2_score': 1.0},\n",
              "  'time_of_ephemeris': {'mean_absolute_error': 21304.53706141139,\n",
              "   'mean_squared_error': 693442204.0913116,\n",
              "   'percentError': 20.15028751421606,\n",
              "   'r2_score': 0.9536607884743532}},\n",
              " 5: {'OMEGA': {'mean_absolute_error': 0.008667223358554943,\n",
              "   'mean_squared_error': 0.00013357275574052036,\n",
              "   'percentError': 0.5655397963685465,\n",
              "   'r2_score': -120.42782051185927},\n",
              "  'OMEGA_dot': {'mean_absolute_error': 2.9835323829829237e-10,\n",
              "   'mean_squared_error': 1.345977061809598e-19,\n",
              "   'percentError': -3.5799385913090567,\n",
              "   'r2_score': -7.705177284940801},\n",
              "  'codes': {'mean_absolute_error': 0.0,\n",
              "   'mean_squared_error': 0.0,\n",
              "   'percentError': 0.0,\n",
              "   'r2_score': 1.0},\n",
              "  'correction_inclination_cosine': {'mean_absolute_error': 3.322472431689228e-08,\n",
              "   'mean_squared_error': 1.5564772417495212e-15,\n",
              "   'percentError': 27.479636065294052,\n",
              "   'r2_score': 0.39003382661763153},\n",
              "  'correction_inclination_sine': {'mean_absolute_error': 6.714163862455269e-08,\n",
              "   'mean_squared_error': 5.742379383956963e-15,\n",
              "   'percentError': -307.7697714021696,\n",
              "   'r2_score': -0.20801032739357694},\n",
              "  'correction_latitude_cosine': {'mean_absolute_error': 1.36160271844531e-06,\n",
              "   'mean_squared_error': 2.1982347612605704e-12,\n",
              "   'percentError': -50.931533799164754,\n",
              "   'r2_score': -8.110218633090014},\n",
              "  'correction_latitude_sine': {'mean_absolute_error': 3.0022853378024016e-06,\n",
              "   'mean_squared_error': 1.48057842006161e-11,\n",
              "   'percentError': 42.47294982633965,\n",
              "   'r2_score': -8.572145475452952},\n",
              "  'correction_radius_cosine': {'mean_absolute_error': 57.289959359900216,\n",
              "   'mean_squared_error': 5404.985095593876,\n",
              "   'percentError': 25.04104761559472,\n",
              "   'r2_score': -9.081992994996622},\n",
              "  'correction_radius_sine': {'mean_absolute_error': 25.390804935997455,\n",
              "   'mean_squared_error': 760.3198757410762,\n",
              "   'percentError': -48.33269241151162,\n",
              "   'r2_score': -7.464819877074104},\n",
              "  'essentricity': {'mean_absolute_error': 5.510868852187396e-06,\n",
              "   'mean_squared_error': 4.352695825821449e-11,\n",
              "   'percentError': 0.10437971764047417,\n",
              "   'r2_score': -23.686262716434534},\n",
              "  'fit_interval': {'mean_absolute_error': 0.0,\n",
              "   'mean_squared_error': 0.0,\n",
              "   'percentError': 0,\n",
              "   'r2_score': 1.0},\n",
              "  'gps_week': {'mean_absolute_error': 0.535774807363407,\n",
              "   'mean_squared_error': 0.3465913477765487,\n",
              "   'percentError': 0.02710039490963111,\n",
              "   'r2_score': 0.0},\n",
              "  'inclination': {'mean_absolute_error': 8.737737819705104e-05,\n",
              "   'mean_squared_error': 1.2174870370564692e-08,\n",
              "   'percentError': 0.009228341340632787,\n",
              "   'r2_score': -11.731094272880817},\n",
              "  'inclination_rate': {'mean_absolute_error': 4.817142509375417e-10,\n",
              "   'mean_squared_error': 2.782666203003902e-19,\n",
              "   'percentError': -146.14589152137697,\n",
              "   'r2_score': -8.318599018584939},\n",
              "  'iodc': {'mean_absolute_error': 23.665347184548136,\n",
              "   'mean_squared_error': 896.1213603741664,\n",
              "   'percentError': 49.94705382365153,\n",
              "   'r2_score': -0.4855446085832733},\n",
              "  'iode': {'mean_absolute_error': 24.470180460130052,\n",
              "   'mean_squared_error': 881.6949210984136,\n",
              "   'percentError': 55.59969390060446,\n",
              "   'r2_score': -0.46162918815606657},\n",
              "  'l2_p_data_flag': {'mean_absolute_error': 0.0,\n",
              "   'mean_squared_error': 0.0,\n",
              "   'percentError': 0,\n",
              "   'r2_score': 1.0},\n",
              "  'mean_anomaly': {'mean_absolute_error': 0.00034558514492871175,\n",
              "   'mean_squared_error': 2.144395483213387e-07,\n",
              "   'percentError': 0.017400484431442556,\n",
              "   'r2_score': 0.9999998404350213},\n",
              "  'mean_motion': {'mean_absolute_error': 3.635968146747524e-10,\n",
              "   'mean_squared_error': 2.1003150815828838e-19,\n",
              "   'percentError': 7.269901506947795,\n",
              "   'r2_score': -7.745508746846664},\n",
              "  'omega': {'mean_absolute_error': 0.00147818662208965,\n",
              "   'mean_squared_error': 2.790620917385057e-06,\n",
              "   'percentError': 0.2342259225330874,\n",
              "   'r2_score': -2.714010643309518},\n",
              "  'sqrt_semi_major_axis': {'mean_absolute_error': 0.007378066822184337,\n",
              "   'mean_squared_error': 9.330584885269862e-05,\n",
              "   'percentError': 0.0001431634814778051,\n",
              "   'r2_score': -19.021817395028663},\n",
              "  'sv_accuracy': {'mean_absolute_error': 0.17037386793969533,\n",
              "   'mean_squared_error': 0.12812478652401035,\n",
              "   'percentError': 91.66184581223469,\n",
              "   'r2_score': -0.004900286462826475},\n",
              "  'sv_clock_bias': {'mean_absolute_error': 4.152770046289297e-09,\n",
              "   'mean_squared_error': 2.9990674029880414e-17,\n",
              "   'percentError': -0.019549776854874395,\n",
              "   'r2_score': 0.9985667261556883},\n",
              "  'sv_clock_drift': {'mean_absolute_error': 7.56105166172076e-15,\n",
              "   'mean_squared_error': 7.228689791148935e-29,\n",
              "   'percentError': 0.6650771376199156,\n",
              "   'r2_score': -1.7724695793981627e+27},\n",
              "  'sv_clock_drift_rate': {'mean_absolute_error': 0.0,\n",
              "   'mean_squared_error': 0.0,\n",
              "   'percentError': 0,\n",
              "   'r2_score': 1.0},\n",
              "  'sv_health': {'mean_absolute_error': 0.0,\n",
              "   'mean_squared_error': 0.0,\n",
              "   'percentError': 0,\n",
              "   'r2_score': 1.0},\n",
              "  't_tx': {'mean_absolute_error': 86725.69569862988,\n",
              "   'mean_squared_error': 11219831721.666939,\n",
              "   'percentError': 203814.58645142222,\n",
              "   'r2_score': 0.31106956364664606},\n",
              "  'tgd': {'mean_absolute_error': 0.0,\n",
              "   'mean_squared_error': 0.0,\n",
              "   'percentError': 0.0,\n",
              "   'r2_score': 1.0},\n",
              "  'time_of_ephemeris': {'mean_absolute_error': 47945.617487642754,\n",
              "   'mean_squared_error': 3959011225.9213495,\n",
              "   'percentError': 102.70527418407355,\n",
              "   'r2_score': 0.756201706895959}},\n",
              " 6: {'OMEGA': {'mean_absolute_error': 0.009337735709640369,\n",
              "   'mean_squared_error': 0.00015170498540682272,\n",
              "   'percentError': 1.863960351923754,\n",
              "   'r2_score': -140.29461942787987},\n",
              "  'OMEGA_dot': {'mean_absolute_error': 1.170033216194402e-10,\n",
              "   'mean_squared_error': 1.5824655642805384e-20,\n",
              "   'percentError': -1.4352481564527266,\n",
              "   'r2_score': -2.887031950511006},\n",
              "  'codes': {'mean_absolute_error': 0.0,\n",
              "   'mean_squared_error': 0.0,\n",
              "   'percentError': 0.0,\n",
              "   'r2_score': 1.0},\n",
              "  'correction_inclination_cosine': {'mean_absolute_error': 3.204173367056082e-08,\n",
              "   'mean_squared_error': 1.7978054770650524e-15,\n",
              "   'percentError': 34.59742661551192,\n",
              "   'r2_score': 0.41900503269615186},\n",
              "  'correction_inclination_sine': {'mean_absolute_error': 3.348043778048653e-08,\n",
              "   'mean_squared_error': 1.825325227377654e-15,\n",
              "   'percentError': -50.181828357692744,\n",
              "   'r2_score': -2.316664367059655},\n",
              "  'correction_latitude_cosine': {'mean_absolute_error': 5.923982796399637e-06,\n",
              "   'mean_squared_error': 4.467272857983893e-11,\n",
              "   'percentError': -232.23587379502237,\n",
              "   'r2_score': -12.905308431443688},\n",
              "  'correction_latitude_sine': {'mean_absolute_error': 1.0932094748750437e-06,\n",
              "   'mean_squared_error': 2.1620597757319672e-12,\n",
              "   'percentError': 17.801595333259197,\n",
              "   'r2_score': -2.8341252984108376},\n",
              "  'correction_radius_cosine': {'mean_absolute_error': 20.780624565317908,\n",
              "   'mean_squared_error': 801.6617814331172,\n",
              "   'percentError': 7.979662387362866,\n",
              "   'r2_score': -2.6610473079918013},\n",
              "  'correction_radius_sine': {'mean_absolute_error': 115.14431425910202,\n",
              "   'mean_squared_error': 16771.490150886395,\n",
              "   'percentError': -5.3604261132442375,\n",
              "   'r2_score': -13.26993038422399},\n",
              "  'essentricity': {'mean_absolute_error': 1.0144076731969758e-05,\n",
              "   'mean_squared_error': 1.2693284740981895e-10,\n",
              "   'percentError': 1.49115484513877,\n",
              "   'r2_score': -1.7717836963322524},\n",
              "  'fit_interval': {'mean_absolute_error': 0.0,\n",
              "   'mean_squared_error': 0.0,\n",
              "   'percentError': 0,\n",
              "   'r2_score': 1.0},\n",
              "  'gps_week': {'mean_absolute_error': 0.5183559124029671,\n",
              "   'mean_squared_error': 0.2845358729746886,\n",
              "   'percentError': 0.026219317774555745,\n",
              "   'r2_score': 0.0},\n",
              "  'inclination': {'mean_absolute_error': 3.4863769742959905e-05,\n",
              "   'mean_squared_error': 1.5075345040678386e-09,\n",
              "   'percentError': 0.0035973841498830148,\n",
              "   'r2_score': -1.0177642192731238},\n",
              "  'inclination_rate': {'mean_absolute_error': 2.3899767024820864e-10,\n",
              "   'mean_squared_error': 7.253683594082626e-20,\n",
              "   'percentError': 151.33711996308995,\n",
              "   'r2_score': -0.7015786233934096},\n",
              "  'iodc': {'mean_absolute_error': 27.551365535095716,\n",
              "   'mean_squared_error': 961.2377527119003,\n",
              "   'percentError': 85.38234755208308,\n",
              "   'r2_score': -1.2708191653954648},\n",
              "  'iode': {'mean_absolute_error': 23.125716995460245,\n",
              "   'mean_squared_error': 687.3038561374996,\n",
              "   'percentError': 99.67204643399582,\n",
              "   'r2_score': -0.6236802649125905},\n",
              "  'l2_p_data_flag': {'mean_absolute_error': 0.0,\n",
              "   'mean_squared_error': 0.0,\n",
              "   'percentError': 0,\n",
              "   'r2_score': 1.0},\n",
              "  'mean_anomaly': {'mean_absolute_error': 0.5056643655375794,\n",
              "   'mean_squared_error': 0.2973901930557049,\n",
              "   'percentError': 11.571754746338584,\n",
              "   'r2_score': 0.9234247368973435},\n",
              "  'mean_motion': {'mean_absolute_error': 2.3842033893189833e-10,\n",
              "   'mean_squared_error': 6.355045254040482e-20,\n",
              "   'percentError': 5.28334251126671,\n",
              "   'r2_score': -8.256415326054883},\n",
              "  'omega': {'mean_absolute_error': 0.012452334564225575,\n",
              "   'mean_squared_error': 0.00024197232203830446,\n",
              "   'percentError': -0.9683261149538737,\n",
              "   'r2_score': -4.063981100640996},\n",
              "  'sqrt_semi_major_axis': {'mean_absolute_error': 0.012110813575327483,\n",
              "   'mean_squared_error': 0.0001651672324483367,\n",
              "   'percentError': 0.0002349884994349858,\n",
              "   'r2_score': -74.82371144319002},\n",
              "  'sv_accuracy': {'mean_absolute_error': 0.0,\n",
              "   'mean_squared_error': 0.0,\n",
              "   'percentError': 0,\n",
              "   'r2_score': 1.0},\n",
              "  'sv_clock_bias': {'mean_absolute_error': 2.3850038691322673e-08,\n",
              "   'mean_squared_error': 8.911425231852717e-16,\n",
              "   'percentError': 0.005793238487346697,\n",
              "   'r2_score': 0.9684670444868736},\n",
              "  'sv_clock_drift': {'mean_absolute_error': 3.80861707462915e-14,\n",
              "   'mean_squared_error': 1.7787638288882814e-27,\n",
              "   'percentError': 2.858060527998321,\n",
              "   'r2_score': 0.3950541306934141},\n",
              "  'sv_clock_drift_rate': {'mean_absolute_error': 0.0,\n",
              "   'mean_squared_error': 0.0,\n",
              "   'percentError': 0,\n",
              "   'r2_score': 1.0},\n",
              "  'sv_health': {'mean_absolute_error': 0.0,\n",
              "   'mean_squared_error': 0.0,\n",
              "   'percentError': 0,\n",
              "   'r2_score': 1.0},\n",
              "  't_tx': {'mean_absolute_error': 64280.45559213755,\n",
              "   'mean_squared_error': 9039932943.982935,\n",
              "   'percentError': 299118.76901472814,\n",
              "   'r2_score': 0.43199138690892125},\n",
              "  'tgd': {'mean_absolute_error': 0.0,\n",
              "   'mean_squared_error': 0.0,\n",
              "   'percentError': 0.0,\n",
              "   'r2_score': 1.0},\n",
              "  'time_of_ephemeris': {'mean_absolute_error': 48567.390137143084,\n",
              "   'mean_squared_error': 4185609662.9286065,\n",
              "   'percentError': 167.91252070618805,\n",
              "   'r2_score': 0.7372142322544295}},\n",
              " 7: {'OMEGA': {'mean_absolute_error': 0.0061251173017366845,\n",
              "   'mean_squared_error': 4.830492494222851e-05,\n",
              "   'percentError': -0.23391102284514026,\n",
              "   'r2_score': -48.0857527037964},\n",
              "  'OMEGA_dot': {'mean_absolute_error': 2.521631839034884e-10,\n",
              "   'mean_squared_error': 7.998559964033213e-20,\n",
              "   'percentError': -3.000232361423313,\n",
              "   'r2_score': -1.123204918560433},\n",
              "  'codes': {'mean_absolute_error': 0.0,\n",
              "   'mean_squared_error': 0.0,\n",
              "   'percentError': 0.0,\n",
              "   'r2_score': 1.0},\n",
              "  'correction_inclination_cosine': {'mean_absolute_error': 6.47004560552303e-08,\n",
              "   'mean_squared_error': 6.948731048226468e-15,\n",
              "   'percentError': 268.1187190146397,\n",
              "   'r2_score': 0.4313891557978301},\n",
              "  'correction_inclination_sine': {'mean_absolute_error': 6.810018236258632e-08,\n",
              "   'mean_squared_error': 8.677441467797536e-15,\n",
              "   'percentError': 15.596433920254745,\n",
              "   'r2_score': 0.199272470248691},\n",
              "  'correction_latitude_cosine': {'mean_absolute_error': 4.389066679865304e-06,\n",
              "   'mean_squared_error': 2.7934103674743453e-11,\n",
              "   'percentError': 167.21192335943476,\n",
              "   'r2_score': -9.378829532175146},\n",
              "  'correction_latitude_sine': {'mean_absolute_error': 2.39560647116451e-06,\n",
              "   'mean_squared_error': 6.697866981135478e-12,\n",
              "   'percentError': 51.33160302956495,\n",
              "   'r2_score': -10.113444314881601},\n",
              "  'correction_radius_cosine': {'mean_absolute_error': 44.65794084646216,\n",
              "   'mean_squared_error': 2348.226566014511,\n",
              "   'percentError': 15.540021114493502,\n",
              "   'r2_score': -9.482906918267602},\n",
              "  'correction_radius_sine': {'mean_absolute_error': 84.52752595212594,\n",
              "   'mean_squared_error': 10324.203600929599,\n",
              "   'percentError': 166.37831689878564,\n",
              "   'r2_score': -9.663680951072614},\n",
              "  'essentricity': {'mean_absolute_error': 2.9457571042633727e-06,\n",
              "   'mean_squared_error': 1.1135817431575423e-11,\n",
              "   'percentError': 0.02659618213450377,\n",
              "   'r2_score': -0.058851608671964595},\n",
              "  'fit_interval': {'mean_absolute_error': 0.0,\n",
              "   'mean_squared_error': 0.0,\n",
              "   'percentError': 0,\n",
              "   'r2_score': 1.0},\n",
              "  'gps_week': {'mean_absolute_error': 0.5634171811976475,\n",
              "   'mean_squared_error': 0.6867943353508313,\n",
              "   'percentError': 0.028498592877979134,\n",
              "   'r2_score': 0.0},\n",
              "  'inclination': {'mean_absolute_error': 0.00011349627483309648,\n",
              "   'mean_squared_error': 1.041321198662821e-07,\n",
              "   'percentError': 0.011814797464953633,\n",
              "   'r2_score': -764.9754640583105},\n",
              "  'inclination_rate': {'mean_absolute_error': 2.484300824933835e-10,\n",
              "   'mean_squared_error': 9.18458784313437e-20,\n",
              "   'percentError': 336.68487912543424,\n",
              "   'r2_score': -1.2130046289545446},\n",
              "  'iodc': {'mean_absolute_error': 25.25118220901388,\n",
              "   'mean_squared_error': 1077.7988408240599,\n",
              "   'percentError': 56.86697794159804,\n",
              "   'r2_score': -0.8256780443172098},\n",
              "  'iode': {'mean_absolute_error': 24.23440073818293,\n",
              "   'mean_squared_error': 946.1536568155655,\n",
              "   'percentError': 63.44805112995352,\n",
              "   'r2_score': -0.6026849281800208},\n",
              "  'l2_p_data_flag': {'mean_absolute_error': 0.0,\n",
              "   'mean_squared_error': 0.0,\n",
              "   'percentError': 0,\n",
              "   'r2_score': 1.0},\n",
              "  'mean_anomaly': {'mean_absolute_error': 0.37281398093590745,\n",
              "   'mean_squared_error': 1.5221912474158636,\n",
              "   'percentError': 12.800389021013373,\n",
              "   'r2_score': 0.3524110254928505},\n",
              "  'mean_motion': {'mean_absolute_error': 1.520042660615682e-10,\n",
              "   'mean_squared_error': 2.828354978130426e-20,\n",
              "   'percentError': 3.161299205857513,\n",
              "   'r2_score': -1.6933506789849093},\n",
              "  'omega': {'mean_absolute_error': 0.0011893731109299558,\n",
              "   'mean_squared_error': 2.176629536196991e-06,\n",
              "   'percentError': -0.04670530710436158,\n",
              "   'r2_score': -24.425503986720173},\n",
              "  'sqrt_semi_major_axis': {'mean_absolute_error': 0.6272658896057444,\n",
              "   'mean_squared_error': 4.29144289161162,\n",
              "   'percentError': 0.012171159751815515,\n",
              "   'r2_score': -1288214.8151795177},\n",
              "  'sv_accuracy': {'mean_absolute_error': 0.0,\n",
              "   'mean_squared_error': 0.0,\n",
              "   'percentError': 0,\n",
              "   'r2_score': 1.0},\n",
              "  'sv_clock_bias': {'mean_absolute_error': 4.420621765612686e-08,\n",
              "   'mean_squared_error': 1.2737356619303646e-14,\n",
              "   'percentError': 0.01616627867977342,\n",
              "   'r2_score': 0.9670396305372149},\n",
              "  'sv_clock_drift': {'mean_absolute_error': 2.403582171985587e-14,\n",
              "   'mean_squared_error': 6.784877040338238e-28,\n",
              "   'percentError': -0.4596115732896414,\n",
              "   'r2_score': -2.5994484524104247e+26},\n",
              "  'sv_clock_drift_rate': {'mean_absolute_error': 0.0,\n",
              "   'mean_squared_error': 0.0,\n",
              "   'percentError': 0,\n",
              "   'r2_score': 1.0},\n",
              "  'sv_health': {'mean_absolute_error': 0.0,\n",
              "   'mean_squared_error': 0.0,\n",
              "   'percentError': 0,\n",
              "   'r2_score': 1.0},\n",
              "  't_tx': {'mean_absolute_error': 19349.932190354597,\n",
              "   'mean_squared_error': 703775057.4709197,\n",
              "   'percentError': 17.827533384834965,\n",
              "   'r2_score': 0.9499263200386053},\n",
              "  'tgd': {'mean_absolute_error': 0.0,\n",
              "   'mean_squared_error': 0.0,\n",
              "   'percentError': 0.0,\n",
              "   'r2_score': 1.0},\n",
              "  'time_of_ephemeris': {'mean_absolute_error': 28987.58568764263,\n",
              "   'mean_squared_error': 1125513032.7868097,\n",
              "   'percentError': 18.578950102692104,\n",
              "   'r2_score': 0.9202372623294649}},\n",
              " 8: {'OMEGA': {'mean_absolute_error': 0.005924787490400909,\n",
              "   'mean_squared_error': 8.793731401343396e-05,\n",
              "   'percentError': -1.0699715940828232,\n",
              "   'r2_score': -93.54418237673308},\n",
              "  'OMEGA_dot': {'mean_absolute_error': 4.3507039321936886e-10,\n",
              "   'mean_squared_error': 2.367071509007587e-19,\n",
              "   'percentError': -5.503543773667571,\n",
              "   'r2_score': -13.592544200012847},\n",
              "  'codes': {'mean_absolute_error': 0.0,\n",
              "   'mean_squared_error': 0.0,\n",
              "   'percentError': 0.0,\n",
              "   'r2_score': 1.0},\n",
              "  'correction_inclination_cosine': {'mean_absolute_error': 4.8026928303102555e-08,\n",
              "   'mean_squared_error': 2.6427023185320664e-15,\n",
              "   'percentError': -124.8772725660786,\n",
              "   'r2_score': 0.5643892414176022},\n",
              "  'correction_inclination_sine': {'mean_absolute_error': 3.3213877834489e-08,\n",
              "   'mean_squared_error': 1.6477681174001425e-15,\n",
              "   'percentError': -3.431987033030508,\n",
              "   'r2_score': 0.05434320874604781},\n",
              "  'correction_latitude_cosine': {'mean_absolute_error': 3.432152668014755e-06,\n",
              "   'mean_squared_error': 2.2131249587093255e-11,\n",
              "   'percentError': -5021.695198751473,\n",
              "   'r2_score': -10.483467387658495},\n",
              "  'correction_latitude_sine': {'mean_absolute_error': 6.458661560038592e-06,\n",
              "   'mean_squared_error': 5.395495104696763e-11,\n",
              "   'percentError': 66.93846205952387,\n",
              "   'r2_score': -8.234452521287004},\n",
              "  'correction_radius_cosine': {'mean_absolute_error': 123.61313869073865,\n",
              "   'mean_squared_error': 19824.665540181148,\n",
              "   'percentError': 68.38567358943932,\n",
              "   'r2_score': -8.166566330110179},\n",
              "  'correction_radius_sine': {'mean_absolute_error': 62.76739904737002,\n",
              "   'mean_squared_error': 7619.303114636506,\n",
              "   'percentError': -376.2097945001435,\n",
              "   'r2_score': -9.7819271878077},\n",
              "  'essentricity': {'mean_absolute_error': 4.142757512326964e-06,\n",
              "   'mean_squared_error': 2.142547094312781e-11,\n",
              "   'percentError': 0.14135301100534556,\n",
              "   'r2_score': 0.6872198725927463},\n",
              "  'fit_interval': {'mean_absolute_error': 0.0,\n",
              "   'mean_squared_error': 0.0,\n",
              "   'percentError': 0,\n",
              "   'r2_score': 1.0},\n",
              "  'gps_week': {'mean_absolute_error': 0.35163766908659355,\n",
              "   'mean_squared_error': 0.13131193833233284,\n",
              "   'percentError': 0.01778642736907403,\n",
              "   'r2_score': 0.0},\n",
              "  'inclination': {'mean_absolute_error': 7.435880691635572e-05,\n",
              "   'mean_squared_error': 7.563369374986756e-09,\n",
              "   'percentError': 0.007678733622210424,\n",
              "   'r2_score': -9.891561787333686},\n",
              "  'inclination_rate': {'mean_absolute_error': 3.7813299971826765e-10,\n",
              "   'mean_squared_error': 1.517966908245485e-19,\n",
              "   'percentError': 174.33620086835475,\n",
              "   'r2_score': -39.10477241533974},\n",
              "  'iodc': {'mean_absolute_error': 27.176413020641018,\n",
              "   'mean_squared_error': 1462.269986063289,\n",
              "   'percentError': 60.46604030236409,\n",
              "   'r2_score': -0.0013168427561407459},\n",
              "  'iode': {'mean_absolute_error': 27.020718097801915,\n",
              "   'mean_squared_error': 1294.5360307816536,\n",
              "   'percentError': 90.21628260046467,\n",
              "   'r2_score': 0.11354213412662584},\n",
              "  'l2_p_data_flag': {'mean_absolute_error': 0.0,\n",
              "   'mean_squared_error': 0.0,\n",
              "   'percentError': 0,\n",
              "   'r2_score': 1.0},\n",
              "  'mean_anomaly': {'mean_absolute_error': 2.024943309872774,\n",
              "   'mean_squared_error': 6.004355837623672,\n",
              "   'percentError': 112.51775820498517,\n",
              "   'r2_score': -0.5393946300143162},\n",
              "  'mean_motion': {'mean_absolute_error': 4.3008696064987663e-10,\n",
              "   'mean_squared_error': 2.3304369220818456e-19,\n",
              "   'percentError': 10.296247709723136,\n",
              "   'r2_score': -9.757080912042195},\n",
              "  'omega': {'mean_absolute_error': 0.0002974652856722921,\n",
              "   'mean_squared_error': 1.4299311807522986e-07,\n",
              "   'percentError': -0.04737909081091568,\n",
              "   'r2_score': 0.6425740658785193},\n",
              "  'sqrt_semi_major_axis': {'mean_absolute_error': 0.003380026378733549,\n",
              "   'mean_squared_error': 1.6232963391393448e-05,\n",
              "   'percentError': 6.558409872231177e-05,\n",
              "   'r2_score': -0.6867153073793228},\n",
              "  'sv_accuracy': {'mean_absolute_error': 0.1062855771489951,\n",
              "   'mean_squared_error': 0.04020548681102789,\n",
              "   'percentError': 27.545057885368657,\n",
              "   'r2_score': 0.761203775304198},\n",
              "  'sv_clock_bias': {'mean_absolute_error': 1.3704901516375522e-08,\n",
              "   'mean_squared_error': 2.129723127823556e-16,\n",
              "   'percentError': -0.01666016957187445,\n",
              "   'r2_score': 0.9917879366393456},\n",
              "  'sv_clock_drift': {'mean_absolute_error': 0.0,\n",
              "   'mean_squared_error': 0.0,\n",
              "   'percentError': 0.0,\n",
              "   'r2_score': 1.0},\n",
              "  'sv_clock_drift_rate': {'mean_absolute_error': 0.0,\n",
              "   'mean_squared_error': 0.0,\n",
              "   'percentError': 0,\n",
              "   'r2_score': 1.0},\n",
              "  'sv_health': {'mean_absolute_error': 0.0,\n",
              "   'mean_squared_error': 0.0,\n",
              "   'percentError': 0,\n",
              "   'r2_score': 1.0},\n",
              "  't_tx': {'mean_absolute_error': 31436.065388571726,\n",
              "   'mean_squared_error': 2304615575.639625,\n",
              "   'percentError': 53.32244542789298,\n",
              "   'r2_score': 0.8419665997619141},\n",
              "  'tgd': {'mean_absolute_error': 0.0,\n",
              "   'mean_squared_error': 0.0,\n",
              "   'percentError': 0.0,\n",
              "   'r2_score': 1.0},\n",
              "  'time_of_ephemeris': {'mean_absolute_error': 32792.30025970771,\n",
              "   'mean_squared_error': 2383794503.6226797,\n",
              "   'percentError': 49.04128207741622,\n",
              "   'r2_score': 0.8370798607732506}},\n",
              " 9: {'OMEGA': {'mean_absolute_error': 0.0028219208578666036,\n",
              "   'mean_squared_error': 1.698800386020372e-05,\n",
              "   'percentError': 0.10906762205231235,\n",
              "   'r2_score': -16.625339561736023},\n",
              "  'OMEGA_dot': {'mean_absolute_error': 3.1521114592432344e-10,\n",
              "   'mean_squared_error': 1.2806513795026234e-19,\n",
              "   'percentError': -3.937770781321957,\n",
              "   'r2_score': -14.926476564146956},\n",
              "  'codes': {'mean_absolute_error': 0.0,\n",
              "   'mean_squared_error': 0.0,\n",
              "   'percentError': 0.0,\n",
              "   'r2_score': 1.0},\n",
              "  'correction_inclination_cosine': {'mean_absolute_error': 1.6259304961253485e-08,\n",
              "   'mean_squared_error': 3.0758498989762375e-16,\n",
              "   'percentError': 63.11520519306571,\n",
              "   'r2_score': 0.3115396251536152},\n",
              "  'correction_inclination_sine': {'mean_absolute_error': 3.2265492639830314e-08,\n",
              "   'mean_squared_error': 1.4141464389073613e-15,\n",
              "   'percentError': 295.2281182252021,\n",
              "   'r2_score': -10.386887385709812},\n",
              "  'correction_latitude_cosine': {'mean_absolute_error': 8.425542557283659e-07,\n",
              "   'mean_squared_error': 8.517055363303607e-13,\n",
              "   'percentError': 33.766915703533705,\n",
              "   'r2_score': -5.6926660489177126},\n",
              "  'correction_latitude_sine': {'mean_absolute_error': 5.743208046455939e-06,\n",
              "   'mean_squared_error': 4.174160047610477e-11,\n",
              "   'percentError': 50.906950361192905,\n",
              "   'r2_score': -10.809522290597176},\n",
              "  'correction_radius_cosine': {'mean_absolute_error': 111.98486905832517,\n",
              "   'mean_squared_error': 15827.903759014045,\n",
              "   'percentError': 76.70397510151142,\n",
              "   'r2_score': -10.836175851436105},\n",
              "  'correction_radius_sine': {'mean_absolute_error': 21.11317695479711,\n",
              "   'mean_squared_error': 557.7736173646996,\n",
              "   'percentError': 42.43706902270967,\n",
              "   'r2_score': -9.819990647685975},\n",
              "  'essentricity': {'mean_absolute_error': 1.1430284887107225e-05,\n",
              "   'mean_squared_error': 1.5305566185357443e-10,\n",
              "   'percentError': 1.0817055422747313,\n",
              "   'r2_score': -4.512229938320748},\n",
              "  'fit_interval': {'mean_absolute_error': 0.0,\n",
              "   'mean_squared_error': 0.0,\n",
              "   'percentError': 0,\n",
              "   'r2_score': 1.0},\n",
              "  'gps_week': {'mean_absolute_error': 0.5505669550000524,\n",
              "   'mean_squared_error': 0.3067787674205165,\n",
              "   'percentError': 0.02784860672736734,\n",
              "   'r2_score': 0.0},\n",
              "  'inclination': {'mean_absolute_error': 0.00010829645751533334,\n",
              "   'mean_squared_error': 1.557315964095982e-08,\n",
              "   'percentError': 0.011361006801125216,\n",
              "   'r2_score': -78.44340685834065},\n",
              "  'inclination_rate': {'mean_absolute_error': 3.6963840997700425e-10,\n",
              "   'mean_squared_error': 1.8164702868273516e-19,\n",
              "   'percentError': 0.9613711720697602,\n",
              "   'r2_score': -7.814718714320492},\n",
              "  'iodc': {'mean_absolute_error': 39.22540798295207,\n",
              "   'mean_squared_error': 2784.644114021105,\n",
              "   'percentError': 168.79811296866743,\n",
              "   'r2_score': -4.197213909573707},\n",
              "  'iode': {'mean_absolute_error': 37.66739869615794,\n",
              "   'mean_squared_error': 2502.2194945073015,\n",
              "   'percentError': 185.15670483051906,\n",
              "   'r2_score': -3.670101251423784},\n",
              "  'l2_p_data_flag': {'mean_absolute_error': 0.0,\n",
              "   'mean_squared_error': 0.0,\n",
              "   'percentError': 0,\n",
              "   'r2_score': 1.0},\n",
              "  'mean_anomaly': {'mean_absolute_error': 0.11750444506280071,\n",
              "   'mean_squared_error': 0.018340803362924762,\n",
              "   'percentError': 7.375470307067582,\n",
              "   'r2_score': 0.9751599139937732},\n",
              "  'mean_motion': {'mean_absolute_error': 5.826552458194446e-10,\n",
              "   'mean_squared_error': 4.1160838197907043e-19,\n",
              "   'percentError': 12.706221328899971,\n",
              "   'r2_score': -15.350138104038571},\n",
              "  'omega': {'mean_absolute_error': 0.0013299535315720887,\n",
              "   'mean_squared_error': 4.057941452678566e-06,\n",
              "   'percentError': 0.07611740973402555,\n",
              "   'r2_score': -2.0745576596177324},\n",
              "  'sqrt_semi_major_axis': {'mean_absolute_error': 0.0043579679115888816,\n",
              "   'mean_squared_error': 2.6029841537995905e-05,\n",
              "   'percentError': 8.455942367939059e-05,\n",
              "   'r2_score': -1.6717706256545175},\n",
              "  'sv_accuracy': {'mean_absolute_error': 0.21543767982047082,\n",
              "   'mean_squared_error': 0.06922684300069189,\n",
              "   'percentError': 0,\n",
              "   'r2_score': 0.0},\n",
              "  'sv_clock_bias': {'mean_absolute_error': 2.9541353928660076e-08,\n",
              "   'mean_squared_error': 1.2249674373019321e-15,\n",
              "   'percentError': 0.006188058330851084,\n",
              "   'r2_score': 0.9958338154990507},\n",
              "  'sv_clock_drift': {'mean_absolute_error': 2.883501542950928e-14,\n",
              "   'mean_squared_error': 2.143633645721959e-27,\n",
              "   'percentError': 0.6494019334467681,\n",
              "   'r2_score': -0.036597624872657386},\n",
              "  'sv_clock_drift_rate': {'mean_absolute_error': 0.0,\n",
              "   'mean_squared_error': 0.0,\n",
              "   'percentError': 0,\n",
              "   'r2_score': 1.0},\n",
              "  'sv_health': {'mean_absolute_error': 0.0,\n",
              "   'mean_squared_error': 0.0,\n",
              "   'percentError': 0,\n",
              "   'r2_score': 1.0},\n",
              "  't_tx': {'mean_absolute_error': 14197.124937404558,\n",
              "   'mean_squared_error': 408922974.5541409,\n",
              "   'percentError': 14.382778396937555,\n",
              "   'r2_score': 0.9726104198554998},\n",
              "  'tgd': {'mean_absolute_error': 0.0,\n",
              "   'mean_squared_error': 0.0,\n",
              "   'percentError': 0.0,\n",
              "   'r2_score': 1.0},\n",
              "  'time_of_ephemeris': {'mean_absolute_error': 13996.190122705595,\n",
              "   'mean_squared_error': 418209788.21029794,\n",
              "   'percentError': 12.925393026566343,\n",
              "   'r2_score': 0.9720542594187209}},\n",
              " 10: {'OMEGA': {'mean_absolute_error': 0.004755718597842602,\n",
              "   'mean_squared_error': 3.891234575731496e-05,\n",
              "   'percentError': 0.3070480228078521,\n",
              "   'r2_score': -37.85812340656347},\n",
              "  'OMEGA_dot': {'mean_absolute_error': 3.1461271337174264e-10,\n",
              "   'mean_squared_error': 1.454343172979539e-19,\n",
              "   'percentError': -3.858482962451482,\n",
              "   'r2_score': -4.794405773798953},\n",
              "  'codes': {'mean_absolute_error': 0.0,\n",
              "   'mean_squared_error': 0.0,\n",
              "   'percentError': 0.0,\n",
              "   'r2_score': 1.0},\n",
              "  'correction_inclination_cosine': {'mean_absolute_error': 3.28932256963816e-08,\n",
              "   'mean_squared_error': 2.501200036442902e-15,\n",
              "   'percentError': 25.467534171292257,\n",
              "   'r2_score': -0.2923451658802232},\n",
              "  'correction_inclination_sine': {'mean_absolute_error': 6.901210300856508e-08,\n",
              "   'mean_squared_error': 7.821907237457811e-15,\n",
              "   'percentError': -78.24970114257106,\n",
              "   'r2_score': 0.05147909399206818},\n",
              "  'correction_latitude_cosine': {'mean_absolute_error': 1.4804063105132362e-06,\n",
              "   'mean_squared_error': 2.6120596530731334e-12,\n",
              "   'percentError': -52.30941136078588,\n",
              "   'r2_score': -5.609662007373986},\n",
              "  'correction_latitude_sine': {'mean_absolute_error': 3.474772058037899e-06,\n",
              "   'mean_squared_error': 1.8383433148294833e-11,\n",
              "   'percentError': 44.31490233174857,\n",
              "   'r2_score': -11.508335322594197},\n",
              "  'correction_radius_cosine': {'mean_absolute_error': 71.75733894620711,\n",
              "   'mean_squared_error': 9639.038155777775,\n",
              "   'percentError': 32.62418271282547,\n",
              "   'r2_score': -16.602189254770717},\n",
              "  'correction_radius_sine': {'mean_absolute_error': 28.164662570106067,\n",
              "   'mean_squared_error': 956.3303607557341,\n",
              "   'percentError': -52.02239062963889,\n",
              "   'r2_score': -6.424789513182538},\n",
              "  'essentricity': {'mean_absolute_error': 6.185120758036081e-06,\n",
              "   'mean_squared_error': 1.1841458685182613e-10,\n",
              "   'percentError': 0.20619615985482864,\n",
              "   'r2_score': -3.31544152048894},\n",
              "  'fit_interval': {'mean_absolute_error': 0.0,\n",
              "   'mean_squared_error': 0.0,\n",
              "   'percentError': 0,\n",
              "   'r2_score': 1.0},\n",
              "  'gps_week': {'mean_absolute_error': 0.39115298683597755,\n",
              "   'mean_squared_error': 0.16229253023718665,\n",
              "   'percentError': 0.01978517889913898,\n",
              "   'r2_score': 0.0},\n",
              "  'inclination': {'mean_absolute_error': 0.000116328979772784,\n",
              "   'mean_squared_error': 4.960056682735501e-08,\n",
              "   'percentError': 0.012116779043542695,\n",
              "   'r2_score': -58.69187976957085},\n",
              "  'inclination_rate': {'mean_absolute_error': 4.757599555745035e-10,\n",
              "   'mean_squared_error': 2.8675666999094115e-19,\n",
              "   'percentError': -1736.1059733342236,\n",
              "   'r2_score': -5.431124226256672},\n",
              "  'iodc': {'mean_absolute_error': 22.51654317328106,\n",
              "   'mean_squared_error': 754.9243460876089,\n",
              "   'percentError': 64.01642036371345,\n",
              "   'r2_score': 0.43373244613122575},\n",
              "  'iode': {'mean_absolute_error': 22.662644155349064,\n",
              "   'mean_squared_error': 767.1238488127751,\n",
              "   'percentError': 62.42630176495546,\n",
              "   'r2_score': 0.42458161849876574},\n",
              "  'l2_p_data_flag': {'mean_absolute_error': 0.0,\n",
              "   'mean_squared_error': 0.0,\n",
              "   'percentError': 0,\n",
              "   'r2_score': 1.0},\n",
              "  'mean_anomaly': {'mean_absolute_error': 0.7394930398683361,\n",
              "   'mean_squared_error': 0.892593891248659,\n",
              "   'percentError': -23.508614369800586,\n",
              "   'r2_score': 0.6300821170520262},\n",
              "  'mean_motion': {'mean_absolute_error': 3.514738945701118e-10,\n",
              "   'mean_squared_error': 2.0123651952294132e-19,\n",
              "   'percentError': 7.438083357198296,\n",
              "   'r2_score': -4.9538614202815605},\n",
              "  'omega': {'mean_absolute_error': 0.0041689648335426635,\n",
              "   'mean_squared_error': 3.362099378105998e-05,\n",
              "   'percentError': -0.14414548222215476,\n",
              "   'r2_score': -108.36727873863666},\n",
              "  'sqrt_semi_major_axis': {'mean_absolute_error': 0.27301448478938256,\n",
              "   'mean_squared_error': 1.7278612687463184,\n",
              "   'percentError': 0.005297475915404897,\n",
              "   'r2_score': -188750.29257448044},\n",
              "  'sv_accuracy': {'mean_absolute_error': 0.03388596056355393,\n",
              "   'mean_squared_error': 0.0017804002308813584,\n",
              "   'percentError': 0,\n",
              "   'r2_score': 0.0},\n",
              "  'sv_clock_bias': {'mean_absolute_error': 3.587771534364654e-08,\n",
              "   'mean_squared_error': 1.944622356540519e-15,\n",
              "   'percentError': 0.029871879792232964,\n",
              "   'r2_score': 0.9976138636252606},\n",
              "  'sv_clock_drift': {'mean_absolute_error': 6.219872589818973e-14,\n",
              "   'mean_squared_error': 2.4921559731728026e-26,\n",
              "   'percentError': 0.8563500645187307,\n",
              "   'r2_score': -8.56454508749541},\n",
              "  'sv_clock_drift_rate': {'mean_absolute_error': 0.0,\n",
              "   'mean_squared_error': 0.0,\n",
              "   'percentError': 0,\n",
              "   'r2_score': 1.0},\n",
              "  'sv_health': {'mean_absolute_error': 0.0,\n",
              "   'mean_squared_error': 0.0,\n",
              "   'percentError': 0,\n",
              "   'r2_score': 1.0},\n",
              "  't_tx': {'mean_absolute_error': 22561.323865372622,\n",
              "   'mean_squared_error': 919416797.8920363,\n",
              "   'percentError': 45.63326342184579,\n",
              "   'r2_score': 0.9403142216125328},\n",
              "  'tgd': {'mean_absolute_error': 0.0,\n",
              "   'mean_squared_error': 0.0,\n",
              "   'percentError': 0.0,\n",
              "   'r2_score': 1.0},\n",
              "  'time_of_ephemeris': {'mean_absolute_error': 24169.98214677575,\n",
              "   'mean_squared_error': 978647546.6260543,\n",
              "   'percentError': 37.16565774850612,\n",
              "   'r2_score': 0.9367300815202328}},\n",
              " 11: {'OMEGA': {'mean_absolute_error': 0.004903466913379352,\n",
              "   'mean_squared_error': 4.899315251556913e-05,\n",
              "   'percentError': 5.1747699994583725,\n",
              "   'r2_score': -39.30928711738571},\n",
              "  'OMEGA_dot': {'mean_absolute_error': 2.952183087390226e-10,\n",
              "   'mean_squared_error': 1.4573195832935502e-19,\n",
              "   'percentError': -3.365677840395085,\n",
              "   'r2_score': -0.8534998123300714},\n",
              "  'codes': {'mean_absolute_error': 0.0,\n",
              "   'mean_squared_error': 0.0,\n",
              "   'percentError': 0.0,\n",
              "   'r2_score': 1.0},\n",
              "  'correction_inclination_cosine': {'mean_absolute_error': 8.762921190393312e-08,\n",
              "   'mean_squared_error': 1.2890990274640811e-14,\n",
              "   'percentError': -4.843054138477539,\n",
              "   'r2_score': 0.8049567222715907},\n",
              "  'correction_inclination_sine': {'mean_absolute_error': 1.3226142612997504e-07,\n",
              "   'mean_squared_error': 2.2022390989898436e-14,\n",
              "   'percentError': -8.08382273537105,\n",
              "   'r2_score': 0.2582968467253328},\n",
              "  'correction_latitude_cosine': {'mean_absolute_error': 4.661759449340649e-06,\n",
              "   'mean_squared_error': 2.502244812176391e-11,\n",
              "   'percentError': 300.7675481569878,\n",
              "   'r2_score': -11.927163673657693},\n",
              "  'correction_latitude_sine': {'mean_absolute_error': 5.118106043227396e-06,\n",
              "   'mean_squared_error': 4.091243449108289e-11,\n",
              "   'percentError': 70.20355851251509,\n",
              "   'r2_score': -8.232351140740233},\n",
              "  'correction_radius_cosine': {'mean_absolute_error': 99.6581048596471,\n",
              "   'mean_squared_error': 15463.181091542334,\n",
              "   'percentError': 51.662401522109974,\n",
              "   'r2_score': -8.550781410148224},\n",
              "  'correction_radius_sine': {'mean_absolute_error': 90.03025604123565,\n",
              "   'mean_squared_error': 9302.37096731866,\n",
              "   'percentError': -1574.8216903081045,\n",
              "   'r2_score': -12.247243872441997},\n",
              "  'essentricity': {'mean_absolute_error': 8.196548044895011e-06,\n",
              "   'mean_squared_error': 9.460403527772007e-11,\n",
              "   'percentError': 0.04853901340316083,\n",
              "   'r2_score': -2.4807877068584565},\n",
              "  'fit_interval': {'mean_absolute_error': 0.0,\n",
              "   'mean_squared_error': 0.0,\n",
              "   'percentError': 0,\n",
              "   'r2_score': 1.0},\n",
              "  'gps_week': {'mean_absolute_error': 0.3290012802976974,\n",
              "   'mean_squared_error': 0.11244568157697044,\n",
              "   'percentError': 0.016641440581572957,\n",
              "   'r2_score': 0.0},\n",
              "  'inclination': {'mean_absolute_error': 4.1754149521949164e-05,\n",
              "   'mean_squared_error': 3.122629011253971e-09,\n",
              "   'percentError': 0.004621611201252161,\n",
              "   'r2_score': -0.7290276808699512},\n",
              "  'inclination_rate': {'mean_absolute_error': 3.243520348667247e-10,\n",
              "   'mean_squared_error': 1.5215395805411358e-19,\n",
              "   'percentError': 77.23430079273479,\n",
              "   'r2_score': -4.001729101161547},\n",
              "  'iodc': {'mean_absolute_error': 23.31235023658905,\n",
              "   'mean_squared_error': 938.8017050510026,\n",
              "   'percentError': 114.01159116682955,\n",
              "   'r2_score': 0.1997071424603517},\n",
              "  'iode': {'mean_absolute_error': 22.883147312462693,\n",
              "   'mean_squared_error': 887.406459748179,\n",
              "   'percentError': 184.65377739948778,\n",
              "   'r2_score': 0.24351964035639395},\n",
              "  'l2_p_data_flag': {'mean_absolute_error': 0.0,\n",
              "   'mean_squared_error': 0.0,\n",
              "   'percentError': 0,\n",
              "   'r2_score': 1.0},\n",
              "  'mean_anomaly': {'mean_absolute_error': 0.23443632008453838,\n",
              "   'mean_squared_error': 1.460035149187092,\n",
              "   'percentError': -7.394518647194828,\n",
              "   'r2_score': 0.5498284834514172},\n",
              "  'mean_motion': {'mean_absolute_error': 1.8828448241337473e-10,\n",
              "   'mean_squared_error': 6.136276808939401e-20,\n",
              "   'percentError': 3.1810664714981125,\n",
              "   'r2_score': -2.5304643435240126},\n",
              "  'omega': {'mean_absolute_error': 0.0002146795011069723,\n",
              "   'mean_squared_error': 7.21608526281798e-08,\n",
              "   'percentError': 0.0124620599524475,\n",
              "   'r2_score': -0.1965008349902162},\n",
              "  'sqrt_semi_major_axis': {'mean_absolute_error': 0.006340645141588336,\n",
              "   'mean_squared_error': 4.513739402712772e-05,\n",
              "   'percentError': 0.00012302992314609999,\n",
              "   'r2_score': -15.873504521911727},\n",
              "  'sv_accuracy': {'mean_absolute_error': 0.212427819308617,\n",
              "   'mean_squared_error': 0.07254239300732561,\n",
              "   'percentError': 40.60956783220414,\n",
              "   'r2_score': 0.6520828651161819},\n",
              "  'sv_clock_bias': {'mean_absolute_error': 7.964497869585672e-09,\n",
              "   'mean_squared_error': 7.025564481475122e-17,\n",
              "   'percentError': -0.0010933458803085723,\n",
              "   'r2_score': 0.9983629738855594},\n",
              "  'sv_clock_drift': {'mean_absolute_error': 6.455106485412917e-14,\n",
              "   'mean_squared_error': 4.233635102895277e-27,\n",
              "   'percentError': -3.785314474272757,\n",
              "   'r2_score': -1.0380843066944496e+29},\n",
              "  'sv_clock_drift_rate': {'mean_absolute_error': 0.0,\n",
              "   'mean_squared_error': 0.0,\n",
              "   'percentError': 0,\n",
              "   'r2_score': 1.0},\n",
              "  'sv_health': {'mean_absolute_error': 0.0,\n",
              "   'mean_squared_error': 0.0,\n",
              "   'percentError': 0,\n",
              "   'r2_score': 1.0},\n",
              "  't_tx': {'mean_absolute_error': 25115.029643290127,\n",
              "   'mean_squared_error': 1235261442.9956663,\n",
              "   'percentError': 29.00651395443226,\n",
              "   'r2_score': 0.9193643380453711},\n",
              "  'tgd': {'mean_absolute_error': 0.0,\n",
              "   'mean_squared_error': 0.0,\n",
              "   'percentError': 0.0,\n",
              "   'r2_score': 1.0},\n",
              "  'time_of_ephemeris': {'mean_absolute_error': 25950.20019973188,\n",
              "   'mean_squared_error': 1275923352.0181177,\n",
              "   'percentError': 27.144061709869582,\n",
              "   'r2_score': 0.9168557554406884}},\n",
              " 12: {'OMEGA': {'mean_absolute_error': 0.0036672134233817636,\n",
              "   'mean_squared_error': 2.3248189061220033e-05,\n",
              "   'percentError': -0.23975690319612217,\n",
              "   'r2_score': -20.766589863942077},\n",
              "  'OMEGA_dot': {'mean_absolute_error': 2.7884290262240417e-10,\n",
              "   'mean_squared_error': 1.317778664181726e-19,\n",
              "   'percentError': -3.5016033773956634,\n",
              "   'r2_score': -3.4233981735105132},\n",
              "  'codes': {'mean_absolute_error': 0.0,\n",
              "   'mean_squared_error': 0.0,\n",
              "   'percentError': 0.0,\n",
              "   'r2_score': 1.0},\n",
              "  'correction_inclination_cosine': {'mean_absolute_error': 6.445302421139593e-08,\n",
              "   'mean_squared_error': 5.539578558233582e-15,\n",
              "   'percentError': -34.86713086175783,\n",
              "   'r2_score': 0.5773178027705186},\n",
              "  'correction_inclination_sine': {'mean_absolute_error': 2.7637506811632112e-08,\n",
              "   'mean_squared_error': 1.16263003443857e-15,\n",
              "   'percentError': -1.821272994023363,\n",
              "   'r2_score': 0.8424686349129813},\n",
              "  'correction_latitude_cosine': {'mean_absolute_error': 7.421322450215506e-06,\n",
              "   'mean_squared_error': 6.786018713529831e-11,\n",
              "   'percentError': -56.87388170929085,\n",
              "   'r2_score': -14.205055680297766},\n",
              "  'correction_latitude_sine': {'mean_absolute_error': 3.0591370922872445e-06,\n",
              "   'mean_squared_error': 2.5025916062499435e-11,\n",
              "   'percentError': 57.66639140982145,\n",
              "   'r2_score': -10.69089586770331},\n",
              "  'correction_radius_cosine': {'mean_absolute_error': 57.287823350679844,\n",
              "   'mean_squared_error': 8574.845445774155,\n",
              "   'percentError': 20.3326101731485,\n",
              "   'r2_score': -9.706510134031305},\n",
              "  'correction_radius_sine': {'mean_absolute_error': 144.04709270436155,\n",
              "   'mean_squared_error': 25390.403179362318,\n",
              "   'percentError': -48.511900576259826,\n",
              "   'r2_score': -14.262267912199768},\n",
              "  'essentricity': {'mean_absolute_error': 1.2388010226359111e-05,\n",
              "   'mean_squared_error': 2.636471501555594e-09,\n",
              "   'percentError': 0.18711306117452026,\n",
              "   'r2_score': -158.95078716290914},\n",
              "  'fit_interval': {'mean_absolute_error': 0.0,\n",
              "   'mean_squared_error': 0.0,\n",
              "   'percentError': 0,\n",
              "   'r2_score': 1.0},\n",
              "  'gps_week': {'mean_absolute_error': 0.38252289218319546,\n",
              "   'mean_squared_error': 1.3153628866769838,\n",
              "   'percentError': 0.019348654131674026,\n",
              "   'r2_score': 0.0},\n",
              "  'inclination': {'mean_absolute_error': 0.00011170474896055314,\n",
              "   'mean_squared_error': 6.30845517562356e-08,\n",
              "   'percentError': 0.011308474032727892,\n",
              "   'r2_score': -45.629687247286},\n",
              "  'inclination_rate': {'mean_absolute_error': 3.393263478602556e-10,\n",
              "   'mean_squared_error': 1.3710739600490304e-19,\n",
              "   'percentError': -188.40565587934674,\n",
              "   'r2_score': -5.467584659652131},\n",
              "  'iodc': {'mean_absolute_error': 34.40245059584989,\n",
              "   'mean_squared_error': 1464.1093369602193,\n",
              "   'percentError': 221.34862204646743,\n",
              "   'r2_score': -0.3272273539400361},\n",
              "  'iode': {'mean_absolute_error': 33.097300955565096,\n",
              "   'mean_squared_error': 1360.7014342263578,\n",
              "   'percentError': 237.80060976803247,\n",
              "   'r2_score': -0.2334872256194962},\n",
              "  'l2_p_data_flag': {'mean_absolute_error': 0.0,\n",
              "   'mean_squared_error': 0.0,\n",
              "   'percentError': 0,\n",
              "   'r2_score': 1.0},\n",
              "  'mean_anomaly': {'mean_absolute_error': 1.7758036487043922,\n",
              "   'mean_squared_error': 3.500096567165617,\n",
              "   'percentError': 0.22999971766057536,\n",
              "   'r2_score': 0.2183251922279329},\n",
              "  'mean_motion': {'mean_absolute_error': 2.7358083903252084e-10,\n",
              "   'mean_squared_error': 1.234754124691387e-19,\n",
              "   'percentError': 6.724613070938099,\n",
              "   'r2_score': -5.905716584648027},\n",
              "  'omega': {'mean_absolute_error': 0.0012125893757859653,\n",
              "   'mean_squared_error': 2.2881503593561996e-05,\n",
              "   'percentError': 0.13356324472522074,\n",
              "   'r2_score': -386.0350390758577},\n",
              "  'sqrt_semi_major_axis': {'mean_absolute_error': 0.3756164858312418,\n",
              "   'mean_squared_error': 2.8166328360826807,\n",
              "   'percentError': 0.007288312841140715,\n",
              "   'r2_score': -407710.0994157164},\n",
              "  'sv_accuracy': {'mean_absolute_error': 0.34011035381219795,\n",
              "   'mean_squared_error': 0.149009421340095,\n",
              "   'percentError': 64.65978277488965,\n",
              "   'r2_score': 0.03363007630908965},\n",
              "  'sv_clock_bias': {'mean_absolute_error': 2.518621780163026e-08,\n",
              "   'mean_squared_error': 1.1414108928805042e-14,\n",
              "   'percentError': 0.006948076954518324,\n",
              "   'r2_score': 0.7738862001351001},\n",
              "  'sv_clock_drift': {'mean_absolute_error': 6.966226002190493e-15,\n",
              "   'mean_squared_error': 8.389589127681147e-29,\n",
              "   'percentError': -0.4085038128609606,\n",
              "   'r2_score': -2.057121268458928e+27},\n",
              "  'sv_clock_drift_rate': {'mean_absolute_error': 0.0,\n",
              "   'mean_squared_error': 0.0,\n",
              "   'percentError': 0,\n",
              "   'r2_score': 1.0},\n",
              "  'sv_health': {'mean_absolute_error': 0.0,\n",
              "   'mean_squared_error': 0.0,\n",
              "   'percentError': 0,\n",
              "   'r2_score': 1.0},\n",
              "  't_tx': {'mean_absolute_error': 60944.99771283133,\n",
              "   'mean_squared_error': 6563503760.78438,\n",
              "   'percentError': 154953.8253549982,\n",
              "   'r2_score': 0.6247389448510688},\n",
              "  'tgd': {'mean_absolute_error': 0.0,\n",
              "   'mean_squared_error': 0.0,\n",
              "   'percentError': 0.0,\n",
              "   'r2_score': 1.0},\n",
              "  'time_of_ephemeris': {'mean_absolute_error': 19164.90298927023,\n",
              "   'mean_squared_error': 635858043.9579043,\n",
              "   'percentError': 32.01032200233522,\n",
              "   'r2_score': 0.9633651102674492}},\n",
              " 13: {'OMEGA': {'mean_absolute_error': 2.541078380691296,\n",
              "   'mean_squared_error': 6.690233351501432,\n",
              "   'percentError': 93.56078305754068,\n",
              "   'r2_score': -6264174.547802791},\n",
              "  'OMEGA_dot': {'mean_absolute_error': 2.302863039206307e-10,\n",
              "   'mean_squared_error': 8.33833746416976e-20,\n",
              "   'percentError': -2.9447381016426775,\n",
              "   'r2_score': -6.849543191929008},\n",
              "  'codes': {'mean_absolute_error': 0.0,\n",
              "   'mean_squared_error': 0.0,\n",
              "   'percentError': 0.0,\n",
              "   'r2_score': 1.0},\n",
              "  'correction_inclination_cosine': {'mean_absolute_error': 3.4468740136531e-08,\n",
              "   'mean_squared_error': 1.573046506256872e-15,\n",
              "   'percentError': -86.24208477309978,\n",
              "   'r2_score': -0.6276817215083341},\n",
              "  'correction_inclination_sine': {'mean_absolute_error': 5.7319222968998283e-08,\n",
              "   'mean_squared_error': 4.090424609961173e-15,\n",
              "   'percentError': -8.897926959023584,\n",
              "   'r2_score': -1.765975172252534},\n",
              "  'correction_latitude_cosine': {'mean_absolute_error': 1.8132406812986004e-06,\n",
              "   'mean_squared_error': 3.879188704800063e-12,\n",
              "   'percentError': 63.09229601625074,\n",
              "   'r2_score': -9.714707551882958},\n",
              "  'correction_latitude_sine': {'mean_absolute_error': 5.4945270083968114e-06,\n",
              "   'mean_squared_error': 4.044356321135385e-11,\n",
              "   'percentError': 50.44628612025617,\n",
              "   'r2_score': -9.001544265147771},\n",
              "  'correction_radius_cosine': {'mean_absolute_error': 109.07526100281899,\n",
              "   'mean_squared_error': 15741.700912100285,\n",
              "   'percentError': 67.80419182513542,\n",
              "   'r2_score': -9.365258864431917},\n",
              "  'correction_radius_sine': {'mean_absolute_error': 34.939110760986246,\n",
              "   'mean_squared_error': 1460.8146170280422,\n",
              "   'percentError': 62.549381387892055,\n",
              "   'r2_score': -8.878429195675114},\n",
              "  'essentricity': {'mean_absolute_error': 1.2206149523433934e-05,\n",
              "   'mean_squared_error': 1.9437251584226938e-10,\n",
              "   'percentError': 0.3354162170623369,\n",
              "   'r2_score': -28.069459417385904},\n",
              "  'fit_interval': {'mean_absolute_error': 0.0,\n",
              "   'mean_squared_error': 0.0,\n",
              "   'percentError': 0,\n",
              "   'r2_score': 1.0},\n",
              "  'gps_week': {'mean_absolute_error': 1.135339380547392,\n",
              "   'mean_squared_error': 11.558453530612606,\n",
              "   'percentError': 0.05742738394271077,\n",
              "   'r2_score': 0.0},\n",
              "  'inclination': {'mean_absolute_error': 0.0001392403729193174,\n",
              "   'mean_squared_error': 3.174574719199113e-08,\n",
              "   'percentError': 0.014366262876045876,\n",
              "   'r2_score': -82.61048320611266},\n",
              "  'inclination_rate': {'mean_absolute_error': 4.785720343151271e-10,\n",
              "   'mean_squared_error': 2.5715445926829555e-19,\n",
              "   'percentError': 246.8594127122011,\n",
              "   'r2_score': -22.347742855806093},\n",
              "  'iodc': {'mean_absolute_error': 38.01705490863817,\n",
              "   'mean_squared_error': 2526.8789616124227,\n",
              "   'percentError': 195.0885607600808,\n",
              "   'r2_score': -0.844532940437444},\n",
              "  'iode': {'mean_absolute_error': 36.512867302376854,\n",
              "   'mean_squared_error': 2340.8887314269355,\n",
              "   'percentError': 139.05195331996964,\n",
              "   'r2_score': -0.708766601254438},\n",
              "  'l2_p_data_flag': {'mean_absolute_error': 0.0,\n",
              "   'mean_squared_error': 0.0,\n",
              "   'percentError': 0,\n",
              "   'r2_score': 1.0},\n",
              "  'mean_anomaly': {'mean_absolute_error': 1.9003293394754224,\n",
              "   'mean_squared_error': 4.471321443204501,\n",
              "   'percentError': 125.94735409275634,\n",
              "   'r2_score': -0.39107972617726405},\n",
              "  'mean_motion': {'mean_absolute_error': 5.418100440522605e-10,\n",
              "   'mean_squared_error': 3.8844683292035556e-19,\n",
              "   'percentError': 12.848145922685882,\n",
              "   'r2_score': -13.176413956486279},\n",
              "  'omega': {'mean_absolute_error': 0.0004468819462920326,\n",
              "   'mean_squared_error': 2.983456823183629e-07,\n",
              "   'percentError': 0.026722939877422084,\n",
              "   'r2_score': 0.6749471402949052},\n",
              "  'sqrt_semi_major_axis': {'mean_absolute_error': 0.08306085671686864,\n",
              "   'mean_squared_error': 0.1527321364352589,\n",
              "   'percentError': 0.0016116835441743354,\n",
              "   'r2_score': -7765.686830785013},\n",
              "  'sv_accuracy': {'mean_absolute_error': 0.0784044135417736,\n",
              "   'mean_squared_error': 0.010258872284434246,\n",
              "   'percentError': 0,\n",
              "   'r2_score': 0.0},\n",
              "  'sv_clock_bias': {'mean_absolute_error': 6.415901340412439e-09,\n",
              "   'mean_squared_error': 6.809848391787981e-17,\n",
              "   'percentError': -0.006796999314437864,\n",
              "   'r2_score': 0.9620840212213754},\n",
              "  'sv_clock_drift': {'mean_absolute_error': 4.0871864980574855e-14,\n",
              "   'mean_squared_error': 2.1078205516006935e-27,\n",
              "   'percentError': -11.983757545336726,\n",
              "   'r2_score': 0.0},\n",
              "  'sv_clock_drift_rate': {'mean_absolute_error': 0.0,\n",
              "   'mean_squared_error': 0.0,\n",
              "   'percentError': 0,\n",
              "   'r2_score': 1.0},\n",
              "  'sv_health': {'mean_absolute_error': 0.0,\n",
              "   'mean_squared_error': 0.0,\n",
              "   'percentError': 0,\n",
              "   'r2_score': 1.0},\n",
              "  't_tx': {'mean_absolute_error': 86044.8852442712,\n",
              "   'mean_squared_error': 12596001898.481054,\n",
              "   'percentError': 160569.36748309486,\n",
              "   'r2_score': 0.26836697583831826},\n",
              "  'tgd': {'mean_absolute_error': 0.0,\n",
              "   'mean_squared_error': 0.0,\n",
              "   'percentError': 0.0,\n",
              "   'r2_score': 1.0},\n",
              "  'time_of_ephemeris': {'mean_absolute_error': 278807.58380975743,\n",
              "   'mean_squared_error': 1646919501942.489,\n",
              "   'percentError': 223.09985751242542,\n",
              "   'r2_score': -95.10168121020762}},\n",
              " 14: {'OMEGA': {'mean_absolute_error': 2.584368169838112,\n",
              "   'mean_squared_error': 6.874353197549547,\n",
              "   'percentError': 96.59896419144174,\n",
              "   'r2_score': -7542562.507191747},\n",
              "  'OMEGA_dot': {'mean_absolute_error': 2.9067022311661625e-10,\n",
              "   'mean_squared_error': 1.1806268843864432e-19,\n",
              "   'percentError': -3.699858818814691,\n",
              "   'r2_score': -1.7466658481091497},\n",
              "  'codes': {'mean_absolute_error': 0.0,\n",
              "   'mean_squared_error': 0.0,\n",
              "   'percentError': 0.0,\n",
              "   'r2_score': 1.0},\n",
              "  'correction_inclination_cosine': {'mean_absolute_error': 9.884785373866127e-08,\n",
              "   'mean_squared_error': 1.223225120233371e-14,\n",
              "   'percentError': -27.978158249922075,\n",
              "   'r2_score': 0.6092537199141899},\n",
              "  'correction_inclination_sine': {'mean_absolute_error': 5.454914035184469e-08,\n",
              "   'mean_squared_error': 4.142184595703632e-15,\n",
              "   'percentError': -98.49168623711871,\n",
              "   'r2_score': 0.6180761375909017},\n",
              "  'correction_latitude_cosine': {'mean_absolute_error': 1.3960553396630997e-06,\n",
              "   'mean_squared_error': 2.1646161064460653e-12,\n",
              "   'percentError': 52.31587649482587,\n",
              "   'r2_score': -5.907574403118585},\n",
              "  'correction_latitude_sine': {'mean_absolute_error': 5.492787074485994e-06,\n",
              "   'mean_squared_error': 3.9432071889719144e-11,\n",
              "   'percentError': 50.84153734955275,\n",
              "   'r2_score': -10.720468567369911},\n",
              "  'correction_radius_cosine': {'mean_absolute_error': 110.27975291114481,\n",
              "   'mean_squared_error': 15670.065860596193,\n",
              "   'percentError': 68.06235738462938,\n",
              "   'r2_score': -11.51357580554614},\n",
              "  'correction_radius_sine': {'mean_absolute_error': 27.713508062755764,\n",
              "   'mean_squared_error': 853.578071947268,\n",
              "   'percentError': 54.2430312946873,\n",
              "   'r2_score': -6.07571859958966},\n",
              "  'essentricity': {'mean_absolute_error': 1.2841257949207258e-05,\n",
              "   'mean_squared_error': 1.943022917563114e-10,\n",
              "   'percentError': 0.13874375869467365,\n",
              "   'r2_score': -72.75937132957102},\n",
              "  'fit_interval': {'mean_absolute_error': 0.0,\n",
              "   'mean_squared_error': 0.0,\n",
              "   'percentError': 0,\n",
              "   'r2_score': 1.0},\n",
              "  'gps_week': {'mean_absolute_error': 0.9539581920092857,\n",
              "   'mean_squared_error': 0.9247818686487911,\n",
              "   'percentError': 0.04825281699591733,\n",
              "   'r2_score': 0.0},\n",
              "  'inclination': {'mean_absolute_error': 0.00012544096379450028,\n",
              "   'mean_squared_error': 2.0589005935756252e-08,\n",
              "   'percentError': 0.013043374504252032,\n",
              "   'r2_score': -62.99178249782074},\n",
              "  'inclination_rate': {'mean_absolute_error': 5.001935524875357e-10,\n",
              "   'mean_squared_error': 2.7253520784350104e-19,\n",
              "   'percentError': -336.51731374353716,\n",
              "   'r2_score': -22.615792055702528},\n",
              "  'iodc': {'mean_absolute_error': 42.32794940646226,\n",
              "   'mean_squared_error': 2874.6754343315492,\n",
              "   'percentError': 87.86844658667184,\n",
              "   'r2_score': -0.6789687235133828},\n",
              "  'iode': {'mean_absolute_error': 41.37352034593456,\n",
              "   'mean_squared_error': 2818.361214266509,\n",
              "   'percentError': 85.34805954097116,\n",
              "   'r2_score': -0.6460781185257494},\n",
              "  'l2_p_data_flag': {'mean_absolute_error': 0.0,\n",
              "   'mean_squared_error': 0.0,\n",
              "   'percentError': 0,\n",
              "   'r2_score': 1.0},\n",
              "  'mean_anomaly': {'mean_absolute_error': 1.5137629492893865,\n",
              "   'mean_squared_error': 2.8180897078855685,\n",
              "   'percentError': -25.073983881473293,\n",
              "   'r2_score': 0.1983917651879049},\n",
              "  'mean_motion': {'mean_absolute_error': 5.536926961057767e-10,\n",
              "   'mean_squared_error': 3.8934618705413287e-19,\n",
              "   'percentError': 12.831206623647562,\n",
              "   'r2_score': -10.751105209026973},\n",
              "  'omega': {'mean_absolute_error': 0.0004680096841796509,\n",
              "   'mean_squared_error': 2.917133831238801e-07,\n",
              "   'percentError': -0.02397205607402608,\n",
              "   'r2_score': -3.942174324504909},\n",
              "  'sqrt_semi_major_axis': {'mean_absolute_error': 0.005011895853318425,\n",
              "   'mean_squared_error': 4.5604234033103693e-05,\n",
              "   'percentError': 9.724806638699695e-05,\n",
              "   'r2_score': -1.2620639550341655},\n",
              "  'sv_accuracy': {'mean_absolute_error': 0.0,\n",
              "   'mean_squared_error': 0.0,\n",
              "   'percentError': 0,\n",
              "   'r2_score': 1.0},\n",
              "  'sv_clock_bias': {'mean_absolute_error': 2.6989425377111382e-09,\n",
              "   'mean_squared_error': 1.2079427325057656e-17,\n",
              "   'percentError': -0.0030132806279846336,\n",
              "   'r2_score': 0.9986111467631807},\n",
              "  'sv_clock_drift': {'mean_absolute_error': 1.4232640418396866e-15,\n",
              "   'mean_squared_error': 2.8103439570182352e-30,\n",
              "   'percentError': -0.1788451843884362,\n",
              "   'r2_score': -2.7563773327550993e+26},\n",
              "  'sv_clock_drift_rate': {'mean_absolute_error': 0.0,\n",
              "   'mean_squared_error': 0.0,\n",
              "   'percentError': 0,\n",
              "   'r2_score': 1.0},\n",
              "  'sv_health': {'mean_absolute_error': 0.0,\n",
              "   'mean_squared_error': 0.0,\n",
              "   'percentError': 0,\n",
              "   'r2_score': 1.0},\n",
              "  't_tx': {'mean_absolute_error': 26710.667661569656,\n",
              "   'mean_squared_error': 1364047896.7520807,\n",
              "   'percentError': 52.29787995627983,\n",
              "   'r2_score': 0.9045486884508835},\n",
              "  'tgd': {'mean_absolute_error': 0.0,\n",
              "   'mean_squared_error': 0.0,\n",
              "   'percentError': 0.0,\n",
              "   'r2_score': 1.0},\n",
              "  'time_of_ephemeris': {'mean_absolute_error': 28657.530563301898,\n",
              "   'mean_squared_error': 1453901033.0059597,\n",
              "   'percentError': 47.25968273557923,\n",
              "   'r2_score': 0.8986563006748834}},\n",
              " 15: {'OMEGA': {'mean_absolute_error': 0.003918519540439901,\n",
              "   'mean_squared_error': 2.363983705927348e-05,\n",
              "   'percentError': 0.15541587190345046,\n",
              "   'r2_score': -22.825693757425118},\n",
              "  'OMEGA_dot': {'mean_absolute_error': 2.847064809773731e-10,\n",
              "   'mean_squared_error': 1.0778446100607901e-19,\n",
              "   'percentError': -3.414950855538485,\n",
              "   'r2_score': -9.004705628707212},\n",
              "  'codes': {'mean_absolute_error': 0.0,\n",
              "   'mean_squared_error': 0.0,\n",
              "   'percentError': 0.0,\n",
              "   'r2_score': 1.0},\n",
              "  'correction_inclination_cosine': {'mean_absolute_error': 4.701172717657462e-08,\n",
              "   'mean_squared_error': 3.955520069222124e-15,\n",
              "   'percentError': 12.031786279883327,\n",
              "   'r2_score': 0.8113970411138759},\n",
              "  'correction_inclination_sine': {'mean_absolute_error': 6.083029420320943e-08,\n",
              "   'mean_squared_error': 5.0601162040451144e-15,\n",
              "   'percentError': -190.87047209398125,\n",
              "   'r2_score': -0.1730138966084378},\n",
              "  'correction_latitude_cosine': {'mean_absolute_error': 7.677495243658968e-07,\n",
              "   'mean_squared_error': 7.052010325759738e-13,\n",
              "   'percentError': 39.80103476474478,\n",
              "   'r2_score': -5.720596059342868},\n",
              "  'correction_latitude_sine': {'mean_absolute_error': 5.419731700626911e-06,\n",
              "   'mean_squared_error': 3.778327635671594e-11,\n",
              "   'percentError': 51.412781635819684,\n",
              "   'r2_score': -10.459569375931554},\n",
              "  'correction_radius_cosine': {'mean_absolute_error': 105.82050898564826,\n",
              "   'mean_squared_error': 14323.438534038225,\n",
              "   'percentError': 71.3992831703438,\n",
              "   'r2_score': -11.323493379135986},\n",
              "  'correction_radius_sine': {'mean_absolute_error': 10.318018854702466,\n",
              "   'mean_squared_error': 172.95350411042966,\n",
              "   'percentError': 33.55096213336175,\n",
              "   'r2_score': -3.006194803485278},\n",
              "  'essentricity': {'mean_absolute_error': 3.0742721494133555e-06,\n",
              "   'mean_squared_error': 1.0500761378910348e-11,\n",
              "   'percentError': 0.030836328761236736,\n",
              "   'r2_score': 0.7362845363057244},\n",
              "  'fit_interval': {'mean_absolute_error': 0.0,\n",
              "   'mean_squared_error': 0.0,\n",
              "   'percentError': 0,\n",
              "   'r2_score': 1.0},\n",
              "  'gps_week': {'mean_absolute_error': 0.7382506038492833,\n",
              "   'mean_squared_error': 0.5889582282887766,\n",
              "   'percentError': 0.03734196276425308,\n",
              "   'r2_score': 0.0},\n",
              "  'inclination': {'mean_absolute_error': 0.00010696533768561611,\n",
              "   'mean_squared_error': 1.5285133268617097e-08,\n",
              "   'percentError': 0.011517081076641062,\n",
              "   'r2_score': -76.9483090119422},\n",
              "  'inclination_rate': {'mean_absolute_error': 4.1393985471243707e-10,\n",
              "   'mean_squared_error': 2.0336540094501396e-19,\n",
              "   'percentError': 322.16825423336695,\n",
              "   'r2_score': -9.834252627016003},\n",
              "  'iodc': {'mean_absolute_error': 23.888310317771197,\n",
              "   'mean_squared_error': 1001.8165402673019,\n",
              "   'percentError': 35.50877658833249,\n",
              "   'r2_score': -1.2483287409689479},\n",
              "  'iode': {'mean_absolute_error': 24.61335691055653,\n",
              "   'mean_squared_error': 1053.8752099618703,\n",
              "   'percentError': 36.60355867234974,\n",
              "   'r2_score': -1.365161512825238},\n",
              "  'l2_p_data_flag': {'mean_absolute_error': 0.0,\n",
              "   'mean_squared_error': 0.0,\n",
              "   'percentError': 0,\n",
              "   'r2_score': 1.0},\n",
              "  'mean_anomaly': {'mean_absolute_error': 0.0006090405724814305,\n",
              "   'mean_squared_error': 4.070988389152115e-07,\n",
              "   'percentError': -0.10250191957212071,\n",
              "   'r2_score': 0.9999997499087706},\n",
              "  'mean_motion': {'mean_absolute_error': 5.539509498997185e-10,\n",
              "   'mean_squared_error': 3.7323981343914318e-19,\n",
              "   'percentError': 10.808165977496543,\n",
              "   'r2_score': -16.61394569901706},\n",
              "  'omega': {'mean_absolute_error': 0.0007682593132431867,\n",
              "   'mean_squared_error': 7.004762892406207e-07,\n",
              "   'percentError': 0.1199972700075888,\n",
              "   'r2_score': -0.46886365087638504},\n",
              "  'sqrt_semi_major_axis': {'mean_absolute_error': 0.02875580783789441,\n",
              "   'mean_squared_error': 0.0009454675959407456,\n",
              "   'percentError': 0.0005579690931759478,\n",
              "   'r2_score': -46.86173002744779},\n",
              "  'sv_accuracy': {'mean_absolute_error': 0.23099356059554296,\n",
              "   'mean_squared_error': 0.08340260435516483,\n",
              "   'percentError': 51.60415881501679,\n",
              "   'r2_score': 0.5402431434921537},\n",
              "  'sv_clock_bias': {'mean_absolute_error': 1.1442023788425454e-08,\n",
              "   'mean_squared_error': 1.5436283098401456e-16,\n",
              "   'percentError': -0.003202322615576199,\n",
              "   'r2_score': -0.19259358817263528},\n",
              "  'sv_clock_drift': {'mean_absolute_error': 1.0243654419889098e-14,\n",
              "   'mean_squared_error': 1.215656730268533e-28,\n",
              "   'percentError': -9.010413716439233,\n",
              "   'r2_score': -1.9077002428007767e+29},\n",
              "  'sv_clock_drift_rate': {'mean_absolute_error': 0.0,\n",
              "   'mean_squared_error': 0.0,\n",
              "   'percentError': 0,\n",
              "   'r2_score': 1.0},\n",
              "  'sv_health': {'mean_absolute_error': 0.0,\n",
              "   'mean_squared_error': 0.0,\n",
              "   'percentError': 0,\n",
              "   'r2_score': 1.0},\n",
              "  't_tx': {'mean_absolute_error': 17494.58837199428,\n",
              "   'mean_squared_error': 528151669.89994574,\n",
              "   'percentError': 119.89886747877985,\n",
              "   'r2_score': 0.9629085623269269},\n",
              "  'tgd': {'mean_absolute_error': 0.0,\n",
              "   'mean_squared_error': 0.0,\n",
              "   'percentError': 0.0,\n",
              "   'r2_score': 1.0},\n",
              "  'time_of_ephemeris': {'mean_absolute_error': 18845.11717075409,\n",
              "   'mean_squared_error': 566002645.212636,\n",
              "   'percentError': 64.43000703635155,\n",
              "   'r2_score': 0.9604066025965587}},\n",
              " 16: {'OMEGA': {'mean_absolute_error': 0.0027959160013205126,\n",
              "   'mean_squared_error': 1.571071378019976e-05,\n",
              "   'percentError': -0.18514251972558585,\n",
              "   'r2_score': -16.082646479941193},\n",
              "  'OMEGA_dot': {'mean_absolute_error': 2.588486031761147e-10,\n",
              "   'mean_squared_error': 1.1585625238729075e-19,\n",
              "   'percentError': -3.2105502598628357,\n",
              "   'r2_score': -5.115978322652986},\n",
              "  'codes': {'mean_absolute_error': 0.0,\n",
              "   'mean_squared_error': 0.0,\n",
              "   'percentError': 0.0,\n",
              "   'r2_score': 1.0},\n",
              "  'correction_inclination_cosine': {'mean_absolute_error': 1.8533051785604405e-08,\n",
              "   'mean_squared_error': 4.339560876003683e-16,\n",
              "   'percentError': 17.584020141961087,\n",
              "   'r2_score': 0.9505620521670706},\n",
              "  'correction_inclination_sine': {'mean_absolute_error': 3.8412516900519557e-08,\n",
              "   'mean_squared_error': 2.203903121350621e-15,\n",
              "   'percentError': 42.49201480918729,\n",
              "   'r2_score': -0.10527213430671067},\n",
              "  'correction_latitude_cosine': {'mean_absolute_error': 8.193083376769094e-06,\n",
              "   'mean_squared_error': 8.130366755618367e-11,\n",
              "   'percentError': 383.1154318178505,\n",
              "   'r2_score': -15.672389628735889},\n",
              "  'correction_latitude_sine': {'mean_absolute_error': 2.424010280554115e-06,\n",
              "   'mean_squared_error': 1.2166784452393641e-11,\n",
              "   'percentError': 41.2375447099146,\n",
              "   'r2_score': -5.068626896485954},\n",
              "  'correction_radius_cosine': {'mean_absolute_error': 46.98685156309695,\n",
              "   'mean_squared_error': 4525.434932482966,\n",
              "   'percentError': 17.287164693705055,\n",
              "   'r2_score': -4.892626474900248},\n",
              "  'correction_radius_sine': {'mean_absolute_error': 161.04457739178136,\n",
              "   'mean_squared_error': 31293.52334433871,\n",
              "   'percentError': -986.5188862949137,\n",
              "   'r2_score': -16.34185348509791},\n",
              "  'essentricity': {'mean_absolute_error': 9.880401966301985e-07,\n",
              "   'mean_squared_error': 1.31086664483766e-12,\n",
              "   'percentError': 0.010405237502280871,\n",
              "   'r2_score': 0.945270337234239},\n",
              "  'fit_interval': {'mean_absolute_error': 0.0,\n",
              "   'mean_squared_error': 0.0,\n",
              "   'percentError': 0,\n",
              "   'r2_score': 1.0},\n",
              "  'gps_week': {'mean_absolute_error': 0.28940199781319886,\n",
              "   'mean_squared_error': 0.08912351249079817,\n",
              "   'percentError': 0.014638441973353507,\n",
              "   'r2_score': 0.0},\n",
              "  'inclination': {'mean_absolute_error': 6.0544477199090764e-05,\n",
              "   'mean_squared_error': 5.979434186436261e-09,\n",
              "   'percentError': 0.006126329490034542,\n",
              "   'r2_score': -3.770372613722299},\n",
              "  'inclination_rate': {'mean_absolute_error': 3.797859019897017e-10,\n",
              "   'mean_squared_error': 1.673573054179981e-19,\n",
              "   'percentError': -153.47441458902696,\n",
              "   'r2_score': -8.434159893001496},\n",
              "  'iodc': {'mean_absolute_error': 52.14449425504935,\n",
              "   'mean_squared_error': 3337.3360668374057,\n",
              "   'percentError': 198.83690940990778,\n",
              "   'r2_score': -4.825722027700406},\n",
              "  'iode': {'mean_absolute_error': 43.498739622258334,\n",
              "   'mean_squared_error': 2477.055429525723,\n",
              "   'percentError': 132.4041267190628,\n",
              "   'r2_score': -3.3239985697029155},\n",
              "  'l2_p_data_flag': {'mean_absolute_error': 0.0,\n",
              "   'mean_squared_error': 0.0,\n",
              "   'percentError': 0,\n",
              "   'r2_score': 1.0},\n",
              "  'mean_anomaly': {'mean_absolute_error': 0.0007357332500482169,\n",
              "   'mean_squared_error': 6.426408162664231e-07,\n",
              "   'percentError': 0.024341649901845043,\n",
              "   'r2_score': 0.9999991312516555},\n",
              "  'mean_motion': {'mean_absolute_error': 2.9632443435564985e-10,\n",
              "   'mean_squared_error': 1.3545374554832901e-19,\n",
              "   'percentError': 7.504984392789866,\n",
              "   'r2_score': -7.2719528590630045},\n",
              "  'omega': {'mean_absolute_error': 0.0002471931390416423,\n",
              "   'mean_squared_error': 1.2012766554346524e-07,\n",
              "   'percentError': 0.05518728389158843,\n",
              "   'r2_score': -4.341015330292851},\n",
              "  'sqrt_semi_major_axis': {'mean_absolute_error': 0.01355391300306413,\n",
              "   'mean_squared_error': 0.0002113330749989508,\n",
              "   'percentError': 0.0002630017589997679,\n",
              "   'r2_score': -93.04988017688612},\n",
              "  'sv_accuracy': {'mean_absolute_error': 0.09464864850561995,\n",
              "   'mean_squared_error': 0.011750407919102781,\n",
              "   'percentError': 0,\n",
              "   'r2_score': 0.0},\n",
              "  'sv_clock_bias': {'mean_absolute_error': 2.816372726183535e-09,\n",
              "   'mean_squared_error': 1.5689503355763652e-17,\n",
              "   'percentError': 0.007832899808956087,\n",
              "   'r2_score': 0.9916905169995278},\n",
              "  'sv_clock_drift': {'mean_absolute_error': 1.3936118038816682e-14,\n",
              "   'mean_squared_error': 2.324238036858417e-28,\n",
              "   'percentError': -4.086113021261595,\n",
              "   'r2_score': 0.0},\n",
              "  'sv_clock_drift_rate': {'mean_absolute_error': 0.0,\n",
              "   'mean_squared_error': 0.0,\n",
              "   'percentError': 0,\n",
              "   'r2_score': 1.0},\n",
              "  'sv_health': {'mean_absolute_error': 0.0,\n",
              "   'mean_squared_error': 0.0,\n",
              "   'percentError': 0,\n",
              "   'r2_score': 1.0},\n",
              "  't_tx': {'mean_absolute_error': 14033.415628301273,\n",
              "   'mean_squared_error': 398908417.1267313,\n",
              "   'percentError': 18.913221921605746,\n",
              "   'r2_score': 0.9733290855140729},\n",
              "  'tgd': {'mean_absolute_error': 0.0,\n",
              "   'mean_squared_error': 0.0,\n",
              "   'percentError': 0.0,\n",
              "   'r2_score': 1.0},\n",
              "  'time_of_ephemeris': {'mean_absolute_error': 13920.123941648288,\n",
              "   'mean_squared_error': 392306910.27807385,\n",
              "   'percentError': 16.40087808721554,\n",
              "   'r2_score': 0.9737839385385735}},\n",
              " 17: {'OMEGA': {'mean_absolute_error': 0.00842436705576113,\n",
              "   'mean_squared_error': 0.00015180752297721262,\n",
              "   'percentError': -1.705232531784171,\n",
              "   'r2_score': -156.84624473312672},\n",
              "  'OMEGA_dot': {'mean_absolute_error': 5.113564031323738e-10,\n",
              "   'mean_squared_error': 3.301285631623367e-19,\n",
              "   'percentError': -6.672975393824798,\n",
              "   'r2_score': -4.099548529386255},\n",
              "  'codes': {'mean_absolute_error': 0.0,\n",
              "   'mean_squared_error': 0.0,\n",
              "   'percentError': 0.0,\n",
              "   'r2_score': 1.0},\n",
              "  'correction_inclination_cosine': {'mean_absolute_error': 7.869350317159438e-08,\n",
              "   'mean_squared_error': 9.39266153934916e-15,\n",
              "   'percentError': -24.497343378829246,\n",
              "   'r2_score': 0.44938128779102715},\n",
              "  'correction_inclination_sine': {'mean_absolute_error': 1.377264312659639e-07,\n",
              "   'mean_squared_error': 2.2886430214958216e-14,\n",
              "   'percentError': -34.40353175233656,\n",
              "   'r2_score': 0.37333558743197637},\n",
              "  'correction_latitude_cosine': {'mean_absolute_error': 2.552950494915775e-06,\n",
              "   'mean_squared_error': 1.4199370220635893e-11,\n",
              "   'percentError': -141.3028878993735,\n",
              "   'r2_score': -6.276654411070281},\n",
              "  'correction_latitude_sine': {'mean_absolute_error': 7.660909472881308e-06,\n",
              "   'mean_squared_error': 7.438710734429015e-11,\n",
              "   'percentError': 77.14247655245993,\n",
              "   'r2_score': -11.48622416489465},\n",
              "  'correction_radius_cosine': {'mean_absolute_error': 148.30048400361483,\n",
              "   'mean_squared_error': 27851.32232273106,\n",
              "   'percentError': 81.52711622468786,\n",
              "   'r2_score': -11.270836105887811},\n",
              "  'correction_radius_sine': {'mean_absolute_error': 50.915290590917536,\n",
              "   'mean_squared_error': 5511.075721421998,\n",
              "   'percentError': -123.11290819991848,\n",
              "   'r2_score': -6.6361840221238415},\n",
              "  'essentricity': {'mean_absolute_error': 5.4337486067623785e-06,\n",
              "   'mean_squared_error': 3.686912467764079e-11,\n",
              "   'percentError': 0.04456240974307317,\n",
              "   'r2_score': 0.118638273866015},\n",
              "  'fit_interval': {'mean_absolute_error': 0.0,\n",
              "   'mean_squared_error': 0.0,\n",
              "   'percentError': 0,\n",
              "   'r2_score': 1.0},\n",
              "  'gps_week': {'mean_absolute_error': 0.8402506662001997,\n",
              "   'mean_squared_error': 0.7473069714783412,\n",
              "   'percentError': 0.04250129823976731,\n",
              "   'r2_score': 0.0},\n",
              "  'inclination': {'mean_absolute_error': 8.847167519183685e-05,\n",
              "   'mean_squared_error': 1.0473733895259722e-08,\n",
              "   'percentError': 0.009011686441377086,\n",
              "   'r2_score': -10.466679599878336},\n",
              "  'inclination_rate': {'mean_absolute_error': 3.4872032365347576e-10,\n",
              "   'mean_squared_error': 1.3403765571316376e-19,\n",
              "   'percentError': 173.02142620417203,\n",
              "   'r2_score': -13.71540876756522},\n",
              "  'iodc': {'mean_absolute_error': 27.484597754408263,\n",
              "   'mean_squared_error': 1281.5695648258352,\n",
              "   'percentError': 85.44471471077311,\n",
              "   'r2_score': -0.16083526764503842},\n",
              "  'iode': {'mean_absolute_error': 23.343401788509276,\n",
              "   'mean_squared_error': 970.2056476392099,\n",
              "   'percentError': 106.56588639609022,\n",
              "   'r2_score': 0.12119563107676734},\n",
              "  'l2_p_data_flag': {'mean_absolute_error': 0.0,\n",
              "   'mean_squared_error': 0.0,\n",
              "   'percentError': 0,\n",
              "   'r2_score': 1.0},\n",
              "  'mean_anomaly': {'mean_absolute_error': 0.6868173895950699,\n",
              "   'mean_squared_error': 0.5863918795242388,\n",
              "   'percentError': -41.16997649457414,\n",
              "   'r2_score': 0.8406104812044379},\n",
              "  'mean_motion': {'mean_absolute_error': 4.5294837043534345e-10,\n",
              "   'mean_squared_error': 2.60614725176068e-19,\n",
              "   'percentError': 11.916342023363846,\n",
              "   'r2_score': -6.021059742177693},\n",
              "  'omega': {'mean_absolute_error': 0.0003713592989462011,\n",
              "   'mean_squared_error': 2.507179493477504e-07,\n",
              "   'percentError': -0.02033247917485547,\n",
              "   'r2_score': -0.1514714290925374},\n",
              "  'sqrt_semi_major_axis': {'mean_absolute_error': 0.012369879760299227,\n",
              "   'mean_squared_error': 0.002444719336411682,\n",
              "   'percentError': 0.00024001822115839264,\n",
              "   'r2_score': -211.47352905324786},\n",
              "  'sv_accuracy': {'mean_absolute_error': 0.2967630381345288,\n",
              "   'mean_squared_error': 0.21438985385559017,\n",
              "   'percentError': 35.2971200185839,\n",
              "   'r2_score': 0.3300317067012807},\n",
              "  'sv_clock_bias': {'mean_absolute_error': 1.7190745059367543e-08,\n",
              "   'mean_squared_error': 4.854464167315103e-16,\n",
              "   'percentError': -0.012162473501737563,\n",
              "   'r2_score': 0.9945356550238587},\n",
              "  'sv_clock_drift': {'mean_absolute_error': 4.019880794900855e-14,\n",
              "   'mean_squared_error': 3.597857267795486e-27,\n",
              "   'percentError': 1.6220627520504718,\n",
              "   'r2_score': -0.15987801218255338},\n",
              "  'sv_clock_drift_rate': {'mean_absolute_error': 0.0,\n",
              "   'mean_squared_error': 0.0,\n",
              "   'percentError': 0,\n",
              "   'r2_score': 1.0},\n",
              "  'sv_health': {'mean_absolute_error': 0.0,\n",
              "   'mean_squared_error': 0.0,\n",
              "   'percentError': 0,\n",
              "   'r2_score': 1.0},\n",
              "  't_tx': {'mean_absolute_error': 62515.747607687634,\n",
              "   'mean_squared_error': 8191445430.768472,\n",
              "   'percentError': 246033.5316341129,\n",
              "   'r2_score': 0.47877360174153183},\n",
              "  'tgd': {'mean_absolute_error': 0.0,\n",
              "   'mean_squared_error': 0.0,\n",
              "   'percentError': 0.0,\n",
              "   'r2_score': 1.0},\n",
              "  'time_of_ephemeris': {'mean_absolute_error': 46586.29029920235,\n",
              "   'mean_squared_error': 4209265782.44633,\n",
              "   'percentError': 160.4964780317628,\n",
              "   'r2_score': 0.7329243938402172}},\n",
              " 18: {'OMEGA': {'mean_absolute_error': 0.004544406101013571,\n",
              "   'mean_squared_error': 3.775054064563675e-05,\n",
              "   'percentError': 0.30295900326050923,\n",
              "   'r2_score': -34.437599690269856},\n",
              "  'OMEGA_dot': {'mean_absolute_error': 3.8460249923543873e-10,\n",
              "   'mean_squared_error': 2.285107823095532e-19,\n",
              "   'percentError': -4.46170613510425,\n",
              "   'r2_score': -0.40029050121432386},\n",
              "  'codes': {'mean_absolute_error': 0.0,\n",
              "   'mean_squared_error': 0.0,\n",
              "   'percentError': 0.0,\n",
              "   'r2_score': 1.0},\n",
              "  'correction_inclination_cosine': {'mean_absolute_error': 1.6728812640984953e-07,\n",
              "   'mean_squared_error': 4.593997030715047e-14,\n",
              "   'percentError': -7.6144038938489444,\n",
              "   'r2_score': 0.3530062152934358},\n",
              "  'correction_inclination_sine': {'mean_absolute_error': 1.0600208002922075e-07,\n",
              "   'mean_squared_error': 3.46661564243306e-14,\n",
              "   'percentError': 14.408929283253038,\n",
              "   'r2_score': 0.12836048503976305},\n",
              "  'correction_latitude_cosine': {'mean_absolute_error': 1.3880698488505555e-06,\n",
              "   'mean_squared_error': 2.2666840528092004e-12,\n",
              "   'percentError': -46.82497700446231,\n",
              "   'r2_score': -5.78221942947735},\n",
              "  'correction_latitude_sine': {'mean_absolute_error': 3.6655243417658114e-06,\n",
              "   'mean_squared_error': 1.976698170288781e-11,\n",
              "   'percentError': 51.679285879463855,\n",
              "   'r2_score': -10.81547707936893},\n",
              "  'correction_radius_cosine': {'mean_absolute_error': 70.03134821512782,\n",
              "   'mean_squared_error': 7306.796637626348,\n",
              "   'percentError': 32.0771522201491,\n",
              "   'r2_score': -11.009090287978296},\n",
              "  'correction_radius_sine': {'mean_absolute_error': 27.345241061116777,\n",
              "   'mean_squared_error': 879.1101262983982,\n",
              "   'percentError': -47.3671865694254,\n",
              "   'r2_score': -6.113792933819097},\n",
              "  'essentricity': {'mean_absolute_error': 6.814887890992259e-06,\n",
              "   'mean_squared_error': 5.5470041078622995e-11,\n",
              "   'percentError': 0.037446551312404396,\n",
              "   'r2_score': -2.4391965533279123},\n",
              "  'fit_interval': {'mean_absolute_error': 0.0,\n",
              "   'mean_squared_error': 0.0,\n",
              "   'percentError': 0,\n",
              "   'r2_score': 1.0},\n",
              "  'gps_week': {'mean_absolute_error': 0.7340859705809719,\n",
              "   'mean_squared_error': 1.0575233670116473,\n",
              "   'percentError': 0.037131308577692056,\n",
              "   'r2_score': 0.0},\n",
              "  'inclination': {'mean_absolute_error': 0.0001619207859977325,\n",
              "   'mean_squared_error': 1.2006055363707092e-07,\n",
              "   'percentError': 0.017491012372768074,\n",
              "   'r2_score': -172.6934132221127},\n",
              "  'inclination_rate': {'mean_absolute_error': 5.23020000604231e-10,\n",
              "   'mean_squared_error': 3.3025264785245966e-19,\n",
              "   'percentError': -211.57850138089916,\n",
              "   'r2_score': -8.361060997647682},\n",
              "  'iodc': {'mean_absolute_error': 20.402213922712562,\n",
              "   'mean_squared_error': 541.3127198303313,\n",
              "   'percentError': 59.58665656498715,\n",
              "   'r2_score': 0.10272315503096563},\n",
              "  'iode': {'mean_absolute_error': 16.595712097002615,\n",
              "   'mean_squared_error': 488.1291054217152,\n",
              "   'percentError': 70.50206611607784,\n",
              "   'r2_score': 0.19088000779357983},\n",
              "  'l2_p_data_flag': {'mean_absolute_error': 0.0,\n",
              "   'mean_squared_error': 0.0,\n",
              "   'percentError': 0,\n",
              "   'r2_score': 1.0},\n",
              "  'mean_anomaly': {'mean_absolute_error': 1.4487020239240547,\n",
              "   'mean_squared_error': 8.404783902987827,\n",
              "   'percentError': -13.627825116907628,\n",
              "   'r2_score': -1.577300555258542},\n",
              "  'mean_motion': {'mean_absolute_error': 3.904458298328842e-10,\n",
              "   'mean_squared_error': 2.410668104118135e-19,\n",
              "   'percentError': 7.077341071287771,\n",
              "   'r2_score': -2.5530312434637192},\n",
              "  'omega': {'mean_absolute_error': 0.0002457075786304217,\n",
              "   'mean_squared_error': 3.9808596567123964e-07,\n",
              "   'percentError': -0.013879391996676515,\n",
              "   'r2_score': -4.807570369810071},\n",
              "  'sqrt_semi_major_axis': {'mean_absolute_error': 0.6701076003343958,\n",
              "   'mean_squared_error': 5.927100454662009,\n",
              "   'percentError': 0.013002613440463285,\n",
              "   'r2_score': -709635.7270380176},\n",
              "  'sv_accuracy': {'mean_absolute_error': 0.0,\n",
              "   'mean_squared_error': 0.0,\n",
              "   'percentError': 0,\n",
              "   'r2_score': 1.0},\n",
              "  'sv_clock_bias': {'mean_absolute_error': 8.791838039815739e-08,\n",
              "   'mean_squared_error': 7.8863339218143e-14,\n",
              "   'percentError': 0.01388621964685446,\n",
              "   'r2_score': -54.79547373220765},\n",
              "  'sv_clock_drift': {'mean_absolute_error': 2.6526600894619673e-14,\n",
              "   'mean_squared_error': 1.047953922220408e-27,\n",
              "   'percentError': 7.777681634398555,\n",
              "   'r2_score': 0.0},\n",
              "  'sv_clock_drift_rate': {'mean_absolute_error': 0.0,\n",
              "   'mean_squared_error': 0.0,\n",
              "   'percentError': 0,\n",
              "   'r2_score': 1.0},\n",
              "  'sv_health': {'mean_absolute_error': 0.0,\n",
              "   'mean_squared_error': 0.0,\n",
              "   'percentError': 0,\n",
              "   'r2_score': 1.0},\n",
              "  't_tx': {'mean_absolute_error': 21681.060116948924,\n",
              "   'mean_squared_error': 920476917.1728747,\n",
              "   'percentError': 78.13036713309648,\n",
              "   'r2_score': 0.9384372676234034},\n",
              "  'tgd': {'mean_absolute_error': 0.0,\n",
              "   'mean_squared_error': 0.0,\n",
              "   'percentError': 0.0,\n",
              "   'r2_score': 1.0},\n",
              "  'time_of_ephemeris': {'mean_absolute_error': 23141.921522390538,\n",
              "   'mean_squared_error': 955965866.3769577,\n",
              "   'percentError': 49.78534419999082,\n",
              "   'r2_score': 0.9356608948047038}},\n",
              " 19: {'OMEGA': {'mean_absolute_error': 0.009820492011466602,\n",
              "   'mean_squared_error': 0.00018218083514254065,\n",
              "   'percentError': -2.1990184268114588,\n",
              "   'r2_score': -168.388421617544},\n",
              "  'OMEGA_dot': {'mean_absolute_error': 5.093162702097839e-10,\n",
              "   'mean_squared_error': 3.3448657036280125e-19,\n",
              "   'percentError': -6.547833220631737,\n",
              "   'r2_score': -12.905961515295076},\n",
              "  'codes': {'mean_absolute_error': 0.0,\n",
              "   'mean_squared_error': 0.0,\n",
              "   'percentError': 0.0,\n",
              "   'r2_score': 1.0},\n",
              "  'correction_inclination_cosine': {'mean_absolute_error': 7.69008023358994e-08,\n",
              "   'mean_squared_error': 7.336621344148829e-15,\n",
              "   'percentError': 3.8777227711984454,\n",
              "   'r2_score': 0.7466861667890026},\n",
              "  'correction_inclination_sine': {'mean_absolute_error': 6.160168185146639e-08,\n",
              "   'mean_squared_error': 5.609842996812268e-15,\n",
              "   'percentError': -114.28685763750956,\n",
              "   'r2_score': 0.620647085311119},\n",
              "  'correction_latitude_cosine': {'mean_absolute_error': 2.276263719925374e-06,\n",
              "   'mean_squared_error': 1.0940745725467407e-11,\n",
              "   'percentError': -130.7111933117827,\n",
              "   'r2_score': -5.228118809787078},\n",
              "  'correction_latitude_sine': {'mean_absolute_error': 7.1117177710806615e-06,\n",
              "   'mean_squared_error': 6.855947828618153e-11,\n",
              "   'percentError': 70.91168968392363,\n",
              "   'r2_score': -8.959401117591744},\n",
              "  'correction_radius_cosine': {'mean_absolute_error': 136.83822584348428,\n",
              "   'mean_squared_error': 25239.27445879041,\n",
              "   'percentError': 75.48553298592739,\n",
              "   'r2_score': -9.142624467634647},\n",
              "  'correction_radius_sine': {'mean_absolute_error': 43.440808931015916,\n",
              "   'mean_squared_error': 4012.890319680255,\n",
              "   'percentError': 236.2498598781706,\n",
              "   'r2_score': -5.583091355021907},\n",
              "  'essentricity': {'mean_absolute_error': 5.609499492337245e-07,\n",
              "   'mean_squared_error': 5.000425494139891e-13,\n",
              "   'percentError': 0.005720859909135952,\n",
              "   'r2_score': 0.9591777188799427},\n",
              "  'fit_interval': {'mean_absolute_error': 0.0,\n",
              "   'mean_squared_error': 0.0,\n",
              "   'percentError': 0,\n",
              "   'r2_score': 1.0},\n",
              "  'gps_week': {'mean_absolute_error': 0.846574419108365,\n",
              "   'mean_squared_error': 0.7236503590713445,\n",
              "   'percentError': 0.04282116434539023,\n",
              "   'r2_score': 0.0},\n",
              "  'inclination': {'mean_absolute_error': 8.805816655366617e-05,\n",
              "   'mean_squared_error': 1.0942337110102773e-08,\n",
              "   'percentError': 0.008993314755829436,\n",
              "   'r2_score': -8.240476089207295},\n",
              "  'inclination_rate': {'mean_absolute_error': 3.646697201608527e-10,\n",
              "   'mean_squared_error': 1.422301005495546e-19,\n",
              "   'percentError': 224.33658102050933,\n",
              "   'r2_score': -8.196100638063433},\n",
              "  'iodc': {'mean_absolute_error': 36.45512152245703,\n",
              "   'mean_squared_error': 1615.3155336180064,\n",
              "   'percentError': 63.07688648204965,\n",
              "   'r2_score': -3.359195359640296},\n",
              "  'iode': {'mean_absolute_error': 29.189082109865186,\n",
              "   'mean_squared_error': 1003.2211659112752,\n",
              "   'percentError': 53.50676751723372,\n",
              "   'r2_score': -1.7073577639274728},\n",
              "  'l2_p_data_flag': {'mean_absolute_error': 0.0,\n",
              "   'mean_squared_error': 0.0,\n",
              "   'percentError': 0,\n",
              "   'r2_score': 1.0},\n",
              "  'mean_anomaly': {'mean_absolute_error': 0.9348241976935256,\n",
              "   'mean_squared_error': 1.0912287645881955,\n",
              "   'percentError': 13.759019070349005,\n",
              "   'r2_score': 0.570793696245397},\n",
              "  'mean_motion': {'mean_absolute_error': 4.267114738205808e-10,\n",
              "   'mean_squared_error': 2.4892664606396107e-19,\n",
              "   'percentError': 10.997703244261345,\n",
              "   'r2_score': -9.410922030148736},\n",
              "  'omega': {'mean_absolute_error': 0.000392585533663512,\n",
              "   'mean_squared_error': 2.456462335012455e-07,\n",
              "   'percentError': 0.035780078170566866,\n",
              "   'r2_score': -2.922328534355111},\n",
              "  'sqrt_semi_major_axis': {'mean_absolute_error': 0.0020392047583300153,\n",
              "   'mean_squared_error': 8.41957730146976e-06,\n",
              "   'percentError': 3.9567837737388393e-05,\n",
              "   'r2_score': -0.08620703443436506},\n",
              "  'sv_accuracy': {'mean_absolute_error': 0.0,\n",
              "   'mean_squared_error': 0.0,\n",
              "   'percentError': 0,\n",
              "   'r2_score': 1.0},\n",
              "  'sv_clock_bias': {'mean_absolute_error': 7.979882176917859e-09,\n",
              "   'mean_squared_error': 8.344105712613662e-17,\n",
              "   'percentError': -0.0016875219721668366,\n",
              "   'r2_score': 0.9990073020172286},\n",
              "  'sv_clock_drift': {'mean_absolute_error': 4.811213125580127e-16,\n",
              "   'mean_squared_error': 3.48151708071108e-31,\n",
              "   'percentError': 0.022273620106465636,\n",
              "   'r2_score': 0.0},\n",
              "  'sv_clock_drift_rate': {'mean_absolute_error': 0.0,\n",
              "   'mean_squared_error': 0.0,\n",
              "   'percentError': 0,\n",
              "   'r2_score': 1.0},\n",
              "  'sv_health': {'mean_absolute_error': 0.0,\n",
              "   'mean_squared_error': 0.0,\n",
              "   'percentError': 0,\n",
              "   'r2_score': 1.0},\n",
              "  't_tx': {'mean_absolute_error': 87041.37644084304,\n",
              "   'mean_squared_error': 12855111679.261318,\n",
              "   'percentError': 228721.87156818135,\n",
              "   'r2_score': 0.26132232594872007},\n",
              "  'tgd': {'mean_absolute_error': 0.0,\n",
              "   'mean_squared_error': 0.0,\n",
              "   'percentError': 0.0,\n",
              "   'r2_score': 1.0},\n",
              "  'time_of_ephemeris': {'mean_absolute_error': 66022.29001439414,\n",
              "   'mean_squared_error': 6935543217.629818,\n",
              "   'percentError': 206.3537725412716,\n",
              "   'r2_score': 0.6015383461163253}},\n",
              " 20: {'OMEGA': {'mean_absolute_error': 0.005316788563443371,\n",
              "   'mean_squared_error': 4.8462704771923626e-05,\n",
              "   'percentError': 0.3670378886734704,\n",
              "   'r2_score': -41.920405510202755},\n",
              "  'OMEGA_dot': {'mean_absolute_error': 3.7019486471052106e-10,\n",
              "   'mean_squared_error': 1.9218523838720664e-19,\n",
              "   'percentError': -4.3284126182645295,\n",
              "   'r2_score': -9.365588304563715},\n",
              "  'codes': {'mean_absolute_error': 0.0,\n",
              "   'mean_squared_error': 0.0,\n",
              "   'percentError': 0.0,\n",
              "   'r2_score': 1.0},\n",
              "  'correction_inclination_cosine': {'mean_absolute_error': 8.382506764507578e-08,\n",
              "   'mean_squared_error': 8.41276933294629e-15,\n",
              "   'percentError': 189.27636470926473,\n",
              "   'r2_score': -0.07666225726227238},\n",
              "  'correction_inclination_sine': {'mean_absolute_error': 3.081360590905254e-08,\n",
              "   'mean_squared_error': 1.2187161670766723e-15,\n",
              "   'percentError': -28.264894359179916,\n",
              "   'r2_score': 0.839704629126765},\n",
              "  'correction_latitude_cosine': {'mean_absolute_error': 1.3892202460259488e-06,\n",
              "   'mean_squared_error': 2.36795890436901e-12,\n",
              "   'percentError': -46.21913644178053,\n",
              "   'r2_score': -3.7256319586811664},\n",
              "  'correction_latitude_sine': {'mean_absolute_error': 3.312895461829499e-06,\n",
              "   'mean_squared_error': 1.765858579758279e-11,\n",
              "   'percentError': 50.099660231427585,\n",
              "   'r2_score': -8.007612841121535},\n",
              "  'correction_radius_cosine': {'mean_absolute_error': 65.39733519803902,\n",
              "   'mean_squared_error': 6726.16666769855,\n",
              "   'percentError': 28.86101390410569,\n",
              "   'r2_score': -8.744387009904482},\n",
              "  'correction_radius_sine': {'mean_absolute_error': 25.803038767195417,\n",
              "   'mean_squared_error': 820.1885155957527,\n",
              "   'percentError': -43.774382631232335,\n",
              "   'r2_score': -4.503437809418925},\n",
              "  'essentricity': {'mean_absolute_error': 8.758906095857958e-06,\n",
              "   'mean_squared_error': 1.0011243195897422e-10,\n",
              "   'percentError': 0.1882865073469487,\n",
              "   'r2_score': -23.731820245633788},\n",
              "  'fit_interval': {'mean_absolute_error': 0.0,\n",
              "   'mean_squared_error': 0.0,\n",
              "   'percentError': 0,\n",
              "   'r2_score': 1.0},\n",
              "  'gps_week': {'mean_absolute_error': 0.8764026411487794,\n",
              "   'mean_squared_error': 0.7695306753498145,\n",
              "   'percentError': 0.04432992620884064,\n",
              "   'r2_score': 0.0},\n",
              "  'inclination': {'mean_absolute_error': 8.032440270703489e-05,\n",
              "   'mean_squared_error': 1.0615550595354886e-08,\n",
              "   'percentError': 0.008663618495687357,\n",
              "   'r2_score': -13.764675870365517},\n",
              "  'inclination_rate': {'mean_absolute_error': 4.849819142700762e-10,\n",
              "   'mean_squared_error': 2.7435262681368013e-19,\n",
              "   'percentError': -878.0587231961451,\n",
              "   'r2_score': -7.046369288552093},\n",
              "  'iodc': {'mean_absolute_error': 25.562934408366086,\n",
              "   'mean_squared_error': 775.3646868946676,\n",
              "   'percentError': 71.34798415161602,\n",
              "   'r2_score': -0.4217233356877017},\n",
              "  'iode': {'mean_absolute_error': 22.784644594215628,\n",
              "   'mean_squared_error': 625.3950825424988,\n",
              "   'percentError': 77.60867746939452,\n",
              "   'r2_score': -0.14673623638446087},\n",
              "  'l2_p_data_flag': {'mean_absolute_error': 0.0,\n",
              "   'mean_squared_error': 0.0,\n",
              "   'percentError': 0,\n",
              "   'r2_score': 1.0},\n",
              "  'mean_anomaly': {'mean_absolute_error': 0.0011365396069506306,\n",
              "   'mean_squared_error': 1.598948890472952e-06,\n",
              "   'percentError': -0.04026423647585317,\n",
              "   'r2_score': 0.9999992661837512},\n",
              "  'mean_motion': {'mean_absolute_error': 3.8546307914017564e-10,\n",
              "   'mean_squared_error': 2.3613622545860466e-19,\n",
              "   'percentError': 7.054285527243406,\n",
              "   'r2_score': -6.5907697566568455},\n",
              "  'omega': {'mean_absolute_error': 0.001088882509189908,\n",
              "   'mean_squared_error': 1.5449428205023097e-06,\n",
              "   'percentError': 0.06296689509509752,\n",
              "   'r2_score': 0.058955641301280726},\n",
              "  'sqrt_semi_major_axis': {'mean_absolute_error': 0.008600569750778959,\n",
              "   'mean_squared_error': 0.0001104722715671241,\n",
              "   'percentError': 0.00016687962306937242,\n",
              "   'r2_score': -13.888429282281963},\n",
              "  'sv_accuracy': {'mean_absolute_error': 0.0,\n",
              "   'mean_squared_error': 0.0,\n",
              "   'percentError': 0,\n",
              "   'r2_score': 1.0},\n",
              "  'sv_clock_bias': {'mean_absolute_error': 2.8414213123053103e-09,\n",
              "   'mean_squared_error': 1.1721159646821263e-17,\n",
              "   'percentError': 0.000575037363287055,\n",
              "   'r2_score': 0.9993613490344763},\n",
              "  'sv_clock_drift': {'mean_absolute_error': 5.002220860119996e-14,\n",
              "   'mean_squared_error': 5.686866712140826e-27,\n",
              "   'percentError': 4.888888889271135,\n",
              "   'r2_score': -0.7857142857142858},\n",
              "  'sv_clock_drift_rate': {'mean_absolute_error': 0.0,\n",
              "   'mean_squared_error': 0.0,\n",
              "   'percentError': 0,\n",
              "   'r2_score': 1.0},\n",
              "  'sv_health': {'mean_absolute_error': 0.0,\n",
              "   'mean_squared_error': 0.0,\n",
              "   'percentError': 0,\n",
              "   'r2_score': 1.0},\n",
              "  't_tx': {'mean_absolute_error': 56925.97541833673,\n",
              "   'mean_squared_error': 4788337970.655656,\n",
              "   'percentError': 101175.98924277468,\n",
              "   'r2_score': 0.697276357587232},\n",
              "  'tgd': {'mean_absolute_error': 0.0,\n",
              "   'mean_squared_error': 0.0,\n",
              "   'percentError': 0.0,\n",
              "   'r2_score': 1.0},\n",
              "  'time_of_ephemeris': {'mean_absolute_error': 29280.41167138844,\n",
              "   'mean_squared_error': 1384785986.930533,\n",
              "   'percentError': 55.02789312654052,\n",
              "   'r2_score': 0.911967134691791}},\n",
              " 21: {'OMEGA': {'mean_absolute_error': 0.0035697659233898497,\n",
              "   'mean_squared_error': 2.6111508309545085e-05,\n",
              "   'percentError': 0.7750847218123614,\n",
              "   'r2_score': -22.472222404395932},\n",
              "  'OMEGA_dot': {'mean_absolute_error': 2.0753074642542818e-10,\n",
              "   'mean_squared_error': 8.098521338557655e-20,\n",
              "   'percentError': -2.3766056386387917,\n",
              "   'r2_score': 0.6345383541902073},\n",
              "  'codes': {'mean_absolute_error': 0.0,\n",
              "   'mean_squared_error': 0.0,\n",
              "   'percentError': 0.0,\n",
              "   'r2_score': 1.0},\n",
              "  'correction_inclination_cosine': {'mean_absolute_error': 2.2342807747495638e-07,\n",
              "   'mean_squared_error': 6.353596080250684e-14,\n",
              "   'percentError': -11.825763079153601,\n",
              "   'r2_score': 0.5512823195527452},\n",
              "  'correction_inclination_sine': {'mean_absolute_error': 7.827308235195923e-08,\n",
              "   'mean_squared_error': 8.390068403822946e-15,\n",
              "   'percentError': -157.43015359510613,\n",
              "   'r2_score': 0.7858149545250885},\n",
              "  'correction_latitude_cosine': {'mean_absolute_error': 7.413250335279133e-06,\n",
              "   'mean_squared_error': 6.727435703496206e-11,\n",
              "   'percentError': 493.93190186283476,\n",
              "   'r2_score': -17.204021883167155},\n",
              "  'correction_latitude_sine': {'mean_absolute_error': 1.10709057066779e-06,\n",
              "   'mean_squared_error': 1.6863897995028925e-12,\n",
              "   'percentError': 21.526392567586083,\n",
              "   'r2_score': -1.4946972062251236},\n",
              "  'correction_radius_cosine': {'mean_absolute_error': 21.205001430658193,\n",
              "   'mean_squared_error': 593.5859402250795,\n",
              "   'percentError': 8.013892818876982,\n",
              "   'r2_score': -2.3653357161464017},\n",
              "  'correction_radius_sine': {'mean_absolute_error': 142.11151404805446,\n",
              "   'mean_squared_error': 24794.613124129744,\n",
              "   'percentError': 3.611408822956645,\n",
              "   'r2_score': -17.306219123601803},\n",
              "  'essentricity': {'mean_absolute_error': 7.467223079451512e-06,\n",
              "   'mean_squared_error': 6.354254014342571e-11,\n",
              "   'percentError': 0.03094902088831162,\n",
              "   'r2_score': -1.9830560808080335},\n",
              "  'fit_interval': {'mean_absolute_error': 0.0,\n",
              "   'mean_squared_error': 0.0,\n",
              "   'percentError': 0,\n",
              "   'r2_score': 1.0},\n",
              "  'gps_week': {'mean_absolute_error': 0.9129653013714185,\n",
              "   'mean_squared_error': 0.8371195156460527,\n",
              "   'percentError': 0.04617932733289926,\n",
              "   'r2_score': 0.0},\n",
              "  'inclination': {'mean_absolute_error': 6.432152121236736e-05,\n",
              "   'mean_squared_error': 4.710503676376452e-09,\n",
              "   'percentError': 0.006829079354665367,\n",
              "   'r2_score': -8.444627159899094},\n",
              "  'inclination_rate': {'mean_absolute_error': 2.2981160403116015e-10,\n",
              "   'mean_squared_error': 6.5818883535232e-20,\n",
              "   'percentError': -312.9121280474015,\n",
              "   'r2_score': -0.9894730664421176},\n",
              "  'iodc': {'mean_absolute_error': 27.72492138752718,\n",
              "   'mean_squared_error': 1259.20398559506,\n",
              "   'percentError': 92.03256644377913,\n",
              "   'r2_score': -1.3754344537102936},\n",
              "  'iode': {'mean_absolute_error': 27.9799430820093,\n",
              "   'mean_squared_error': 1140.428521080618,\n",
              "   'percentError': 115.10967774141923,\n",
              "   'r2_score': -1.151369620775606},\n",
              "  'l2_p_data_flag': {'mean_absolute_error': 0.0,\n",
              "   'mean_squared_error': 0.0,\n",
              "   'percentError': 0,\n",
              "   'r2_score': 1.0},\n",
              "  'mean_anomaly': {'mean_absolute_error': 0.33833415335124767,\n",
              "   'mean_squared_error': 2.07033080596394,\n",
              "   'percentError': -17.745941665589886,\n",
              "   'r2_score': 0.3612871138034861},\n",
              "  'mean_motion': {'mean_absolute_error': 3.493624147534471e-10,\n",
              "   'mean_squared_error': 1.3893772361371343e-19,\n",
              "   'percentError': 6.654678515314965,\n",
              "   'r2_score': -1.479992658987911},\n",
              "  'omega': {'mean_absolute_error': 0.0008484442024580979,\n",
              "   'mean_squared_error': 9.64556443835412e-07,\n",
              "   'percentError': -0.05232511806442984,\n",
              "   'r2_score': -0.7910344360246051},\n",
              "  'sqrt_semi_major_axis': {'mean_absolute_error': 0.010081236195602335,\n",
              "   'mean_squared_error': 0.0001172027126765647,\n",
              "   'percentError': 0.00019561705550366688,\n",
              "   'r2_score': -7.6317245901391555},\n",
              "  'sv_accuracy': {'mean_absolute_error': 0.0,\n",
              "   'mean_squared_error': 0.0,\n",
              "   'percentError': 0,\n",
              "   'r2_score': 1.0},\n",
              "  'sv_clock_bias': {'mean_absolute_error': 1.0737038517683167e-08,\n",
              "   'mean_squared_error': 1.6102112566836972e-16,\n",
              "   'percentError': -0.0023460408993241505,\n",
              "   'r2_score': 0.9991920847569971},\n",
              "  'sv_clock_drift': {'mean_absolute_error': 2.6512892100499496e-14,\n",
              "   'mean_squared_error': 9.101511500764702e-28,\n",
              "   'percentError': 0.7287808287620845,\n",
              "   'r2_score': -1.394802579006151e+27},\n",
              "  'sv_clock_drift_rate': {'mean_absolute_error': 0.0,\n",
              "   'mean_squared_error': 0.0,\n",
              "   'percentError': 0,\n",
              "   'r2_score': 1.0},\n",
              "  'sv_health': {'mean_absolute_error': 0.0,\n",
              "   'mean_squared_error': 0.0,\n",
              "   'percentError': 0,\n",
              "   'r2_score': 1.0},\n",
              "  't_tx': {'mean_absolute_error': 17473.151301880473,\n",
              "   'mean_squared_error': 647079604.7213609,\n",
              "   'percentError': 57.357101751216064,\n",
              "   'r2_score': 0.9575686517965412},\n",
              "  'tgd': {'mean_absolute_error': 0.0,\n",
              "   'mean_squared_error': 0.0,\n",
              "   'percentError': 0.0,\n",
              "   'r2_score': 1.0},\n",
              "  'time_of_ephemeris': {'mean_absolute_error': 18937.21376477277,\n",
              "   'mean_squared_error': 693132546.529845,\n",
              "   'percentError': 51.15041501821672,\n",
              "   'r2_score': 0.9545799277838779}},\n",
              " 22: {'OMEGA': {'mean_absolute_error': 0.003481883159257071,\n",
              "   'mean_squared_error': 2.1113983071492195e-05,\n",
              "   'percentError': 0.23222870618306268,\n",
              "   'r2_score': -18.41003902786028},\n",
              "  'OMEGA_dot': {'mean_absolute_error': 3.773316803218368e-10,\n",
              "   'mean_squared_error': 2.0348781732234373e-19,\n",
              "   'percentError': -4.335435911985399,\n",
              "   'r2_score': -4.709172272597964},\n",
              "  'codes': {'mean_absolute_error': 0.0,\n",
              "   'mean_squared_error': 0.0,\n",
              "   'percentError': 0.0,\n",
              "   'r2_score': 1.0},\n",
              "  'correction_inclination_cosine': {'mean_absolute_error': 6.535682493210341e-08,\n",
              "   'mean_squared_error': 5.813415776136411e-15,\n",
              "   'percentError': -43.82158619501479,\n",
              "   'r2_score': 0.5128211269756111},\n",
              "  'correction_inclination_sine': {'mean_absolute_error': 3.699387309190465e-08,\n",
              "   'mean_squared_error': 2.1165165673054627e-15,\n",
              "   'percentError': 42.862811648242065,\n",
              "   'r2_score': 0.46352747566099883},\n",
              "  'correction_latitude_cosine': {'mean_absolute_error': 9.971537291913637e-07,\n",
              "   'mean_squared_error': 1.302124324524793e-12,\n",
              "   'percentError': -34.51578850157392,\n",
              "   'r2_score': -4.222870931705482},\n",
              "  'correction_latitude_sine': {'mean_absolute_error': 3.3588421067870816e-06,\n",
              "   'mean_squared_error': 1.8670927989192137e-11,\n",
              "   'percentError': 49.24769009570908,\n",
              "   'r2_score': -7.7513265713610515},\n",
              "  'correction_radius_cosine': {'mean_absolute_error': 62.8519921043085,\n",
              "   'mean_squared_error': 6656.688122112619,\n",
              "   'percentError': 28.272866171776595,\n",
              "   'r2_score': -7.357155963477625},\n",
              "  'correction_radius_sine': {'mean_absolute_error': 24.744566202176742,\n",
              "   'mean_squared_error': 760.1476567875105,\n",
              "   'percentError': -43.44071330960438,\n",
              "   'r2_score': -6.841751983962618},\n",
              "  'essentricity': {'mean_absolute_error': 5.95265051921345e-06,\n",
              "   'mean_squared_error': 4.650156471900237e-11,\n",
              "   'percentError': 0.08337376369443801,\n",
              "   'r2_score': -16.49981082413289},\n",
              "  'fit_interval': {'mean_absolute_error': 0.0,\n",
              "   'mean_squared_error': 0.0,\n",
              "   'percentError': 0,\n",
              "   'r2_score': 1.0},\n",
              "  'gps_week': {'mean_absolute_error': 2.006787644403528,\n",
              "   'mean_squared_error': 4.129364998571567,\n",
              "   'percentError': 0.10150670937802367,\n",
              "   'r2_score': 0.0},\n",
              "  'inclination': {'mean_absolute_error': 8.409835275656752e-05,\n",
              "   'mean_squared_error': 1.127570928335293e-08,\n",
              "   'percentError': 0.009103107316605364,\n",
              "   'r2_score': -12.29905263948255},\n",
              "  'inclination_rate': {'mean_absolute_error': 5.182640401883593e-10,\n",
              "   'mean_squared_error': 3.081780634575452e-19,\n",
              "   'percentError': -146.59560076035606,\n",
              "   'r2_score': -10.232384571740717},\n",
              "  'iodc': {'mean_absolute_error': 28.69039246101596,\n",
              "   'mean_squared_error': 1198.1350044542453,\n",
              "   'percentError': 75.48502760863498,\n",
              "   'r2_score': -0.6838617708832184},\n",
              "  'iode': {'mean_absolute_error': 29.128176274874154,\n",
              "   'mean_squared_error': 1057.3072941215787,\n",
              "   'percentError': 99.98668039218737,\n",
              "   'r2_score': -0.48594217348508684},\n",
              "  'l2_p_data_flag': {'mean_absolute_error': 0.0,\n",
              "   'mean_squared_error': 0.0,\n",
              "   'percentError': 0,\n",
              "   'r2_score': 1.0},\n",
              "  'mean_anomaly': {'mean_absolute_error': 0.0005787500867095481,\n",
              "   'mean_squared_error': 3.818610710782924e-07,\n",
              "   'percentError': -0.44563559290933835,\n",
              "   'r2_score': 0.9999997235117626},\n",
              "  'mean_motion': {'mean_absolute_error': 3.8618291467285654e-10,\n",
              "   'mean_squared_error': 2.429349489801307e-19,\n",
              "   'percentError': 6.747765843576318,\n",
              "   'r2_score': -5.272680449524834},\n",
              "  'omega': {'mean_absolute_error': 0.00029689561768108107,\n",
              "   'mean_squared_error': 1.2574286227430203e-07,\n",
              "   'percentError': -0.017968960685996224,\n",
              "   'r2_score': 0.6113694463916368},\n",
              "  'sqrt_semi_major_axis': {'mean_absolute_error': 0.033325540735631876,\n",
              "   'mean_squared_error': 0.0014015122942971693,\n",
              "   'percentError': 0.0006466386091043625,\n",
              "   'r2_score': -57.359714753266815},\n",
              "  'sv_accuracy': {'mean_absolute_error': 0.0,\n",
              "   'mean_squared_error': 0.0,\n",
              "   'percentError': 0,\n",
              "   'r2_score': 1.0},\n",
              "  'sv_clock_bias': {'mean_absolute_error': 1.8270133112234695e-09,\n",
              "   'mean_squared_error': 3.75892892107888e-18,\n",
              "   'percentError': -0.0008927350318896347,\n",
              "   'r2_score': 0.9999984768835625},\n",
              "  'sv_clock_drift': {'mean_absolute_error': 3.365400556918881e-15,\n",
              "   'mean_squared_error': 1.3488470277434323e-29,\n",
              "   'percentError': -0.026196793235174577,\n",
              "   'r2_score': -5.167755138317545e+24},\n",
              "  'sv_clock_drift_rate': {'mean_absolute_error': 0.0,\n",
              "   'mean_squared_error': 0.0,\n",
              "   'percentError': 0,\n",
              "   'r2_score': 1.0},\n",
              "  'sv_health': {'mean_absolute_error': 0.0,\n",
              "   'mean_squared_error': 0.0,\n",
              "   'percentError': 0,\n",
              "   'r2_score': 1.0},\n",
              "  't_tx': {'mean_absolute_error': 16740.590131900542,\n",
              "   'mean_squared_error': 514938962.31747925,\n",
              "   'percentError': 19.581298216700358,\n",
              "   'r2_score': 0.9656383906733406},\n",
              "  'tgd': {'mean_absolute_error': 0.0,\n",
              "   'mean_squared_error': 0.0,\n",
              "   'percentError': 0.0,\n",
              "   'r2_score': 1.0},\n",
              "  'time_of_ephemeris': {'mean_absolute_error': 17647.181420987294,\n",
              "   'mean_squared_error': 536825629.74486816,\n",
              "   'percentError': 17.87496709521115,\n",
              "   'r2_score': 0.9641990227396798}},\n",
              " 23: {'OMEGA': {'mean_absolute_error': 0.0036569356427497367,\n",
              "   'mean_squared_error': 2.388556671565191e-05,\n",
              "   'percentError': 0.14134139319151764,\n",
              "   'r2_score': -23.069324396778768},\n",
              "  'OMEGA_dot': {'mean_absolute_error': 3.0971460654979655e-10,\n",
              "   'mean_squared_error': 1.3067518305303494e-19,\n",
              "   'percentError': -3.774113507430922,\n",
              "   'r2_score': -2.7705974631652044},\n",
              "  'codes': {'mean_absolute_error': 0.0,\n",
              "   'mean_squared_error': 0.0,\n",
              "   'percentError': 0.0,\n",
              "   'r2_score': 1.0},\n",
              "  'correction_inclination_cosine': {'mean_absolute_error': 5.961793874298305e-08,\n",
              "   'mean_squared_error': 4.706923683416083e-15,\n",
              "   'percentError': 18.78490175825292,\n",
              "   'r2_score': 0.7748381510297057},\n",
              "  'correction_inclination_sine': {'mean_absolute_error': 7.16389203505866e-08,\n",
              "   'mean_squared_error': 6.78738449989196e-15,\n",
              "   'percentError': 13.725744732827211,\n",
              "   'r2_score': 0.6854592247316063},\n",
              "  'correction_latitude_cosine': {'mean_absolute_error': 5.589256253717519e-07,\n",
              "   'mean_squared_error': 4.15214121028908e-13,\n",
              "   'percentError': 25.429582815345768,\n",
              "   'r2_score': -2.074352805094102},\n",
              "  'correction_latitude_sine': {'mean_absolute_error': 4.933533224842704e-06,\n",
              "   'mean_squared_error': 3.170595109461242e-11,\n",
              "   'percentError': 44.23211006278391,\n",
              "   'r2_score': -8.290715326382198},\n",
              "  'correction_radius_cosine': {'mean_absolute_error': 107.29450447810954,\n",
              "   'mean_squared_error': 14646.349115231444,\n",
              "   'percentError': 72.90458940616561,\n",
              "   'r2_score': -10.644575909572751},\n",
              "  'correction_radius_sine': {'mean_absolute_error': 14.242874440183888,\n",
              "   'mean_squared_error': 253.32797086632732,\n",
              "   'percentError': 30.88009006220647,\n",
              "   'r2_score': -4.596590415257458},\n",
              "  'essentricity': {'mean_absolute_error': 1.0954350490754993e-06,\n",
              "   'mean_squared_error': 1.4751397562754659e-12,\n",
              "   'percentError': 0.009236395645851868,\n",
              "   'r2_score': 0.5578444116899566},\n",
              "  'fit_interval': {'mean_absolute_error': 0.0,\n",
              "   'mean_squared_error': 0.0,\n",
              "   'percentError': 0,\n",
              "   'r2_score': 1.0},\n",
              "  'gps_week': {'mean_absolute_error': 2.700991864664627,\n",
              "   'mean_squared_error': 7.734436652777996,\n",
              "   'percentError': 0.13662073164717387,\n",
              "   'r2_score': 0.0},\n",
              "  'inclination': {'mean_absolute_error': 9.486285854600762e-05,\n",
              "   'mean_squared_error': 1.219225898993446e-08,\n",
              "   'percentError': 0.010048277531697996,\n",
              "   'r2_score': -60.965240580516394},\n",
              "  'inclination_rate': {'mean_absolute_error': 4.0115122399171464e-10,\n",
              "   'mean_squared_error': 2.1392433524587653e-19,\n",
              "   'percentError': 409.5713921007639,\n",
              "   'r2_score': -7.9944061933022645},\n",
              "  'iodc': {'mean_absolute_error': 37.942118472810364,\n",
              "   'mean_squared_error': 1943.1972256456206,\n",
              "   'percentError': 100.2620045479202,\n",
              "   'r2_score': -0.48597697133542384},\n",
              "  'iode': {'mean_absolute_error': 17.972199365357817,\n",
              "   'mean_squared_error': 424.66288593136403,\n",
              "   'percentError': 160.69797948269638,\n",
              "   'r2_score': 0.6752572200358158},\n",
              "  'l2_p_data_flag': {'mean_absolute_error': 0.0,\n",
              "   'mean_squared_error': 0.0,\n",
              "   'percentError': 0,\n",
              "   'r2_score': 1.0},\n",
              "  'mean_anomaly': {'mean_absolute_error': 0.0012581524297890223,\n",
              "   'mean_squared_error': 1.8662617779794818e-06,\n",
              "   'percentError': 0.041119251129001264,\n",
              "   'r2_score': 0.9999986482207027},\n",
              "  'mean_motion': {'mean_absolute_error': 5.259369388097274e-10,\n",
              "   'mean_squared_error': 3.4922655377956873e-19,\n",
              "   'percentError': 10.889747184446914,\n",
              "   'r2_score': -10.239345130554579},\n",
              "  'omega': {'mean_absolute_error': 0.0011131058422752416,\n",
              "   'mean_squared_error': 1.439663108560329e-06,\n",
              "   'percentError': -0.04612615102773691,\n",
              "   'r2_score': -87.54232642619925},\n",
              "  'sqrt_semi_major_axis': {'mean_absolute_error': 0.01441615722278584,\n",
              "   'mean_squared_error': 0.0002839773714901087,\n",
              "   'percentError': 0.0002797273548172654,\n",
              "   'r2_score': -33.153847644356055},\n",
              "  'sv_accuracy': {'mean_absolute_error': 0.2803940607352146,\n",
              "   'mean_squared_error': 0.09431999744991815,\n",
              "   'percentError': 17.39114537378217,\n",
              "   'r2_score': 0.4969600136004365},\n",
              "  'sv_clock_bias': {'mean_absolute_error': 1.2892750377988449e-08,\n",
              "   'mean_squared_error': 1.9882596740034508e-16,\n",
              "   'percentError': -0.005891329690681047,\n",
              "   'r2_score': 0.20635236778278754},\n",
              "  'sv_clock_drift': {'mean_absolute_error': 1.6663907084521264e-14,\n",
              "   'mean_squared_error': 4.208426344816266e-28,\n",
              "   'percentError': -14.65772768283849,\n",
              "   'r2_score': -6.604180078073302e+29},\n",
              "  'sv_clock_drift_rate': {'mean_absolute_error': 0.0,\n",
              "   'mean_squared_error': 0.0,\n",
              "   'percentError': 0,\n",
              "   'r2_score': 1.0},\n",
              "  'sv_health': {'mean_absolute_error': 0.0,\n",
              "   'mean_squared_error': 0.0,\n",
              "   'percentError': 0,\n",
              "   'r2_score': 1.0},\n",
              "  't_tx': {'mean_absolute_error': 17787.725141861658,\n",
              "   'mean_squared_error': 629756089.1451966,\n",
              "   'percentError': 18.956227576204952,\n",
              "   'r2_score': 0.957898656212948},\n",
              "  'tgd': {'mean_absolute_error': 0.0,\n",
              "   'mean_squared_error': 0.0,\n",
              "   'percentError': 0.0,\n",
              "   'r2_score': 1.0},\n",
              "  'time_of_ephemeris': {'mean_absolute_error': 19182.35368785244,\n",
              "   'mean_squared_error': 649328465.9736966,\n",
              "   'percentError': 18.133574516071356,\n",
              "   'r2_score': 0.9566961096274453}},\n",
              " 24: {'OMEGA': {'mean_absolute_error': 0.008538954459501077,\n",
              "   'mean_squared_error': 0.00011028404548514911,\n",
              "   'percentError': -0.31923618148251315,\n",
              "   'r2_score': -102.06763065937463},\n",
              "  'OMEGA_dot': {'mean_absolute_error': 2.779413448686796e-10,\n",
              "   'mean_squared_error': 8.821081007798271e-20,\n",
              "   'percentError': -3.2553456107354117,\n",
              "   'r2_score': -5.183927082862734},\n",
              "  'codes': {'mean_absolute_error': 0.0,\n",
              "   'mean_squared_error': 0.0,\n",
              "   'percentError': 0.0,\n",
              "   'r2_score': 1.0},\n",
              "  'correction_inclination_cosine': {'mean_absolute_error': 7.998657267364098e-08,\n",
              "   'mean_squared_error': 7.424781243450817e-15,\n",
              "   'percentError': -4.77620707098759,\n",
              "   'r2_score': 0.18572310312307017},\n",
              "  'correction_inclination_sine': {'mean_absolute_error': 3.984173835312692e-08,\n",
              "   'mean_squared_error': 2.230429159622667e-15,\n",
              "   'percentError': 15.781049368775248,\n",
              "   'r2_score': 0.7942409361919291},\n",
              "  'correction_latitude_cosine': {'mean_absolute_error': 4.0279968623646384e-06,\n",
              "   'mean_squared_error': 2.5347487134627233e-11,\n",
              "   'percentError': 146.7184900526156,\n",
              "   'r2_score': -8.630863807744845},\n",
              "  'correction_latitude_sine': {'mean_absolute_error': 2.116019896323702e-06,\n",
              "   'mean_squared_error': 5.238994356534509e-12,\n",
              "   'percentError': 43.98339021291427,\n",
              "   'r2_score': -6.780161196857405},\n",
              "  'correction_radius_cosine': {'mean_absolute_error': 39.1843198704932,\n",
              "   'mean_squared_error': 1812.3612316540193,\n",
              "   'percentError': 14.197899626071502,\n",
              "   'r2_score': -6.399373242222904},\n",
              "  'correction_radius_sine': {'mean_absolute_error': 77.76696596278605,\n",
              "   'mean_squared_error': 9447.196958344868,\n",
              "   'percentError': 143.51580290047136,\n",
              "   'r2_score': -8.83785135701832},\n",
              "  'essentricity': {'mean_absolute_error': 5.965875904563098e-06,\n",
              "   'mean_squared_error': 6.341314252011123e-11,\n",
              "   'percentError': 0.09370911385238534,\n",
              "   'r2_score': -2.395948828211889},\n",
              "  'fit_interval': {'mean_absolute_error': 0.0,\n",
              "   'mean_squared_error': 0.0,\n",
              "   'percentError': 0,\n",
              "   'r2_score': 1.0},\n",
              "  'gps_week': {'mean_absolute_error': 0.21447028297726664,\n",
              "   'mean_squared_error': 0.07604426659075544,\n",
              "   'percentError': 0.010848269245182935,\n",
              "   'r2_score': 0.0},\n",
              "  'inclination': {'mean_absolute_error': 1.4598083532064173e-05,\n",
              "   'mean_squared_error': 5.191810341613877e-10,\n",
              "   'percentError': 0.0015468625801259076,\n",
              "   'r2_score': -3.078308856618124},\n",
              "  'inclination_rate': {'mean_absolute_error': 2.370748196676171e-10,\n",
              "   'mean_squared_error': 7.884499063000718e-20,\n",
              "   'percentError': 73.82115990037653,\n",
              "   'r2_score': -1.0376003698535592},\n",
              "  'iodc': {'mean_absolute_error': 19.36958735171009,\n",
              "   'mean_squared_error': 643.3944875525406,\n",
              "   'percentError': 68.87897138205507,\n",
              "   'r2_score': -0.21394096934872975},\n",
              "  'iode': {'mean_absolute_error': 19.036863957253892,\n",
              "   'mean_squared_error': 628.3222975482521,\n",
              "   'percentError': 68.74450066325383,\n",
              "   'r2_score': -0.18550313020339493},\n",
              "  'l2_p_data_flag': {'mean_absolute_error': 0.0,\n",
              "   'mean_squared_error': 0.0,\n",
              "   'percentError': 0,\n",
              "   'r2_score': 1.0},\n",
              "  'mean_anomaly': {'mean_absolute_error': 0.19145518141380177,\n",
              "   'mean_squared_error': 0.09381804965091346,\n",
              "   'percentError': -10.614913710580497,\n",
              "   'r2_score': 0.9696760660575506},\n",
              "  'mean_motion': {'mean_absolute_error': 1.5506662372281098e-10,\n",
              "   'mean_squared_error': 2.897858648460102e-20,\n",
              "   'percentError': 2.972686931181506,\n",
              "   'r2_score': -4.76837539601947},\n",
              "  'omega': {'mean_absolute_error': 0.000946094321666763,\n",
              "   'mean_squared_error': 1.201950754747376e-06,\n",
              "   'percentError': 0.19606614316983847,\n",
              "   'r2_score': 0.05809979333234783},\n",
              "  'sqrt_semi_major_axis': {'mean_absolute_error': 0.0017702192665104842,\n",
              "   'mean_squared_error': 4.7979921123840505e-06,\n",
              "   'percentError': 3.434874498637299e-05,\n",
              "   'r2_score': -0.4442209488132336},\n",
              "  'sv_accuracy': {'mean_absolute_error': 0.15083136830196384,\n",
              "   'mean_squared_error': 0.026879462104072296,\n",
              "   'percentError': 0,\n",
              "   'r2_score': 0.0},\n",
              "  'sv_clock_bias': {'mean_absolute_error': 7.719376732436121e-09,\n",
              "   'mean_squared_error': 7.181136025597821e-17,\n",
              "   'percentError': -0.01804358572930273,\n",
              "   'r2_score': 0.9805269023695298},\n",
              "  'sv_clock_drift': {'mean_absolute_error': 3.2882861046306176e-14,\n",
              "   'mean_squared_error': 2.4719566152587337e-27,\n",
              "   'percentError': -6.296854863557097,\n",
              "   'r2_score': -0.16556736972479613},\n",
              "  'sv_clock_drift_rate': {'mean_absolute_error': 0.0,\n",
              "   'mean_squared_error': 0.0,\n",
              "   'percentError': 0,\n",
              "   'r2_score': 1.0},\n",
              "  'sv_health': {'mean_absolute_error': 0.0,\n",
              "   'mean_squared_error': 0.0,\n",
              "   'percentError': 0,\n",
              "   'r2_score': 1.0},\n",
              "  't_tx': {'mean_absolute_error': 82671.59830133326,\n",
              "   'mean_squared_error': 10080905459.296597,\n",
              "   'percentError': 142077.62823910377,\n",
              "   'r2_score': 0.31811973078980893},\n",
              "  'tgd': {'mean_absolute_error': 0.0,\n",
              "   'mean_squared_error': 0.0,\n",
              "   'percentError': 0.0,\n",
              "   'r2_score': 1.0},\n",
              "  'time_of_ephemeris': {'mean_absolute_error': 41808.91324529068,\n",
              "   'mean_squared_error': 2678682250.203452,\n",
              "   'percentError': 107.32827383548961,\n",
              "   'r2_score': 0.8182583513446741}},\n",
              " 25: {'OMEGA': {'mean_absolute_error': 0.009601848455994672,\n",
              "   'mean_squared_error': 0.0002393033563626032,\n",
              "   'percentError': -0.605004823347139,\n",
              "   'r2_score': -215.81470954059768},\n",
              "  'OMEGA_dot': {'mean_absolute_error': 3.3329082471646017e-10,\n",
              "   'mean_squared_error': 1.8342738842574187e-19,\n",
              "   'percentError': -4.07970198462513,\n",
              "   'r2_score': -4.13380682519107},\n",
              "  'codes': {'mean_absolute_error': 0.0,\n",
              "   'mean_squared_error': 0.0,\n",
              "   'percentError': 0.0,\n",
              "   'r2_score': 1.0},\n",
              "  'correction_inclination_cosine': {'mean_absolute_error': 2.4047280547510126e-08,\n",
              "   'mean_squared_error': 8.595201547009697e-16,\n",
              "   'percentError': -45.09975901036526,\n",
              "   'r2_score': 0.9203372163639235},\n",
              "  'correction_inclination_sine': {'mean_absolute_error': 5.7414281495422385e-08,\n",
              "   'mean_squared_error': 5.481328061180364e-15,\n",
              "   'percentError': -2.769054274647785,\n",
              "   'r2_score': 0.4229809920918455},\n",
              "  'correction_latitude_cosine': {'mean_absolute_error': 7.593031027838403e-06,\n",
              "   'mean_squared_error': 7.045044893876553e-11,\n",
              "   'percentError': -9018.453468745864,\n",
              "   'r2_score': -14.393961459125276},\n",
              "  'correction_latitude_sine': {'mean_absolute_error': 3.2992299146940444e-06,\n",
              "   'mean_squared_error': 2.0447532911637218e-11,\n",
              "   'percentError': 61.763196395189446,\n",
              "   'r2_score': -7.612517624553536},\n",
              "  'correction_radius_cosine': {'mean_absolute_error': 66.44913585924513,\n",
              "   'mean_squared_error': 8033.641338120784,\n",
              "   'percentError': 24.25007417600086,\n",
              "   'r2_score': -8.131695039656057},\n",
              "  'correction_radius_sine': {'mean_absolute_error': 147.99814179672677,\n",
              "   'mean_squared_error': 26653.761996347013,\n",
              "   'percentError': 727.9942497554641,\n",
              "   'r2_score': -14.665033959885234},\n",
              "  'essentricity': {'mean_absolute_error': 2.2921243526334018e-06,\n",
              "   'mean_squared_error': 8.678898204551194e-12,\n",
              "   'percentError': 0.03402138581961857,\n",
              "   'r2_score': 0.7945842446927718},\n",
              "  'fit_interval': {'mean_absolute_error': 0.0,\n",
              "   'mean_squared_error': 0.0,\n",
              "   'percentError': 0,\n",
              "   'r2_score': 1.0},\n",
              "  'gps_week': {'mean_absolute_error': 0.4998029998124557,\n",
              "   'mean_squared_error': 0.2604174762888319,\n",
              "   'percentError': 0.025280880111909747,\n",
              "   'r2_score': 0.0},\n",
              "  'inclination': {'mean_absolute_error': 7.66755904642394e-05,\n",
              "   'mean_squared_error': 8.862471338618867e-09,\n",
              "   'percentError': 0.007859385601581826,\n",
              "   'r2_score': -5.398674306348186},\n",
              "  'inclination_rate': {'mean_absolute_error': 3.9152054056743156e-10,\n",
              "   'mean_squared_error': 1.7758087477202456e-19,\n",
              "   'percentError': -176.65186188131415,\n",
              "   'r2_score': -8.602319598449457},\n",
              "  'iodc': {'mean_absolute_error': 46.886152569299554,\n",
              "   'mean_squared_error': 2960.1887465695745,\n",
              "   'percentError': 63.84964188157039,\n",
              "   'r2_score': -1.0606392875793804},\n",
              "  'iode': {'mean_absolute_error': 39.59473652148308,\n",
              "   'mean_squared_error': 2199.7875402668515,\n",
              "   'percentError': 62.96489671653697,\n",
              "   'r2_score': -0.5313106757312451},\n",
              "  'l2_p_data_flag': {'mean_absolute_error': 0.0,\n",
              "   'mean_squared_error': 0.0,\n",
              "   'percentError': 0,\n",
              "   'r2_score': 1.0},\n",
              "  'mean_anomaly': {'mean_absolute_error': 0.20697934867561732,\n",
              "   'mean_squared_error': 1.2714444985799591,\n",
              "   'percentError': -6.765107239709503,\n",
              "   'r2_score': 0.6111372856241013},\n",
              "  'mean_motion': {'mean_absolute_error': 3.2817160418274083e-10,\n",
              "   'mean_squared_error': 1.669837593680306e-19,\n",
              "   'percentError': 7.532984901200655,\n",
              "   'r2_score': -7.571004381853017},\n",
              "  'omega': {'mean_absolute_error': 0.00023034830736610597,\n",
              "   'mean_squared_error': 8.774303135270571e-08,\n",
              "   'percentError': 0.028607332779200408,\n",
              "   'r2_score': 0.30975614241200644},\n",
              "  'sqrt_semi_major_axis': {'mean_absolute_error': 0.011120927450241241,\n",
              "   'mean_squared_error': 0.00014751530022413228,\n",
              "   'percentError': 0.00021578440178825643,\n",
              "   'r2_score': -18.512687140369252},\n",
              "  'sv_accuracy': {'mean_absolute_error': 0.11104115899487088,\n",
              "   'mean_squared_error': 0.024893823851595855,\n",
              "   'percentError': 35.14593753532289,\n",
              "   'r2_score': 0.7152028009359094},\n",
              "  'sv_clock_bias': {'mean_absolute_error': 4.054551051840782e-09,\n",
              "   'mean_squared_error': 2.071904780085598e-17,\n",
              "   'percentError': -0.0008152767724545202,\n",
              "   'r2_score': 0.999969258945713},\n",
              "  'sv_clock_drift': {'mean_absolute_error': 0.0,\n",
              "   'mean_squared_error': 0.0,\n",
              "   'percentError': 0.0,\n",
              "   'r2_score': 1.0},\n",
              "  'sv_clock_drift_rate': {'mean_absolute_error': 0.0,\n",
              "   'mean_squared_error': 0.0,\n",
              "   'percentError': 0,\n",
              "   'r2_score': 1.0},\n",
              "  'sv_health': {'mean_absolute_error': 0.0,\n",
              "   'mean_squared_error': 0.0,\n",
              "   'percentError': 0,\n",
              "   'r2_score': 1.0},\n",
              "  't_tx': {'mean_absolute_error': 76083.2329921945,\n",
              "   'mean_squared_error': 23311025681.072803,\n",
              "   'percentError': 60615.531097328356,\n",
              "   'r2_score': -0.34090184598968043},\n",
              "  'tgd': {'mean_absolute_error': 0.0,\n",
              "   'mean_squared_error': 0.0,\n",
              "   'percentError': 0.0,\n",
              "   'r2_score': 1.0},\n",
              "  'time_of_ephemeris': {'mean_absolute_error': 49061.150343968,\n",
              "   'mean_squared_error': 6072267131.22849,\n",
              "   'percentError': 98.06698423738285,\n",
              "   'r2_score': 0.648556887330954}},\n",
              " 26: {'OMEGA': {'mean_absolute_error': 0.005034415732058524,\n",
              "   'mean_squared_error': 4.93751847237492e-05,\n",
              "   'percentError': -0.3135976635249149,\n",
              "   'r2_score': -48.48180740812507},\n",
              "  'OMEGA_dot': {'mean_absolute_error': 3.460283491634399e-10,\n",
              "   'mean_squared_error': 1.8862296805801634e-19,\n",
              "   'percentError': -4.146510556491717,\n",
              "   'r2_score': -7.372813187449562},\n",
              "  'codes': {'mean_absolute_error': 0.0,\n",
              "   'mean_squared_error': 0.0,\n",
              "   'percentError': 0.0,\n",
              "   'r2_score': 1.0},\n",
              "  'correction_inclination_cosine': {'mean_absolute_error': 2.932294049296351e-08,\n",
              "   'mean_squared_error': 1.4624087729514963e-15,\n",
              "   'percentError': 20.010271877794626,\n",
              "   'r2_score': 0.5412027277005882},\n",
              "  'correction_inclination_sine': {'mean_absolute_error': 1.5970483066340453e-08,\n",
              "   'mean_squared_error': 4.046327686230419e-16,\n",
              "   'percentError': 35.620512226428175,\n",
              "   'r2_score': 0.7502978731738361},\n",
              "  'correction_latitude_cosine': {'mean_absolute_error': 7.310918073638925e-06,\n",
              "   'mean_squared_error': 6.357315430058539e-11,\n",
              "   'percentError': 1739.7469034523049,\n",
              "   'r2_score': -15.099364478794111},\n",
              "  'correction_latitude_sine': {'mean_absolute_error': 3.4471254384441736e-06,\n",
              "   'mean_squared_error': 2.2069639947683334e-11,\n",
              "   'percentError': 69.5838138527064,\n",
              "   'r2_score': -7.164196400923162},\n",
              "  'correction_radius_cosine': {'mean_absolute_error': 64.74008570675747,\n",
              "   'mean_squared_error': 7863.5032333443605,\n",
              "   'percentError': 23.872747726452886,\n",
              "   'r2_score': -6.802004497718529},\n",
              "  'correction_radius_sine': {'mean_absolute_error': 141.03288127242365,\n",
              "   'mean_squared_error': 23617.522464360536,\n",
              "   'percentError': -2160.6742506451874,\n",
              "   'r2_score': -15.402143218708709},\n",
              "  'essentricity': {'mean_absolute_error': 6.325864737153795e-07,\n",
              "   'mean_squared_error': 5.841362257576734e-13,\n",
              "   'percentError': 0.027527629117360633,\n",
              "   'r2_score': 0.9895071092754347},\n",
              "  'fit_interval': {'mean_absolute_error': 0.0,\n",
              "   'mean_squared_error': 0.0,\n",
              "   'percentError': 0,\n",
              "   'r2_score': 1.0},\n",
              "  'gps_week': {'mean_absolute_error': 0.764953319806328,\n",
              "   'mean_squared_error': 0.586850275038274,\n",
              "   'percentError': 0.0386926312496878,\n",
              "   'r2_score': 0.0},\n",
              "  'inclination': {'mean_absolute_error': 7.694981465859531e-05,\n",
              "   'mean_squared_error': 8.731640092480377e-09,\n",
              "   'percentError': 0.008038609184470294,\n",
              "   'r2_score': -5.634566127221453},\n",
              "  'inclination_rate': {'mean_absolute_error': 3.845845875350014e-10,\n",
              "   'mean_squared_error': 1.6228360046215314e-19,\n",
              "   'percentError': -191.10981777869105,\n",
              "   'r2_score': -14.620298425563318},\n",
              "  'iodc': {'mean_absolute_error': 21.993598726647487,\n",
              "   'mean_squared_error': 748.9518274084825,\n",
              "   'percentError': 82.63104819345244,\n",
              "   'r2_score': -1.1521367591703786},\n",
              "  'iode': {'mean_absolute_error': 21.24841901341564,\n",
              "   'mean_squared_error': 692.0589456222382,\n",
              "   'percentError': 87.02635685771072,\n",
              "   'r2_score': -0.9886532643093253},\n",
              "  'l2_p_data_flag': {'mean_absolute_error': 0.0,\n",
              "   'mean_squared_error': 0.0,\n",
              "   'percentError': 0,\n",
              "   'r2_score': 1.0},\n",
              "  'mean_anomaly': {'mean_absolute_error': 0.002993336452114847,\n",
              "   'mean_squared_error': 1.0175017211891492e-05,\n",
              "   'percentError': -0.0014451997242735262,\n",
              "   'r2_score': 0.9999967101711834},\n",
              "  'mean_motion': {'mean_absolute_error': 3.4182990654921844e-10,\n",
              "   'mean_squared_error': 1.776446090142556e-19,\n",
              "   'percentError': 7.275609984057684,\n",
              "   'r2_score': -7.866507746187153},\n",
              "  'omega': {'mean_absolute_error': 0.001295187386215025,\n",
              "   'mean_squared_error': 2.149737957195605e-06,\n",
              "   'percentError': -1.506029569538456,\n",
              "   'r2_score': -4.263961141545007},\n",
              "  'sqrt_semi_major_axis': {'mean_absolute_error': 0.008734963902432875,\n",
              "   'mean_squared_error': 0.00010414545176712809,\n",
              "   'percentError': 0.0001694934363444465,\n",
              "   'r2_score': -28.372191367955484},\n",
              "  'sv_accuracy': {'mean_absolute_error': 0.1844045254547891,\n",
              "   'mean_squared_error': 0.10537549822645233,\n",
              "   'percentError': 0,\n",
              "   'r2_score': 0.0},\n",
              "  'sv_clock_bias': {'mean_absolute_error': 6.125956987396174e-08,\n",
              "   'mean_squared_error': 5.380303923285946e-15,\n",
              "   'percentError': -0.017786931675881173,\n",
              "   'r2_score': 0.9982468792017491},\n",
              "  'sv_clock_drift': {'mean_absolute_error': 8.003622720951017e-14,\n",
              "   'mean_squared_error': 8.592054299851785e-27,\n",
              "   'percentError': 0.5556555283076172,\n",
              "   'r2_score': -1.8954775224207179},\n",
              "  'sv_clock_drift_rate': {'mean_absolute_error': 0.0,\n",
              "   'mean_squared_error': 0.0,\n",
              "   'percentError': 0,\n",
              "   'r2_score': 1.0},\n",
              "  'sv_health': {'mean_absolute_error': 0.0,\n",
              "   'mean_squared_error': 0.0,\n",
              "   'percentError': 0,\n",
              "   'r2_score': 1.0},\n",
              "  't_tx': {'mean_absolute_error': 23794.48052648003,\n",
              "   'mean_squared_error': 1220583060.622113,\n",
              "   'percentError': 43.82430033685655,\n",
              "   'r2_score': 0.9172811142582924},\n",
              "  'tgd': {'mean_absolute_error': 0.0,\n",
              "   'mean_squared_error': 0.0,\n",
              "   'percentError': 0.0,\n",
              "   'r2_score': 1.0},\n",
              "  'time_of_ephemeris': {'mean_absolute_error': 26777.637966957736,\n",
              "   'mean_squared_error': 1315635835.4646237,\n",
              "   'percentError': 40.03571153697505,\n",
              "   'r2_score': 0.910927370483005}},\n",
              " 27: {'OMEGA': {'mean_absolute_error': 0.004780005298525906,\n",
              "   'mean_squared_error': 4.6269582028697245e-05,\n",
              "   'percentError': -0.8741482511235901,\n",
              "   'r2_score': -48.379046463309585},\n",
              "  'OMEGA_dot': {'mean_absolute_error': 4.907560739380786e-10,\n",
              "   'mean_squared_error': 3.0012616018927735e-19,\n",
              "   'percentError': -6.276843394709216,\n",
              "   'r2_score': -13.783964702963369},\n",
              "  'codes': {'mean_absolute_error': 0.0,\n",
              "   'mean_squared_error': 0.0,\n",
              "   'percentError': 0.0,\n",
              "   'r2_score': 1.0},\n",
              "  'correction_inclination_cosine': {'mean_absolute_error': 4.051600420447955e-08,\n",
              "   'mean_squared_error': 2.1323784642467704e-15,\n",
              "   'percentError': -38.864407257218765,\n",
              "   'r2_score': 0.5924823909047339},\n",
              "  'correction_inclination_sine': {'mean_absolute_error': 5.796098944066679e-08,\n",
              "   'mean_squared_error': 4.383793413857596e-15,\n",
              "   'percentError': 7.216951040543978,\n",
              "   'r2_score': 0.568949900638095},\n",
              "  'correction_latitude_cosine': {'mean_absolute_error': 2.5354968813660674e-06,\n",
              "   'mean_squared_error': 1.3993343573163916e-11,\n",
              "   'percentError': -62.95361141134987,\n",
              "   'r2_score': -5.963769858810965},\n",
              "  'correction_latitude_sine': {'mean_absolute_error': 7.487422371914539e-06,\n",
              "   'mean_squared_error': 7.102986173490147e-11,\n",
              "   'percentError': 76.25946777233035,\n",
              "   'r2_score': -11.378232050870585},\n",
              "  'correction_radius_cosine': {'mean_absolute_error': 142.93448340216682,\n",
              "   'mean_squared_error': 25982.989558175446,\n",
              "   'percentError': 78.14422644738039,\n",
              "   'r2_score': -11.183600066957045},\n",
              "  'correction_radius_sine': {'mean_absolute_error': 50.35254594460792,\n",
              "   'mean_squared_error': 5381.366688388475,\n",
              "   'percentError': -203.21784986641876,\n",
              "   'r2_score': -6.238521963946389},\n",
              "  'essentricity': {'mean_absolute_error': 4.974531014315745e-06,\n",
              "   'mean_squared_error': 2.8608305164687194e-11,\n",
              "   'percentError': 0.09749736944766889,\n",
              "   'r2_score': 0.28248051578330613},\n",
              "  'fit_interval': {'mean_absolute_error': 0.0,\n",
              "   'mean_squared_error': 0.0,\n",
              "   'percentError': 0,\n",
              "   'r2_score': 1.0},\n",
              "  'gps_week': {'mean_absolute_error': 1.0232641491477883,\n",
              "   'mean_squared_error': 1.0668067611953214,\n",
              "   'percentError': 0.05175842939543694,\n",
              "   'r2_score': 0.0},\n",
              "  'inclination': {'mean_absolute_error': 8.834910542815007e-05,\n",
              "   'mean_squared_error': 1.0300621604394193e-08,\n",
              "   'percentError': 0.009047222649796804,\n",
              "   'r2_score': -12.819610649664787},\n",
              "  'inclination_rate': {'mean_absolute_error': 3.4745461764314993e-10,\n",
              "   'mean_squared_error': 1.2993809847163813e-19,\n",
              "   'percentError': 157.223074908605,\n",
              "   'r2_score': -21.908701823449483},\n",
              "  'iodc': {'mean_absolute_error': 27.44169700591127,\n",
              "   'mean_squared_error': 1105.6117712106652,\n",
              "   'percentError': 78.48876537296417,\n",
              "   'r2_score': -0.7860326676399878},\n",
              "  'iode': {'mean_absolute_error': 27.08000701255704,\n",
              "   'mean_squared_error': 1012.1428863262923,\n",
              "   'percentError': 93.15894260910765,\n",
              "   'r2_score': -0.6350407135397065},\n",
              "  'l2_p_data_flag': {'mean_absolute_error': 0.0,\n",
              "   'mean_squared_error': 0.0,\n",
              "   'percentError': 0,\n",
              "   'r2_score': 1.0},\n",
              "  'mean_anomaly': {'mean_absolute_error': 0.48065368601922637,\n",
              "   'mean_squared_error': 0.42992254143202413,\n",
              "   'percentError': -21.67086149698848,\n",
              "   'r2_score': 0.865755528249753},\n",
              "  'mean_motion': {'mean_absolute_error': 4.6202766231655283e-10,\n",
              "   'mean_squared_error': 2.6701018772510417e-19,\n",
              "   'percentError': 11.52906368798782,\n",
              "   'r2_score': -13.115699119661286},\n",
              "  'omega': {'mean_absolute_error': 0.00010271344067652732,\n",
              "   'mean_squared_error': 1.8055030249004206e-08,\n",
              "   'percentError': 0.028040090100822593,\n",
              "   'r2_score': 0.9701698424063097},\n",
              "  'sqrt_semi_major_axis': {'mean_absolute_error': 0.0036020954955347404,\n",
              "   'mean_squared_error': 2.1190042481199746e-05,\n",
              "   'percentError': 6.989364598007453e-05,\n",
              "   'r2_score': -2.1252485212659744},\n",
              "  'sv_accuracy': {'mean_absolute_error': 0.05705129461622465,\n",
              "   'mean_squared_error': 0.0037863018529020946,\n",
              "   'percentError': 0,\n",
              "   'r2_score': 0.0},\n",
              "  'sv_clock_bias': {'mean_absolute_error': 2.816034616404645e-08,\n",
              "   'mean_squared_error': 1.1702845488914005e-15,\n",
              "   'percentError': 0.008001017067741123,\n",
              "   'r2_score': 0.9925792577249203},\n",
              "  'sv_clock_drift': {'mean_absolute_error': 5.5879457179710347e-14,\n",
              "   'mean_squared_error': 5.214043211750211e-27,\n",
              "   'percentError': 1.7036063566125395,\n",
              "   'r2_score': -0.6208720906015355},\n",
              "  'sv_clock_drift_rate': {'mean_absolute_error': 0.0,\n",
              "   'mean_squared_error': 0.0,\n",
              "   'percentError': 0,\n",
              "   'r2_score': 1.0},\n",
              "  'sv_health': {'mean_absolute_error': 0.0,\n",
              "   'mean_squared_error': 0.0,\n",
              "   'percentError': 0,\n",
              "   'r2_score': 1.0},\n",
              "  't_tx': {'mean_absolute_error': 26497.070015038145,\n",
              "   'mean_squared_error': 1266900858.3940864,\n",
              "   'percentError': 41.247944536095495,\n",
              "   'r2_score': 0.9158798724112022},\n",
              "  'tgd': {'mean_absolute_error': 0.0,\n",
              "   'mean_squared_error': 0.0,\n",
              "   'percentError': 0.0,\n",
              "   'r2_score': 1.0},\n",
              "  'time_of_ephemeris': {'mean_absolute_error': 28154.209822577766,\n",
              "   'mean_squared_error': 1345890722.7549727,\n",
              "   'percentError': 35.6390305537582,\n",
              "   'r2_score': 0.9107563758554769}},\n",
              " 28: {'OMEGA': {'mean_absolute_error': 0.006705280381633641,\n",
              "   'mean_squared_error': 6.173000613546261e-05,\n",
              "   'percentError': -0.44512023262247635,\n",
              "   'r2_score': -65.28439839066128},\n",
              "  'OMEGA_dot': {'mean_absolute_error': 3.1031328534007865e-10,\n",
              "   'mean_squared_error': 1.5897254025927902e-19,\n",
              "   'percentError': -3.897344515937517,\n",
              "   'r2_score': -0.356824360837515},\n",
              "  'codes': {'mean_absolute_error': 0.0,\n",
              "   'mean_squared_error': 0.0,\n",
              "   'percentError': 0.0,\n",
              "   'r2_score': 1.0},\n",
              "  'correction_inclination_cosine': {'mean_absolute_error': 1.0402204589188322e-07,\n",
              "   'mean_squared_error': 1.9612263759487213e-14,\n",
              "   'percentError': -29.528428461401035,\n",
              "   'r2_score': 0.4318560837546792},\n",
              "  'correction_inclination_sine': {'mean_absolute_error': 1.1306354961131244e-07,\n",
              "   'mean_squared_error': 2.3143689422788937e-14,\n",
              "   'percentError': 82.43161317456936,\n",
              "   'r2_score': 0.7900146976532728},\n",
              "  'correction_latitude_cosine': {'mean_absolute_error': 7.5674912443351514e-06,\n",
              "   'mean_squared_error': 6.83081303010197e-11,\n",
              "   'percentError': 9362.08521121736,\n",
              "   'r2_score': -14.341268416990626},\n",
              "  'correction_latitude_sine': {'mean_absolute_error': 3.3342889828176075e-06,\n",
              "   'mean_squared_error': 2.0818142827573164e-11,\n",
              "   'percentError': 61.13695508035789,\n",
              "   'r2_score': -6.890701904906679},\n",
              "  'correction_radius_cosine': {'mean_absolute_error': 62.57043100515975,\n",
              "   'mean_squared_error': 7319.441149553499,\n",
              "   'percentError': 22.540123742132607,\n",
              "   'r2_score': -6.309069420160397},\n",
              "  'correction_radius_sine': {'mean_absolute_error': 148.57966220945747,\n",
              "   'mean_squared_error': 26201.80452417818,\n",
              "   'percentError': 662.6609178374243,\n",
              "   'r2_score': -14.875871909973634},\n",
              "  'essentricity': {'mean_absolute_error': 9.569609474737173e-06,\n",
              "   'mean_squared_error': 1.1690969221259497e-10,\n",
              "   'percentError': 0.04781275223074559,\n",
              "   'r2_score': -7.194587041748404},\n",
              "  'fit_interval': {'mean_absolute_error': 0.0,\n",
              "   'mean_squared_error': 0.0,\n",
              "   'percentError': 0,\n",
              "   'r2_score': 1.0},\n",
              "  'gps_week': {'mean_absolute_error': 2.007246945175766,\n",
              "   'mean_squared_error': 4.20448273222,\n",
              "   'percentError': 0.10152994158703926,\n",
              "   'r2_score': 0.0},\n",
              "  'inclination': {'mean_absolute_error': 7.941414268300306e-05,\n",
              "   'mean_squared_error': 9.130427157551326e-09,\n",
              "   'percentError': 0.008045211361512105,\n",
              "   'r2_score': -5.45351133375861},\n",
              "  'inclination_rate': {'mean_absolute_error': 3.922723125518164e-10,\n",
              "   'mean_squared_error': 1.7826077899465484e-19,\n",
              "   'percentError': -134.1021982067596,\n",
              "   'r2_score': -9.992476865775183},\n",
              "  'iodc': {'mean_absolute_error': 36.33872165920062,\n",
              "   'mean_squared_error': 2810.26000787919,\n",
              "   'percentError': 42.081195668649336,\n",
              "   'r2_score': -0.7850192229921664},\n",
              "  'iode': {'mean_absolute_error': 32.874774933961014,\n",
              "   'mean_squared_error': 2265.4799212075363,\n",
              "   'percentError': 40.01121103622461,\n",
              "   'r2_score': -0.4389861426772559},\n",
              "  'l2_p_data_flag': {'mean_absolute_error': 0.0,\n",
              "   'mean_squared_error': 0.0,\n",
              "   'percentError': 0,\n",
              "   'r2_score': 1.0},\n",
              "  'mean_anomaly': {'mean_absolute_error': 1.1926495448131684,\n",
              "   'mean_squared_error': 1.6487982502373353,\n",
              "   'percentError': -68.1293824714833,\n",
              "   'r2_score': 0.56206805442346},\n",
              "  'mean_motion': {'mean_absolute_error': 2.9710258690936894e-10,\n",
              "   'mean_squared_error': 1.3912633762247312e-19,\n",
              "   'percentError': 7.4593241306375,\n",
              "   'r2_score': -2.7892261110327246},\n",
              "  'omega': {'mean_absolute_error': 0.0005075891488439321,\n",
              "   'mean_squared_error': 3.2741863232338206e-07,\n",
              "   'percentError': -0.03279199393953219,\n",
              "   'r2_score': -1.8111462118755415},\n",
              "  'sqrt_semi_major_axis': {'mean_absolute_error': 0.01006930767918675,\n",
              "   'mean_squared_error': 0.0001223871242710373,\n",
              "   'percentError': 0.00019538146147694295,\n",
              "   'r2_score': -27.993075151743845},\n",
              "  'sv_accuracy': {'mean_absolute_error': 0.48418836082304034,\n",
              "   'mean_squared_error': 0.3709431169657362,\n",
              "   'percentError': 44.00342435428204,\n",
              "   'r2_score': 0.05756321909111739},\n",
              "  'sv_clock_bias': {'mean_absolute_error': 2.9678923317974156e-08,\n",
              "   'mean_squared_error': 9.794357701274302e-16,\n",
              "   'percentError': 0.0044534930959536844,\n",
              "   'r2_score': 0.9938332751099219},\n",
              "  'sv_clock_drift': {'mean_absolute_error': 8.313535752058416e-14,\n",
              "   'mean_squared_error': 9.432150294907196e-27,\n",
              "   'percentError': 2.522761455419884,\n",
              "   'r2_score': -0.3031737172940816},\n",
              "  'sv_clock_drift_rate': {'mean_absolute_error': 0.0,\n",
              "   'mean_squared_error': 0.0,\n",
              "   'percentError': 0,\n",
              "   'r2_score': 1.0},\n",
              "  'sv_health': {'mean_absolute_error': 0.0,\n",
              "   'mean_squared_error': 0.0,\n",
              "   'percentError': 0,\n",
              "   'r2_score': 1.0},\n",
              "  't_tx': {'mean_absolute_error': 37604.21660367968,\n",
              "   'mean_squared_error': 1822376134.5102491,\n",
              "   'percentError': 26.62417281333457,\n",
              "   'r2_score': 0.878423181400713},\n",
              "  'tgd': {'mean_absolute_error': 0.0,\n",
              "   'mean_squared_error': 0.0,\n",
              "   'percentError': 0.0,\n",
              "   'r2_score': 1.0},\n",
              "  'time_of_ephemeris': {'mean_absolute_error': 37382.765525368675,\n",
              "   'mean_squared_error': 1712976063.938958,\n",
              "   'percentError': 22.715714535969628,\n",
              "   'r2_score': 0.8860568284416934}},\n",
              " 29: {'OMEGA': {'mean_absolute_error': 0.0033960630188013207,\n",
              "   'mean_squared_error': 2.5425996299251305e-05,\n",
              "   'percentError': -0.7028479420960239,\n",
              "   'r2_score': -26.53526416523784},\n",
              "  'OMEGA_dot': {'mean_absolute_error': 4.856253828407455e-10,\n",
              "   'mean_squared_error': 3.018298851717229e-19,\n",
              "   'percentError': -6.244936394153634,\n",
              "   'r2_score': -15.377767731929811},\n",
              "  'codes': {'mean_absolute_error': 0.0,\n",
              "   'mean_squared_error': 0.0,\n",
              "   'percentError': 0.0,\n",
              "   'r2_score': 1.0},\n",
              "  'correction_inclination_cosine': {'mean_absolute_error': 3.367474106787257e-08,\n",
              "   'mean_squared_error': 1.4958682945630195e-15,\n",
              "   'percentError': -44.12943900860618,\n",
              "   'r2_score': 0.49437126195866266},\n",
              "  'correction_inclination_sine': {'mean_absolute_error': 5.1341416937499186e-08,\n",
              "   'mean_squared_error': 3.807600533665958e-15,\n",
              "   'percentError': -70.82188087219758,\n",
              "   'r2_score': -0.6823529663285033},\n",
              "  'correction_latitude_cosine': {'mean_absolute_error': 1.561037939322616e-06,\n",
              "   'mean_squared_error': 5.7099387949782446e-12,\n",
              "   'percentError': -129.1763079357882,\n",
              "   'r2_score': -4.980946049668686},\n",
              "  'correction_latitude_sine': {'mean_absolute_error': 7.864499295198429e-06,\n",
              "   'mean_squared_error': 7.973010114190484e-11,\n",
              "   'percentError': 85.96101775318897,\n",
              "   'r2_score': -12.918712476949914},\n",
              "  'correction_radius_cosine': {'mean_absolute_error': 156.65514818927204,\n",
              "   'mean_squared_error': 31241.044655229045,\n",
              "   'percentError': 79.2084859865495,\n",
              "   'r2_score': -13.874146464148339},\n",
              "  'correction_radius_sine': {'mean_absolute_error': 30.025583215492425,\n",
              "   'mean_squared_error': 2095.8764039853545,\n",
              "   'percentError': 279.486965904676,\n",
              "   'r2_score': -4.868363682144083},\n",
              "  'essentricity': {'mean_absolute_error': 3.7908184039804463e-06,\n",
              "   'mean_squared_error': 1.80313497076874e-11,\n",
              "   'percentError': 0.8855561959265242,\n",
              "   'r2_score': -10.674353935980802},\n",
              "  'fit_interval': {'mean_absolute_error': 0.0,\n",
              "   'mean_squared_error': 0.0,\n",
              "   'percentError': 0,\n",
              "   'r2_score': 1.0},\n",
              "  'gps_week': {'mean_absolute_error': 0.2889086861008991,\n",
              "   'mean_squared_error': 0.08425299198316955,\n",
              "   'percentError': 0.014613489433530557,\n",
              "   'r2_score': 0.0},\n",
              "  'inclination': {'mean_absolute_error': 8.697546637155273e-05,\n",
              "   'mean_squared_error': 1.0531732241996334e-08,\n",
              "   'percentError': 0.008848544757210223,\n",
              "   'r2_score': -10.075422726695953},\n",
              "  'inclination_rate': {'mean_absolute_error': 3.375962341076318e-10,\n",
              "   'mean_squared_error': 1.2111529820474234e-19,\n",
              "   'percentError': 223.45214325725098,\n",
              "   'r2_score': -17.605535208476898},\n",
              "  'iodc': {'mean_absolute_error': 75.59812876637955,\n",
              "   'mean_squared_error': 7506.919940548154,\n",
              "   'percentError': 92.33513598440936,\n",
              "   'r2_score': -7.1284188454730195},\n",
              "  'iode': {'mean_absolute_error': 63.85105965832962,\n",
              "   'mean_squared_error': 5466.075879461159,\n",
              "   'percentError': 77.50985600711975,\n",
              "   'r2_score': -4.918613031878595},\n",
              "  'l2_p_data_flag': {'mean_absolute_error': 0.0,\n",
              "   'mean_squared_error': 0.0,\n",
              "   'percentError': 0,\n",
              "   'r2_score': 1.0},\n",
              "  'mean_anomaly': {'mean_absolute_error': 0.34511672973101026,\n",
              "   'mean_squared_error': 0.15444152711654768,\n",
              "   'percentError': 19.639606837416196,\n",
              "   'r2_score': 0.959718948303596},\n",
              "  'mean_motion': {'mean_absolute_error': 4.252160073745632e-10,\n",
              "   'mean_squared_error': 2.365832848934518e-19,\n",
              "   'percentError': 10.850381658233399,\n",
              "   'r2_score': -11.504148440342505},\n",
              "  'omega': {'mean_absolute_error': 0.008822461812904785,\n",
              "   'mean_squared_error': 9.346543832802352e-05,\n",
              "   'percentError': 0.9201207217794815,\n",
              "   'r2_score': -0.9965780106772475},\n",
              "  'sqrt_semi_major_axis': {'mean_absolute_error': 0.028737003055039168,\n",
              "   'mean_squared_error': 0.0008821834431407483,\n",
              "   'percentError': 0.000557591395798207,\n",
              "   'r2_score': -312.13981618213484},\n",
              "  'sv_accuracy': {'mean_absolute_error': 0.5754306432124142,\n",
              "   'mean_squared_error': 0.47411639537122846,\n",
              "   'percentError': 90.94227087492234,\n",
              "   'r2_score': -0.9156217994797111},\n",
              "  'sv_clock_bias': {'mean_absolute_error': 7.503235257026384e-09,\n",
              "   'mean_squared_error': 8.78694576088063e-17,\n",
              "   'percentError': 0.0014101137092654805,\n",
              "   'r2_score': 0.9997621134402033},\n",
              "  'sv_clock_drift': {'mean_absolute_error': 1.0766076352078988e-13,\n",
              "   'mean_squared_error': 1.2310046250730784e-26,\n",
              "   'percentError': -2.1565881041856394,\n",
              "   'r2_score': -19.051446236404786},\n",
              "  'sv_clock_drift_rate': {'mean_absolute_error': 0.0,\n",
              "   'mean_squared_error': 0.0,\n",
              "   'percentError': 0,\n",
              "   'r2_score': 1.0},\n",
              "  'sv_health': {'mean_absolute_error': 0.0,\n",
              "   'mean_squared_error': 0.0,\n",
              "   'percentError': 0,\n",
              "   'r2_score': 1.0},\n",
              "  't_tx': {'mean_absolute_error': 17240.178728289382,\n",
              "   'mean_squared_error': 641517965.9870147,\n",
              "   'percentError': 142.67965577125938,\n",
              "   'r2_score': 0.9571123646418396},\n",
              "  'tgd': {'mean_absolute_error': 0.0,\n",
              "   'mean_squared_error': 0.0,\n",
              "   'percentError': 0.0,\n",
              "   'r2_score': 1.0},\n",
              "  'time_of_ephemeris': {'mean_absolute_error': 18167.353974754216,\n",
              "   'mean_squared_error': 652725792.7047956,\n",
              "   'percentError': 79.52072879968912,\n",
              "   'r2_score': 0.95647072812204}},\n",
              " 30: {'OMEGA': {'mean_absolute_error': 0.006519376398002019,\n",
              "   'mean_squared_error': 6.887884943849932e-05,\n",
              "   'percentError': -0.2524512594770784,\n",
              "   'r2_score': -62.09123422287086},\n",
              "  'OMEGA_dot': {'mean_absolute_error': 2.3464705569308985e-10,\n",
              "   'mean_squared_error': 6.689288837497655e-20,\n",
              "   'percentError': -2.734864553600422,\n",
              "   'r2_score': -5.471352930653319},\n",
              "  'codes': {'mean_absolute_error': 0.0,\n",
              "   'mean_squared_error': 0.0,\n",
              "   'percentError': 0.0,\n",
              "   'r2_score': 1.0},\n",
              "  'correction_inclination_cosine': {'mean_absolute_error': 5.5805224972163365e-08,\n",
              "   'mean_squared_error': 3.874047751103554e-15,\n",
              "   'percentError': -55.012400301203996,\n",
              "   'r2_score': -1.0230515411895453},\n",
              "  'correction_inclination_sine': {'mean_absolute_error': 4.9653643467880696e-08,\n",
              "   'mean_squared_error': 3.2943521791599136e-15,\n",
              "   'percentError': -41.40775220225388,\n",
              "   'r2_score': 0.3400468326437319},\n",
              "  'correction_latitude_cosine': {'mean_absolute_error': 4.424112413208041e-06,\n",
              "   'mean_squared_error': 2.9460377020155314e-11,\n",
              "   'percentError': 163.74095227373243,\n",
              "   'r2_score': -8.811674417786545},\n",
              "  'correction_latitude_sine': {'mean_absolute_error': 2.480940350871753e-06,\n",
              "   'mean_squared_error': 7.289201351481722e-12,\n",
              "   'percentError': 57.95517820807611,\n",
              "   'r2_score': -8.465910070833177},\n",
              "  'correction_radius_cosine': {'mean_absolute_error': 44.99472329727398,\n",
              "   'mean_squared_error': 2450.465126195636,\n",
              "   'percentError': 15.677173036273707,\n",
              "   'r2_score': -7.543604781645833},\n",
              "  'correction_radius_sine': {'mean_absolute_error': 84.39959823573805,\n",
              "   'mean_squared_error': 10738.68500835869,\n",
              "   'percentError': 158.67629613085487,\n",
              "   'r2_score': -8.815331296445386},\n",
              "  'essentricity': {'mean_absolute_error': 5.264988894434011e-06,\n",
              "   'mean_squared_error': 4.8602859615191484e-11,\n",
              "   'percentError': 0.17469654965896084,\n",
              "   'r2_score': -0.9025633081780526},\n",
              "  'fit_interval': {'mean_absolute_error': 0.0,\n",
              "   'mean_squared_error': 0.0,\n",
              "   'percentError': 0,\n",
              "   'r2_score': 1.0},\n",
              "  'gps_week': {'mean_absolute_error': 1.0659682586492636,\n",
              "   'mean_squared_error': 1.1469891397235688,\n",
              "   'percentError': 0.053918475399558095,\n",
              "   'r2_score': 0.0},\n",
              "  'inclination': {'mean_absolute_error': 1.8278669958571303e-05,\n",
              "   'mean_squared_error': 4.5073065661660247e-10,\n",
              "   'percentError': 0.0019316132795811696,\n",
              "   'r2_score': -2.429813562101855},\n",
              "  'inclination_rate': {'mean_absolute_error': 2.5295577969702534e-10,\n",
              "   'mean_squared_error': 9.227605045104663e-20,\n",
              "   'percentError': 84.59691094093975,\n",
              "   'r2_score': -1.1347980054718287},\n",
              "  'iodc': {'mean_absolute_error': 38.04016588314546,\n",
              "   'mean_squared_error': 1979.449539067611,\n",
              "   'percentError': 141.0818284806715,\n",
              "   'r2_score': -0.7491750205497838},\n",
              "  'iode': {'mean_absolute_error': 35.77361819346352,\n",
              "   'mean_squared_error': 1689.7591423888698,\n",
              "   'percentError': 164.1515997650723,\n",
              "   'r2_score': -0.4931850619462952},\n",
              "  'l2_p_data_flag': {'mean_absolute_error': 0.0,\n",
              "   'mean_squared_error': 0.0,\n",
              "   'percentError': 0,\n",
              "   'r2_score': 1.0},\n",
              "  'mean_anomaly': {'mean_absolute_error': 0.001565336691350333,\n",
              "   'mean_squared_error': 3.425648055563543e-06,\n",
              "   'percentError': -0.13557765221383936,\n",
              "   'r2_score': 0.9999975197827549},\n",
              "  'mean_motion': {'mean_absolute_error': 1.6796833628849672e-10,\n",
              "   'mean_squared_error': 3.448051532502401e-20,\n",
              "   'percentError': 3.2518239092818138,\n",
              "   'r2_score': -4.098612386467349},\n",
              "  'omega': {'mean_absolute_error': 0.0031664441897709004,\n",
              "   'mean_squared_error': 1.2086981957196542e-05,\n",
              "   'percentError': -0.10322185037427786,\n",
              "   'r2_score': -4.435595108012622},\n",
              "  'sqrt_semi_major_axis': {'mean_absolute_error': 0.00670723119228569,\n",
              "   'mean_squared_error': 5.4434104987543806e-05,\n",
              "   'percentError': 0.00013014655738106498,\n",
              "   'r2_score': -21.93996041211449},\n",
              "  'sv_accuracy': {'mean_absolute_error': 0.43319744971799146,\n",
              "   'mean_squared_error': 0.2477345815261037,\n",
              "   'percentError': 75.02189282921559,\n",
              "   'r2_score': -0.17968848345763688},\n",
              "  'sv_clock_bias': {'mean_absolute_error': 7.893971165058394e-09,\n",
              "   'mean_squared_error': 1.1337121568146818e-16,\n",
              "   'percentError': 0.006346641831709577,\n",
              "   'r2_score': 0.9990168735938848},\n",
              "  'sv_clock_drift': {'mean_absolute_error': 1.2345360320524965e-14,\n",
              "   'mean_squared_error': 1.2638474721602894e-27,\n",
              "   'percentError': -0.4359920896417103,\n",
              "   'r2_score': -0.0865051315148031},\n",
              "  'sv_clock_drift_rate': {'mean_absolute_error': 0.0,\n",
              "   'mean_squared_error': 0.0,\n",
              "   'percentError': 0,\n",
              "   'r2_score': 1.0},\n",
              "  'sv_health': {'mean_absolute_error': 0.0,\n",
              "   'mean_squared_error': 0.0,\n",
              "   'percentError': 0,\n",
              "   'r2_score': 1.0},\n",
              "  't_tx': {'mean_absolute_error': 17302.18868292202,\n",
              "   'mean_squared_error': 474171057.3868707,\n",
              "   'percentError': 13.658378390858541,\n",
              "   'r2_score': 0.9683217843337965},\n",
              "  'tgd': {'mean_absolute_error': 0.0,\n",
              "   'mean_squared_error': 0.0,\n",
              "   'percentError': 0.0,\n",
              "   'r2_score': 1.0},\n",
              "  'time_of_ephemeris': {'mean_absolute_error': 33153.350201262176,\n",
              "   'mean_squared_error': 1735733696.149763,\n",
              "   'percentError': 18.72128274910148,\n",
              "   'r2_score': 0.8842424292824849}},\n",
              " 31: {'OMEGA': {'mean_absolute_error': 0.004017413314850194,\n",
              "   'mean_squared_error': 3.492219349346842e-05,\n",
              "   'percentError': -0.15415732285072886,\n",
              "   'r2_score': -32.96895334131627},\n",
              "  'OMEGA_dot': {'mean_absolute_error': 3.0371842001298064e-10,\n",
              "   'mean_squared_error': 1.1059320841304396e-19,\n",
              "   'percentError': -3.6651575943840244,\n",
              "   'r2_score': -4.807177267325743},\n",
              "  'codes': {'mean_absolute_error': 0.0,\n",
              "   'mean_squared_error': 0.0,\n",
              "   'percentError': 0.0,\n",
              "   'r2_score': 1.0},\n",
              "  'correction_inclination_cosine': {'mean_absolute_error': 5.176563175489629e-08,\n",
              "   'mean_squared_error': 3.605808656995774e-15,\n",
              "   'percentError': -111.48638850398139,\n",
              "   'r2_score': 0.6933628810343762},\n",
              "  'correction_inclination_sine': {'mean_absolute_error': 6.868143182195934e-08,\n",
              "   'mean_squared_error': 5.706950650696152e-15,\n",
              "   'percentError': 67.38641845423392,\n",
              "   'r2_score': -0.16295570662370018},\n",
              "  'correction_latitude_cosine': {'mean_absolute_error': 4.6033237713664506e-06,\n",
              "   'mean_squared_error': 2.9673281687561333e-11,\n",
              "   'percentError': 185.34591927949717,\n",
              "   'r2_score': -11.66293644195215},\n",
              "  'correction_latitude_sine': {'mean_absolute_error': 3.125613110219802e-06,\n",
              "   'mean_squared_error': 1.1497675875327207e-11,\n",
              "   'percentError': 66.67065277645654,\n",
              "   'r2_score': -11.297125640078798},\n",
              "  'correction_radius_cosine': {'mean_absolute_error': 59.10717382380403,\n",
              "   'mean_squared_error': 4118.0254007948915,\n",
              "   'percentError': 20.546306746877192,\n",
              "   'r2_score': -11.4695404634473},\n",
              "  'correction_radius_sine': {'mean_absolute_error': 87.89298225247204,\n",
              "   'mean_squared_error': 10874.649458241902,\n",
              "   'percentError': 189.39639420388124,\n",
              "   'r2_score': -11.693120902319981},\n",
              "  'essentricity': {'mean_absolute_error': 1.2477823003514705e-05,\n",
              "   'mean_squared_error': 2.0017358401316998e-10,\n",
              "   'percentError': 0.1423282014991219,\n",
              "   'r2_score': -21.024894712452266},\n",
              "  'fit_interval': {'mean_absolute_error': 0.0,\n",
              "   'mean_squared_error': 0.0,\n",
              "   'percentError': 0,\n",
              "   'r2_score': 1.0},\n",
              "  'gps_week': {'mean_absolute_error': 0.7975579059557958,\n",
              "   'mean_squared_error': 0.7026081073853547,\n",
              "   'percentError': 0.04034182630024258,\n",
              "   'r2_score': 0.0},\n",
              "  'inclination': {'mean_absolute_error': 1.6963269230785283e-05,\n",
              "   'mean_squared_error': 3.710907573743876e-10,\n",
              "   'percentError': 0.001757251001727499,\n",
              "   'r2_score': -2.0428979909686387},\n",
              "  'inclination_rate': {'mean_absolute_error': 2.747552028766298e-10,\n",
              "   'mean_squared_error': 1.1011568866757985e-19,\n",
              "   'percentError': 167.8525838450537,\n",
              "   'r2_score': -1.4512751628797442},\n",
              "  'iodc': {'mean_absolute_error': 43.24917804974415,\n",
              "   'mean_squared_error': 2465.8848218588882,\n",
              "   'percentError': 106.27584530252693,\n",
              "   'r2_score': -5.965973111836176},\n",
              "  'iode': {'mean_absolute_error': 36.05047038386396,\n",
              "   'mean_squared_error': 1859.1653157616233,\n",
              "   'percentError': 83.4754308614413,\n",
              "   'r2_score': -4.252027785422253},\n",
              "  'l2_p_data_flag': {'mean_absolute_error': 0.0,\n",
              "   'mean_squared_error': 0.0,\n",
              "   'percentError': 0,\n",
              "   'r2_score': 1.0},\n",
              "  'mean_anomaly': {'mean_absolute_error': 0.22673780358801077,\n",
              "   'mean_squared_error': 0.07236810759431392,\n",
              "   'percentError': -12.662003792274401,\n",
              "   'r2_score': 0.9476059381233748},\n",
              "  'mean_motion': {'mean_absolute_error': 1.919719464825749e-10,\n",
              "   'mean_squared_error': 4.2713037195870455e-20,\n",
              "   'percentError': 4.152418345500549,\n",
              "   'r2_score': -6.8269795719044275},\n",
              "  'omega': {'mean_absolute_error': 0.0005167279277761324,\n",
              "   'mean_squared_error': 3.1911180369005146e-07,\n",
              "   'percentError': -0.24396147011376274,\n",
              "   'r2_score': 0.6300534746773008},\n",
              "  'sqrt_semi_major_axis': {'mean_absolute_error': 0.0066694592839212415,\n",
              "   'mean_squared_error': 5.4498867530799557e-05,\n",
              "   'percentError': 0.00012941454196395972,\n",
              "   'r2_score': -10.682998253268204},\n",
              "  'sv_accuracy': {'mean_absolute_error': 0.0,\n",
              "   'mean_squared_error': 0.0,\n",
              "   'percentError': 0,\n",
              "   'r2_score': 1.0},\n",
              "  'sv_clock_bias': {'mean_absolute_error': 1.9032085877345262e-09,\n",
              "   'mean_squared_error': 6.2641052314232985e-18,\n",
              "   'percentError': 0.001194222307981611,\n",
              "   'r2_score': 0.9999352569268658},\n",
              "  'sv_clock_drift': {'mean_absolute_error': 7.258634494742462e-14,\n",
              "   'mean_squared_error': 5.997896646308752e-27,\n",
              "   'percentError': -2.894613877707205,\n",
              "   'r2_score': -1.9004048477235331},\n",
              "  'sv_clock_drift_rate': {'mean_absolute_error': 0.0,\n",
              "   'mean_squared_error': 0.0,\n",
              "   'percentError': 0,\n",
              "   'r2_score': 1.0},\n",
              "  'sv_health': {'mean_absolute_error': 0.0,\n",
              "   'mean_squared_error': 0.0,\n",
              "   'percentError': 0,\n",
              "   'r2_score': 1.0},\n",
              "  't_tx': {'mean_absolute_error': 20010.053346483524,\n",
              "   'mean_squared_error': 781873226.181854,\n",
              "   'percentError': 34.66798506997044,\n",
              "   'r2_score': 0.9477178202586971},\n",
              "  'tgd': {'mean_absolute_error': 0.0,\n",
              "   'mean_squared_error': 0.0,\n",
              "   'percentError': 0.0,\n",
              "   'r2_score': 1.0},\n",
              "  'time_of_ephemeris': {'mean_absolute_error': 19433.666863058002,\n",
              "   'mean_squared_error': 847600257.4581628,\n",
              "   'percentError': 30.403996019372535,\n",
              "   'r2_score': 0.9434734188128779}},\n",
              " 32: {'OMEGA': {'mean_absolute_error': 0.005287984300183712,\n",
              "   'mean_squared_error': 4.721293272006222e-05,\n",
              "   'percentError': 0.204053676023727,\n",
              "   'r2_score': -48.16210818873028},\n",
              "  'OMEGA_dot': {'mean_absolute_error': 2.57657843692818e-10,\n",
              "   'mean_squared_error': 9.063336474915228e-20,\n",
              "   'percentError': -3.2548084887485156,\n",
              "   'r2_score': -7.009193369410964},\n",
              "  'codes': {'mean_absolute_error': 0.0,\n",
              "   'mean_squared_error': 0.0,\n",
              "   'percentError': 0.0,\n",
              "   'r2_score': 1.0},\n",
              "  'correction_inclination_cosine': {'mean_absolute_error': 2.419882281641654e-08,\n",
              "   'mean_squared_error': 7.335181664059065e-16,\n",
              "   'percentError': -24.384361714356007,\n",
              "   'r2_score': 0.7479929557279665},\n",
              "  'correction_inclination_sine': {'mean_absolute_error': 6.019254305907577e-08,\n",
              "   'mean_squared_error': 4.907706107502099e-15,\n",
              "   'percentError': 24.86637577694711,\n",
              "   'r2_score': -0.548124649133438},\n",
              "  'correction_latitude_cosine': {'mean_absolute_error': 9.266764902675577e-07,\n",
              "   'mean_squared_error': 1.0895712075015217e-12,\n",
              "   'percentError': 39.67519308693966,\n",
              "   'r2_score': -7.443657828611801},\n",
              "  'correction_latitude_sine': {'mean_absolute_error': 5.543272625020343e-06,\n",
              "   'mean_squared_error': 4.0062239050965094e-11,\n",
              "   'percentError': 50.002952344989005,\n",
              "   'r2_score': -10.079171855575572},\n",
              "  'correction_radius_cosine': {'mean_absolute_error': 106.22872147440543,\n",
              "   'mean_squared_error': 14763.942083783828,\n",
              "   'percentError': 69.01094543801118,\n",
              "   'r2_score': -10.195980710410439},\n",
              "  'correction_radius_sine': {'mean_absolute_error': 17.881686693271664,\n",
              "   'mean_squared_error': 400.5024449852415,\n",
              "   'percentError': 40.34992723080495,\n",
              "   'r2_score': -6.21545868779765},\n",
              "  'essentricity': {'mean_absolute_error': 4.953698761491929e-06,\n",
              "   'mean_squared_error': 2.917814504251732e-11,\n",
              "   'percentError': 0.33138236246227937,\n",
              "   'r2_score': -2.392248562149304},\n",
              "  'fit_interval': {'mean_absolute_error': 0.0,\n",
              "   'mean_squared_error': 0.0,\n",
              "   'percentError': 0,\n",
              "   'r2_score': 1.0},\n",
              "  'gps_week': {'mean_absolute_error': 0.35812658173767886,\n",
              "   'mean_squared_error': 0.13815424035910684,\n",
              "   'percentError': 0.018114647533519417,\n",
              "   'r2_score': 0.0},\n",
              "  'inclination': {'mean_absolute_error': 0.00012731174133713276,\n",
              "   'mean_squared_error': 2.107152314473677e-08,\n",
              "   'percentError': 0.013293903045400974,\n",
              "   'r2_score': -83.4347472903497},\n",
              "  'inclination_rate': {'mean_absolute_error': 4.204986573255916e-10,\n",
              "   'mean_squared_error': 2.0445208044365062e-19,\n",
              "   'percentError': 331.47022063881167,\n",
              "   'r2_score': -9.946092673196176},\n",
              "  'iodc': {'mean_absolute_error': 34.270086952999065,\n",
              "   'mean_squared_error': 1453.104797651447,\n",
              "   'percentError': 45.829026158656795,\n",
              "   'r2_score': -0.819532427228268},\n",
              "  'iode': {'mean_absolute_error': 32.01075975638677,\n",
              "   'mean_squared_error': 1334.584870309409,\n",
              "   'percentError': 44.16502524562288,\n",
              "   'r2_score': -0.6711254772132949},\n",
              "  'l2_p_data_flag': {'mean_absolute_error': 0.0,\n",
              "   'mean_squared_error': 0.0,\n",
              "   'percentError': 0,\n",
              "   'r2_score': 1.0},\n",
              "  'mean_anomaly': {'mean_absolute_error': 1.837694941995066,\n",
              "   'mean_squared_error': 3.693422571851683,\n",
              "   'percentError': 12.45278012621745,\n",
              "   'r2_score': -0.1378910107354152},\n",
              "  'mean_motion': {'mean_absolute_error': 5.441029093416669e-10,\n",
              "   'mean_squared_error': 3.726489594141114e-19,\n",
              "   'percentError': 12.368314869315617,\n",
              "   'r2_score': -11.888394705330452},\n",
              "  'omega': {'mean_absolute_error': 0.0071464011259097585,\n",
              "   'mean_squared_error': 6.383068109390003e-05,\n",
              "   'percentError': -0.26937102177931865,\n",
              "   'r2_score': -11.944335301141994},\n",
              "  'sqrt_semi_major_axis': {'mean_absolute_error': 0.008996550698684587,\n",
              "   'mean_squared_error': 0.0001278378134590805,\n",
              "   'percentError': 0.00017456776681110405,\n",
              "   'r2_score': -5.12005649284791},\n",
              "  'sv_accuracy': {'mean_absolute_error': 0.24863059463584442,\n",
              "   'mean_squared_error': 0.08292287371143522,\n",
              "   'percentError': 53.37955234100281,\n",
              "   'r2_score': 0.4817320393035299},\n",
              "  'sv_clock_bias': {'mean_absolute_error': 5.2063404802288674e-08,\n",
              "   'mean_squared_error': 3.9271945874925305e-15,\n",
              "   'percentError': -0.00988217221152787,\n",
              "   'r2_score': 0.959763256898714},\n",
              "  'sv_clock_drift': {'mean_absolute_error': 3.0107566604558846e-14,\n",
              "   'mean_squared_error': 1.3595451769664239e-27,\n",
              "   'percentError': -1.1905412817684395,\n",
              "   'r2_score': 0.5617095286896034},\n",
              "  'sv_clock_drift_rate': {'mean_absolute_error': 0.0,\n",
              "   'mean_squared_error': 0.0,\n",
              "   'percentError': 0,\n",
              "   'r2_score': 1.0},\n",
              "  'sv_health': {'mean_absolute_error': 0.0,\n",
              "   'mean_squared_error': 0.0,\n",
              "   'percentError': 0,\n",
              "   'r2_score': 1.0},\n",
              "  't_tx': {'mean_absolute_error': 24114.499498759644,\n",
              "   'mean_squared_error': 1095411036.6858835,\n",
              "   'percentError': 52.85167826000426,\n",
              "   'r2_score': 0.9268034792111391},\n",
              "  'tgd': {'mean_absolute_error': 0.0,\n",
              "   'mean_squared_error': 0.0,\n",
              "   'percentError': 0.0,\n",
              "   'r2_score': 1.0},\n",
              "  'time_of_ephemeris': {'mean_absolute_error': 26053.54431602023,\n",
              "   'mean_squared_error': 1166328029.9343984,\n",
              "   'percentError': 43.727907504706465,\n",
              "   'r2_score': 0.9224185803843126}}}"
            ]
          },
          "metadata": {
            "tags": []
          },
          "execution_count": 97
        }
      ]
    },
    {
      "cell_type": "code",
      "metadata": {
        "id": "8qT2y7A9qXEH",
        "colab_type": "code",
        "colab": {
          "base_uri": "https://localhost:8080/",
          "height": 1000
        },
        "outputId": "13ec3150-70ed-4f88-f464-097ebd1a8941"
      },
      "source": [
        "error[2]"
      ],
      "execution_count": 98,
      "outputs": [
        {
          "output_type": "execute_result",
          "data": {
            "text/plain": [
              "{'OMEGA': {'mean_absolute_error': 0.010804678167189219,\n",
              "  'mean_squared_error': 0.00022565498158663884,\n",
              "  'percentError': 2.3907333224901475,\n",
              "  'r2_score': -195.98554204898787},\n",
              " 'OMEGA_dot': {'mean_absolute_error': 2.438231430558741e-10,\n",
              "  'mean_squared_error': 8.413301288140493e-20,\n",
              "  'percentError': -2.882973536070954,\n",
              "  'r2_score': 0.20227782768171976},\n",
              " 'codes': {'mean_absolute_error': 0.0,\n",
              "  'mean_squared_error': 0.0,\n",
              "  'percentError': 0.0,\n",
              "  'r2_score': 1.0},\n",
              " 'correction_inclination_cosine': {'mean_absolute_error': 1.3716923302821168e-07,\n",
              "  'mean_squared_error': 3.529115068849881e-14,\n",
              "  'percentError': -9.051172952366429,\n",
              "  'r2_score': 0.1115370564776712},\n",
              " 'correction_inclination_sine': {'mean_absolute_error': 1.024374856327579e-07,\n",
              "  'mean_squared_error': 1.9503947782213823e-14,\n",
              "  'percentError': 33.55914028980623,\n",
              "  'r2_score': 0.7625180736373963},\n",
              " 'correction_latitude_cosine': {'mean_absolute_error': 6.260951752001452e-06,\n",
              "  'mean_squared_error': 4.9394879575600055e-11,\n",
              "  'percentError': 384.45504673655273,\n",
              "  'r2_score': -13.35024252641358},\n",
              " 'correction_latitude_sine': {'mean_absolute_error': 1.2381278881685881e-06,\n",
              "  'mean_squared_error': 2.6598310982747095e-12,\n",
              "  'percentError': 21.099699395221876,\n",
              "  'r2_score': -2.315733651887637},\n",
              " 'correction_radius_cosine': {'mean_absolute_error': 23.95934139167212,\n",
              "  'mean_squared_error': 1044.6312974401933,\n",
              "  'percentError': 9.517490878629898,\n",
              "  'r2_score': -2.5000118961555144},\n",
              " 'correction_radius_sine': {'mean_absolute_error': 121.82828971899514,\n",
              "  'mean_squared_error': 18652.013702356187,\n",
              "  'percentError': 1752.035241296105,\n",
              "  'r2_score': -13.677738689950477},\n",
              " 'essentricity': {'mean_absolute_error': 3.6994923358484265e-06,\n",
              "  'mean_squared_error': 3.0282994428483636e-11,\n",
              "  'percentError': 0.021318498702994848,\n",
              "  'r2_score': -0.8711717167695552},\n",
              " 'fit_interval': {'mean_absolute_error': 0.0,\n",
              "  'mean_squared_error': 0.0,\n",
              "  'percentError': 0,\n",
              "  'r2_score': 1.0},\n",
              " 'gps_week': {'mean_absolute_error': 1.1186714839746628,\n",
              "  'mean_squared_error': 1.3671352777100507,\n",
              "  'percentError': 0.05658429357484385,\n",
              "  'r2_score': 0.0},\n",
              " 'inclination': {'mean_absolute_error': 3.0915411534881976e-05,\n",
              "  'mean_squared_error': 1.2136940140445886e-09,\n",
              "  'percentError': 0.003259664822064723,\n",
              "  'r2_score': -0.5757582524487517},\n",
              " 'inclination_rate': {'mean_absolute_error': 2.493744422368286e-10,\n",
              "  'mean_squared_error': 7.863646196516028e-20,\n",
              "  'percentError': -728.2711620693435,\n",
              "  'r2_score': -0.7186863887266641},\n",
              " 'iodc': {'mean_absolute_error': 19.157475830501088,\n",
              "  'mean_squared_error': 495.8325607105661,\n",
              "  'percentError': 216.7900237119301,\n",
              "  'r2_score': -0.04687252565752975},\n",
              " 'iode': {'mean_absolute_error': 17.335603577400438,\n",
              "  'mean_squared_error': 440.0526691250094,\n",
              "  'percentError': 271.11202143282026,\n",
              "  'r2_score': 0.07089794891838608},\n",
              " 'l2_p_data_flag': {'mean_absolute_error': 0.0,\n",
              "  'mean_squared_error': 0.0,\n",
              "  'percentError': 0,\n",
              "  'r2_score': 1.0},\n",
              " 'mean_anomaly': {'mean_absolute_error': 0.4342005419926188,\n",
              "  'mean_squared_error': 2.645634764717699,\n",
              "  'percentError': -16.0734489808323,\n",
              "  'r2_score': 0.23316502836033148},\n",
              " 'mean_motion': {'mean_absolute_error': 3.06912344834486e-10,\n",
              "  'mean_squared_error': 1.077501810058876e-19,\n",
              "  'percentError': 6.0991326929744885,\n",
              "  'r2_score': -2.1236715431606057},\n",
              " 'omega': {'mean_absolute_error': 0.0008284794349855555,\n",
              "  'mean_squared_error': 9.287557309064654e-07,\n",
              "  'percentError': -0.04283808036797094,\n",
              "  'r2_score': -0.1902872660429018},\n",
              " 'sqrt_semi_major_axis': {'mean_absolute_error': 0.012752966141094172,\n",
              "  'mean_squared_error': 0.0001849052620207741,\n",
              "  'percentError': 0.00024745613553763885,\n",
              "  'r2_score': -31.284624676691323},\n",
              " 'sv_accuracy': {'mean_absolute_error': 0.053097343377143856,\n",
              "  'mean_squared_error': 0.004295784331498281,\n",
              "  'percentError': 0,\n",
              "  'r2_score': 0.0},\n",
              " 'sv_clock_bias': {'mean_absolute_error': 1.4694496993357846e-08,\n",
              "  'mean_squared_error': 3.081152681125011e-16,\n",
              "  'percentError': 0.005472952509401606,\n",
              "  'r2_score': 0.9998009306416207},\n",
              " 'sv_clock_drift': {'mean_absolute_error': 5.859803067951663e-14,\n",
              "  'mean_squared_error': 6.638486216949543e-27,\n",
              "  'percentError': -0.5925706137962916,\n",
              "  'r2_score': -1.0545119721098861},\n",
              " 'sv_clock_drift_rate': {'mean_absolute_error': 0.0,\n",
              "  'mean_squared_error': 0.0,\n",
              "  'percentError': 0,\n",
              "  'r2_score': 1.0},\n",
              " 'sv_health': {'mean_absolute_error': 0.0,\n",
              "  'mean_squared_error': 0.0,\n",
              "  'percentError': 0,\n",
              "  'r2_score': 1.0},\n",
              " 't_tx': {'mean_absolute_error': 92366.69766901102,\n",
              "  'mean_squared_error': 12845585058.176643,\n",
              "  'percentError': 159433.94861777365,\n",
              "  'r2_score': 0.20003136697145263},\n",
              " 'tgd': {'mean_absolute_error': 0.0,\n",
              "  'mean_squared_error': 0.0,\n",
              "  'percentError': 0.0,\n",
              "  'r2_score': 1.0},\n",
              " 'time_of_ephemeris': {'mean_absolute_error': 65122.82332525931,\n",
              "  'mean_squared_error': 7205794545.769057,\n",
              "  'percentError': 140.67763593688778,\n",
              "  'r2_score': 0.5500254684617966}}"
            ]
          },
          "metadata": {
            "tags": []
          },
          "execution_count": 98
        }
      ]
    },
    {
      "cell_type": "code",
      "metadata": {
        "id": "eizxL65P1IKY",
        "colab_type": "code",
        "colab": {
          "base_uri": "https://localhost:8080/",
          "height": 336
        },
        "outputId": "faca472c-d034-4aa1-ee3b-675b1d61bbe0"
      },
      "source": [
        "import json\n",
        "with open('result_25_5_normalize.json', 'r') as fp:\n",
        "    json.dump(repr(error), fp)"
      ],
      "execution_count": 94,
      "outputs": [
        {
          "output_type": "error",
          "ename": "UnsupportedOperation",
          "evalue": "ignored",
          "traceback": [
            "\u001b[0;31m---------------------------------------------------------------------------\u001b[0m",
            "\u001b[0;31mUnsupportedOperation\u001b[0m                      Traceback (most recent call last)",
            "\u001b[0;32m<ipython-input-94-37d16e6403be>\u001b[0m in \u001b[0;36m<module>\u001b[0;34m()\u001b[0m\n\u001b[1;32m      1\u001b[0m \u001b[0;32mimport\u001b[0m \u001b[0mjson\u001b[0m\u001b[0;34m\u001b[0m\u001b[0;34m\u001b[0m\u001b[0m\n\u001b[1;32m      2\u001b[0m \u001b[0;32mwith\u001b[0m \u001b[0mopen\u001b[0m\u001b[0;34m(\u001b[0m\u001b[0;34m'result_25_5_normalize.json'\u001b[0m\u001b[0;34m,\u001b[0m \u001b[0;34m'r'\u001b[0m\u001b[0;34m)\u001b[0m \u001b[0;32mas\u001b[0m \u001b[0mfp\u001b[0m\u001b[0;34m:\u001b[0m\u001b[0;34m\u001b[0m\u001b[0;34m\u001b[0m\u001b[0m\n\u001b[0;32m----> 3\u001b[0;31m     \u001b[0mjson\u001b[0m\u001b[0;34m.\u001b[0m\u001b[0mdump\u001b[0m\u001b[0;34m(\u001b[0m\u001b[0mrepr\u001b[0m\u001b[0;34m(\u001b[0m\u001b[0merror\u001b[0m\u001b[0;34m)\u001b[0m\u001b[0;34m,\u001b[0m \u001b[0mfp\u001b[0m\u001b[0;34m)\u001b[0m\u001b[0;34m\u001b[0m\u001b[0;34m\u001b[0m\u001b[0m\n\u001b[0m",
            "\u001b[0;32m/usr/lib/python3.6/json/__init__.py\u001b[0m in \u001b[0;36mdump\u001b[0;34m(obj, fp, skipkeys, ensure_ascii, check_circular, allow_nan, cls, indent, separators, default, sort_keys, **kw)\u001b[0m\n\u001b[1;32m    178\u001b[0m     \u001b[0;31m# a debuggability cost\u001b[0m\u001b[0;34m\u001b[0m\u001b[0;34m\u001b[0m\u001b[0;34m\u001b[0m\u001b[0m\n\u001b[1;32m    179\u001b[0m     \u001b[0;32mfor\u001b[0m \u001b[0mchunk\u001b[0m \u001b[0;32min\u001b[0m \u001b[0miterable\u001b[0m\u001b[0;34m:\u001b[0m\u001b[0;34m\u001b[0m\u001b[0;34m\u001b[0m\u001b[0m\n\u001b[0;32m--> 180\u001b[0;31m         \u001b[0mfp\u001b[0m\u001b[0;34m.\u001b[0m\u001b[0mwrite\u001b[0m\u001b[0;34m(\u001b[0m\u001b[0mchunk\u001b[0m\u001b[0;34m)\u001b[0m\u001b[0;34m\u001b[0m\u001b[0;34m\u001b[0m\u001b[0m\n\u001b[0m\u001b[1;32m    181\u001b[0m \u001b[0;34m\u001b[0m\u001b[0m\n\u001b[1;32m    182\u001b[0m \u001b[0;34m\u001b[0m\u001b[0m\n",
            "\u001b[0;31mUnsupportedOperation\u001b[0m: not writable"
          ]
        }
      ]
    },
    {
      "cell_type": "code",
      "metadata": {
        "id": "ApBf1MCDy40f",
        "colab_type": "code",
        "colab": {
          "base_uri": "https://localhost:8080/",
          "height": 306
        },
        "outputId": "838b2f3a-2300-499f-cce9-903de547b025"
      },
      "source": [
        "with open('result_25_5_normalizeresult_25_5_not_normalized.json', 'r') as fp:\n",
        "    error = json.load(fp)"
      ],
      "execution_count": 95,
      "outputs": [
        {
          "output_type": "error",
          "ename": "JSONDecodeError",
          "evalue": "ignored",
          "traceback": [
            "\u001b[0;31m---------------------------------------------------------------------------\u001b[0m",
            "\u001b[0;31mJSONDecodeError\u001b[0m                           Traceback (most recent call last)",
            "\u001b[0;32m<ipython-input-95-9224ea80bb1a>\u001b[0m in \u001b[0;36m<module>\u001b[0;34m()\u001b[0m\n\u001b[1;32m      1\u001b[0m \u001b[0;32mwith\u001b[0m \u001b[0mopen\u001b[0m\u001b[0;34m(\u001b[0m\u001b[0;34m'result_25_5_normalizeresult_25_5_not_normalized.json'\u001b[0m\u001b[0;34m,\u001b[0m \u001b[0;34m'r'\u001b[0m\u001b[0;34m)\u001b[0m \u001b[0;32mas\u001b[0m \u001b[0mfp\u001b[0m\u001b[0;34m:\u001b[0m\u001b[0;34m\u001b[0m\u001b[0;34m\u001b[0m\u001b[0m\n\u001b[0;32m----> 2\u001b[0;31m     \u001b[0merror\u001b[0m \u001b[0;34m=\u001b[0m \u001b[0mjson\u001b[0m\u001b[0;34m.\u001b[0m\u001b[0mload\u001b[0m\u001b[0;34m(\u001b[0m\u001b[0mfp\u001b[0m\u001b[0;34m)\u001b[0m\u001b[0;34m\u001b[0m\u001b[0;34m\u001b[0m\u001b[0m\n\u001b[0m",
            "\u001b[0;32m/usr/lib/python3.6/json/__init__.py\u001b[0m in \u001b[0;36mload\u001b[0;34m(fp, cls, object_hook, parse_float, parse_int, parse_constant, object_pairs_hook, **kw)\u001b[0m\n\u001b[1;32m    297\u001b[0m         \u001b[0mcls\u001b[0m\u001b[0;34m=\u001b[0m\u001b[0mcls\u001b[0m\u001b[0;34m,\u001b[0m \u001b[0mobject_hook\u001b[0m\u001b[0;34m=\u001b[0m\u001b[0mobject_hook\u001b[0m\u001b[0;34m,\u001b[0m\u001b[0;34m\u001b[0m\u001b[0;34m\u001b[0m\u001b[0m\n\u001b[1;32m    298\u001b[0m         \u001b[0mparse_float\u001b[0m\u001b[0;34m=\u001b[0m\u001b[0mparse_float\u001b[0m\u001b[0;34m,\u001b[0m \u001b[0mparse_int\u001b[0m\u001b[0;34m=\u001b[0m\u001b[0mparse_int\u001b[0m\u001b[0;34m,\u001b[0m\u001b[0;34m\u001b[0m\u001b[0;34m\u001b[0m\u001b[0m\n\u001b[0;32m--> 299\u001b[0;31m         parse_constant=parse_constant, object_pairs_hook=object_pairs_hook, **kw)\n\u001b[0m\u001b[1;32m    300\u001b[0m \u001b[0;34m\u001b[0m\u001b[0m\n\u001b[1;32m    301\u001b[0m \u001b[0;34m\u001b[0m\u001b[0m\n",
            "\u001b[0;32m/usr/lib/python3.6/json/__init__.py\u001b[0m in \u001b[0;36mloads\u001b[0;34m(s, encoding, cls, object_hook, parse_float, parse_int, parse_constant, object_pairs_hook, **kw)\u001b[0m\n\u001b[1;32m    352\u001b[0m             \u001b[0mparse_int\u001b[0m \u001b[0;32mis\u001b[0m \u001b[0;32mNone\u001b[0m \u001b[0;32mand\u001b[0m \u001b[0mparse_float\u001b[0m \u001b[0;32mis\u001b[0m \u001b[0;32mNone\u001b[0m \u001b[0;32mand\u001b[0m\u001b[0;34m\u001b[0m\u001b[0;34m\u001b[0m\u001b[0m\n\u001b[1;32m    353\u001b[0m             parse_constant is None and object_pairs_hook is None and not kw):\n\u001b[0;32m--> 354\u001b[0;31m         \u001b[0;32mreturn\u001b[0m \u001b[0m_default_decoder\u001b[0m\u001b[0;34m.\u001b[0m\u001b[0mdecode\u001b[0m\u001b[0;34m(\u001b[0m\u001b[0ms\u001b[0m\u001b[0;34m)\u001b[0m\u001b[0;34m\u001b[0m\u001b[0;34m\u001b[0m\u001b[0m\n\u001b[0m\u001b[1;32m    355\u001b[0m     \u001b[0;32mif\u001b[0m \u001b[0mcls\u001b[0m \u001b[0;32mis\u001b[0m \u001b[0;32mNone\u001b[0m\u001b[0;34m:\u001b[0m\u001b[0;34m\u001b[0m\u001b[0;34m\u001b[0m\u001b[0m\n\u001b[1;32m    356\u001b[0m         \u001b[0mcls\u001b[0m \u001b[0;34m=\u001b[0m \u001b[0mJSONDecoder\u001b[0m\u001b[0;34m\u001b[0m\u001b[0;34m\u001b[0m\u001b[0m\n",
            "\u001b[0;32m/usr/lib/python3.6/json/decoder.py\u001b[0m in \u001b[0;36mdecode\u001b[0;34m(self, s, _w)\u001b[0m\n\u001b[1;32m    337\u001b[0m \u001b[0;34m\u001b[0m\u001b[0m\n\u001b[1;32m    338\u001b[0m         \"\"\"\n\u001b[0;32m--> 339\u001b[0;31m         \u001b[0mobj\u001b[0m\u001b[0;34m,\u001b[0m \u001b[0mend\u001b[0m \u001b[0;34m=\u001b[0m \u001b[0mself\u001b[0m\u001b[0;34m.\u001b[0m\u001b[0mraw_decode\u001b[0m\u001b[0;34m(\u001b[0m\u001b[0ms\u001b[0m\u001b[0;34m,\u001b[0m \u001b[0midx\u001b[0m\u001b[0;34m=\u001b[0m\u001b[0m_w\u001b[0m\u001b[0;34m(\u001b[0m\u001b[0ms\u001b[0m\u001b[0;34m,\u001b[0m \u001b[0;36m0\u001b[0m\u001b[0;34m)\u001b[0m\u001b[0;34m.\u001b[0m\u001b[0mend\u001b[0m\u001b[0;34m(\u001b[0m\u001b[0;34m)\u001b[0m\u001b[0;34m)\u001b[0m\u001b[0;34m\u001b[0m\u001b[0;34m\u001b[0m\u001b[0m\n\u001b[0m\u001b[1;32m    340\u001b[0m         \u001b[0mend\u001b[0m \u001b[0;34m=\u001b[0m \u001b[0m_w\u001b[0m\u001b[0;34m(\u001b[0m\u001b[0ms\u001b[0m\u001b[0;34m,\u001b[0m \u001b[0mend\u001b[0m\u001b[0;34m)\u001b[0m\u001b[0;34m.\u001b[0m\u001b[0mend\u001b[0m\u001b[0;34m(\u001b[0m\u001b[0;34m)\u001b[0m\u001b[0;34m\u001b[0m\u001b[0;34m\u001b[0m\u001b[0m\n\u001b[1;32m    341\u001b[0m         \u001b[0;32mif\u001b[0m \u001b[0mend\u001b[0m \u001b[0;34m!=\u001b[0m \u001b[0mlen\u001b[0m\u001b[0;34m(\u001b[0m\u001b[0ms\u001b[0m\u001b[0;34m)\u001b[0m\u001b[0;34m:\u001b[0m\u001b[0;34m\u001b[0m\u001b[0;34m\u001b[0m\u001b[0m\n",
            "\u001b[0;32m/usr/lib/python3.6/json/decoder.py\u001b[0m in \u001b[0;36mraw_decode\u001b[0;34m(self, s, idx)\u001b[0m\n\u001b[1;32m    355\u001b[0m             \u001b[0mobj\u001b[0m\u001b[0;34m,\u001b[0m \u001b[0mend\u001b[0m \u001b[0;34m=\u001b[0m \u001b[0mself\u001b[0m\u001b[0;34m.\u001b[0m\u001b[0mscan_once\u001b[0m\u001b[0;34m(\u001b[0m\u001b[0ms\u001b[0m\u001b[0;34m,\u001b[0m \u001b[0midx\u001b[0m\u001b[0;34m)\u001b[0m\u001b[0;34m\u001b[0m\u001b[0;34m\u001b[0m\u001b[0m\n\u001b[1;32m    356\u001b[0m         \u001b[0;32mexcept\u001b[0m \u001b[0mStopIteration\u001b[0m \u001b[0;32mas\u001b[0m \u001b[0merr\u001b[0m\u001b[0;34m:\u001b[0m\u001b[0;34m\u001b[0m\u001b[0;34m\u001b[0m\u001b[0m\n\u001b[0;32m--> 357\u001b[0;31m             \u001b[0;32mraise\u001b[0m \u001b[0mJSONDecodeError\u001b[0m\u001b[0;34m(\u001b[0m\u001b[0;34m\"Expecting value\"\u001b[0m\u001b[0;34m,\u001b[0m \u001b[0ms\u001b[0m\u001b[0;34m,\u001b[0m \u001b[0merr\u001b[0m\u001b[0;34m.\u001b[0m\u001b[0mvalue\u001b[0m\u001b[0;34m)\u001b[0m \u001b[0;32mfrom\u001b[0m \u001b[0;32mNone\u001b[0m\u001b[0;34m\u001b[0m\u001b[0;34m\u001b[0m\u001b[0m\n\u001b[0m\u001b[1;32m    358\u001b[0m         \u001b[0;32mreturn\u001b[0m \u001b[0mobj\u001b[0m\u001b[0;34m,\u001b[0m \u001b[0mend\u001b[0m\u001b[0;34m\u001b[0m\u001b[0;34m\u001b[0m\u001b[0m\n",
            "\u001b[0;31mJSONDecodeError\u001b[0m: Expecting value: line 1 column 1 (char 0)"
          ]
        }
      ]
    },
    {
      "cell_type": "code",
      "metadata": {
        "id": "ch_nVKt12Y-Z",
        "colab_type": "code",
        "colab": {
          "base_uri": "https://localhost:8080/",
          "height": 544
        },
        "outputId": "873a547f-4991-428d-fb50-04d03a341582"
      },
      "source": [
        "final_errors = {}\n",
        "for column in columns:\n",
        "    total = 0.0\n",
        "    for prn in prns:\n",
        "        if column == 'prn' or column == 'epoch_time' or column == 'index':\n",
        "            continue\n",
        "        x =  error[prn][column]['r2_score']\n",
        "        total += x\n",
        "    final_errors[column] = total/31\n",
        "final_errors"
      ],
      "execution_count": 99,
      "outputs": [
        {
          "output_type": "execute_result",
          "data": {
            "text/plain": [
              "{'OMEGA': -445442.00600946427,\n",
              " 'OMEGA_dot': -5.773793471075048,\n",
              " 'codes': 1.0,\n",
              " 'correction_inclination_cosine': 0.2952863074867023,\n",
              " 'correction_inclination_sine': -0.16659946290573635,\n",
              " 'correction_latitude_cosine': -9.241771806709043,\n",
              " 'correction_latitude_sine': -8.296851459499214,\n",
              " 'correction_radius_cosine': -8.59214185143317,\n",
              " 'correction_radius_sine': -9.567457454855628,\n",
              " 'epoch_time': 0.0,\n",
              " 'essentricity': -12.862235941801965,\n",
              " 'fit_interval': 1.0,\n",
              " 'gps_week': 0.0,\n",
              " 'inclination': -52.43478264732986,\n",
              " 'inclination_rate': -9.324479723409288,\n",
              " 'iodc': -1.3085121742109473,\n",
              " 'iode': -0.8783367925464345,\n",
              " 'l2_p_data_flag': 1.0,\n",
              " 'mean_anomaly': 0.5594711337610859,\n",
              " 'mean_motion': -7.398810779132043,\n",
              " 'omega': -21.60057665902757,\n",
              " 'prn': 0.0,\n",
              " 'sqrt_semi_major_axis': -83971.99997468606,\n",
              " 'sv_accuracy': 0.39224157132945864,\n",
              " 'sv_clock_bias': -0.8782256079125805,\n",
              " 'sv_clock_drift': -3.099230988765713e+28,\n",
              " 'sv_clock_drift_rate': 1.0,\n",
              " 'sv_health': 1.0,\n",
              " 't_tx': 0.7375310870449049,\n",
              " 'tgd': 1.0,\n",
              " 'time_of_ephemeris': -2.223051447660681}"
            ]
          },
          "metadata": {
            "tags": []
          },
          "execution_count": 99
        }
      ]
    },
    {
      "cell_type": "code",
      "metadata": {
        "id": "mESusIox5Wcg",
        "colab_type": "code",
        "colab": {
          "base_uri": "https://localhost:8080/",
          "height": 544
        },
        "outputId": "af5ca74e-0e64-4718-eb4c-9433ab1117a7"
      },
      "source": [
        "final_errors = {}\n",
        "for column in columns:\n",
        "    total = 0.0\n",
        "    for prn in prns:\n",
        "        if column == 'prn' or column == 'epoch_time' or column == 'index':\n",
        "            continue\n",
        "        x =  error[prn][column]['mean_absolute_error']\n",
        "        total += x\n",
        "    final_errors[column] = total/31\n",
        "final_errors"
      ],
      "execution_count": 100,
      "outputs": [
        {
          "output_type": "execute_result",
          "data": {
            "text/plain": [
              "{'OMEGA': 0.17071888081360848,\n",
              " 'OMEGA_dot': 3.150048071076981e-10,\n",
              " 'codes': 0.0,\n",
              " 'correction_inclination_cosine': 6.517671710238977e-08,\n",
              " 'correction_inclination_sine': 6.049929860409804e-08,\n",
              " 'correction_latitude_cosine': 3.6326021630407606e-06,\n",
              " 'correction_latitude_sine': 3.997758399190031e-06,\n",
              " 'correction_radius_cosine': 77.69800396915096,\n",
              " 'correction_radius_sine': 70.56798491966416,\n",
              " 'epoch_time': 0.0,\n",
              " 'essentricity': 6.1564453896211515e-06,\n",
              " 'fit_interval': 0.0,\n",
              " 'gps_week': 0.7880606135172659,\n",
              " 'inclination': 8.101003429484263e-05,\n",
              " 'inclination_rate': 3.731854206081662e-10,\n",
              " 'iodc': 32.79892996057254,\n",
              " 'iode': 29.575601753762523,\n",
              " 'l2_p_data_flag': 0.0,\n",
              " 'mean_anomaly': 0.6437196021007062,\n",
              " 'mean_motion': 3.6148275662805197e-10,\n",
              " 'omega': 0.001976611800519435,\n",
              " 'prn': 0.0,\n",
              " 'sqrt_semi_major_axis': 0.07439729730552608,\n",
              " 'sv_accuracy': 0.15269452063035208,\n",
              " 'sv_clock_bias': 1.9287311990340188e-08,\n",
              " 'sv_clock_drift': 3.467595167799675e-14,\n",
              " 'sv_clock_drift_rate': 0.0,\n",
              " 'sv_health': 0.0,\n",
              " 't_tx': 39380.472871548285,\n",
              " 'tgd': 0.0,\n",
              " 'time_of_ephemeris': 38771.15469767074}"
            ]
          },
          "metadata": {
            "tags": []
          },
          "execution_count": 100
        }
      ]
    },
    {
      "cell_type": "code",
      "metadata": {
        "id": "2HM3p1iR5X5X",
        "colab_type": "code",
        "colab": {
          "base_uri": "https://localhost:8080/",
          "height": 544
        },
        "outputId": "13f18ce0-a1b1-49d0-f6be-d6e5d7af82aa"
      },
      "source": [
        "final_errors = {}\n",
        "for column in columns:\n",
        "    total = 0.0\n",
        "    for prn in prns:\n",
        "        if column == 'prn' or column == 'epoch_time' or column == 'index':\n",
        "            continue\n",
        "        x =  error[prn][column]['percentError']\n",
        "        total += x\n",
        "    final_errors[column] = total/31\n",
        "final_errors"
      ],
      "execution_count": 89,
      "outputs": [
        {
          "output_type": "execute_result",
          "data": {
            "text/plain": [
              "{'OMEGA': 1.7080756931348018,\n",
              " 'OMEGA_dot': 31.787504113012556,\n",
              " 'codes': 0.0,\n",
              " 'correction_inclination_cosine': 33.98260353479887,\n",
              " 'correction_inclination_sine': 12.159339865337028,\n",
              " 'correction_latitude_cosine': 50.2919380793069,\n",
              " 'correction_latitude_sine': 50.17841698242113,\n",
              " 'correction_radius_cosine': 76.36368444151917,\n",
              " 'correction_radius_sine': 49.49968937241653,\n",
              " 'epoch_time': 0.0,\n",
              " 'essentricity': 1.3864120175048051,\n",
              " 'fit_interval': 0.0,\n",
              " 'gps_week': 1.2531464051884516,\n",
              " 'inclination': 0.32161641998968776,\n",
              " 'inclination_rate': 59.70382930552751,\n",
              " 'iodc': 97.75001666750158,\n",
              " 'iode': 106.90595596957809,\n",
              " 'l2_p_data_flag': 0.0,\n",
              " 'mean_anomaly': 716.8489600836431,\n",
              " 'mean_motion': 29.155874324191185,\n",
              " 'omega': -4.69051012543276,\n",
              " 'prn': 0.0,\n",
              " 'sqrt_semi_major_axis': 42.04620755917155,\n",
              " 'sv_accuracy': 21.69871238358003,\n",
              " 'sv_clock_bias': -0.06187519849932237,\n",
              " 'sv_clock_drift': 0.4304744459366123,\n",
              " 'sv_clock_drift_rate': 0.0,\n",
              " 'sv_health': 0.0,\n",
              " 't_tx': 77.29616396210369,\n",
              " 'tgd': 0.0,\n",
              " 'time_of_ephemeris': 65.34833185064927}"
            ]
          },
          "metadata": {
            "tags": []
          },
          "execution_count": 89
        }
      ]
    },
    {
      "cell_type": "code",
      "metadata": {
        "id": "rSApPjMj5Yhe",
        "colab_type": "code",
        "colab": {
          "base_uri": "https://localhost:8080/",
          "height": 544
        },
        "outputId": "75734ef8-581f-4ffa-e8c7-0c3435572efb"
      },
      "source": [
        "final_errors = {}\n",
        "for column in columns:\n",
        "    total = 0.0\n",
        "    for prn in prns:\n",
        "        if column == 'prn' or column == 'epoch_time' or column == 'index':\n",
        "            continue\n",
        "        x =  error[prn][column]['mean_squared_error']\n",
        "        total += x\n",
        "    final_errors[column] = total/31\n",
        "final_errors"
      ],
      "execution_count": 90,
      "outputs": [
        {
          "output_type": "execute_result",
          "data": {
            "text/plain": [
              "{'OMEGA': 0.0035533344232036145,\n",
              " 'OMEGA_dot': 0.033348370590371886,\n",
              " 'codes': 0.0,\n",
              " 'correction_inclination_cosine': 0.012321447611703418,\n",
              " 'correction_inclination_sine': 0.004917895263438955,\n",
              " 'correction_latitude_cosine': 0.08142885220332234,\n",
              " 'correction_latitude_sine': 0.12339845976768772,\n",
              " 'correction_radius_cosine': 0.11213283721696336,\n",
              " 'correction_radius_sine': 0.08048670839125617,\n",
              " 'epoch_time': 0.0,\n",
              " 'essentricity': 2.2575157923878444e-07,\n",
              " 'fit_interval': 0.0,\n",
              " 'gps_week': 0.0009429933620773132,\n",
              " 'inclination': 1.0960172193344e-06,\n",
              " 'inclination_rate': 0.07506706741803608,\n",
              " 'iodc': 0.058550932820490516,\n",
              " 'iode': 0.04744252719853911,\n",
              " 'l2_p_data_flag': 0.0,\n",
              " 'mean_anomaly': 0.038198373614709645,\n",
              " 'mean_motion': 0.012899728663664746,\n",
              " 'omega': 7.516873037148481e-07,\n",
              " 'prn': 0.0,\n",
              " 'sqrt_semi_major_axis': 0.008571700792661311,\n",
              " 'sv_accuracy': 0.01927418445573518,\n",
              " 'sv_clock_bias': 1.3301576588651189e-08,\n",
              " 'sv_clock_drift': 0.0001047644213373051,\n",
              " 'sv_clock_drift_rate': 0.0,\n",
              " 'sv_health': 0.0,\n",
              " 't_tx': 0.011729549307071239,\n",
              " 'tgd': 0.0,\n",
              " 'time_of_ephemeris': 0.13407225836833547}"
            ]
          },
          "metadata": {
            "tags": []
          },
          "execution_count": 90
        }
      ]
    },
    {
      "cell_type": "code",
      "metadata": {
        "id": "mDUX9mMXJ7Xf",
        "colab_type": "code",
        "colab": {
          "base_uri": "https://localhost:8080/",
          "height": 544
        },
        "outputId": "22d030eb-3d72-4b34-d81b-f5501121e5c1"
      },
      "source": [
        "final_errors = {}\n",
        "for column in columns:\n",
        "    total = 0.0\n",
        "    for prn in prns:\n",
        "        if column == 'prn' or column == 'epoch_time' or column == 'index':\n",
        "            continue\n",
        "        x =  error[prn][column]['percentError']\n",
        "        total += x\n",
        "    final_errors[column] = total/31\n",
        "final_errors"
      ],
      "execution_count": 91,
      "outputs": [
        {
          "output_type": "execute_result",
          "data": {
            "text/plain": [
              "{'OMEGA': 1.7080756931348018,\n",
              " 'OMEGA_dot': 31.787504113012556,\n",
              " 'codes': 0.0,\n",
              " 'correction_inclination_cosine': 33.98260353479887,\n",
              " 'correction_inclination_sine': 12.159339865337028,\n",
              " 'correction_latitude_cosine': 50.2919380793069,\n",
              " 'correction_latitude_sine': 50.17841698242113,\n",
              " 'correction_radius_cosine': 76.36368444151917,\n",
              " 'correction_radius_sine': 49.49968937241653,\n",
              " 'epoch_time': 0.0,\n",
              " 'essentricity': 1.3864120175048051,\n",
              " 'fit_interval': 0.0,\n",
              " 'gps_week': 1.2531464051884516,\n",
              " 'inclination': 0.32161641998968776,\n",
              " 'inclination_rate': 59.70382930552751,\n",
              " 'iodc': 97.75001666750158,\n",
              " 'iode': 106.90595596957809,\n",
              " 'l2_p_data_flag': 0.0,\n",
              " 'mean_anomaly': 716.8489600836431,\n",
              " 'mean_motion': 29.155874324191185,\n",
              " 'omega': -4.69051012543276,\n",
              " 'prn': 0.0,\n",
              " 'sqrt_semi_major_axis': 42.04620755917155,\n",
              " 'sv_accuracy': 21.69871238358003,\n",
              " 'sv_clock_bias': -0.06187519849932237,\n",
              " 'sv_clock_drift': 0.4304744459366123,\n",
              " 'sv_clock_drift_rate': 0.0,\n",
              " 'sv_health': 0.0,\n",
              " 't_tx': 77.29616396210369,\n",
              " 'tgd': 0.0,\n",
              " 'time_of_ephemeris': 65.34833185064927}"
            ]
          },
          "metadata": {
            "tags": []
          },
          "execution_count": 91
        }
      ]
    },
    {
      "cell_type": "code",
      "metadata": {
        "id": "7qJ21DzNyiS8",
        "colab_type": "code",
        "colab": {}
      },
      "source": [
        ""
      ],
      "execution_count": 0,
      "outputs": []
    }
  ]
}